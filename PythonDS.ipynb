{
 "cells": [
  {
   "cell_type": "markdown",
   "metadata": {},
   "source": [
    "# Binary tree\n"
   ]
  },
  {
   "cell_type": "code",
   "execution_count": 1,
   "metadata": {},
   "outputs": [],
   "source": [
    "class Node:\n",
    "#initialize constructor\n",
    "    def __init__(this, data):\n",
    "\n",
    "        this.left = None\n",
    "        this.right = None\n",
    "        this.data = data\n",
    "\n",
    "    def insert(this, data):\n",
    "# Compare the new value with the parent node\n",
    "        if this.data:  #if not null\n",
    "            if data < this.data:  #if data is less than node\n",
    "                if this.left is None:\n",
    "                    this.left = Node(data)\n",
    "                else:\n",
    "                    this.left.insert(data)\n",
    "            elif data > this.data:\n",
    "                if this.right is None:\n",
    "                    this.right = Node(data)\n",
    "                else:\n",
    "                    this.right.insert(data)\n",
    "        else:\n",
    "            this.data = data\n",
    "    \n",
    "    \n",
    "# Print the tree\n",
    "    def PrintTree(this):\n",
    "        if this.left:\n",
    "            this.left.PrintTree()\n",
    "        print( this.data),\n",
    "        if this.right:\n",
    "            this.right.PrintTree()\n",
    "            \n",
    "    def findVal(this,val):\n",
    "        \n",
    "        if val < this.data:\n",
    "            \n",
    "            if this.left is None:\n",
    "                return str(val) + \"not found!\"\n",
    "            return this.left.findVal(val)\n",
    "        if val > this.data:\n",
    "            \n",
    "            if this.right is None:\n",
    "                return str(val) + \"not found!\"\n",
    "            return this.right.findVal(val)        \n",
    "        else:\n",
    "            print(this.data)\n",
    "\n",
    "\n"
   ]
  },
  {
   "cell_type": "code",
   "execution_count": 2,
   "metadata": {},
   "outputs": [],
   "source": [
    "root = Node(12)\n",
    "root.insert(6)\n",
    "root.insert(14)\n",
    "root.insert(3)\n"
   ]
  },
  {
   "cell_type": "code",
   "execution_count": 3,
   "metadata": {},
   "outputs": [
    {
     "data": {
      "text/plain": [
       "'7not found!'"
      ]
     },
     "execution_count": 3,
     "metadata": {},
     "output_type": "execute_result"
    }
   ],
   "source": [
    "root.findVal(7)"
   ]
  },
  {
   "cell_type": "code",
   "execution_count": 4,
   "metadata": {},
   "outputs": [],
   "source": [
    "class NodeBinary:\n",
    "    def __init__(this,data):\n",
    "        this.left = None #node\n",
    "        this.right = None #node\n",
    "        this.data = data #int\n",
    "   \n",
    "    def printData(this):\n",
    "        if this.left:\n",
    "            #print(this.left.data)\n",
    "            this.left.printData()\n",
    "            \n",
    "        print(this.data)\n",
    "        \n",
    "        if this.right:\n",
    "            #print(this.right.data)\n",
    "            this.right.printData()        \n",
    "        \n",
    "        \n",
    "            \n",
    "    def insert(this,data):\n",
    "        \n",
    "        if this.data:\n",
    "            if data < this.data:\n",
    "                if this.left is None:\n",
    "                    \n",
    "                    this.left = NodeBinary(data)\n",
    "                else:\n",
    "                    \n",
    "                    this.left.insert(data)\n",
    "            if data > this.data:\n",
    "                if this.right is None:\n",
    "                    this.right = NodeBinary(data)\n",
    "                else:\n",
    "                    this.right.insert(data)                \n",
    "        else:\n",
    "            this.data = data\n",
    "     \n",
    "    def inOrderTraversal(this,root):\n",
    "        arr = []\n",
    "        if root:\n",
    "            arr = this.inOrderTraversal(root.left)\n",
    "            arr.append(root.data)\n",
    "            arr = arr + this.inOrderTraversal(root.right)\n",
    "        return arr\n",
    "       \n",
    "    def preOrderTraversal(this,root):\n",
    "        arr = []\n",
    "        if root:\n",
    "            arr.append(root.data)\n",
    "            arr = arr + this.preOrderTraversal(root.left)\n",
    "            arr = arr + this.preOrderTraversal(root.right)\n",
    "        return arr \n",
    "    \n",
    "    def postOrderTraversal(this,root):\n",
    "        arr = []\n",
    "        if root:\n",
    "            arr = arr + this.preOrderTraversal(root.left)\n",
    "            arr = arr + this.preOrderTraversal(root.right)\n",
    "            arr.append(root.data)\n",
    "        return arr    "
   ]
  },
  {
   "cell_type": "code",
   "execution_count": 5,
   "metadata": {},
   "outputs": [],
   "source": [
    "root =  NodeBinary(5)\n",
    "\n"
   ]
  },
  {
   "cell_type": "code",
   "execution_count": 6,
   "metadata": {},
   "outputs": [],
   "source": [
    "root.insert(23)\n",
    "root.insert(20)\n",
    "root.insert(13)\n",
    "root.insert(10)\n",
    "root.insert(33)\n",
    "root.insert(4)\n",
    "root.insert(2)\n",
    "root.insert(1)\n",
    "root.insert(3)\n",
    "\n"
   ]
  },
  {
   "cell_type": "code",
   "execution_count": 7,
   "metadata": {},
   "outputs": [
    {
     "name": "stdout",
     "output_type": "stream",
     "text": [
      "1\n",
      "2\n",
      "3\n",
      "4\n",
      "5\n",
      "10\n",
      "13\n",
      "20\n",
      "23\n",
      "33\n"
     ]
    }
   ],
   "source": [
    "root.printData()"
   ]
  },
  {
   "cell_type": "code",
   "execution_count": 8,
   "metadata": {},
   "outputs": [
    {
     "name": "stdout",
     "output_type": "stream",
     "text": [
      "[1, 2, 3, 4, 5, 10, 13, 20, 23, 33]\n"
     ]
    }
   ],
   "source": [
    "print(root.inOrderTraversal(root))"
   ]
  },
  {
   "cell_type": "code",
   "execution_count": 9,
   "metadata": {},
   "outputs": [
    {
     "name": "stdout",
     "output_type": "stream",
     "text": [
      "[5, 4, 2, 1, 3, 23, 20, 13, 10, 33]\n"
     ]
    }
   ],
   "source": [
    "print(root.preOrderTraversal(root))"
   ]
  },
  {
   "cell_type": "code",
   "execution_count": 10,
   "metadata": {},
   "outputs": [
    {
     "name": "stdout",
     "output_type": "stream",
     "text": [
      "[4, 2, 1, 3, 23, 20, 13, 10, 33, 5]\n"
     ]
    }
   ],
   "source": [
    "print(root.postOrderTraversal(root))"
   ]
  },
  {
   "cell_type": "code",
   "execution_count": 11,
   "metadata": {},
   "outputs": [
    {
     "data": {
      "text/plain": [
       "('physics', 'chemistry', 1997, 2000)"
      ]
     },
     "execution_count": 11,
     "metadata": {},
     "output_type": "execute_result"
    }
   ],
   "source": [
    "tup1 = ('physics', 'chemistry', 1997, 2000);\n",
    "tup1"
   ]
  },
  {
   "cell_type": "code",
   "execution_count": 13,
   "metadata": {},
   "outputs": [
    {
     "ename": "IndentationError",
     "evalue": "unindent does not match any outer indentation level (<tokenize>, line 3)",
     "output_type": "error",
     "traceback": [
      "\u001b[0;36m  File \u001b[0;32m\"<tokenize>\"\u001b[0;36m, line \u001b[0;32m3\u001b[0m\n\u001b[0;31m    2       20    33\u001b[0m\n\u001b[0m    ^\u001b[0m\n\u001b[0;31mIndentationError\u001b[0m\u001b[0;31m:\u001b[0m unindent does not match any outer indentation level\n"
     ]
    }
   ],
   "source": [
    "         5\n",
    "     4       23\n",
    "  2       20    33\n",
    "1   3   13\n",
    "    10\n",
    "\n",
    "\n",
    "\n"
   ]
  },
  {
   "cell_type": "markdown",
   "metadata": {},
   "source": [
    "# sets"
   ]
  },
  {
   "cell_type": "code",
   "execution_count": 14,
   "metadata": {},
   "outputs": [],
   "source": [
    "setA = {\"abc\",\"xyz\",\"abc\"}"
   ]
  },
  {
   "cell_type": "code",
   "execution_count": 15,
   "metadata": {},
   "outputs": [
    {
     "data": {
      "text/plain": [
       "{'abc', 'xyz'}"
      ]
     },
     "execution_count": 15,
     "metadata": {},
     "output_type": "execute_result"
    }
   ],
   "source": [
    "set(setA)"
   ]
  },
  {
   "cell_type": "markdown",
   "metadata": {},
   "source": [
    "# Maps"
   ]
  },
  {
   "cell_type": "code",
   "execution_count": 16,
   "metadata": {},
   "outputs": [],
   "source": [
    "import collections\n",
    "\n",
    "\n",
    "dict1 = {'day1': 'Mon', 'day2': 'Tue'}\n",
    "dict2 = {'day3': 'Wed', 'day4': 'Thu'}\n",
    "\n",
    "res1 = collections.ChainMap(dict1, dict2)"
   ]
  },
  {
   "cell_type": "code",
   "execution_count": 17,
   "metadata": {},
   "outputs": [
    {
     "data": {
      "text/plain": [
       "ChainMap({'day1': 'Mon', 'day2': 'Tue'}, {'day3': 'Wed', 'day4': 'Thu'})"
      ]
     },
     "execution_count": 17,
     "metadata": {},
     "output_type": "execute_result"
    }
   ],
   "source": [
    "res1"
   ]
  },
  {
   "cell_type": "code",
   "execution_count": 18,
   "metadata": {},
   "outputs": [
    {
     "data": {
      "text/plain": [
       "[{'day1': 'Mon', 'day2': 'Tue'}, {'day3': 'Wed', 'day4': 'Thu'}]"
      ]
     },
     "execution_count": 18,
     "metadata": {},
     "output_type": "execute_result"
    }
   ],
   "source": [
    "res1.maps"
   ]
  },
  {
   "cell_type": "markdown",
   "metadata": {},
   "source": [
    "# Backtracking"
   ]
  },
  {
   "cell_type": "code",
   "execution_count": 27,
   "metadata": {},
   "outputs": [],
   "source": [
    "def permute(list, s, k):\n",
    "    if list == 1:\n",
    "        return s\n",
    "    else:\n",
    "        print([ y + x\n",
    "                 for y in permute(list -1, s,k)\n",
    "                 for x in permute(list -1, k,s)\n",
    "                 ])\n",
    "        return [ y + x\n",
    "                 for y in permute(list -1, s,k)\n",
    "                 for x in permute(list -1, k,s)\n",
    "                 ]\n",
    "\n"
   ]
  },
  {
   "cell_type": "code",
   "execution_count": 28,
   "metadata": {},
   "outputs": [],
   "source": [
    "def fibo(x):\n",
    "    if x is 1:\n",
    "        return 1\n",
    "    else:\n",
    "        print(x)\n",
    "        return fibo(x-1)*x\n",
    "    \n",
    "    "
   ]
  },
  {
   "cell_type": "code",
   "execution_count": 29,
   "metadata": {},
   "outputs": [],
   "source": [
    "def factorial(x):\n",
    "    \n",
    "    if x is 1:                   \n",
    "        return 1\n",
    "    return x*factorial(x-1)  "
   ]
  },
  {
   "cell_type": "code",
   "execution_count": 30,
   "metadata": {},
   "outputs": [],
   "source": [
    "def permute(self, nums):#[1,2,3]\n",
    "    res = []\n",
    "    \n",
    "    def DFS(nums):\n",
    "        tmp = []\n",
    "        if len(nums) == 1:\n",
    "            return nums[0]\n",
    "        for i in range(len(nums)):\n",
    "            print(nums[i:len(nums)])\n",
    "            DFS(nums[i+1:len(nums)])  \n",
    "            \n",
    "            \n",
    "    \n",
    "    \n",
    "    DFS(nums)    \n",
    "    return res\n",
    "        "
   ]
  },
  {
   "cell_type": "code",
   "execution_count": 31,
   "metadata": {},
   "outputs": [
    {
     "name": "stdout",
     "output_type": "stream",
     "text": [
      "[1, 2, 3]\n",
      "[2, 3]\n",
      "[3]\n",
      "[2, 3]\n",
      "[3]\n"
     ]
    },
    {
     "data": {
      "text/plain": [
       "[]"
      ]
     },
     "execution_count": 31,
     "metadata": {},
     "output_type": "execute_result"
    }
   ],
   "source": [
    "permute([],[1,2,3])"
   ]
  },
  {
   "cell_type": "code",
   "execution_count": 32,
   "metadata": {},
   "outputs": [],
   "source": [
    "def permute(self, nums):\n",
    "        \"\"\"\n",
    "        :type nums: List[int]\n",
    "        :rtype: List[List[int]]\n",
    "        \"\"\"\n",
    "        #here we need a global wise list, each time we just append to the result\n",
    "        rslt=[]\n",
    "        \n",
    "        def dfs(temp, elements):\n",
    "            #gather rslt\n",
    "            if len(elements)==0:\n",
    "                rslt.append(temp[:]) #still remember to use temp[:]\n",
    "            for e in elements:\n",
    "                temp.append(e)\n",
    "                #backtrack\n",
    "                next_elements=elements[:]\n",
    "                next_elements.remove(e)\n",
    "                elements.pop()\n",
    "                dfs(temp, next_elements)\n",
    "                temp.pop()\n",
    "                \n",
    "                \n",
    "        dfs([],nums) #first is the current result\n",
    "        return rslt"
   ]
  },
  {
   "cell_type": "code",
   "execution_count": 33,
   "metadata": {},
   "outputs": [
    {
     "data": {
      "text/plain": [
       "[[1, 2, 3], [2, 1]]"
      ]
     },
     "execution_count": 33,
     "metadata": {},
     "output_type": "execute_result"
    }
   ],
   "source": [
    "permute([],[1,2,3])"
   ]
  },
  {
   "cell_type": "code",
   "execution_count": 34,
   "metadata": {},
   "outputs": [],
   "source": [
    "def permuteNumber(nums,l,r):\n",
    "    if l == r:\n",
    "        print(nums)\n",
    "    else:\n",
    "        for i in range(l,r):\n",
    "            print(nums[i])"
   ]
  },
  {
   "cell_type": "code",
   "execution_count": 35,
   "metadata": {},
   "outputs": [
    {
     "name": "stdout",
     "output_type": "stream",
     "text": [
      "1\n",
      "2\n"
     ]
    }
   ],
   "source": [
    "permuteNumber([1,2,3],0,len([1,2,3]) - 1)"
   ]
  },
  {
   "cell_type": "code",
   "execution_count": 36,
   "metadata": {},
   "outputs": [],
   "source": [
    "def permutation(list, start, end):\n",
    "    '''This prints all the permutations of a given list\n",
    "       it takes the list,the starting and ending indices as input'''\n",
    "    if (start == end):\n",
    "        print(list)\n",
    "    else:\n",
    "        for i in range(start, end + 1):\n",
    "            \n",
    "            list[start], list[i] = list[i], list[start]  # The swapping\n",
    "            permutation(list, start + 1, end)\n",
    "            list[start], list[i] = list[i], list[start]  # Backtracking"
   ]
  },
  {
   "cell_type": "code",
   "execution_count": 37,
   "metadata": {},
   "outputs": [
    {
     "name": "stdout",
     "output_type": "stream",
     "text": [
      "['a', 'b', 'c']\n",
      "['a', 'c', 'b']\n",
      "['b', 'a', 'c']\n",
      "['b', 'c', 'a']\n",
      "['c', 'b', 'a']\n",
      "['c', 'a', 'b']\n"
     ]
    }
   ],
   "source": [
    "permutation(['a', 'b', 'c'], 0, len(['a', 'b', 'c'])-1)"
   ]
  },
  {
   "cell_type": "code",
   "execution_count": 38,
   "metadata": {},
   "outputs": [
    {
     "name": "stdout",
     "output_type": "stream",
     "text": [
      "0\n",
      "1\n",
      "2\n",
      "3\n",
      "4\n"
     ]
    }
   ],
   "source": [
    "for i in range(0,5):\n",
    "    print(i)"
   ]
  },
  {
   "cell_type": "code",
   "execution_count": 39,
   "metadata": {},
   "outputs": [],
   "source": [
    "def swapPositions(list, pos1, pos2): \n",
    "      \n",
    "    list[pos1], list[pos2] = list[pos2], list[pos1] \n",
    "    return list\n",
    "  \n"
   ]
  },
  {
   "cell_type": "code",
   "execution_count": 40,
   "metadata": {},
   "outputs": [
    {
     "name": "stdout",
     "output_type": "stream",
     "text": [
      "[19, 65, 23, 90]\n"
     ]
    }
   ],
   "source": [
    "# Driver function \n",
    "List = [23, 65, 19, 90] \n",
    "pos1, pos2  = 1, 3\n",
    "  \n",
    "print(swapPositions(List, pos1-1, pos2-1)) "
   ]
  },
  {
   "cell_type": "code",
   "execution_count": 41,
   "metadata": {},
   "outputs": [],
   "source": [
    "arr = [2,3,4,2]"
   ]
  },
  {
   "cell_type": "code",
   "execution_count": 42,
   "metadata": {},
   "outputs": [],
   "source": [
    "diffArr = list(map(lambda x: 10 - x, arr))"
   ]
  },
  {
   "cell_type": "code",
   "execution_count": 49,
   "metadata": {},
   "outputs": [],
   "source": [
    "class HashMap(object):\n",
    "    def __init__(self):\n",
    "        self.hashmap = [[] for i in range(256)]\n",
    "\n",
    "    def insert(self, key, value):\n",
    "        hash_key = hash(key) % len(self.hashmap)\n",
    "        #print(\"hash_key =\",hash_key)\n",
    "        key_exists = False\n",
    "        bucket = self.hashmap[hash_key]\n",
    "        \n",
    "        for i, kv in enumerate(bucket):\n",
    "            k, v = kv\n",
    "            if key == k:\n",
    "                key_exists = True\n",
    "                break\n",
    "        if key_exists:\n",
    "            bucket[i] = ((key, value))\n",
    "        else:\n",
    "            bucket.append((key,value))\n",
    "        print(bucket)     \n",
    "        print(self.hashmap)    \n",
    "\n",
    "    def retrieve(self, key):\n",
    "        hash_key = hash(key) % len(self.hashmap)\n",
    "        bucket = self.hashmap[hash_key]\n",
    "        for i, kv in enumerate(bucket):\n",
    "            k, v = kv\n",
    "            return v\n",
    "        raise KeyError"
   ]
  },
  {
   "cell_type": "code",
   "execution_count": 50,
   "metadata": {},
   "outputs": [],
   "source": [
    "testHash = HashMap()"
   ]
  },
  {
   "cell_type": "code",
   "execution_count": 51,
   "metadata": {},
   "outputs": [
    {
     "name": "stdout",
     "output_type": "stream",
     "text": [
      "[(4, 'parkar')]\n",
      "[[], [], [], [], [(4, 'parkar')], [], [], [], [], [], [], [], [], [], [], [], [], [], [], [], [], [], [], [], [], [], [], [], [], [], [], [], [], [], [], [], [], [], [], [], [], [], [], [], [], [], [], [], [], [], [], [], [], [], [], [], [], [], [], [], [], [], [], [], [], [], [], [], [], [], [], [], [], [], [], [], [], [], [], [], [], [], [], [], [], [], [], [], [], [], [], [], [], [], [], [], [], [], [], [], [], [], [], [], [], [], [], [], [], [], [], [], [], [], [], [], [], [], [], [], [], [], [], [], [], [], [], [], [], [], [], [], [], [], [], [], [], [], [], [], [], [], [], [], [], [], [], [], [], [], [], [], [], [], [], [], [], [], [], [], [], [], [], [], [], [], [], [], [], [], [], [], [], [], [], [], [], [], [], [], [], [], [], [], [], [], [], [], [], [], [], [], [], [], [], [], [], [], [], [], [], [], [], [], [], [], [], [], [], [], [], [], [], [], [], [], [], [], [], [], [], [], [], [], [], [], [], [], [], [], [], [], [], [], [], [], [], [], [], [], [], [], [], [], [], [], [], [], [], [], [], [], [], [], [], []]\n"
     ]
    }
   ],
   "source": [
    "testHash.insert(4,\"parkar\")"
   ]
  },
  {
   "cell_type": "code",
   "execution_count": 45,
   "metadata": {},
   "outputs": [
    {
     "name": "stdout",
     "output_type": "stream",
     "text": [
      "hash_key = 200\n",
      "bucket =  []\n",
      "[(200, 'pradeep')]\n",
      "[[], [], [], [], [(4, 'parkar')], [], [], [], [], [], [], [], [], [], [], [], [], [], [], [], [], [], [], [], [], [], [], [], [], [], [], [], [], [], [], [], [], [], [], [], [], [], [], [], [], [], [], [], [], [], [], [], [], [], [], [], [], [], [], [], [], [], [], [], [], [], [], [], [], [], [], [], [], [], [], [], [], [], [], [], [], [], [], [], [], [], [], [], [], [], [], [], [], [], [], [], [], [], [], [], [], [], [], [], [], [], [], [], [], [], [], [], [], [], [], [], [], [], [], [], [], [], [], [], [], [], [], [], [], [], [], [], [], [], [], [], [], [], [], [], [], [], [], [], [], [], [], [], [], [], [], [], [], [], [], [], [], [], [], [], [], [], [], [], [], [], [], [], [], [], [], [], [], [], [], [], [], [], [], [], [], [], [], [], [], [], [], [], [], [], [], [], [], [], [], [], [], [], [], [], [(200, 'pradeep')], [], [], [], [], [], [], [], [], [], [], [], [], [], [], [], [], [], [], [], [], [], [], [], [], [], [], [], [], [], [], [], [], [], [], [], [], [], [], [], [], [], [], [], [], [], [], [], [], [], [], [], [], [], [], []]\n"
     ]
    }
   ],
   "source": [
    "testHash.insert(200,\"pradeep\")"
   ]
  },
  {
   "cell_type": "code",
   "execution_count": 47,
   "metadata": {},
   "outputs": [],
   "source": [
    "class HashMap:\n",
    "        def __init__(self):\n",
    "                self.size = 6\n",
    "                self.map = [None] * self.size\n",
    "\t\t\n",
    "        def _get_hash(self, key):\n",
    "                hash = 0\n",
    "                for char in str(key):\n",
    "                        \n",
    "                        hash += ord(char)\n",
    "                return hash % self.size\n",
    "\t\t\n",
    "        def add(self, key, value):\n",
    "                key_hash = self._get_hash(key)\n",
    "                key_value = [key, value]\n",
    "\t\t\n",
    "                if self.map[key_hash] is None:\n",
    "                        self.map[key_hash] = list([key_value])\n",
    "                        return True\n",
    "                else:\n",
    "                        for pair in self.map[key_hash]:\n",
    "                                if pair[0] == key:\n",
    "                                        pair[1] = value\n",
    "                                        return True\n",
    "                        self.map[key_hash].append(key_value)\n",
    "                        return True\n",
    "\t\t\t\n",
    "        def get(self, key):\n",
    "                key_hash = self._get_hash(key)\n",
    "                if self.map[key_hash] is not None:\n",
    "                        for pair in self.map[key_hash]:\n",
    "                                if pair[0] == key:\n",
    "                                        return pair[1]\n",
    "                return None\n",
    "\t\t\t\n",
    "        def delete(self, key):\n",
    "                key_hash = self._get_hash(key)\n",
    "\t\t\n",
    "                if self.map[key_hash] is None:\n",
    "                        return False\n",
    "                for i in range (0, len(self.map[key_hash])):\n",
    "                        if self.map[key_hash][i][0] == key:\n",
    "                                self.map[key_hash].pop(i)\n",
    "                                return True\n",
    "                return False\n",
    "\t\n",
    "        def keys(self):\n",
    "                arr = []\n",
    "                for i in range(0, len(self.map)):\n",
    "                        if self.map[i]:\n",
    "                                arr.append(self.map[i][0])\n",
    "                return arr\n",
    "\t\t\t\n",
    "        def print(self):\n",
    "                print('---PHONEBOOK----')\n",
    "                for item in self.map:\n",
    "                        if item is not None:\n",
    "                                print(str(item))\n",
    "\t\t\t\n"
   ]
  },
  {
   "cell_type": "code",
   "execution_count": 48,
   "metadata": {},
   "outputs": [
    {
     "name": "stdout",
     "output_type": "stream",
     "text": [
      "0\n",
      "66\n",
      "177\n",
      "0\n",
      "77\n",
      "182\n",
      "292\n",
      "0\n",
      "77\n",
      "182\n",
      "292\n",
      "0\n",
      "65\n",
      "175\n",
      "282\n",
      "387\n",
      "0\n",
      "65\n",
      "165\n",
      "270\n",
      "386\n",
      "507\n",
      "0\n",
      "65\n",
      "173\n",
      "278\n",
      "377\n",
      "482\n",
      "0\n",
      "77\n",
      "182\n",
      "289\n",
      "0\n",
      "65\n",
      "165\n",
      "270\n",
      "386\n",
      "507\n",
      "---PHONEBOOK----\n",
      "[['Mike', '567-2188']]\n",
      "[['Alicia', '632-4123']]\n",
      "[['Aditya', '777-8888']]\n",
      "[['Bob', '567-8888'], ['Ming', '333-8233'], ['Ankit', '293-8625']]\n",
      "0\n",
      "66\n",
      "177\n",
      "---PHONEBOOK----\n",
      "[['Mike', '567-2188']]\n",
      "[['Alicia', '632-4123']]\n",
      "[['Aditya', '777-8888']]\n",
      "[['Ming', '333-8233'], ['Ankit', '293-8625']]\n",
      "0\n",
      "77\n",
      "182\n",
      "292\n",
      "Ming: 333-8233\n",
      "[['Mike', '567-2188'], ['Alicia', '632-4123'], ['Aditya', '777-8888'], ['Ming', '333-8233']]\n"
     ]
    }
   ],
   "source": [
    "h = HashMap()\n",
    "h.add('Bob', '567-8888')\n",
    "h.add('Ming', '293-6753')\n",
    "h.add('Ming', '333-8233')\n",
    "h.add('Ankit', '293-8625')\n",
    "h.add('Aditya', '852-6551')\n",
    "h.add('Alicia', '632-4123')\n",
    "h.add('Mike', '567-2188')\n",
    "h.add('Aditya', '777-8888')\n",
    "h.print()\t\t\n",
    "h.delete('Bob')\n",
    "h.print()\n",
    "print('Ming: ' + h.get('Ming'))\n",
    "print(h.keys())"
   ]
  },
  {
   "cell_type": "code",
   "execution_count": 49,
   "metadata": {},
   "outputs": [
    {
     "ename": "NameError",
     "evalue": "name 'hashMap' is not defined",
     "output_type": "error",
     "traceback": [
      "\u001b[0;31m---------------------------------------------------------------------------\u001b[0m",
      "\u001b[0;31mNameError\u001b[0m                                 Traceback (most recent call last)",
      "\u001b[0;32m<ipython-input-49-3d22119daa47>\u001b[0m in \u001b[0;36m<module>\u001b[0;34m\u001b[0m\n\u001b[0;32m----> 1\u001b[0;31m \u001b[0mlen\u001b[0m\u001b[0;34m(\u001b[0m\u001b[0mhashMap\u001b[0m\u001b[0;34m)\u001b[0m\u001b[0;34m\u001b[0m\u001b[0;34m\u001b[0m\u001b[0m\n\u001b[0m",
      "\u001b[0;31mNameError\u001b[0m: name 'hashMap' is not defined"
     ]
    }
   ],
   "source": [
    "len(hashMap)"
   ]
  },
  {
   "cell_type": "code",
   "execution_count": 1,
   "metadata": {},
   "outputs": [],
   "source": [
    "class HashMap(object):\n",
    "    def __init__(this):\n",
    "        this.hashMap = [[] for i in range(256)]\n",
    "        \n",
    "    def insert(this,key,val):\n",
    "        hash_key = hash(key) % len(this.hashMap)\n",
    "        key_exists = False\n",
    "        bucket = this.hashMap[hash_key]\n",
    "        \n",
    "        for i, kv in enumerate(bucket):\n",
    "\n",
    "            k, v = kv\n",
    "            if key == k:\n",
    "                key_exists = True\n",
    "                break\n",
    "        if key_exists:\n",
    "            print(\"1st\")\n",
    "            bucket[i] = ((key, val))\n",
    "            \n",
    "        else:\n",
    "            print(\"2nd\")\n",
    "            bucket.append((key,val))        \n",
    "    \n",
    "    def retrieve(this, key):\n",
    "        hash_key = hash(key) % len(this.hashMap)\n",
    "        bucket = this.hashMap[hash_key]\n",
    "        for i, kv in enumerate(bucket):\n",
    "            k, v = kv\n",
    "            return v\n",
    "        raise KeyError        "
   ]
  },
  {
   "cell_type": "code",
   "execution_count": 2,
   "metadata": {},
   "outputs": [],
   "source": [
    "test = HashMap()\n"
   ]
  },
  {
   "cell_type": "code",
   "execution_count": 3,
   "metadata": {},
   "outputs": [
    {
     "name": "stdout",
     "output_type": "stream",
     "text": [
      "2nd\n"
     ]
    }
   ],
   "source": [
    "test.insert(\"abcd\",40)"
   ]
  },
  {
   "cell_type": "code",
   "execution_count": 53,
   "metadata": {},
   "outputs": [
    {
     "data": {
      "text/plain": [
       "40"
      ]
     },
     "execution_count": 53,
     "metadata": {},
     "output_type": "execute_result"
    }
   ],
   "source": [
    "test.retrieve(\"abcd\")"
   ]
  },
  {
   "cell_type": "code",
   "execution_count": 54,
   "metadata": {},
   "outputs": [
    {
     "data": {
      "text/plain": [
       "[2, 4]"
      ]
     },
     "execution_count": 54,
     "metadata": {},
     "output_type": "execute_result"
    }
   ],
   "source": [
    "arr = [2,3,4]\n",
    "arr.remove(3)\n",
    "arr"
   ]
  },
  {
   "cell_type": "code",
   "execution_count": 55,
   "metadata": {},
   "outputs": [
    {
     "ename": "NameError",
     "evalue": "name 'Counter' is not defined",
     "output_type": "error",
     "traceback": [
      "\u001b[0;31m---------------------------------------------------------------------------\u001b[0m",
      "\u001b[0;31mNameError\u001b[0m                                 Traceback (most recent call last)",
      "\u001b[0;32m<ipython-input-55-56419cfd6580>\u001b[0m in \u001b[0;36m<module>\u001b[0;34m\u001b[0m\n\u001b[0;32m----> 1\u001b[0;31m \u001b[0mc\u001b[0m \u001b[0;34m=\u001b[0m \u001b[0mCounter\u001b[0m\u001b[0;34m(\u001b[0m\u001b[0;34m[\u001b[0m\u001b[0;36m2\u001b[0m\u001b[0;34m,\u001b[0m\u001b[0;36m2\u001b[0m\u001b[0;34m,\u001b[0m\u001b[0;36m3\u001b[0m\u001b[0;34m,\u001b[0m\u001b[0;36m4\u001b[0m\u001b[0;34m]\u001b[0m\u001b[0;34m)\u001b[0m\u001b[0;34m\u001b[0m\u001b[0;34m\u001b[0m\u001b[0m\n\u001b[0m",
      "\u001b[0;31mNameError\u001b[0m: name 'Counter' is not defined"
     ]
    }
   ],
   "source": [
    "c = Counter([2,2,3,4])"
   ]
  },
  {
   "cell_type": "code",
   "execution_count": 56,
   "metadata": {},
   "outputs": [
    {
     "ename": "NameError",
     "evalue": "name 'c' is not defined",
     "output_type": "error",
     "traceback": [
      "\u001b[0;31m---------------------------------------------------------------------------\u001b[0m",
      "\u001b[0;31mNameError\u001b[0m                                 Traceback (most recent call last)",
      "\u001b[0;32m<ipython-input-56-e202c35043c4>\u001b[0m in \u001b[0;36m<module>\u001b[0;34m\u001b[0m\n\u001b[0;32m----> 1\u001b[0;31m \u001b[0mc\u001b[0m\u001b[0;34m.\u001b[0m\u001b[0mmost_common\u001b[0m\u001b[0;34m(\u001b[0m\u001b[0;34m)\u001b[0m\u001b[0;34m[\u001b[0m\u001b[0;36m0\u001b[0m\u001b[0;34m]\u001b[0m\u001b[0;34m\u001b[0m\u001b[0;34m\u001b[0m\u001b[0m\n\u001b[0m",
      "\u001b[0;31mNameError\u001b[0m: name 'c' is not defined"
     ]
    }
   ],
   "source": [
    "c.most_common()[0]\n"
   ]
  },
  {
   "cell_type": "code",
   "execution_count": 57,
   "metadata": {},
   "outputs": [],
   "source": [
    "arr1 = [3,4,5,6]\n",
    "arr2 = [3,4]"
   ]
  },
  {
   "cell_type": "markdown",
   "metadata": {},
   "source": [
    "# quicksort"
   ]
  },
  {
   "cell_type": "code",
   "execution_count": 59,
   "metadata": {},
   "outputs": [],
   "source": [
    "def partition(xs, start, end):\n",
    "    follower = leader = start\n",
    "    print(\"leader:\",leader)\n",
    "    while leader < end:\n",
    "        if xs[leader] <= xs[end]:\n",
    "            xs[follower], xs[leader]    =    xs[leader], xs[follower]\n",
    "            follower += 1\n",
    "        leader += 1\n",
    "    xs[follower], xs[end] = xs[end], xs[follower]\n",
    "    print(\"follower:\",follower)\n",
    "    return follower\n",
    "\n",
    "def _quicksort(xs, start, end):\n",
    "    if start >= end:\n",
    "        return\n",
    "    p = partition(xs, start, end)\n",
    "    print(\"partition:\",p)\n",
    "    _quicksort(xs, start, p-1)\n",
    "    _quicksort(xs, p+1, end)\n",
    "    \n",
    "def quicksort(xs):\n",
    "    _quicksort(xs, 0, len(xs)-1)"
   ]
  },
  {
   "cell_type": "code",
   "execution_count": 60,
   "metadata": {},
   "outputs": [
    {
     "name": "stdout",
     "output_type": "stream",
     "text": [
      "leader: 0\n",
      "follower: 1\n",
      "partition: 1\n",
      "leader: 2\n",
      "follower: 2\n",
      "partition: 2\n",
      "leader: 3\n",
      "follower: 3\n",
      "partition: 3\n",
      "leader: 4\n",
      "follower: 4\n",
      "partition: 4\n"
     ]
    }
   ],
   "source": [
    "arr = [10, 7, 8, 9, 1, 5]\n",
    "quicksort(arr)"
   ]
  },
  {
   "cell_type": "code",
   "execution_count": 82,
   "metadata": {},
   "outputs": [
    {
     "data": {
      "text/plain": [
       "4"
      ]
     },
     "execution_count": 82,
     "metadata": {},
     "output_type": "execute_result"
    }
   ],
   "source": [
    "arr = [1,2,3,4]\n",
    "arr[-1]"
   ]
  },
  {
   "cell_type": "code",
   "execution_count": 92,
   "metadata": {},
   "outputs": [],
   "source": [
    "def partition(arr,low,high): \n",
    "    i = ( low-1 )         # index of smaller element --- -1\n",
    "    pivot = arr[high]     # pivot last element ------ last element\n",
    "    #print(\"i = \",i)\n",
    "    for j in range(low , high): #---# 0 to last element.  j = 0\n",
    "        # If current element is smaller than or \n",
    "        # equal to pivot \n",
    "        if   arr[j] <= pivot: \n",
    "          \n",
    "            # increment index of smaller element \n",
    "            i = i+1 \n",
    "            print(\"before\")\n",
    "            print(arr[i])\n",
    "            print(arr[j])\n",
    "            arr[i],arr[j] = arr[j],arr[i] \n",
    "            print(\"after\")\n",
    "            print(arr[i])\n",
    "            print(arr[j])\n",
    "    print(\"arrBefore = \",arr)\n",
    "    arr[i+1],arr[high] = arr[high],arr[i+1]\n",
    "    print(\"arrAfter = \",arr)\n",
    "    #print(\"return\" , i+1)\n",
    "    return ( i+1 ) \n",
    "  \n",
    "# The main function that implements QuickSort \n",
    "# arr[] --> Array to be sorted, \n",
    "# low  --> Starting index, \n",
    "# high  --> Ending index \n",
    "  \n",
    "# Function to do Quick sort \n",
    "def quickSort(arr,low,high): \n",
    "    if low < high: \n",
    "  \n",
    "        # pi is partitioning index, arr[p] is now \n",
    "        # at right place \n",
    "        pi = partition(arr,low,high) \n",
    "        print(\"partition = \", pi)\n",
    "        # Separately sort elements before \n",
    "        # partition and after partition \n",
    "        quickSort(arr, low, pi-1) \n",
    "        quickSort(arr, pi+1, high) "
   ]
  },
  {
   "cell_type": "code",
   "execution_count": 93,
   "metadata": {},
   "outputs": [],
   "source": [
    "arr = [10, 80, 30, 90, 40, 50,70] \n",
    "n = len(arr) \n"
   ]
  },
  {
   "cell_type": "code",
   "execution_count": 94,
   "metadata": {},
   "outputs": [
    {
     "name": "stdout",
     "output_type": "stream",
     "text": [
      "before\n",
      "10\n",
      "10\n",
      "after\n",
      "10\n",
      "10\n",
      "before\n",
      "80\n",
      "30\n",
      "after\n",
      "30\n",
      "80\n",
      "before\n",
      "80\n",
      "40\n",
      "after\n",
      "40\n",
      "80\n",
      "before\n",
      "90\n",
      "50\n",
      "after\n",
      "50\n",
      "90\n",
      "arrBefore =  [10, 30, 40, 50, 80, 90, 70]\n",
      "arrAfter =  [10, 30, 40, 50, 70, 90, 80]\n",
      "partition =  4\n",
      "before\n",
      "10\n",
      "10\n",
      "after\n",
      "10\n",
      "10\n",
      "before\n",
      "30\n",
      "30\n",
      "after\n",
      "30\n",
      "30\n",
      "before\n",
      "40\n",
      "40\n",
      "after\n",
      "40\n",
      "40\n",
      "arrBefore =  [10, 30, 40, 50, 70, 90, 80]\n",
      "arrAfter =  [10, 30, 40, 50, 70, 90, 80]\n",
      "partition =  3\n",
      "before\n",
      "10\n",
      "10\n",
      "after\n",
      "10\n",
      "10\n",
      "before\n",
      "30\n",
      "30\n",
      "after\n",
      "30\n",
      "30\n",
      "arrBefore =  [10, 30, 40, 50, 70, 90, 80]\n",
      "arrAfter =  [10, 30, 40, 50, 70, 90, 80]\n",
      "partition =  2\n",
      "before\n",
      "10\n",
      "10\n",
      "after\n",
      "10\n",
      "10\n",
      "arrBefore =  [10, 30, 40, 50, 70, 90, 80]\n",
      "arrAfter =  [10, 30, 40, 50, 70, 90, 80]\n",
      "partition =  1\n",
      "arrBefore =  [10, 30, 40, 50, 70, 90, 80]\n",
      "arrAfter =  [10, 30, 40, 50, 70, 80, 90]\n",
      "partition =  5\n"
     ]
    }
   ],
   "source": [
    "quickSort(arr,0,n-1) "
   ]
  },
  {
   "cell_type": "code",
   "execution_count": 65,
   "metadata": {},
   "outputs": [
    {
     "data": {
      "text/plain": [
       "[10, 30, 40, 50, 70, 80, 90]"
      ]
     },
     "execution_count": 65,
     "metadata": {},
     "output_type": "execute_result"
    }
   ],
   "source": [
    "arr"
   ]
  },
  {
   "cell_type": "code",
   "execution_count": 64,
   "metadata": {},
   "outputs": [],
   "source": [
    "def prod(a,b):\n",
    "\n",
    "    if a <=1:\n",
    "        \n",
    "        return 1\n",
    "    \n",
    "    else:\n",
    "        return a + prod(a-1,b)"
   ]
  },
  {
   "cell_type": "code",
   "execution_count": 65,
   "metadata": {},
   "outputs": [],
   "source": [
    "def recurSum(n):\n",
    "    if n <= 1:\n",
    "        return n\n",
    "    return n + recurSum(n-1)\n",
    "    "
   ]
  },
  {
   "cell_type": "code",
   "execution_count": 66,
   "metadata": {},
   "outputs": [],
   "source": [
    "def recurMult(a,b):\n",
    "    if b <=0:\n",
    "        return 0\n",
    "    #b = 1\n",
    "    return a + recurMult(a,b-1)"
   ]
  },
  {
   "cell_type": "code",
   "execution_count": 67,
   "metadata": {},
   "outputs": [
    {
     "data": {
      "text/plain": [
       "15"
      ]
     },
     "execution_count": 67,
     "metadata": {},
     "output_type": "execute_result"
    }
   ],
   "source": [
    "recurMult(5,3)"
   ]
  },
  {
   "cell_type": "code",
   "execution_count": 68,
   "metadata": {},
   "outputs": [
    {
     "data": {
      "text/plain": [
       "17"
      ]
     },
     "execution_count": 68,
     "metadata": {},
     "output_type": "execute_result"
    }
   ],
   "source": [
    "def fun1(x:int, y:int):\n",
    "\n",
    "  if x <= 0:\n",
    "    return y\n",
    "  else:\n",
    "    return x + fun1(x - 1,   y) \n",
    " \n",
    "fun1(5,2)"
   ]
  },
  {
   "cell_type": "code",
   "execution_count": 1166,
   "metadata": {},
   "outputs": [],
   "source": [
    "class BinaryNode():\n",
    "    def __init__(this,data):\n",
    "        \n",
    "        this.left = None\n",
    "        this.right = None\n",
    "        this.val = data\n",
    "    \n",
    "    def insert(this,data):\n",
    "        if this.val:\n",
    "            if data < this.val:\n",
    "                if this.left is None:\n",
    "                    \n",
    "                    this.left = BinaryNode(data)\n",
    "                else:\n",
    "                    this.left.insert(data)\n",
    "            elif data > this.val:\n",
    "                if this.right is None:\n",
    "                    this.right = BinaryNode(data)\n",
    "                else:\n",
    "                    this.right.insert(data)\n",
    "                    \n",
    "    def printTree(this):\n",
    "        if this.left:\n",
    "            this.left.printTree()\n",
    "        print(this.val)\n",
    "        if this.right:\n",
    "            this.right.printTree() \n",
    "     \n",
    "    def inOrderTraversal(this,root):\n",
    "        arr = []\n",
    "        \n",
    "        if root is not None:\n",
    "            arr = this.inOrderTraversal(root.left)\n",
    "            arr.append(root.val)\n",
    "            arr += this.inOrderTraversal(root.right)\n",
    "        return arr\n",
    "    \n",
    "    def preOrderTraversal(this,root):\n",
    "        arr = []\n",
    "        if root:\n",
    "            arr.append(root.val)\n",
    "            arr += this.preOrderTraversal(root.left)\n",
    "            arr += this.preOrderTraversal(root.right)\n",
    "        return arr \n",
    "    \n",
    "    def postOrderTraversal(this,root):\n",
    "        arr = []\n",
    "        if root:\n",
    "            arr += this.postOrderTraversal(root.left)\n",
    "            arr += this.postOrderTraversal(root.right)\n",
    "            arr.append(root.val)\n",
    "        return arr    "
   ]
  },
  {
   "cell_type": "code",
   "execution_count": 1167,
   "metadata": {},
   "outputs": [],
   "source": [
    "root = BinaryNode(5)"
   ]
  },
  {
   "cell_type": "code",
   "execution_count": 1168,
   "metadata": {},
   "outputs": [],
   "source": [
    "root.insert(4)\n",
    "root.insert(5)\n",
    "root.insert(2)\n",
    "root.insert(1)\n",
    "root.insert(9)\n",
    "root.insert(8)\n",
    "root.insert(3)"
   ]
  },
  {
   "cell_type": "code",
   "execution_count": 1169,
   "metadata": {},
   "outputs": [
    {
     "name": "stdout",
     "output_type": "stream",
     "text": [
      "1\n",
      "2\n",
      "3\n",
      "4\n",
      "5\n",
      "8\n",
      "9\n"
     ]
    }
   ],
   "source": [
    "root.printTree()"
   ]
  },
  {
   "cell_type": "markdown",
   "metadata": {},
   "source": [
    "        5\n",
    "      4   9\n",
    "    2    8\n",
    "  1"
   ]
  },
  {
   "cell_type": "code",
   "execution_count": 1170,
   "metadata": {},
   "outputs": [
    {
     "data": {
      "text/plain": [
       "[1, 2, 3, 4, 5, 8, 9]"
      ]
     },
     "execution_count": 1170,
     "metadata": {},
     "output_type": "execute_result"
    }
   ],
   "source": [
    "root.inOrderTraversal(root)"
   ]
  },
  {
   "cell_type": "code",
   "execution_count": 1159,
   "metadata": {},
   "outputs": [
    {
     "data": {
      "text/plain": [
       "[5, 4, 2, 1, 9, 8]"
      ]
     },
     "execution_count": 1159,
     "metadata": {},
     "output_type": "execute_result"
    }
   ],
   "source": [
    "root.preOrderTraversal(root)"
   ]
  },
  {
   "cell_type": "code",
   "execution_count": 1160,
   "metadata": {},
   "outputs": [
    {
     "data": {
      "text/plain": [
       "[1, 2, 4, 8, 9, 5]"
      ]
     },
     "execution_count": 1160,
     "metadata": {},
     "output_type": "execute_result"
    }
   ],
   "source": [
    "root.postOrderTraversal(root)"
   ]
  },
  {
   "cell_type": "markdown",
   "metadata": {},
   "source": [
    "# Generate Graph"
   ]
  },
  {
   "cell_type": "code",
   "execution_count": 5,
   "metadata": {},
   "outputs": [],
   "source": [
    "from collections import defaultdict\n",
    "class Graph():\n",
    "    def __init__(this):\n",
    "        this.graph = defaultdict(list)\n",
    "        \n",
    "    def addEdge(this,u,v):\n",
    "        this.graph[u] = v"
   ]
  },
  {
   "cell_type": "code",
   "execution_count": 6,
   "metadata": {},
   "outputs": [],
   "source": [
    "g = Graph()\n",
    "g.addEdge('a',['b','c','d'])\n",
    "g.addEdge('b',['f','g'])\n",
    "g.addEdge('c',[])\n",
    "g.addEdge('d',['h'])"
   ]
  },
  {
   "cell_type": "code",
   "execution_count": 10,
   "metadata": {},
   "outputs": [
    {
     "data": {
      "text/plain": [
       "defaultdict(list, {'a': ['b', 'c', 'd'], 'b': ['f', 'g'], 'c': [], 'd': ['h']})"
      ]
     },
     "execution_count": 10,
     "metadata": {},
     "output_type": "execute_result"
    }
   ],
   "source": [
    "g.graph"
   ]
  },
  {
   "cell_type": "markdown",
   "metadata": {},
   "source": [
    "        a\n",
    "    b   c   d\n",
    "  f  g        h"
   ]
  },
  {
   "cell_type": "markdown",
   "metadata": {},
   "source": [
    "# BFS"
   ]
  },
  {
   "cell_type": "code",
   "execution_count": 18,
   "metadata": {},
   "outputs": [],
   "source": [
    "from collections import deque\n",
    "\n",
    "def BFS(graph,root):\n",
    "    visited = []\n",
    "    queue = deque([root])\n",
    "    visited.append(root)\n",
    "    \n",
    "    while queue:\n",
    "        vertex = queue.popleft()\n",
    "        \n",
    "        for neighbour in graph[vertex]:\n",
    "            if neighbour not in visited:\n",
    "                visited.append(neighbour)\n",
    "                queue.append(neighbour)\n",
    "                \n",
    "    return visited             \n",
    "    "
   ]
  },
  {
   "cell_type": "code",
   "execution_count": 19,
   "metadata": {},
   "outputs": [
    {
     "data": {
      "text/plain": [
       "['a', 'b', 'c', 'd', 'f', 'g', 'h']"
      ]
     },
     "execution_count": 19,
     "metadata": {},
     "output_type": "execute_result"
    }
   ],
   "source": [
    "BFS(g.graph,'a')"
   ]
  },
  {
   "cell_type": "markdown",
   "metadata": {},
   "source": [
    "# DFS"
   ]
  },
  {
   "cell_type": "code",
   "execution_count": 14,
   "metadata": {},
   "outputs": [],
   "source": [
    "visited = [] # Array to keep track of visited nodes.\n",
    "\n",
    "def dfs(visited, graph, node):\n",
    "    \n",
    "    if node not in visited:\n",
    "        print(node),\n",
    "        visited.append(node)\n",
    "        \n",
    "        for neighbour in graph[node]:\n",
    "            dfs(visited, graph, neighbour)\n",
    "    return visited\n"
   ]
  },
  {
   "cell_type": "code",
   "execution_count": 15,
   "metadata": {},
   "outputs": [
    {
     "name": "stdout",
     "output_type": "stream",
     "text": [
      "a\n",
      "b\n",
      "f\n",
      "g\n",
      "c\n",
      "d\n",
      "h\n"
     ]
    },
    {
     "data": {
      "text/plain": [
       "['a', 'b', 'f', 'g', 'c', 'd', 'h']"
      ]
     },
     "execution_count": 15,
     "metadata": {},
     "output_type": "execute_result"
    }
   ],
   "source": [
    "# Driver Code\n",
    "dfs(visited, g.graph, 'a')"
   ]
  },
  {
   "cell_type": "code",
   "execution_count": 190,
   "metadata": {},
   "outputs": [
    {
     "data": {
      "text/plain": [
       "defaultdict(list,\n",
       "            {'a': ['b', 'c', 'd'],\n",
       "             'b': ['f', 'g'],\n",
       "             'c': [],\n",
       "             'd': ['h'],\n",
       "             'f': [],\n",
       "             'g': [],\n",
       "             'h': []})"
      ]
     },
     "execution_count": 190,
     "metadata": {},
     "output_type": "execute_result"
    }
   ],
   "source": [
    "g.graph"
   ]
  },
  {
   "cell_type": "code",
   "execution_count": 195,
   "metadata": {},
   "outputs": [
    {
     "name": "stdout",
     "output_type": "stream",
     "text": [
      "0 59 38 33 30 17 8 63 \n",
      "37 34 31 60 9 62 29 16 \n",
      "58 1 36 39 32 27 18 7 \n",
      "35 48 41 26 61 10 15 28 \n",
      "42 57 2 49 40 23 6 19 \n",
      "47 50 45 54 25 20 11 14 \n",
      "56 43 52 3 22 13 24 5 \n",
      "51 46 55 44 53 4 21 12 \n"
     ]
    }
   ],
   "source": [
    "# Python3 program to solve Knight Tour problem using Backtracking \n",
    "\n",
    "# Chessboard Size \n",
    "n = 8\n",
    "\n",
    "def isSafe(x,y,board): \n",
    "\t''' \n",
    "\t\tA utility function to check if i,j are valid indexes \n",
    "\t\tfor N*N chessboard \n",
    "\t'''\n",
    "\tif(x >= 0 and y >= 0 and x < n and y < n and board[x][y] == -1): \n",
    "\t\treturn True\n",
    "\treturn False\n",
    "\n",
    "def printSolution(board): \n",
    "\t''' \n",
    "\t\tA utility function to print Chessboard matrix \n",
    "\t'''\n",
    "\tfor i in range(n): \n",
    "\t\tfor j in range(n): \n",
    "\t\t\tprint(board[i][j],end =' ') \n",
    "\t\tprint() \n",
    "\n",
    "\n",
    "def solveKT(): \n",
    "\t''' \n",
    "\t\tThis function solves the Knight Tour problem using \n",
    "\t\tBacktracking. This function mainly uses solveKTUtil() \n",
    "\t\tto solve the problem. It returns false if no complete \n",
    "\t\ttour is possible, otherwise return true and prints the \n",
    "\t\ttour. \n",
    "\t\tPlease note that there may be more than one solutions, \n",
    "\t\tthis function prints one of the feasible solutions. \n",
    "\t'''\n",
    "\t\n",
    "\t# Initialization of Board matrix \n",
    "\tboard = [[-1 for i in range(n)]for i in range(n)] \n",
    "\t\n",
    "\t# move_x and move_y define next move of Knight. \n",
    "\t# move_x is for next value of x coordinate \n",
    "\t# move_y is for next value of y coordinate \n",
    "\tmove_x = [2, 1, -1, -2, -2, -1, 1, 2] \n",
    "\tmove_y = [1, 2, 2, 1, -1, -2, -2, -1] \n",
    "\t\n",
    "\t# Since the Knight is initially at the first block \n",
    "\tboard[0][0] = 0\n",
    "\t\n",
    "\t# Step counter for knight's position \n",
    "\tpos = 1\n",
    "\t\n",
    "\t# Checking if solution exists or not \n",
    "\tif(not solveKTUtil(board, 0, 0, move_x, move_y, pos)): \n",
    "\t\tprint(\"Solution does not exist\") \n",
    "\telse: \n",
    "\t\tprintSolution(board) \n",
    "\n",
    "def solveKTUtil(board,curr_x,curr_y,move_x,move_y,pos): \n",
    "\t''' \n",
    "\t\tA recursive utility function to solve Knight Tour \n",
    "\t\tproblem \n",
    "\t'''\n",
    "\t\n",
    "\tif(pos == n**2): \n",
    "\t\treturn True\n",
    "\t\n",
    "\t# Try all next moves from the current coordinate x, y \n",
    "\tfor i in range(8): \n",
    "\t\tnew_x = curr_x + move_x[i] \n",
    "\t\tnew_y = curr_y + move_y[i] \n",
    "\t\tif(isSafe(new_x,new_y,board)): \n",
    "\t\t\tboard[new_x][new_y] = pos \n",
    "\t\t\tif(solveKTUtil(board,new_x,new_y,move_x,move_y,pos+1)): \n",
    "\t\t\t\treturn True\n",
    "\t\t\t\n",
    "\t\t\t# Backtracking \n",
    "\t\t\tboard[new_x][new_y] = -1\n",
    "\treturn False\n",
    "\t\t\n",
    "# Driver program to test above function \n",
    "if __name__ == \"__main__\": \n",
    "\tsolveKT() \n",
    "\t\n",
    "# This code is contributed by AAKASH PAL \n"
   ]
  },
  {
   "cell_type": "code",
   "execution_count": 292,
   "metadata": {},
   "outputs": [],
   "source": [
    "def letterCombinations(digits: str):\n",
    "    phone = {'2': ['a', 'b', 'c'],\n",
    "             '3': ['d', 'e', 'f'],\n",
    "             '4': ['g', 'h', 'i'],\n",
    "             '5': ['j', 'k', 'l'],\n",
    "             '6': ['m', 'n', 'o'],\n",
    "             '7': ['p', 'q', 'r', 's'],\n",
    "             '8': ['t', 'u', 'v'],\n",
    "             '9': ['w', 'x', 'y', 'z']}\n",
    "    \n",
    "    \n",
    "    def backtrack(combination, next_digits):\n",
    "        # if there is no more digits to check\n",
    "\n",
    "        if len(next_digits) == 0:\n",
    "            # the combination is done\n",
    "            output.append(combination)\n",
    "        # if there are still digits to check\n",
    "        else:\n",
    "            # iterate over all letters which map \n",
    "            # the next available digit\n",
    "            for letter in phone[next_digits[0]]:\n",
    "                # append the current letter to the combination\n",
    "                # and proceed to the next digits\n",
    "                backtrack(combination + letter, next_digits[1:])\n",
    "                \n",
    "    output = []\n",
    "    if digits:\n",
    "        backtrack(\"\", digits)\n",
    "    return output"
   ]
  },
  {
   "cell_type": "code",
   "execution_count": 293,
   "metadata": {},
   "outputs": [
    {
     "data": {
      "text/plain": [
       "['adj',\n",
       " 'adk',\n",
       " 'adl',\n",
       " 'aej',\n",
       " 'aek',\n",
       " 'ael',\n",
       " 'afj',\n",
       " 'afk',\n",
       " 'afl',\n",
       " 'bdj',\n",
       " 'bdk',\n",
       " 'bdl',\n",
       " 'bej',\n",
       " 'bek',\n",
       " 'bel',\n",
       " 'bfj',\n",
       " 'bfk',\n",
       " 'bfl',\n",
       " 'cdj',\n",
       " 'cdk',\n",
       " 'cdl',\n",
       " 'cej',\n",
       " 'cek',\n",
       " 'cel',\n",
       " 'cfj',\n",
       " 'cfk',\n",
       " 'cfl']"
      ]
     },
     "execution_count": 293,
     "metadata": {},
     "output_type": "execute_result"
    }
   ],
   "source": [
    "letterCombinations(\"235\")"
   ]
  },
  {
   "cell_type": "code",
   "execution_count": 203,
   "metadata": {},
   "outputs": [],
   "source": [
    "\n",
    "phone = {'2': ['a', 'b', 'c'],\n",
    "\n",
    "         '3': ['d', 'e', 'f'],\n",
    "\n",
    "         '4': ['g', 'h', 'i'],\n",
    "\n",
    "         '5': ['j', 'k', 'l'],\n",
    "\n",
    "         '6': ['m', 'n', 'o'],\n",
    "\n",
    "         '7': ['p', 'q', 'r', 's'],\n",
    "\n",
    "         '8': ['t', 'u', 'v'],\n",
    "\n",
    "         '9': ['w', 'x', 'y', 'z']}"
   ]
  },
  {
   "cell_type": "code",
   "execution_count": 209,
   "metadata": {},
   "outputs": [
    {
     "data": {
      "text/plain": [
       "['d', 'e', 'f']"
      ]
     },
     "execution_count": 209,
     "metadata": {},
     "output_type": "execute_result"
    }
   ],
   "source": [
    "phone[\"23\"[1]]"
   ]
  },
  {
   "cell_type": "markdown",
   "metadata": {},
   "source": [
    "# backtrack permutation"
   ]
  },
  {
   "cell_type": "code",
   "execution_count": 556,
   "metadata": {},
   "outputs": [
    {
     "name": "stdout",
     "output_type": "stream",
     "text": [
      "['1', '2', '3']\n",
      "['1', '3', '2']\n",
      "['2', '1', '3']\n",
      "['2', '3', '1']\n",
      "['3', '1', '2']\n",
      "['3', '2', '1']\n"
     ]
    }
   ],
   "source": [
    "# Python function to print permutations of a given list \n",
    "def permutation(lst): \n",
    "  \n",
    "    if len(lst) == 0: \n",
    "        return [] \n",
    "  \n",
    "    if len(lst) == 1: \n",
    "        return [lst] \n",
    "\n",
    "  \n",
    "    l = [] \n",
    "    for i in range(len(lst)): \n",
    "       m = lst[i] \n",
    "       remLst = lst[:i] + lst[i+1:] \n",
    "       for p in permutation(remLst): \n",
    "           l.append([m] + p)\n",
    "            \n",
    "    return l \n",
    "  \n",
    "  \n",
    "# Driver program to test above function \n",
    "data = list('123') \n",
    "for p in permutation(data): \n",
    "    print(p)"
   ]
  },
  {
   "cell_type": "markdown",
   "metadata": {},
   "source": [
    "# backtrack combination sum"
   ]
  },
  {
   "cell_type": "code",
   "execution_count": 669,
   "metadata": {},
   "outputs": [],
   "source": [
    "class Solution:\n",
    "    def combinationSum(self, candidates, target):\n",
    "        res = []\n",
    "        candidates.sort()\n",
    "        self.backtrack(candidates, target, 0, [], res)\n",
    "        return res\n",
    "\n",
    "    def backtrack(self, candidates, target, index, path, res):\n",
    "        if target < 0:\n",
    "            return  # backtracking\n",
    "        if target == 0:\n",
    "            res.append(path)\n",
    "            return \n",
    "        for i in range(index, len(candidates)):\n",
    "            \n",
    "            self.backtrack(candidates, target-candidates[i], i+1, path+[candidates[i]], res)"
   ]
  },
  {
   "cell_type": "code",
   "execution_count": 670,
   "metadata": {},
   "outputs": [
    {
     "data": {
      "text/plain": [
       "[[2, 3, 5], [3, 7], [4, 6]]"
      ]
     },
     "execution_count": 670,
     "metadata": {},
     "output_type": "execute_result"
    }
   ],
   "source": [
    "s = Solution()\n",
    "s.combinationSum([2,3,4,5,6,7],10)"
   ]
  },
  {
   "cell_type": "code",
   "execution_count": 717,
   "metadata": {},
   "outputs": [],
   "source": [
    "import re\n",
    "\n",
    "txt = \"tdhe rain in Spain\""
   ]
  },
  {
   "cell_type": "code",
   "execution_count": 729,
   "metadata": {},
   "outputs": [
    {
     "data": {
      "text/plain": [
       "<re.Match object; span=(0, 1), match='9'>"
      ]
     },
     "execution_count": 729,
     "metadata": {},
     "output_type": "execute_result"
    }
   ],
   "source": [
    "re.search(\"[0-9]\",\"92.3\")"
   ]
  },
  {
   "cell_type": "code",
   "execution_count": 733,
   "metadata": {},
   "outputs": [],
   "source": [
    "a = defaultdict()\n",
    "a['A'] = \"present\"\n",
    "a['B'] = \"present\""
   ]
  },
  {
   "cell_type": "code",
   "execution_count": 745,
   "metadata": {},
   "outputs": [
    {
     "name": "stdout",
     "output_type": "stream",
     "text": [
      "yes\n"
     ]
    }
   ],
   "source": [
    "if 'D'not in a:\n",
    "    print(\"yes\")"
   ]
  },
  {
   "cell_type": "markdown",
   "metadata": {},
   "source": [
    "# longest substring"
   ]
  },
  {
   "cell_type": "code",
   "execution_count": 746,
   "metadata": {},
   "outputs": [],
   "source": [
    "from collections import defaultdict\n",
    "class Solution:\n",
    "    \n",
    "    def lengthOfLongestSubstring(self, s: str) -> int:\n",
    "        \n",
    "        \n",
    "        arrS = list(s)\n",
    "        result = 0\n",
    "        \n",
    "            # not present in dictionary\n",
    "\n",
    "         \n",
    "        def longestString(arrS,result):\n",
    "            visited = defaultdict(list)\n",
    "      \n",
    "            if len(arrS) == 0:\n",
    "                return result\n",
    "            else:\n",
    "                for i in range(0,len(arrS)):\n",
    "                    # not present in dictionary            \n",
    "                    if arrS[i] not in visited:\n",
    "\n",
    "                        visited[arrS[i]] = i\n",
    "                        if result < len(visited):\n",
    "                            result = len(visited)  \n",
    "                        if i ==  len(arrS) - 1:\n",
    "                            return result\n",
    "                    else:\n",
    "                        # if present\n",
    "                        if result < len(visited):\n",
    "                            result = len(visited)\n",
    "                        return longestString(arrS[visited[arrS[i]]+1:],result)\n",
    "                        \n",
    "        result = longestString(arrS,result)           \n",
    "        return result"
   ]
  },
  {
   "cell_type": "code",
   "execution_count": 750,
   "metadata": {},
   "outputs": [
    {
     "data": {
      "text/plain": [
       "'ff gg'"
      ]
     },
     "execution_count": 750,
     "metadata": {},
     "output_type": "execute_result"
    }
   ],
   "source": [
    "\"  ff gg  \".strip()"
   ]
  },
  {
   "cell_type": "code",
   "execution_count": 751,
   "metadata": {},
   "outputs": [],
   "source": [
    "import re\n"
   ]
  },
  {
   "cell_type": "code",
   "execution_count": 752,
   "metadata": {},
   "outputs": [],
   "source": [
    "def myAtoi(self, str: str) -> int:\n",
    "    str = str.strip()\n",
    "    str = re.findall('(^[\\+\\-0]*\\d+)\\D*', str)\n",
    "\n",
    "    try:\n",
    "        result = int(''.join(str))\n",
    "        MAX_INT = 2147483647\n",
    "        MIN_INT = -2147483648\n",
    "        if result > MAX_INT > 0:\n",
    "            return MAX_INT\n",
    "        elif result < MIN_INT < 0:\n",
    "            return MIN_INT\n",
    "        else:\n",
    "            return result\n",
    "    except:\n",
    "        return 0"
   ]
  },
  {
   "cell_type": "code",
   "execution_count": 760,
   "metadata": {},
   "outputs": [
    {
     "data": {
      "text/plain": [
       "['-42']"
      ]
     },
     "execution_count": 760,
     "metadata": {},
     "output_type": "execute_result"
    }
   ],
   "source": [
    "str = \"-42\"\n",
    "str = str.strip()\n",
    "str = re.findall('(^[\\+\\-0]*\\d+)\\D*', str)\n",
    "str"
   ]
  },
  {
   "cell_type": "code",
   "execution_count": 762,
   "metadata": {},
   "outputs": [
    {
     "data": {
      "text/plain": [
       "dict_keys(['A', 'B', 'C'])"
      ]
     },
     "execution_count": 762,
     "metadata": {},
     "output_type": "execute_result"
    }
   ],
   "source": [
    "a.keys()"
   ]
  },
  {
   "cell_type": "markdown",
   "metadata": {},
   "source": [
    "# reverse linked list"
   ]
  },
  {
   "cell_type": "code",
   "execution_count": 76,
   "metadata": {},
   "outputs": [],
   "source": [
    "class singlyLinkedList():\n",
    "    def __init__(this,val):\n",
    "        this.val = val\n",
    "        this.next = None\n",
    "    \n",
    "    \n",
    "    def addNode(this,root,val):\n",
    "        \n",
    "        if root.next is None:\n",
    "            \n",
    "            root.next = singlyLinkedList(val)\n",
    "            \n",
    "        else:\n",
    "            \n",
    "            this.addNode(root.next,val)\n",
    "            \n",
    "        \n",
    "    def getNodes(this,root):\n",
    "        arr = []\n",
    "        if root is not None:\n",
    "            arr.append(root.val)\n",
    "            arr += this.getNodes(root.next)\n",
    "            \n",
    "        return arr\n",
    "            \n",
    "            \n",
    "    def reverseNodes(this,root):\n",
    "        \n",
    "        if root.next is not None:\n",
    "            \n",
    "            this.getNodes(root.next)\n",
    "            return root.val         "
   ]
  },
  {
   "cell_type": "code",
   "execution_count": 77,
   "metadata": {},
   "outputs": [],
   "source": [
    "s = singlyLinkedList(1)"
   ]
  },
  {
   "cell_type": "code",
   "execution_count": 78,
   "metadata": {},
   "outputs": [],
   "source": [
    "s.addNode(s,2)\n",
    "s.addNode(s,3)\n",
    "s.addNode(s,4)\n",
    "s.addNode(s,5)"
   ]
  },
  {
   "cell_type": "code",
   "execution_count": 79,
   "metadata": {},
   "outputs": [
    {
     "data": {
      "text/plain": [
       "[1, 2, 3, 4, 5]"
      ]
     },
     "execution_count": 79,
     "metadata": {},
     "output_type": "execute_result"
    }
   ],
   "source": [
    "s.getNodes(s)"
   ]
  },
  {
   "cell_type": "code",
   "execution_count": 81,
   "metadata": {},
   "outputs": [
    {
     "data": {
      "text/plain": [
       "1"
      ]
     },
     "execution_count": 81,
     "metadata": {},
     "output_type": "execute_result"
    }
   ],
   "source": [
    "s.reverseNodes(s)"
   ]
  },
  {
   "cell_type": "code",
   "execution_count": 847,
   "metadata": {},
   "outputs": [],
   "source": [
    "arr = [[2,3,4],[2,3,4],[2,5,4]]"
   ]
  },
  {
   "cell_type": "code",
   "execution_count": 3,
   "metadata": {},
   "outputs": [],
   "source": [
    "a = {}\n",
    "a[tuple([2,3,4])] = 1"
   ]
  },
  {
   "cell_type": "code",
   "execution_count": 4,
   "metadata": {},
   "outputs": [
    {
     "data": {
      "text/plain": [
       "{(2, 3, 4): 1}"
      ]
     },
     "execution_count": 4,
     "metadata": {},
     "output_type": "execute_result"
    }
   ],
   "source": [
    "a"
   ]
  },
  {
   "cell_type": "code",
   "execution_count": 863,
   "metadata": {},
   "outputs": [
    {
     "name": "stdout",
     "output_type": "stream",
     "text": [
      "yes\n"
     ]
    }
   ],
   "source": [
    "if [-1,0,1] in a:\n",
    "    print(\"yes\")"
   ]
  },
  {
   "cell_type": "code",
   "execution_count": 864,
   "metadata": {},
   "outputs": [],
   "source": [
    "a = [0,0,1,1,1,2,2]"
   ]
  },
  {
   "cell_type": "code",
   "execution_count": 865,
   "metadata": {},
   "outputs": [
    {
     "data": {
      "text/plain": [
       "1"
      ]
     },
     "execution_count": 865,
     "metadata": {},
     "output_type": "execute_result"
    }
   ],
   "source": [
    "a.pop(2)"
   ]
  },
  {
   "cell_type": "code",
   "execution_count": 869,
   "metadata": {},
   "outputs": [],
   "source": [
    "a = defaultdict(list)"
   ]
  },
  {
   "cell_type": "code",
   "execution_count": 893,
   "metadata": {},
   "outputs": [],
   "source": [
    "carry = 2"
   ]
  },
  {
   "cell_type": "code",
   "execution_count": 897,
   "metadata": {},
   "outputs": [
    {
     "data": {
      "text/plain": [
       "1"
      ]
     },
     "execution_count": 897,
     "metadata": {},
     "output_type": "execute_result"
    }
   ],
   "source": [
    "2 // 2"
   ]
  },
  {
   "cell_type": "code",
   "execution_count": 904,
   "metadata": {},
   "outputs": [],
   "source": [
    "wrd = \" astala vista baby!   \""
   ]
  },
  {
   "cell_type": "code",
   "execution_count": 923,
   "metadata": {},
   "outputs": [],
   "source": [
    "import math\n",
    "def avgWordLength(wrd):\n",
    "    wrd = wrd.strip()\n",
    "    \n",
    "    result = 0\n",
    "    for i in wrd.split(\" \"):\n",
    "        print(len(list(i)))\n",
    "        result += len(list(i))\n",
    "    \n",
    "    return math.floor(result/len(wrd.split(\" \")))\n",
    "    "
   ]
  },
  {
   "cell_type": "code",
   "execution_count": 924,
   "metadata": {},
   "outputs": [
    {
     "name": "stdout",
     "output_type": "stream",
     "text": [
      "6\n",
      "5\n",
      "5\n"
     ]
    },
    {
     "data": {
      "text/plain": [
       "5"
      ]
     },
     "execution_count": 924,
     "metadata": {},
     "output_type": "execute_result"
    }
   ],
   "source": [
    "avgWordLength(wrd)"
   ]
  },
  {
   "cell_type": "markdown",
   "metadata": {},
   "source": [
    "# alphabet with highest neighbors"
   ]
  },
  {
   "cell_type": "code",
   "execution_count": 932,
   "metadata": {},
   "outputs": [],
   "source": [
    "a = [[\"A\"],[\"A\",\"B\"],[\"A\",\"C\"],[\"B\",\"D\"],[\"C\",\"A\"]]"
   ]
  },
  {
   "cell_type": "code",
   "execution_count": 934,
   "metadata": {},
   "outputs": [
    {
     "data": {
      "text/plain": [
       "[['A'], ['A', 'B'], ['A', 'C'], ['B', 'D'], ['C', 'A']]"
      ]
     },
     "execution_count": 934,
     "metadata": {},
     "output_type": "execute_result"
    }
   ],
   "source": [
    "a"
   ]
  },
  {
   "cell_type": "code",
   "execution_count": 944,
   "metadata": {},
   "outputs": [],
   "source": [
    "from collections import defaultdict"
   ]
  },
  {
   "cell_type": "code",
   "execution_count": 945,
   "metadata": {},
   "outputs": [],
   "source": [
    "defDict = defaultdict(list)"
   ]
  },
  {
   "cell_type": "code",
   "execution_count": 946,
   "metadata": {},
   "outputs": [],
   "source": [
    "for i in a:\n",
    "    if len(i) == 2:\n",
    "        for j in i:\n",
    "            if j in defDict:\n",
    "                defDict[j] += 1\n",
    "            else:\n",
    "                defDict[j] = 1\n",
    "\n",
    "        \n",
    "        "
   ]
  },
  {
   "cell_type": "code",
   "execution_count": 965,
   "metadata": {},
   "outputs": [
    {
     "data": {
      "text/plain": [
       "<re.Match object; span=(3, 4), match='2'>"
      ]
     },
     "execution_count": 965,
     "metadata": {},
     "output_type": "execute_result"
    }
   ],
   "source": [
    "re.search(r\"\\d\", \"abc2!\")"
   ]
  },
  {
   "cell_type": "code",
   "execution_count": 970,
   "metadata": {},
   "outputs": [
    {
     "name": "stdout",
     "output_type": "stream",
     "text": [
      "exception\n"
     ]
    }
   ],
   "source": [
    "try:\n",
    "    value=int(\"3d\")\n",
    "except:\n",
    "    print(\"exception\")"
   ]
  },
  {
   "cell_type": "code",
   "execution_count": 978,
   "metadata": {},
   "outputs": [
    {
     "data": {
      "text/plain": [
       "['c']"
      ]
     },
     "execution_count": 978,
     "metadata": {},
     "output_type": "execute_result"
    }
   ],
   "source": [
    "re.findall(r\"[^0-9a-bA-B]\",\"abc3\")"
   ]
  },
  {
   "cell_type": "markdown",
   "metadata": {},
   "source": [
    "# linked list"
   ]
  },
  {
   "cell_type": "code",
   "execution_count": 82,
   "metadata": {},
   "outputs": [
    {
     "name": "stdout",
     "output_type": "stream",
     "text": [
      "Given Linked List\n",
      "85\n",
      "15\n",
      "4\n",
      "20\n",
      "\n",
      "Reversed Linked List\n",
      "20\n",
      "4\n",
      "15\n",
      "85\n"
     ]
    }
   ],
   "source": [
    "# Python program to reverse a linked list \n",
    "# Time Complexity : O(n) \n",
    "# Space Complexity : O(1) \n",
    "\n",
    "# Node class \n",
    "class Node: \n",
    "\n",
    "\t# Constructor to initialize the node object \n",
    "\tdef __init__(self, data): \n",
    "\t\tself.data = data \n",
    "\t\tself.next = None\n",
    "\n",
    "class LinkedList: \n",
    "\n",
    "\t# Function to initialize head \n",
    "\tdef __init__(self): \n",
    "\t\tself.head = None\n",
    "\n",
    "\t# Function to reverse the linked list \n",
    "\tdef reverse(self): \n",
    "\t\tprev = None\n",
    "\t\tcurrent = self.head \n",
    "\t\twhile(current is not None): \n",
    "\t\t\tnextt = current.next\n",
    "\t\t\tcurrent.next = prev \n",
    "\t\t\tprev = current \n",
    "\t\t\tcurrent = nextt\n",
    "\t\tself.head = prev \n",
    "\t\t\n",
    "\t# Function to insert a new node at the beginning \n",
    "\tdef push(self, new_data): \n",
    "\t\tnew_node = Node(new_data) \n",
    "\t\tnew_node.next = self.head \n",
    "\t\tself.head = new_node \n",
    "\n",
    "\t# Utility function to print the linked LinkedList \n",
    "\tdef printList(self): \n",
    "\t\ttemp = self.head \n",
    "\t\twhile(temp): \n",
    "\t\t\tprint (temp.data) \n",
    "\t\t\ttemp = temp.next\n",
    "\n",
    "\n",
    "# Driver program to test above functions \n",
    "llist = LinkedList() \n",
    "llist.push(20) \n",
    "llist.push(4) \n",
    "llist.push(15) \n",
    "llist.push(85) \n",
    "\n",
    "print(\"Given Linked List\")\n",
    "\n",
    "llist.printList() \n",
    "print(\"\\nReversed Linked List\")\n",
    "llist.reverse() \n",
    "\n",
    "llist.printList() \n",
    "\n",
    "# This code is contributed by Nikhil Kumar Singh(nickzuck_007) \n"
   ]
  },
  {
   "cell_type": "code",
   "execution_count": 83,
   "metadata": {},
   "outputs": [],
   "source": [
    "class Node:\n",
    "    def __init__(this,val):\n",
    "        this.val = val\n",
    "        this.next = None"
   ]
  },
  {
   "cell_type": "code",
   "execution_count": 84,
   "metadata": {},
   "outputs": [],
   "source": [
    "class singlyLinkedList:\n",
    "    def __init__(this):\n",
    "        this.head = None\n",
    "        \n",
    "    def addNode(this,val):\n",
    "        if this.head is None:\n",
    "            this.head = Node(val)\n",
    "            \n",
    "        else:\n",
    "            newNode = Node(val)\n",
    "            newNode.next = this.head\n",
    "            \n",
    "            this.head = newNode\n",
    "      \n",
    "    def printNodes(this,currentNode):\n",
    "        if currentNode is not None:\n",
    "            print(currentNode.val)\n",
    "            currentNode = currentNode.next\n",
    "            this.printNodes(currentNode)\n",
    "    \n",
    "        \n",
    "    def reverseLinkedList(this):\n",
    "        prev = None\n",
    "        current = this.head\n",
    "        \n",
    "        while current is not None:\n",
    "            nextNode = current.next\n",
    "            current.next = prev\n",
    "            prev = current\n",
    "            current = nextNode\n",
    "        \n",
    "        this.head = prev\n",
    "            "
   ]
  },
  {
   "cell_type": "code",
   "execution_count": 85,
   "metadata": {},
   "outputs": [],
   "source": [
    "s = singlyLinkedList()"
   ]
  },
  {
   "cell_type": "code",
   "execution_count": 86,
   "metadata": {},
   "outputs": [],
   "source": [
    "s.addNode(1)\n",
    "s.addNode(2)\n",
    "s.addNode(3)\n",
    "s.addNode(4)\n",
    "s.addNode(5)\n",
    "s.addNode(6)\n",
    "s.addNode(7)"
   ]
  },
  {
   "cell_type": "code",
   "execution_count": 87,
   "metadata": {},
   "outputs": [
    {
     "data": {
      "text/plain": [
       "7"
      ]
     },
     "execution_count": 87,
     "metadata": {},
     "output_type": "execute_result"
    }
   ],
   "source": [
    "s.head.val"
   ]
  },
  {
   "cell_type": "code",
   "execution_count": 88,
   "metadata": {},
   "outputs": [
    {
     "name": "stdout",
     "output_type": "stream",
     "text": [
      "7\n",
      "6\n",
      "5\n",
      "4\n",
      "3\n",
      "2\n",
      "1\n"
     ]
    }
   ],
   "source": [
    "s.printNodes(s.head)"
   ]
  },
  {
   "cell_type": "code",
   "execution_count": 89,
   "metadata": {},
   "outputs": [],
   "source": [
    "s.reverseLinkedList()"
   ]
  },
  {
   "cell_type": "code",
   "execution_count": 90,
   "metadata": {},
   "outputs": [
    {
     "name": "stdout",
     "output_type": "stream",
     "text": [
      "1\n",
      "2\n",
      "3\n",
      "4\n",
      "5\n",
      "6\n",
      "7\n"
     ]
    }
   ],
   "source": [
    "s.printNodes(s.head)"
   ]
  },
  {
   "cell_type": "code",
   "execution_count": 91,
   "metadata": {},
   "outputs": [],
   "source": [
    "import ipaddress"
   ]
  },
  {
   "cell_type": "markdown",
   "metadata": {},
   "source": [
    "# IPv6 RegEx\n",
    "(\n",
    "([0-9a-fA-F]{1,4}:){7,7}[0-9a-fA-F]{1,4}|          # 1:2:3:4:5:6:7:8\n",
    "\n",
    "([0-9a-fA-F]{1,4}:){1,7}:|                         # 1::                              1:2:3:4:5:6:7::\n",
    "\n",
    "([0-9a-fA-F]{1,4}:){1,6}:[0-9a-fA-F]{1,4}|         # 1::8             1:2:3:4:5:6::8  1:2:3:4:5:6::8\n",
    "\n",
    "([0-9a-fA-F]{1,4}:){1,5}(:[0-9a-fA-F]{1,4}){1,2}|  # 1::7:8           1:2:3:4:5::7:8  1:2:3:4:5::8\n",
    "\n",
    "([0-9a-fA-F]{1,4}:){1,4}(:[0-9a-fA-F]{1,4}){1,3}|  # 1::6:7:8         1:2:3:4::6:7:8  1:2:3:4::8\n",
    "\n",
    "([0-9a-fA-F]{1,4}:){1,3}(:[0-9a-fA-F]{1,4}){1,4}|  # 1::5:6:7:8       1:2:3::5:6:7:8  1:2:3::8\n",
    "\n",
    "([0-9a-fA-F]{1,4}:){1,2}(:[0-9a-fA-F]{1,4}){1,5}|  # 1::4:5:6:7:8     1:2::4:5:6:7:8  1:2::8\n",
    "\n",
    "[0-9a-fA-F]{1,4}:((:[0-9a-fA-F]{1,4}){1,6})|       # 1::3:4:5:6:7:8   1::3:4:5:6:7:8  1::8  \n",
    "\n",
    ":((:[0-9a-fA-F]{1,4}){1,7}|:)|                     # ::2:3:4:5:6:7:8  ::2:3:4:5:6:7:8 ::8       ::    \n",
    "\n",
    "fe80:(:[0-9a-fA-F]{0,4}){0,4}%[0-9a-zA-Z]{1,}|     # fe80::7:8%eth0   fe80::7:8%1     (link-local IPv6 addresses with zone index)\n",
    "::(ffff(:0{1,4}){0,1}:){0,1}\n",
    "((25[0-5]|(2[0-4]|1{0,1}[0-9]){0,1}[0-9])\\.){3,3}\n",
    "\n",
    "(25[0-5]|(2[0-4]|1{0,1}[0-9]){0,1}[0-9])|          # ::255.255.255.255   ::ffff:255.255.255.255  ::ffff:0:255.255.255.255  (IPv4-mapped IPv6 addresses and IPv4-translated addresses)\n",
    "([0-9a-fA-F]{1,4}:){1,4}:\n",
    "((25[0-5]|(2[0-4]|1{0,1}[0-9]){0,1}[0-9])\\.){3,3}\n",
    "\n",
    "(25[0-5]|(2[0-4]|1{0,1}[0-9]){0,1}[0-9])           # 2001:db8:3:4::192.0.2.33  64:ff9b::192.0.2.33 (IPv4-Embedded IPv6 Address)\n",
    ")"
   ]
  },
  {
   "cell_type": "code",
   "execution_count": 190,
   "metadata": {},
   "outputs": [],
   "source": [
    "class checkIPV6():\n",
    "    import re\n",
    "    \n",
    "    def __init__(this,ipAddr):\n",
    "        this.addr = ipAddr\n",
    "        this.result = this.validate(this.addr)\n",
    "        \n",
    "    def validate(this,ipAddr):\n",
    "        test = re.match(\"^(([0-9a-fA-F]{1,4}:){7,7}[0-9a-fA-F]{1,4}|([0-9a-fA-F]{1,4}:){1,7}:|([0-9a-fA-F]{1,4}:){1,6}:[0-9a-fA-F]{1,4}|([0-9a-fA-F]{1,4}:){1,5}(:[0-9a-fA-F]{1,4}){1,2}|([0-9a-fA-F]{1,4}:){1,4}(:[0-9a-fA-F]{1,4}){1,3}|([0-9a-fA-F]{1,4}:){1,3}(:[0-9a-fA-F]{1,4}){1,4}|([0-9a-fA-F]{1,4}:){1,2}(:[0-9a-fA-F]{1,4}){1,5}|[0-9a-fA-F]{1,4}:((:[0-9a-fA-F]{1,4}){1,6})|:((:[0-9a-fA-F]{1,4}){1,7}|:)|fe80:(:[0-9a-fA-F]{0,4}){0,4}%[0-9a-zA-Z]{1,}|::(ffff(:0{1,4}){0,1}:){0,1}((25[0-5]|(2[0-4]|1{0,1}[0-9]){0,1}[0-9])\\.){3,3}(25[0-5]|(2[0-4]|1{0,1}[0-9]){0,1}[0-9])|([0-9a-fA-F]{1,4}:){1,4}:((25[0-5]|(2[0-4]|1{0,1}[0-9]){0,1}[0-9])\\.){3,3}(25[0-5]|(2[0-4]|1{0,1}[0-9]){0,1}[0-9]))$\",ipAddr)\n",
    "        if test is None:\n",
    "            return False\n",
    "        else:\n",
    "            return True\n",
    "        \n",
    "    def isValid(this):\n",
    "        return this.result"
   ]
  },
  {
   "cell_type": "code",
   "execution_count": 193,
   "metadata": {},
   "outputs": [],
   "source": [
    "a = checkIPV6(\"2F01:0000:0000:00A0:0000:FEFB:FEFB:FEFB\")"
   ]
  },
  {
   "cell_type": "code",
   "execution_count": 194,
   "metadata": {},
   "outputs": [
    {
     "data": {
      "text/plain": [
       "True"
      ]
     },
     "execution_count": 194,
     "metadata": {},
     "output_type": "execute_result"
    }
   ],
   "source": [
    "a.isValid()"
   ]
  },
  {
   "cell_type": "code",
   "execution_count": 245,
   "metadata": {},
   "outputs": [],
   "source": [
    "import pandas as pd\n",
    "df = pd.read_csv (r'/Users/ajinkya.parkar@ibm.com/Desktop/IPV6.csv',header=None)"
   ]
  },
  {
   "cell_type": "code",
   "execution_count": 246,
   "metadata": {},
   "outputs": [],
   "source": [
    "validIPChk1 = []\n",
    "validIPChk2 = []\n",
    "InvalidIPChk1 = []\n",
    "InvalidIPChk2 = []\n",
    "FalsePositive = []\n",
    "FalseNegative = []\n",
    "\n",
    "for i in df[0]:\n",
    "    \n",
    "    customCheck = checkIPV6(i)\n",
    "    \n",
    "    ipaddressChk = False\n",
    "    \n",
    "    try:\n",
    "        str(ipaddress.ip_address(i))\n",
    "        validIPChk2.append(i)\n",
    "        ipaddressChk = True\n",
    "    except:\n",
    "        \n",
    "        ipaddressChk = False\n",
    "        # If not an ipv6 address, caught by built in ipv6 validation package.\n",
    "        InvalidIPChk2.append(i)\n",
    "    \n",
    "    # If not an ipv6 address, caught by custom built ipv6 validation class.\n",
    "    \n",
    "    if customCheck.isValid() == False:\n",
    "        InvalidIPChk1.append(i)\n",
    "    else:\n",
    "        validIPChk1.append(i)\n",
    "    \n",
    "    # If positive in custom package and negative in built in package\n",
    "    if customCheck.isValid() != ipaddressChk and customCheck.isValid() == True:\n",
    "        FalsePositive.append(i)\n",
    "    \n",
    "    # If negative in custom package and positive in built in package\n",
    "    elif customCheck.isValid() != ipaddressChk and customCheck.isValid() == False:\n",
    "        FalseNegative.append(i)\n",
    "        \n",
    "    "
   ]
  },
  {
   "cell_type": "code",
   "execution_count": 247,
   "metadata": {},
   "outputs": [
    {
     "data": {
      "text/plain": [
       "['2600:9000:20d4:6400:1d:e9ba:f480:93a1',\n",
       " '2620:1f7:2b06:c42::2:32d',\n",
       " '2600:9000:21ec:5400:18:1fcd:349:ca21',\n",
       " '2800:810:4d0:3f1:95fc:414a:cdae:109b',\n",
       " '2a02:26f0:4000:1a8::2903',\n",
       " '2001:428:3801:696::e3d',\n",
       " '2620:1f7:298e:105b::32:8',\n",
       " '2600:1404:5800:1::6849:569b',\n",
       " '2600:9000:2133:7200:3:65d8:2640:93a1',\n",
       " '2600:9000:2001:6a00:a:db2a:b380:93a1',\n",
       " '2620:1f7:2aa6:856::32:e4',\n",
       " '2620:1f7:8b5:2847::32:366',\n",
       " '2600:9000:201b:9a00:18:1fcd:349:ca21',\n",
       " '2a01:9840::62:97:32:21',\n",
       " '2620:1f7:2a59:853::2:316',\n",
       " '2600:1404:6800:6aa::297',\n",
       " '2600:9000:2004:e600:1e:49fd:c900:93a1',\n",
       " '2620:1f7:8b5:2842::32:89',\n",
       " '2600:141b:5000:5a9::10f5',\n",
       " '2606:4700:30::681b:8bcd',\n",
       " '2606:4700:20::6819:2b11',\n",
       " '2600:9000:2043:8200:e:a699:8d80:93a1',\n",
       " '2600:9000:2057:6800:4:f9aa:3d40:93a1',\n",
       " '2620:1f7:1111:c43::32:173',\n",
       " '2600:9000:200d:a000:18:1d71:3380:21',\n",
       " '2600:9000:211b:b600:11:af01:b47:c8e1',\n",
       " '2600:9000:20d1:3800:b:e6c7:36c0:93a1',\n",
       " '2600:9000:2047:6e00:9:87b:340:21',\n",
       " '2600:9000:2057:8400:7:b15c:a400:93a1',\n",
       " '2600:1419:1c00:186::1931',\n",
       " '2001:250:6406:6666::6',\n",
       " '2620:1f7:10d5:450::31:233',\n",
       " '2620:1f7:2bc8:f86::32:33b',\n",
       " '2620:1f7:1824:7c43::2:4a',\n",
       " '2804:4f64:ffff:ffff::1',\n",
       " '2620:1f7:2a55:410::1:2c4',\n",
       " '2a00:1450:400e:a::8',\n",
       " '2606:4700:30::681b:a720',\n",
       " '2620:1f7:2b06:c48::2:69',\n",
       " '2620:1f7:2a01:1c11::2:320',\n",
       " '2620:1f7:2b47:410::2:16d',\n",
       " '2804:14c:c681:424:bc56:c8a1:c7d9:b798',\n",
       " '2620:1f7:8b5:285d::31:38',\n",
       " '2620:1f7:2ae7:5a1::1:350',\n",
       " '2a00:1450:400b:7::8',\n",
       " '2806:10a6:16:8a62:f123:d1a3:6d42:cb1e',\n",
       " '2a00:1450:4015:6::14',\n",
       " '2606:4700:20::6819:509',\n",
       " '2620:1f7:1040:c40::32:2c9',\n",
       " '2620:1f7:1163:c43::31:3b2',\n",
       " '2600:1408:8400::173f:f53f',\n",
       " '2620:1f7:1188:c06::1:1e5',\n",
       " '2600:9000:21d5:3c00:6:e959:a300:93a1',\n",
       " '2600:9000:5306:8a00::1',\n",
       " '2600:9000:200d:600:a:da5e:7900:93a1',\n",
       " '2620:1f7:1091:c41::31:35',\n",
       " '2620:1f7:298e:1043::32:19f',\n",
       " '2620:1f7:10d5:444::32:284',\n",
       " '2600:9000:2038:a00:16:cfb1:a0c0:93a1',\n",
       " '2607:f8b0:4005:802::2003',\n",
       " '2620:1f7:8b5:2850::31:35',\n",
       " '2620:1f7:2a5e:416::32:199',\n",
       " '2600:9000:2057:e00:9:46dc:4700:93a1',\n",
       " '2600:9000:2075:fa00:6:eee2:6b00:93a1',\n",
       " '2600:9000:20d1:e000:8:1af9:89c0:93a1',\n",
       " '2620:1f7:28d2:f81::2:82',\n",
       " '2600:9000:21dd:6e00:18:1fcd:349:ca21',\n",
       " '2620:1f7:38c4:1041::31:380',\n",
       " '2606:4700:30::681c:10b9',\n",
       " '2607:f8b0:400a:16::8',\n",
       " '2606:4700::6810:1c56',\n",
       " '2802:8001:56b4:1500:dd21:fe17:f0e0:44e5',\n",
       " '2600:9000:2001:9000:11:6b0f:5ec0:93a1',\n",
       " '2402:8100:385d:8132:1:1:ec2:3d1e',\n",
       " '2620:1f7:8b5:2843::32:28',\n",
       " '2620:1f7:1188:c06::2:bb',\n",
       " '2600:9000:203f:de00:1c:58a3:4780:93a1',\n",
       " '2600:9000:200c:1a00:7:b15c:a400:93a1',\n",
       " '2600:9000:200f:6a00:1e:a8e:7300:93a1',\n",
       " '2600:9000:2001:9600:1d:33b1:1480:21',\n",
       " '2620:1f7:1188:c02::1:3b0',\n",
       " '2620:1f7:1183:1003::32:2d',\n",
       " '2600:1417:8000:3af::3272',\n",
       " '2606:4700:30::6812:3a10',\n",
       " '2600:9000:20d1:b400:18:b64e:17c0:93a1',\n",
       " '2001:b400:e26e:dc3:b159:e2ab:cab6:33d0',\n",
       " '2603:1027:0:89::46',\n",
       " '2600:9000:2075:ee00:8:246e:d40:93a1',\n",
       " '2a04:3540:1000:310:54b9:a2ff:fe8e:4596',\n",
       " '2620:1f7:28d2:f80::2:1cc',\n",
       " '2600:1419:6000:180::29a7',\n",
       " '2607:f8b0:4002:3f::6',\n",
       " '2600:9000:2001:1800:9:46dc:4700:93a1',\n",
       " '2600:9000:21ec:7800:16:b074:c980:93a1',\n",
       " '2620:1f7:3808:840::31:f6',\n",
       " '2a02:26f0:e8:28d::356e',\n",
       " '2620:1f7:807:c41::31:85',\n",
       " '2620:1f7:3d16:1047::31:40',\n",
       " '2620:1f7:1002:c47::32:1c',\n",
       " '2600:9000:2015:ec00:19:9934:6a80:93a1',\n",
       " '2620:1f7:3d3c:c46::31:3eb',\n",
       " '2804:1bc:f046:1fa::1001',\n",
       " '2620:1f7:10d5:44c::31:67',\n",
       " '2600:9000:21ec:ea00:18:1fcd:349:ca21',\n",
       " '2600:9000:201b:c200:9:46dc:4700:93a1',\n",
       " '2600:9000:2008:1c00:d:a332:70c5:88c1',\n",
       " '2600:9000:20d4:7800:9:1c57:8000:21',\n",
       " '2620:1f7:2b05:c46::32:150',\n",
       " '2600:9000:200c:8c00:e:ec66:e40:93a1',\n",
       " '2620:1f7:2a59:842::2:24c',\n",
       " '2620:1f7:2aa6:870::32:184',\n",
       " '2001:4b98:aaab::2f',\n",
       " '2800:3f0:4001:6::8',\n",
       " '2600:9000:2025:6600:10:3798:4a80:93a1',\n",
       " '2600:9000:2075:7a00:c:526c:6e40:93a1',\n",
       " '2620:1f7:38e4:1443::31:74',\n",
       " '2600:9000:5300:ae00::1',\n",
       " '2620:1f7:3d16:1045::31:1ee',\n",
       " '2600:9000:201b:7800:13:9d43:b600:93a1',\n",
       " '2a01:cb05:83ac:a800:b403:af86:3d12:da09',\n",
       " '2600:9000:2043:cc00:11:f728:3040:93a1',\n",
       " '2600:9000:2075:9000:f:5c67:cec0:93a1',\n",
       " '2600:9000:203f:9c00:0:ee2:240:93a1',\n",
       " '2600:9000:2038:1600:d:3e1:bdc0:93a1',\n",
       " '2600:9000:21b3:5600:1a:9e13:5280:93a1',\n",
       " '2600:9000:201c:4000:11:c4f7:a840:93a1',\n",
       " '2600:1402:f000::173f:faa3',\n",
       " '2620:1f7:28d3:410::2:317',\n",
       " '2a04:4e42::589',\n",
       " '2600:9000:200c:5200:e:3706:bd00:93a1',\n",
       " '2620:1f7:38e5:840::31:c',\n",
       " '2600:9000:2001:aa00:19:597a:e108:c5a1',\n",
       " '2606:4700::6810:4fa5',\n",
       " '2600:1417:5a:282::162e',\n",
       " '2600:9000:20be:8000:16:eede:5e00:93a1',\n",
       " '2001:470:7655::53',\n",
       " '2620:1f7:8b5:2844::32:8',\n",
       " '2600:9000:2048:f200:5:97fb:2e00:21',\n",
       " '2600:9000:212e:b200:1a:26e9:d080:21',\n",
       " '2607:fea8:31a0:11e:9435:f4c0:c54d:45e6',\n",
       " '2620:1f7:1040:c45::32:2ba',\n",
       " '2620:1f7:8b5:284c::31:1bf',\n",
       " '2001:418:4001:9::c6ac:5841',\n",
       " '2600:9000:2007:6c00:e:3dc6:e680:93a1',\n",
       " '2804:10:c022::2',\n",
       " '2600:9000:21ec:5200:d:274d:a6c0:93a1',\n",
       " '2620:1f7:2b05:611::2:51',\n",
       " '2606:4700::6813:9179',\n",
       " '2620:1f7:298e:1056::32:147',\n",
       " '2600:9000:21b3:da00:5:ae3a:ba00:93a1',\n",
       " '2600:1419:1c00:380::11ba',\n",
       " '2600:9000:200d:0:4:164e:ca00:93a1',\n",
       " '2a04:680::5:83:56:56',\n",
       " '2600:9000:2041:800:1:af78:4c0:93a1',\n",
       " '2600:9000:2075:ae00:7:d647:db00:93a1',\n",
       " '2600:9000:200c:c200:9:1c57:8000:21',\n",
       " '2600:9000:21f3:6a00:c:1c93:4a80:93a1',\n",
       " '2600:9000:2018:a800:d:274d:a6c0:93a1',\n",
       " '2600:1417:3:199::365a',\n",
       " '2620:108:700f::3645:f643',\n",
       " '2600:9000:2041:3000:2:42d9:3100:93a1',\n",
       " '2a00:86c0:1054:1054::136',\n",
       " '2001:558:fe1a:f::2',\n",
       " '2600:9000:201f:5a00:6:44e3:f8c0:93a1',\n",
       " '2606:4700:30::6812:3a78',\n",
       " '2620:1f7:2bca:7c41::31:33',\n",
       " '2a0b:e42:1::31',\n",
       " '2600:9000:21d5:5e00:1c:9a32:9200:93a1',\n",
       " '2600:9000:212e:9200:15:5386:a040:93a1',\n",
       " '2620:1f7:1002:c44::31:5d',\n",
       " '2a02:c7d:4a5b:b400:59fb:a8e5:7391:af2',\n",
       " '2001:41d0:8:1959::1',\n",
       " '2606:4700:20::6819:6f15',\n",
       " '2600:9000:203c:1c00:18:1fcd:349:ca21',\n",
       " '2620:1f7:2bc8:f81::32:2ba',\n",
       " '2001:288:3005:1::11',\n",
       " '2600:9000:2075:cc00:7:424c:9240:93a1',\n",
       " '2600:9000:203f:1400:16:cfb1:a0c0:93a1',\n",
       " '2001:fb0:1084::2',\n",
       " '2603:1036:102:b8::8',\n",
       " '2620:1f7:1111:c42::31:11e',\n",
       " '2600:9000:21f3:3200:1e:a43d:b640:93a1',\n",
       " '2600:9000:201c:2400:13:a05d:740:93a1',\n",
       " '2606:4700::6812:9c32',\n",
       " '2600:9000:2133:1a00:4:164e:ca00:93a1',\n",
       " '2600:9000:20d1:4e00:1e:49fd:c900:93a1',\n",
       " '2600:9000:2041:5800:1:a3fa:7cc0:93a1',\n",
       " '2600:9000:2007:1000:10:3422:3f00:21',\n",
       " '2a03:b0c0:3:d0::92:3001',\n",
       " '2600:9000:2015:3200:12:94b3:c380:93a1',\n",
       " '2620:1f7:1040:c43::32:3a2',\n",
       " '2600:9000:21b3:6800:6:e959:a300:93a1',\n",
       " '2600:9000:200f:2600:4:ebe0:a540:21',\n",
       " '2001:56a:71f4:5e00:50a9:dee:55e4:1f57',\n",
       " '2600:9000:2075:5800:0:b320:6a80:93a1',\n",
       " '2406:da00:ff00::35d:7e06',\n",
       " '2600:9000:2116:5a00:15:c34b:98c0:93a1',\n",
       " '2600:9000:2038:ec00:2:42d9:3100:93a1',\n",
       " '2606:4700:20::6819:965',\n",
       " '2620:1f7:298e:1042::32:166',\n",
       " '2620:1f7:298e:1044::32:84',\n",
       " '2600:9000:20bb:1c00:1:d89a:aa80:93a1',\n",
       " '2600:9000:20d1:9a00:16:d13:cec0:93a1',\n",
       " '2600:9000:20d1:3000:d:6bc4:efc0:93a1',\n",
       " '2a05:d050:8050:649:34da:604b::',\n",
       " '2600:9000:211b:1800:1d:855e:5400:93a1',\n",
       " '2620:1f7:1188:c05::1:d0',\n",
       " '2804:564:2::1',\n",
       " '2600:9000:2075:3000:a:db2a:b380:93a1',\n",
       " '2a01:238:20b:43:6653::501',\n",
       " '2600:9000:21f3:ca00:0:9c8:b80:93a1',\n",
       " '2600:9000:21a8:de00:a:db2a:b380:93a1',\n",
       " '2600:9000:2078:3c00:1f:9b5b:e8c0:93a1',\n",
       " '2620:1f7:8b5:285f::32:349',\n",
       " '2620:1f7:817:c4f::31:fd',\n",
       " '2600:9000:20d1:200:10:bd33:a8c0:21',\n",
       " '2620:1f7:1111:c45::31:178',\n",
       " '2600:9000:21ec:6000:15:efbc:e300:93a1',\n",
       " '2600:9000:20c7:8c00:18:4532:5280:93a1',\n",
       " '2600:9000:2075:3c00:13:9d43:b600:93a1',\n",
       " '2620:1f7:298e:104c::32:378',\n",
       " '2620:122:a000:ffff::53:2',\n",
       " '2600:9000:2007:5200:17:39dd:b240:93a1',\n",
       " '2002:c9ba:b8e4::c9ba:b8e4',\n",
       " '2600:9000:2075:ca00:14:6bfc:5740:93a1',\n",
       " '2800:3f0:4004:800::2002',\n",
       " '2620:1f7:2bc4:455::32:9f',\n",
       " '2600:9000:201b:2a00:11:f728:3040:93a1',\n",
       " '2606:4700:30::681b:9445',\n",
       " '2600:1407:4:f000:81a::',\n",
       " '2a02:2f09:320a:7c00:3519:8036:3839:1af6',\n",
       " '2600:9000:201f:1400:3:db06:4200:93a1',\n",
       " '2600:9000:200d:6000:e:5581:7340:93a1',\n",
       " '2402:3a80:c002:13:face:b00c:3333:a3f',\n",
       " '2600:1488:a100:103::b',\n",
       " '2600:9000:212f:de00:12:2282:9980:93a1',\n",
       " '2600:9000:200c:6000:17:d591:65c0:93a1',\n",
       " '2600:9000:20d1:e600:d:6bc4:efc0:93a1',\n",
       " '2600:9000:203f:8600:13:b800:6240:93a1',\n",
       " '2001:559:19:af::3de6',\n",
       " '2606:4700:30::681c:1506',\n",
       " '2600:9000:2079:6600:3:db06:4200:93a1',\n",
       " '2620:1f7:2a01:1c21::2:13',\n",
       " '2a02:26f0:fe:287::4106',\n",
       " '2605:e000:3507:6a00:35f7:8a32:cc35:a65e',\n",
       " '2620:1f7:298e:105c::32:19',\n",
       " '2600:9000:20bb:1e00:2:42d9:3100:93a1',\n",
       " '2600:9000:2133:4200:19:d208:7947:c8e1',\n",
       " '2600:9000:2002:9000:12:c12e:4e80:93a1',\n",
       " '2600:9000:2001:e800:e:5581:7340:93a1',\n",
       " '2a02:26f0:e8:49e::720',\n",
       " '2620:1f7:8b5:2845::31:2c9',\n",
       " '2620:1f7:2b06:c44::2:2af',\n",
       " '2620:1f7:2bc8:f82::32:318',\n",
       " '2600:9000:2057:9000:3:cbeb:d580:21',\n",
       " '2600:9000:2098:a600:a:db2a:b380:93a1',\n",
       " '2620:1f7:28d2:f85::2:165',\n",
       " '2600:9000:200d:4a00:5:b7cc:d3c0:93a1',\n",
       " '2620:1f7:807:c43::31:374',\n",
       " '2600:1400:11:186::3134',\n",
       " '2620:1f7:3d3c:c47::31:87',\n",
       " '2620:1f7:3d25:840::31:bb',\n",
       " '2404:6800:4007:80a::2006',\n",
       " '2620:1f7:1163:520::2:126',\n",
       " '2620:1f7:1111:c43::32:59',\n",
       " '2620:1f7:8b5:284a::31:141',\n",
       " '2603:1027:0:82::20',\n",
       " '2600:9000:201b:7c00:10:3422:3f00:93a1',\n",
       " '2620:1f7:8ff:c42::31:3a4',\n",
       " '2600:9000:201c:3000:f:ba65:c680:21',\n",
       " '2600:9000:21ec:3a00:e:5a70:ca47:86e1',\n",
       " '2606:4700:20::6819:c113',\n",
       " '2620:1f7:1188:c02::1:108',\n",
       " '2601:197:4400:638b:b272:bfff:fe6a:6973',\n",
       " '2600:9000:203f:4200:12:a82:2ec0:93a1',\n",
       " '2800:3f0:4001:817::2016',\n",
       " '2401:2500:102:1115:133:242:189:38',\n",
       " '2001:67c:2bf8:ace6::8',\n",
       " '2600:9000:2075:6000:3:f2f4:8f80:93a1',\n",
       " '2600:1419:6000:189::116',\n",
       " '2600:9000:2010:e000:14:146d:7107:bc81',\n",
       " '2620:1f7:3d25:848::31:1c9',\n",
       " '2620:1f7:10d5:445::32:2f',\n",
       " '2604:2000:1280:c023:4cf4:b3d9:7509:918f',\n",
       " '2600:9000:20eb:4c00:11:ba7:69c0:93a1',\n",
       " '2607:fb90:c13e:fff0:4aa3:af08:0:aaaa',\n",
       " '2a02:26f0:e8:4a0::25bb',\n",
       " '2804:14c:5f88:80f8:ad72:425a:f749:a52',\n",
       " '2600:9000:2002:6000:19:38bf:c640:93a1',\n",
       " '2620:1f7:2a59:84b::2:305',\n",
       " '2620:1f7:2bc8:411::2:37',\n",
       " '2600:9000:2041:9e00:a:503b:26c5:7541',\n",
       " '2600:9000:201b:4000:18:1fcd:348:2461',\n",
       " '2620:1f7:1163:4e0::2:1d4',\n",
       " '2620:1f7:1002:c43::31:24e',\n",
       " '2600:9000:211b:4800:1e:7bbf:4c80:21',\n",
       " '2620:1f7:8b5:2848::31:107',\n",
       " '2600:9000:201b:6c00:8:2ae1:d740:93a1',\n",
       " '2600:9000:203f:2800:18:1fcd:349:ca21',\n",
       " '2620:1f7:8b5:2842::32:c1',\n",
       " '2804:4228::7',\n",
       " '2620:1f7:2b47:415::32:1c8',\n",
       " '2620:1f7:3d16:104e::31:a3',\n",
       " '2620:1f7:1163:c47::32:30',\n",
       " '2620:1f7:2bc8:f87::32:152',\n",
       " '2600:9000:2075:3e00:4:ead7:d140:93a1',\n",
       " '2600:9000:200d:fa00:14:af85:1fc0:93a1',\n",
       " '2620:1f7:916:420::2:df',\n",
       " '2600:9000:2002:b400:5:ae3a:ba00:93a1',\n",
       " '2600:9000:2001:2200:1:9fd8:e600:21',\n",
       " '2600:9000:2057:6800:9:46dc:4700:93a1',\n",
       " '2600:141b:5000:3ad::3134',\n",
       " '2600:9000:212e:6000:9:46dc:4700:93a1',\n",
       " '2606:4700:30::681c:d21',\n",
       " '2620:1ec:8ec::6',\n",
       " '2620:1f7:10d5:449::31:194',\n",
       " '2620:1f7:3d01:184f::1:2a7',\n",
       " '2600:1fa0:4080:791:34da:c4b9::',\n",
       " '2620:1f7:10d5:442::32:da',\n",
       " '2620:1f7:2a5e:415::32:1ed',\n",
       " '2620:1f7:8b5:2846::32:1bf',\n",
       " '2600:9000:20eb:2000:19:597a:e108:c5a1',\n",
       " '2620:1f7:817:c63::1:35',\n",
       " '2600:9000:201b:f000:1a:13d:20c0:93a1',\n",
       " '2600:9000:2041:c000:7:45d5:5280:93a1',\n",
       " '2604:2000:22c6:f801:3c99:f0a9:f830:1776',\n",
       " '2600:9000:2057:2400:16:9fc9:7140:93a1',\n",
       " '2001:4b78:1001::90a',\n",
       " '2001:b00:4:8:3::',\n",
       " '2620:1f7:890:4c06::31:14',\n",
       " '2620:1f7:890:4900::1:2',\n",
       " '2620:1f7:28d2:f86::2:3b',\n",
       " '2601:81:4102:e446:24b8:1db1:f0ed:381e',\n",
       " '2800:810:516:95d9::1',\n",
       " '2600:9000:21f2:9e00:10:da37:eb00:21',\n",
       " '2600:9000:2043:6e00:6:44e3:f8c0:93a1',\n",
       " '2600:9000:2002:be00:9:a5e6:56c0:93a1',\n",
       " '2800:350:101:a:face:b00c:3333:a3f',\n",
       " '2804:431:f708:47f:e92b:5e2c:ace2:d243',\n",
       " '2600:9000:20d1:b800:1f:7e75:5340:93a1',\n",
       " '2600:9000:20bb:9400:1b:45dc:7080:93a1',\n",
       " '2600:9000:20bb:c400:1e:49fd:c900:93a1',\n",
       " '2600:9000:200c:8a00:1c:6cbe:2a40:93a1',\n",
       " '2a02:26f0:7b:89d::2882',\n",
       " '2600:140f:4:788::6bb',\n",
       " '2600:9000:203f:9c00:9:e42d:cc80:93a1',\n",
       " '2600:9000:2038:a600:18:f6ef:6ac0:93a1',\n",
       " '2600:9000:2098:dc00:9:6b96:2cc0:93a1',\n",
       " '2600:9000:20bb:2400:0:5cf9:5b80:93a1',\n",
       " '2600:9000:2002:7c00:2:42d9:3100:93a1',\n",
       " '2600:9000:2075:3e00:3:59a3:1dc0:93a1',\n",
       " '2620:1f7:3d0f:1100::1:3b2',\n",
       " '2603:1026:301:56::8',\n",
       " '2001:428:4408:19a::4346',\n",
       " '2600:9000:203f:ca00:1c:58a3:4780:93a1',\n",
       " '2620:1f7:8b5:285b::31:157',\n",
       " '2404:6800:4007:807::2001',\n",
       " '2806:109f:16:140:a0ef:4c9a:981e:796f',\n",
       " '2406:da00:ff00::22ec:caaf',\n",
       " '2600:9000:2010:fa00:17:69da:5c80:93a1',\n",
       " '2600:9000:203f:7000:10:21f5:8c80:93a1',\n",
       " '2600:9000:200d:c00:5:3cc0:9e40:93a1',\n",
       " '2600:9000:2075:e000:10:46f9:4700:93a1',\n",
       " '2600:9000:203f:7c00:3:9e90:f780:93a1',\n",
       " '2620:1f7:38c4:104e::31:17f',\n",
       " '2620:1f7:292a:1451::2:30b',\n",
       " '2803:b9c0:9bc5:6818:802e:3d1f:1199:a28e',\n",
       " '2620:1f7:10d5:44a::31:5f',\n",
       " '2620:1f7:10d5:44f::31:1a',\n",
       " '2600:9000:212e:b200:18:1fcd:349:ca21',\n",
       " '2405:6583:4080:5800:18e2:43e0:1d9:dfba',\n",
       " '2600:9000:203c:f000:15:de5c:5bc0:21',\n",
       " '2600:9000:2133:5600:1:a6b2:61c0:21',\n",
       " '2620:1f7:8ff:c43::31:196',\n",
       " '2600:9000:2001:a800:1e:70aa:55c0:21',\n",
       " '2620:1f7:2991:5442::32:293',\n",
       " '2600:9000:200d:4600:1:af78:4c0:93a1',\n",
       " '2408:8214:2731:2350:222:6dff:fe62:a23b',\n",
       " '2620:1f7:8b5:2842::31:3f',\n",
       " '2600:9000:2116:2000:18:d413:6940:93a1',\n",
       " '2620:1f7:2aa6:856::32:378',\n",
       " '2620:1f7:853:a001:4d1:347:5f4c:9962',\n",
       " '2607:f8b0:4001:c01::64',\n",
       " '2600:9000:2010:b000:1:8f9f:b6c0:93a1',\n",
       " '2600:9000:21b3:e600:11:f728:3040:93a1',\n",
       " '2620:1f7:2a59:84b::2:6c',\n",
       " '2600:9000:20be:1e00:12:c12e:4e80:93a1',\n",
       " '2606:4700::6811:aeb',\n",
       " '2600:9000:21dd:f200:19:a49e:1b80:93a1',\n",
       " '2620:1f7:2b06:c47::2:1a2',\n",
       " '2620:1f7:1183:1004::31:170',\n",
       " '2600:9000:200d:cc00:1b:8fb3:fac0:21',\n",
       " '2600:9000:21f2:5200:a:6e64:b280:93a1',\n",
       " '2620:1f7:8c5:850::1:356',\n",
       " '2600:9000:200f:c00:6:5b96:3f00:93a1',\n",
       " '2600:1fa0:4040:390:34da:9041::',\n",
       " '2600:9000:203c:2c00:1b:da56:c940:21',\n",
       " '2600:9000:2075:4000:c:3925:f680:93a1',\n",
       " '2620:1f7:8b5:284f::31:3c6',\n",
       " '2620:1f7:8ff:c43::31:f',\n",
       " '2600:9000:21f3:5600:19:9934:6a80:93a1',\n",
       " '2620:1f7:2bc3:c42:599f:43e4:7847:16ce',\n",
       " '2620:1f7:905:415::31:17f',\n",
       " '2600:9000:2010:5000:9:46dc:4700:93a1',\n",
       " '2600:9000:2048:c200:f:8bf4:6380:93a1',\n",
       " '2600:9000:212f:f000:15:efbc:e300:93a1',\n",
       " '2600:9000:21f2:f200:1c:12bf:2780:21',\n",
       " '2600:1fa0:4040:711:34da:cc59::',\n",
       " '2600:141b:4::48f7:97b',\n",
       " '2600:9000:219c:cc00:11:af01:b47:c8e1',\n",
       " '2606:4700:30::6812:3a88',\n",
       " '2600:9000:200c:c00:0:93e4:a640:93a1',\n",
       " '2620:1f7:8b5:285f::32:3f9',\n",
       " '2620:1f7:2bc4:456::32:ad',\n",
       " '2600:9000:200f:8800:12:a82:2ec0:93a1',\n",
       " '2620:1f7:2aa6:864::32:30',\n",
       " '2800:810:494:8f2f:844:bda9:5193:c275',\n",
       " '2620:1f7:1188:c05::1:60',\n",
       " '2001:500:90:1::34',\n",
       " '2001:628:2270:49::12',\n",
       " '2600:9000:2116:de00:a:6e64:b280:93a1',\n",
       " '2620:1f7:905:415::32:2f6',\n",
       " '2600:9000:21b3:e800:18:5a62:d500:21',\n",
       " '2001:41a8:26:195::2a1',\n",
       " '2600:9000:201a:ac00:9:46dc:4700:93a1',\n",
       " '2a02:26f0:41:687::ecd',\n",
       " '2620:1f7:3900:c44::31:9b',\n",
       " '2600:9000:200d:200:1c:12bf:2780:21',\n",
       " '2400:cb00:2049:1::a29f:112',\n",
       " '2600:9000:20d1:7400:1f:4435:d540:93a1',\n",
       " '2600:9000:21f3:200:8:331a:2800:21',\n",
       " '2620:1f7:8b5:285c::31:165',\n",
       " '2620:1f7:10d5:444::31:50',\n",
       " '2600:9000:2134:b000:1f:e2ee:200:93a1',\n",
       " '2600:9000:200c:1e00:18:20b1:dc40:93a1',\n",
       " '2600:9000:2075:f400:18:d1e2:300:21',\n",
       " '2600:9000:2025:4400:11:d7e7:6580:93a1',\n",
       " '2600:9000:2015:9000:f:27ac:f2c0:21',\n",
       " '2a00:1450:4007:2b::6',\n",
       " '2620:1f7:2b47:415::32:388',\n",
       " '2600:9000:20d4:b000:16:eede:5e00:93a1',\n",
       " '2a00:1450:4007:80c::2001',\n",
       " '2600:1407:2800:398::753',\n",
       " '2620:1f7:38e4:144d::31:20b',\n",
       " '2600:1f18:506:97a0:9b15:ef90:457a:d4ab',\n",
       " '2a01:4f8:231:1592::2',\n",
       " '2600:9000:21d5:3c00:10:557c:b549:4e21',\n",
       " '2620:1f7:8b5:1480::1:2a0',\n",
       " '2600:9000:2038:c00:11:f728:3040:93a1',\n",
       " '2620:1f7:1002:c43::31:cc',\n",
       " '2620:1f7:1163:c46::31:3f0',\n",
       " '2620:1f7:1002:480::2:18a',\n",
       " '2600:9000:2010:e00:e:cdf0:6e80:93a1',\n",
       " '2600:9000:21d5:2a00:1d:f12a:7740:93a1',\n",
       " '2600:9000:21f3:b600:6:44e3:f8c0:93a1',\n",
       " '2600:9000:2001:ec00:10:b43b:a800:93a1',\n",
       " '2620:1f7:8b5:2844::32:1ec',\n",
       " '2600:9000:2018:2e00:a:db2a:b380:93a1',\n",
       " '2606:4700:e6::ac40:c926',\n",
       " '2600:9000:2038:d600:18:e253:91c0:21',\n",
       " '2600:9000:2038:d400:1d:a0b:eb00:93a1',\n",
       " '2620:1f7:3d01:1840::1:251',\n",
       " '2600:9000:20eb:2200:1c:e4f9:b3c0:21',\n",
       " '2600:9000:21a8:2a00:e:d71d:4400:93a1',\n",
       " '2600:9000:2075:9800:18:2740:1380:93a1',\n",
       " '2620:1f7:1163:c47::31:286',\n",
       " '2600:1400:d:488::2c79',\n",
       " '2620:1f7:1163:c46::31:e4',\n",
       " '2600:9000:21d5:d200:14:816b:3900:93a1',\n",
       " '2601:183:102:5e50:550f:1531:4ab1:f45e',\n",
       " '2600:9000:2047:b400:1:a3fa:7cc0:93a1',\n",
       " '2620:1f7:38c4:1050::31:1fa',\n",
       " '2a02:26f0:e8:498::11e2',\n",
       " '2600:141e:2::6010:c54',\n",
       " '2600:9000:2047:6000:9:46dc:4700:93a1',\n",
       " '2620:1f7:a1f:1417::31:35',\n",
       " '2600:9000:2048:5400:18:7b00:75c0:93a1',\n",
       " '2620:1f7:8b5:2843::31:55',\n",
       " '2405:b000:e00:285::21:37',\n",
       " '2600:9000:20d2:7600:15:77aa:5e80:93a1',\n",
       " '2600:9000:201f:8200:16:eede:5e00:93a1',\n",
       " '2620:1f7:1002:c47::31:a4',\n",
       " '2620:1f7:8b5:2851::32:c9',\n",
       " '2600:1407:4:f000:81c:c223:e242:ac1b',\n",
       " '2600:9000:2015:8800:5:5365:52c0:21',\n",
       " '2620:1f7:8b5:284f::31:32d',\n",
       " '2620:1f7:298e:1047::32:1d',\n",
       " '2600:9000:2075:ac00:5:3aaa:f40:93a1',\n",
       " '2620:1f7:3d25:841::31:3fa',\n",
       " '2401:4900:2ee4:fb1e:5b83:bfc9:1652:c6d1',\n",
       " '2620:1f7:298e:1045::32:1dc',\n",
       " '2a03:32c0:8:4000:face:b00c:3333:a3f',\n",
       " '2600:9000:20d4:5e00:6:e959:a300:93a1',\n",
       " '2620:1f7:2a59:840::2:b9',\n",
       " '2620:1f7:8b5:2840::31:157',\n",
       " '2600:9000:20be:b200:1:a3fa:7cc0:93a1',\n",
       " '2600:1f1c:c01:3102:43ba:5199:ab58:3b61',\n",
       " '2606:4700:30::681c:249',\n",
       " '2600:9000:201b:ac00:17:69da:5c80:93a1',\n",
       " '2600:9000:202f:6e00:e:3dc6:e680:93a1',\n",
       " '2606:4700:30::681b:ae7a',\n",
       " '2001:41d0:303:8a3b::',\n",
       " '2620:1f7:298e:3cb1::2:31c',\n",
       " '2600:9000:20d1:3e00:13:386b:2340:93a1',\n",
       " '2600:9000:2018:2600:4:56e3:6bc0:93a1',\n",
       " '2607:f8b0:400d:c08::6d',\n",
       " '2600:9000:201c:be00:6:e959:a300:93a1',\n",
       " '2600:9000:20eb:9200:19:2815:3dc0:21',\n",
       " '2600:1415:11:4a3::cbc',\n",
       " '2620:1f7:8b5:285b::31:ed',\n",
       " '2600:9000:201c:c800:6:9eb2:5cc0:93a1',\n",
       " '2600:9000:2134:4200:1e:49fd:c900:93a1',\n",
       " '2806:2f0:501f:1::e',\n",
       " '2a00:1450:400f:806::200a',\n",
       " '2001:1900:2308:1f07::1fe',\n",
       " '2600:1f16:e2:8105:d637:e94a:ae76:c09c',\n",
       " '2600:9000:203f:400:d:3e1:bdc0:93a1',\n",
       " '2607:fea8:4d1f:ebaa:750e:6947:1505:e6ae',\n",
       " '2600:1417:8000:49b::162e',\n",
       " '2620:1f7:1040:c41::31:141',\n",
       " '2600:9000:2025:e200:1:19b5:740:93a1',\n",
       " '2600:9000:2001:b400:16:a653:8f80:93a1',\n",
       " '2600:9000:2001:3400:11:ba49:8140:93a1',\n",
       " '2607:f8b0:4007:2f::7',\n",
       " '2800:310:10:9::2',\n",
       " '2620:1f7:8b5:1480::1:3a4',\n",
       " '2600:9000:20d1:a000:11:f728:3040:93a1',\n",
       " '2600:9000:2041:4600:c:1c93:4a80:93a1',\n",
       " '2405:204:63af:2306::1212:a0ac',\n",
       " '2620:1f7:8b5:284f::32:74',\n",
       " '2620:1f7:3d16:930::1:2a1',\n",
       " '2620:1f7:2ae7:c44::31:4',\n",
       " '2620:1f7:8b5:2854::31:3c6',\n",
       " '2001:8a0:f255:d600:3951:fcfa:cd73:3e2f',\n",
       " '2600:9000:21f3:5200:16:eede:5e00:93a1',\n",
       " '2600:9000:200c:4800:1d:b016:1bc0:93a1',\n",
       " '2620:1f7:8b5:2860::32:29f',\n",
       " '2620:1f7:916:c40::31:9',\n",
       " '2600:9000:20be:4400:1:a3fa:7cc0:93a1',\n",
       " '2606:4700:30::6818:7b5c',\n",
       " '2600:9000:2041:7600:2:4718:d040:93a1',\n",
       " '2600:9000:20d1:3c00:5:6208:3500:93a1',\n",
       " '2600:9000:2038:8c00:5:83ea:ba80:93a1',\n",
       " '2001:428:3801:680::3a7c',\n",
       " '2600:1419:d000:39d::3114',\n",
       " '2600:9000:2041:6c00:18:7b00:75c0:93a1',\n",
       " '2620:1f7:1002:410::1:21',\n",
       " '2620:1f7:1002:c43::31:277',\n",
       " '2001:418:1446:192::2903',\n",
       " '2600:9000:21b3:7000:1:af78:4c0:93a1',\n",
       " '2620:1f7:298e:3cb0::2:3fb',\n",
       " '2600:9000:21b3:f200:3:db06:4200:93a1',\n",
       " '2620:1f7:a1f:1416::31:94',\n",
       " '2620:1f7:2b47:415::32:170',\n",
       " '2620:1f7:381f:841::31:2d9',\n",
       " '2001:470:1f09:885::2',\n",
       " '2620:1f7:8b5:284a::32:1ce',\n",
       " '2620:1f7:2880:411::2:2c',\n",
       " '2600:9000:200c:ae00:b:f730:9800:93a1',\n",
       " '2620:1f7:8b5:2857::31:e2',\n",
       " '2606:4700:e6::ac40:ce1c',\n",
       " '2620:1f7:3d01:1844::1:37b',\n",
       " '2403:300:a41:70c::b',\n",
       " '2600:9000:20bb:a200:1e:9742:1680:21',\n",
       " '2600:9000:2047:ca00:16:eede:5e00:93a1',\n",
       " '2600:9000:21d5:2e00:1:a3fa:7cc0:93a1',\n",
       " '2620:1f7:3943:410::1:3b1',\n",
       " '2600:9000:2075:b000:f:8ce2:fb80:93a1',\n",
       " '2600:9000:20eb:f200:1e:a43d:b640:93a1',\n",
       " '2600:9000:21ec:e400:2:a76b:1ac0:21',\n",
       " '2620:1f7:1188:c03::1:c8',\n",
       " '2600:9000:2043:3200:d:7168:55c0:93a1',\n",
       " '2600:1417:b000:399::64fd',\n",
       " '2600:9000:200d:7c00:17:69da:5c80:93a1',\n",
       " '2600:9000:2075:4400:0:98b3:bbc0:93a1',\n",
       " '2600:9000:21f2:9a00:12:16f:ca40:93a1',\n",
       " '2601:2c7:980:1e76:f18f:b596:c56a:8100',\n",
       " '2600:9000:20eb:5c00:6:eb12:22c0:93a1',\n",
       " '2600:1407:2800:390::441d',\n",
       " '2600:9000:200f:7c00:c:c74f:4f40:21',\n",
       " '2600:9000:2075:ce00:1:572a:5380:21',\n",
       " '2a05:d018:2c6:7901:129c:908c:f4f4:96fa',\n",
       " '2600:9000:211b:ee00:1:a3fa:7cc0:93a1',\n",
       " '2600:9000:21d5:2a00:d:2820:3bc0:93a1',\n",
       " '2600:9000:21f2:c000:18:e253:91c0:21',\n",
       " '2600:9000:2010:3400:1c:58a3:4780:93a1',\n",
       " '2606:4700:30::681b:8b1d',\n",
       " '2001:8d8:fe:53:0:d9a0:5251:100',\n",
       " '2600:9000:203f:8200:1c:cf34:6800:21',\n",
       " '2600:9000:2004:fa00:18:1fcd:349:ca21',\n",
       " '2600:9000:2075:dc00:f:8ce2:fb80:93a1',\n",
       " '2600:9000:21b4:d400:18:1fcd:349:ca21',\n",
       " '2600:9000:212f:2c00:14:c68f:c40:93a1',\n",
       " '2600:9000:200c:d000:1f:361:cd80:93a1',\n",
       " '2606:4700:20::6819:cf17',\n",
       " '2a02:568:20:1::d',\n",
       " '2620:1f7:3d21:480::1:260',\n",
       " '2607:f1c0:100f:f000::269',\n",
       " '2620:1f7:10d5:453::31:110',\n",
       " '2a02:26f0:c800:19a::2a1',\n",
       " '2600:9000:2041:d800:10:fca9:d440:93a1',\n",
       " '2600:9000:2075:fa00:1b:eb6a:fbc0:93a1',\n",
       " '2600:9000:201b:cc00:10:3422:3f00:93a1',\n",
       " '2401:7400:6002:829d:9ad:cd4a:d9dd:d6b8',\n",
       " '2606:a000:8b4a:a200:119c:c8ea:9730:1d0a',\n",
       " '2620:1f7:8b5:2841::32:7a',\n",
       " '2620:1f7:817:c52::31:1c',\n",
       " '2620:0:1074:2:e6a4:71ff:fe85:2c58',\n",
       " '2600:9000:200c:fe00:a:8b4a:4700:93a1',\n",
       " '2600:9000:20ab:2e00:e:932e:1600:93a1',\n",
       " '2600:9000:20d2:b000:11:f728:3040:93a1',\n",
       " '2620:1f7:10d5:449::31:47',\n",
       " '2804:d57:12bc:f900:4154:188:d2f0:27f5',\n",
       " '2600:1402:a:28e::4106',\n",
       " '2620:1f7:8b5:2840::32:29',\n",
       " '2601:19b:700:114:e13c:ecd4:fd0:c101',\n",
       " '2620:1f7:8b5:2843::32:241',\n",
       " '2600:9000:21b3:4200:6:44e3:f8c0:93a1',\n",
       " '2600:9000:213f:c400:c:aeb3:e200:93a1',\n",
       " '2800:810:557:348d:5c37:fb57:3614:3d9f',\n",
       " '2620:1f7:2b73:430::2:6b',\n",
       " '2600:9000:2075:9000:15:a80b:45c0:93a1',\n",
       " '2620:1f7:2a59:84d::2:12',\n",
       " '2600:9000:20c7:aa00:1f:9383:73c0:93a1',\n",
       " '2600:9000:2001:ea00:19:2cf2:a900:93a1',\n",
       " '2620:1f7:3d3e:c40::31:3c2',\n",
       " '2001:e68:5445:2256:c1c3:6a01:bd81:ce85',\n",
       " '2620:1f7:28d2:f83::2:148',\n",
       " '2600:9000:2133:200:6:44e3:f8c0:93a1',\n",
       " '2600:9000:2010:d600:18:287:b4c0:93a1',\n",
       " '2600:9000:201b:2800:16:f5f7:a380:93a1',\n",
       " '2620:1f7:3d16:1056::31:296',\n",
       " '2620:1f7:2991:5444::32:80',\n",
       " '2600:9000:2047:6c00:9:46dc:4700:93a1',\n",
       " '2600:9000:2116:4600:10:557c:b549:4e21',\n",
       " '2620:1f7:10d5:44c::32:330',\n",
       " '2001:638:d:c101:acdc:1979:3:1030',\n",
       " '2a01:7c8:fff9:42e::1',\n",
       " '2620:1f7:1004:7c3f::31:195',\n",
       " '2a02:26f0:f4:3b2::2f1f',\n",
       " '2620:1f7:1188:c06::1:76',\n",
       " '2409:8a3c:6f2:6f5a:910f:a928:15ab:e787',\n",
       " '2600:9000:201c:ac00:f:c7b3:ce40:21',\n",
       " '2620:1f7:a15:455::31:3a8',\n",
       " '2600:9000:2010:1400:d:a332:70c5:88c1',\n",
       " '2620:1f7:2bc8:f82::32:21e',\n",
       " '2606:4700:30::6812:288b',\n",
       " '2606:4700:10::6814:35e6',\n",
       " '2620:1f7:90d:c41:f936:5fd4:ce82:52d0',\n",
       " '2600:9000:201c:3a00:0:5511:db80:93a1',\n",
       " '2800:3f0:4005:2::8',\n",
       " '2600:9000:20ab:c200:d:1784:2500:93a1',\n",
       " '2600:9000:2038:4400:f:5c67:cec0:93a1',\n",
       " '2600:9000:2116:1600:a:db2a:b380:93a1',\n",
       " '2600:9000:212f:c800:d:e96a:8080:93a1',\n",
       " '2600:9000:20bb:5a00:15:ef5:46c0:93a1',\n",
       " '2600:9000:21da:6200:14:c3e7:6780:93a1',\n",
       " '2a04:9dc0:16:608::',\n",
       " '2600:9000:2038:b800:e:932e:1600:93a1',\n",
       " '2600:9000:20eb:6400:7:159d:f980:93a1',\n",
       " '2600:9000:200d:c800:1:cde5:7345:88c1',\n",
       " '2620:1f7:807:c4f::31:37c',\n",
       " '2600:1417:2d:f000:8505:987f:53f2:c372',\n",
       " '2600:1408:24::17d7:8555',\n",
       " '2620:1f7:1111:c45::31:2ce',\n",
       " '2620:1f7:2a59:846::2:20e',\n",
       " '2620:1f7:10d5:447::31:6c',\n",
       " '2600:9000:212f:6000:1:a3fa:7cc0:93a1',\n",
       " '2600:9000:2075:3400:d:3e1:bdc0:93a1',\n",
       " '2600:9000:2010:ca00:19:a2c3:6940:93a1',\n",
       " '2600:9000:212f:6e00:1e:a43d:b640:93a1',\n",
       " '2620:1f7:890:4c05::31:33e',\n",
       " '2600:9000:2048:9c00:11:f728:3040:93a1',\n",
       " '2600:9000:2116:4600:2:42d9:3100:93a1',\n",
       " '2620:1f7:298e:1052::32:164',\n",
       " '2620:1f7:1040:c43::31:33e',\n",
       " '2620:1f7:a15:445::31:301',\n",
       " '2001:489a:4006::2',\n",
       " '2620:1f7:817:1c70::1:26',\n",
       " '2620:1f7:10d5:44b::31:25b',\n",
       " '2600:9000:21d5:da00:1b:47e1:21c0:21',\n",
       " '2600:9000:2025:1000:1:5a19:8b40:93a1',\n",
       " '2620:1f7:8ff:c44::31:96',\n",
       " '2600:1f18:612b:4232:a4d6:355e:7f0b:b9e7',\n",
       " '2620:1f7:2bc8:f87::32:56',\n",
       " '2600:9000:200c:aa00:19:e0e5:4ec0:93a1',\n",
       " '2600:1417:53:19d::2a5b',\n",
       " '2600:9000:2004:aa00:1f:2473:9080:93a1',\n",
       " '2600:9000:200f:f400:18:2740:1380:93a1',\n",
       " '2620:1f7:28d2:f80::2:43',\n",
       " '2600:9000:2075:cc00:5:7a9b:fec0:93a1',\n",
       " '2620:1f7:3940:1840::31:2a',\n",
       " '2620:1f7:3d16:1043::31:179',\n",
       " '2606:4700:20::6818:142e',\n",
       " '2600:9000:2075:2600:14:9382:5e00:93a1',\n",
       " '2600:9000:2001:8c00:3:2f7d:1a40:93a1',\n",
       " '2600:1415:8:28c::5f6d',\n",
       " '2606:4700:30::681f:501c',\n",
       " '2001:428:1802:59d::116',\n",
       " '2600:9000:2047:5a00:4:b684:cb00:93a1',\n",
       " '2620:1f7:2b47:415::32:123',\n",
       " '2620:1f7:3d01:1847::1:38c',\n",
       " '2606:4700:10::6814:20e2',\n",
       " '2400:cb00:2049:1::a29f:18bc',\n",
       " '2600:9000:201c:2c00:6:e959:a300:93a1',\n",
       " '2620:1f7:3940:1843::31:8c',\n",
       " '2606:4700:20::6819:e90d',\n",
       " '2620:1f7:8b5:285d::31:3a',\n",
       " '2a01:ce89:8001:0:57:67:40:21',\n",
       " '2a01:cb05:8076:1000:2595:c0bd:3932:f7e3',\n",
       " '2001:428:4403::d8ce:241e',\n",
       " '2600:9000:2041:d200:e:19d6:1546:5981',\n",
       " '2620:1f7:1002:4f0::2:50',\n",
       " '2620:1f7:2a59:84e::2:3e9',\n",
       " '2600:9000:20eb:2200:1d:58a4:8340:21',\n",
       " '2600:140b:13:28b::4106',\n",
       " '2600:9000:212e:5200:4:77d:a0c0:93a1',\n",
       " '2600:1404:5800:693::116',\n",
       " '2620:1f7:298e:1048::32:a2',\n",
       " '2001:19f0:5:ab7:5400:ff:fe6d:a507',\n",
       " '2620:1f7:10dd:415::31:38',\n",
       " '2620:1f7:10d5:441::31:ee',\n",
       " '2600:1417:5e:6ad::3adf',\n",
       " '2600:9000:21d5:4000:d:10d0:ce40:93a1',\n",
       " '2620:1f7:1188:c02::1:7c',\n",
       " '2a02:e980:c::44',\n",
       " '2600:9000:211b:7800:1e:a43d:b640:93a1',\n",
       " '2802:8000:27bf:2000:91a3:9015:c563:4b6',\n",
       " '2620:1f7:1188:c05::1:278',\n",
       " '2406:da00:ff00::23aa:fa9d',\n",
       " '2620:1f7:1825:410::2:37f',\n",
       " '2600:9000:2045:ec00:1e:a43d:b640:93a1',\n",
       " '2600:9000:200d:fe00:4:9b20:9700:93a1',\n",
       " '2600:9000:201b:ae00:18:1fcd:349:ca21',\n",
       " '2620:1f7:1188:c05::1:184',\n",
       " '2600:9000:2041:f600:d:3e1:bdc0:93a1',\n",
       " '2600:9000:2075:a200:1d:a0b:eb00:93a1',\n",
       " '2620:1f7:817:c5e::32:a8',\n",
       " '2600:9000:201c:4400:8:321a:8d40:21',\n",
       " '2600:9000:201b:2a00:17:69da:5c80:93a1',\n",
       " '2804:431:9714:acbe:284b:2c00:d58c:94e8',\n",
       " '2804:151c::191:37:200:22',\n",
       " '2600:9000:20d1:a200:0:4af7:b080:93a1',\n",
       " '2620:1f7:2bc8:530::2:1b1',\n",
       " '2a00:1450:4021:e::7',\n",
       " '2600:9000:2075:6800:9:674:7440:21',\n",
       " '2600:9000:200c:8c00:11:b761:9f00:93a1',\n",
       " '2620:1f7:8b5:284c::31:307',\n",
       " '2600:9000:21dd:a200:5:82fd:2500:21',\n",
       " '2620:1f7:1040:c46::31:c4',\n",
       " '2600:9000:2043:5a00:19:a2c3:6940:93a1',\n",
       " '2600:9000:2075:6800:1f:287:d20a:ce1',\n",
       " '2620:1f7:817:c61::31:67',\n",
       " '2600:9000:21a8:7600:1c:e4f9:b3c0:21',\n",
       " '2620:1f7:2a59:840::2:1f5',\n",
       " '2600:9000:203c:2400:19:9934:6a80:93a1',\n",
       " '2620:1f7:8b5:2852::31:2ef',\n",
       " '2600:1007:b024:2e77:216:8ff:fe00:3',\n",
       " '2600:9000:2041:fe00:16:cdca:2a80:21',\n",
       " '2620:1f7:1824:7c43::2:48',\n",
       " '2600:9000:21b4:6800:a:52eb:a100:93a1',\n",
       " '2600:9000:2047:fa00:5:b7cc:d3c0:93a1',\n",
       " '2600:9000:21d5:400:1e:4eaf:280:93a1',\n",
       " '2600:9000:20bb:2000:b:caaa:6c0:93a1',\n",
       " '2607:f8b0:4006:813::200e',\n",
       " '2600:9000:201c:a400:11:8e16:4980:93a1',\n",
       " '2a02:26f0:e8:480::6326',\n",
       " '2600:9000:2003:6e00:4:ead7:d140:93a1',\n",
       " '2600:1404:6800::173f:fca8',\n",
       " '2600:9000:5301:4f00::1',\n",
       " '2600:9000:219c:2c00:18:1fcd:349:ca21',\n",
       " '2403:6200:8814:2c7c:2988:ec0a:43a5:83bc',\n",
       " '2600:9000:2010:d600:f:cfa5:9ac0:93a1',\n",
       " '2620:1f7:a1f:1416::31:1f3',\n",
       " '2600:9000:203c:7c00:14:3684:7f00:21',\n",
       " '2620:1f7:38c4:450::1:3a8',\n",
       " '2600:9000:2043:8400:5:3cc0:9e40:93a1',\n",
       " '2600:9000:21a8:b800:10:3495:c880:93a1',\n",
       " '2620:1f7:a15:415::31:bd',\n",
       " '2620:1f7:3d16:1041::31:33f',\n",
       " '2600:9000:5304:1000::1',\n",
       " '2620:1f7:1163:520::1:113',\n",
       " '2600:9000:2075:6600:1d:67c:b5c0:93a1',\n",
       " '2600:9000:211b:de00:13:386b:2340:93a1',\n",
       " '2600:1419:6000:187::d5e',\n",
       " '2405:4800:172c:69b8:18f9:783f:aae3:93cb',\n",
       " '2a02:26f0:60:1bb::19fd',\n",
       " '2600:9000:201c:5200:12:9a21:7900:93a1',\n",
       " '2620:1f7:817:c63::1:66',\n",
       " '2405:201:3200:cfa5:7d45:58f1:386f:8279',\n",
       " '2600:9000:200f:ba00:9:46dc:4700:93a1',\n",
       " '2600:9000:20eb:4000:19:9934:6a80:93a1',\n",
       " '2620:1f7:3940:1840::31:c3',\n",
       " '2600:9000:2018:7c00:11:1eaf:39c9:75c1',\n",
       " '2600:9000:2015:3400:f:fb3a:3480:93a1',\n",
       " '2606:4700:20::6819:a60c',\n",
       " '2a05:d050:801c:490:34da:3513::',\n",
       " '2600:9000:2075:e000:18:97ca:e400:93a1',\n",
       " '2620:1f7:1188:c02::2:df',\n",
       " '2606:4700:30::6818:7fdc',\n",
       " '2620:1f7:10d5:448::31:2d',\n",
       " '2600:1400:c000:1bc::b3a',\n",
       " '2a0b:f740::1',\n",
       " '2603:1036:23:5c::6',\n",
       " '2620:1f7:2aa6:843::32:9c',\n",
       " '2600:9000:2002:b400:a:da5e:7900:93a1',\n",
       " '2600:9000:2002:8c00:12:ca43:4ac0:21',\n",
       " '2620:1f7:3d16:104a::31:320',\n",
       " '2620:1f7:8b5:285c::32:39',\n",
       " '2600:9000:21b3:4400:e:a699:8d80:93a1',\n",
       " '2a01:b740:a42:102::13',\n",
       " '2620:1f7:2b05:c43::32:141',\n",
       " '2600:9000:212e:ba00:18:1fcd:349:ca21',\n",
       " '2620:1f7:2aa6:875::32:269',\n",
       " '2600:9000:2010:6400:c:e8fa:88c0:93a1',\n",
       " '2620:1f7:1862:430::2:7d',\n",
       " '2620:1f7:a1f:950::1:3c8',\n",
       " '2620:1f7:1163:c47::31:fd',\n",
       " '2600:9000:201b:200:4:5893:49c0:21',\n",
       " '2620:1f7:3932:c45::31:367',\n",
       " '2606:4700:10::6814:a305',\n",
       " '2600:9000:2010:bc00:1:8f9f:b6c0:93a1',\n",
       " '2600:9000:2009:a200:19:597a:e108:c5a1',\n",
       " '2600:9000:2018:c400:7:e536:8b00:93a1',\n",
       " '2620:1f7:8b5:284c::31:3ae',\n",
       " '2600:9000:2075:b200:1f:9bbe:a480:93a1',\n",
       " '2620:1f7:807:c40::32:3ad',\n",
       " '2600:9000:200f:ca00:f:cfa5:9ac0:93a1',\n",
       " '2620:1f7:2a01:1c50::2:95',\n",
       " '2600:9000:2015:5800:10:31d4:da80:93a1',\n",
       " '2400:cb00:2049:1::c629:df83',\n",
       " '2600:9000:21f2:d400:10:3798:4a80:93a1',\n",
       " '2600:9000:200d:b000:9:352d:a240:93a1',\n",
       " '2620:1f7:1824:7c42::2:137',\n",
       " '2600:9000:201b:e800:12:20b2:ec80:21',\n",
       " '2600:9000:2004:a800:f:68da:bf00:93a1',\n",
       " '2600:1404:5800:686::2c79',\n",
       " '2600:9000:201c:5200:1f:9c4e:23c0:21',\n",
       " '2a01:e0a:2e:bf60:702c:90e8:b780:4ca8',\n",
       " '2600:9000:201c:c00:18:ba26:6d40:21',\n",
       " '2600:9000:200c:d000:1:1e08:a140:93a1',\n",
       " '2a00:1450:4009:4f::9',\n",
       " '2a02:26f0:e8:487::25bb',\n",
       " '2600:9000:200c:3600:11:e20d:bbc0:21',\n",
       " '2620:1f7:1002:c45::32:c',\n",
       " '2600:9000:211b:ae00:3:b28b:6bc0:93a1',\n",
       " '2a03:2880:f2ff:e5:face:b00c:0:4420',\n",
       " '2600:1417:73:1a5::33f1',\n",
       " '2600:1417:73:186::23ed',\n",
       " '2620:1f7:1111:c42::32:ba',\n",
       " '2600:9000:203c:e200:9:46dc:4700:93a1',\n",
       " '2620:1f7:8b5:1480::1:1ae',\n",
       " '2a02:26f0:e8:2a4::3936',\n",
       " '2620:1f7:1002:c49::31:3b5',\n",
       " '2600:9000:2018:4200:6:44e3:f8c0:93a1',\n",
       " '2600:9000:2075:7800:13:40bf:46c0:21',\n",
       " '2600:9000:200c:f200:2:2f03:34c0:93a1',\n",
       " '2620:1f7:1824:7c40::2:2a8',\n",
       " '2620:1f7:1002:c41::31:251',\n",
       " '2600:9000:212e:3a00:1a:74fd:9900:93a1',\n",
       " '2600:9000:203f:8400:c:3925:f680:93a1',\n",
       " '2607:da00:1000:2:208:82:104:2',\n",
       " '2600:9000:203f:7600:6:5b96:3f00:93a1',\n",
       " '2600:9000:201c:dc00:e:932e:1600:93a1',\n",
       " '2600:1409:d000:2ab::c09',\n",
       " '2620:1f7:2bca:7c41::31:90',\n",
       " '2620:1f7:1163:c41::31:5b',\n",
       " '2600:9000:2057:be00:1a:9e13:5280:93a1',\n",
       " '2620:1f7:8b5:2844::31:ec',\n",
       " '2a04:9dc0:16:605::',\n",
       " '2620:1f7:a15:435::31:36a',\n",
       " '2620:1f7:a1f:1410::31:cc',\n",
       " '2620:1f7:1111:c45::31:91',\n",
       " '2600:9000:200d:8000:d:a332:70c5:88c1',\n",
       " '2600:1419:d000:388::2882',\n",
       " '2a04:9dc0:27::16:8',\n",
       " '2600:9000:2041:6600:8:953b:b740:93a1',\n",
       " '2600:9000:201c:4400:14:3684:7f00:21',\n",
       " '2600:9000:2075:6a00:e:c925:1e89:2f41',\n",
       " '2600:9000:20eb:6200:1d:8c8c:47c0:93a1',\n",
       " '2620:1f7:8b5:2840::31:6f',\n",
       " '2600:9000:2018:5800:19:9934:6a80:93a1',\n",
       " '2600:1417:53:184::f5',\n",
       " '2600:9000:2047:5000:1c:e4f9:b3c0:21',\n",
       " '2620:1f7:a1f:1413::31:1ac',\n",
       " '2600:9000:2010:9800:1e:a43d:b640:93a1',\n",
       " '2620:1f7:10d5:446::31:1db',\n",
       " '2600:9000:2007:b800:15:efbc:e300:93a1',\n",
       " '2600:9000:2098:d200:11:446:2940:93a1',\n",
       " '2600:9000:2116:d600:1b:ba19:3b40:21',\n",
       " '2620:1f7:3b16:c40::31:2ac',\n",
       " '2600:9000:20bb:a400:13:bc7:fc80:93a1',\n",
       " '2600:9000:2041:aa00:a:52eb:a100:93a1',\n",
       " '2800:200:e280:2f3f:5c5d:85be:4866:1ad0',\n",
       " '2600:9000:2001:ee00:10:b43b:a800:93a1',\n",
       " '2a01:e0c:1::25',\n",
       " '2600:9000:2015:1e00:19:9934:6a80:93a1',\n",
       " '2600:9000:2133:e600:11:ae8:5a80:93a1',\n",
       " '2620:1f7:2aa6:842::32:266',\n",
       " '2600:9000:2075:c800:d:3e1:bdc0:93a1',\n",
       " '2001:41d0:8:c6b3::1',\n",
       " '2600:9000:2041:3000:1f:573d:79c0:21',\n",
       " '2600:9000:20be:2200:d:a332:70c5:88c1',\n",
       " '2620:1f7:10dd:415::31:10b',\n",
       " '2600:1fa0:4080:8949:34da:f0c9::',\n",
       " '2001:428:3801:694::2374',\n",
       " '2600:9000:21b3:dc00:3:3f58:f680:93a1',\n",
       " '2a02:26f0:10:2a0::27ae',\n",
       " '2606:4700::6810:1306',\n",
       " '2600:9000:2075:600:15:e34c:e280:93a1',\n",
       " '2600:9000:201c:2800:11:5dca:5e80:93a1',\n",
       " '2606:4700:10::6816:92',\n",
       " '2600:9000:2018:d600:1e:a900:ed00:93a1',\n",
       " '2620:1f7:3808:841::31:1b8',\n",
       " '2600:9000:200f:d800:12:b924:5140:93a1',\n",
       " '2600:9000:2010:b000:1c:4bbb:9180:93a1',\n",
       " '2600:140f:b:19d::143a',\n",
       " '2600:9000:201c:4c00:8:2ae1:d740:93a1',\n",
       " '2600:9000:200d:1400:18:a34c:e500:93a1',\n",
       " '2600:9000:2038:8c00:a:4051:600:93a1',\n",
       " '2620:1f7:3d25:845::31:ce',\n",
       " '2a02:c50:0:1::a:1',\n",
       " '2607:feb0:fffc::ffff:a',\n",
       " '2620:1f7:381f:841::31:3dd',\n",
       " '2620:1f7:28d2:f83::2:b6',\n",
       " '2600:9000:212f:1c00:e:932e:1600:93a1',\n",
       " '2600:9000:20d1:3000:1f:5eea:9700:93a1',\n",
       " '2620:1f7:2bc8:f83::32:8a',\n",
       " '2620:1f7:2a59:848::2:86',\n",
       " '2600:9000:203f:b600:1:616b:6200:93a1',\n",
       " '2a02:26f0:c8:196::1aca',\n",
       " '2600:1415:d800:180::25bb',\n",
       " '2600:9000:20d1:dc00:8:54c8:2c00:93a1',\n",
       " '2600:1f14:e96:5802:bb07:b870:6632:755',\n",
       " '2620:1f7:3932:c42::31:2df',\n",
       " '2600:9000:2131:e000:14:99b7:d500:93a1',\n",
       " '2600:9000:21da:ba00:17:69da:5c80:93a1',\n",
       " '2620:1f7:3941:1043::31:135',\n",
       " '2600:9000:2041:6400:1c:12bf:2780:21',\n",
       " '2001:288:3200::28:50:2',\n",
       " '2001:428:3801:6ad::2313',\n",
       " '2600:9000:2010:7600:18:4532:5280:93a1',\n",
       " '2620:1f7:1188:c01::2:35e',\n",
       " '2620:1f7:10d5:449::31:357',\n",
       " '2a03:90c0:83:2907::e',\n",
       " '2600:9000:2057:a400:3:3f58:f680:93a1',\n",
       " '2620:1f7:10d5:446::31:1a8',\n",
       " '2603:1046:c01:8b0::2',\n",
       " '2620:1f7:10d5:441::32:1d9',\n",
       " '2406:3003:1:5a::2',\n",
       " '2600:9000:212e:ac00:14:3684:7f00:21',\n",
       " '2620:1f7:817:c4f::31:3d6',\n",
       " '2002:45af:11e9::45af:11e9',\n",
       " '2600:9000:2001:4a00:16:eede:5e00:93a1',\n",
       " '2620:1f7:2b06:c45::2:8a',\n",
       " '2001:67c:1bc::102',\n",
       " '2620:1f7:8ff:c43::31:49',\n",
       " '2600:9000:201c:3c00:10:3422:3f00:93a1',\n",
       " '2600:1400:a:480::3ea9',\n",
       " '2600:9000:2048:9200:2:d151:aac0:93a1',\n",
       " '2600:9000:200c:bc00:9:9e4e:1c80:93a1',\n",
       " '2620:1f7:2b06:c42::2:27c',\n",
       " '2600:9000:20be:ac00:16:eede:5e00:93a1',\n",
       " '2804:d59:19be:2700:44d9:4fc0:56b1:6aa',\n",
       " '2620:1f7:292a:1441::2:e8',\n",
       " '2600:9000:2001:1a00:19:2cf2:a900:93a1',\n",
       " '2620:1f7:817:c54::31:2d2',\n",
       " '2600:9000:2047:8a00:12:832a:da00:21',\n",
       " '2600:9000:5305:6100::1',\n",
       " '2800:3f0:4002:16::a',\n",
       " '2600:9000:2098:1000:a:db2a:b380:93a1',\n",
       " '2600:1417:a000:2b7::2a1',\n",
       " '2001:6c8:2:500::52',\n",
       " '2600:9000:200d:d000:4:f9aa:3d40:93a1',\n",
       " '2800:200:f108:3a:f09e:21be:7d79:c9f7',\n",
       " '2001:4b10:100:8::53',\n",
       " '2620:1f7:2dac:415::2:38b',\n",
       " '2620:1f7:2d80:c41::2:263',\n",
       " '2606:4700:10::6814:b64e',\n",
       " '2620:1f7:1188:c04::2:ef',\n",
       " '2600:1407:a000:3bb::25ea',\n",
       " '2620:1f7:a1f:1412::31:3da',\n",
       " '2600:9000:20d1:ba00:1f:5194:3580:93a1',\n",
       " '2620:1f7:2a59:852::2:32f',\n",
       " '2607:f8b0:4000:f::8',\n",
       " '2620:1f7:2ae7:c45::31:a7',\n",
       " '2600:141b:5000:285::2a1',\n",
       " '2600:9000:20bb:ac00:11:c7a2:afc0:93a1',\n",
       " '2620:1f7:3941:104c::31:12c',\n",
       " '2001:41d0:303:ace1::',\n",
       " '2600:9000:2075:8000:1:9cc9:ae80:93a1',\n",
       " '2600:9000:212f:b800:9:74e3:800:93a1',\n",
       " '2600:9000:2079:c00:16:eede:5e00:93a1',\n",
       " '2620:1f7:2b05:c41::32:31',\n",
       " '2600:9000:2057:a600:a:da5e:7900:93a1',\n",
       " '2600:9000:2075:e400:16:eede:5e00:93a1',\n",
       " '2600:9000:200c:2000:e:ec66:e40:93a1',\n",
       " '2600:9000:200d:be00:9:d607:2180:21',\n",
       " '2600:9000:2038:ca00:1e:a43d:b640:93a1',\n",
       " '2620:1f7:10d5:449::31:7e',\n",
       " ...]"
      ]
     },
     "execution_count": 247,
     "metadata": {},
     "output_type": "execute_result"
    }
   ],
   "source": [
    "validIPChk1"
   ]
  },
  {
   "cell_type": "code",
   "execution_count": 250,
   "metadata": {},
   "outputs": [
    {
     "data": {
      "text/plain": [
       "['2600:9000:20d4:6400:1d:e9ba:f480:93a1',\n",
       " '2620:1f7:2b06:c42::2:32d',\n",
       " '2600:9000:21ec:5400:18:1fcd:349:ca21',\n",
       " '2800:810:4d0:3f1:95fc:414a:cdae:109b',\n",
       " '2a02:26f0:4000:1a8::2903',\n",
       " '2001:428:3801:696::e3d',\n",
       " '2620:1f7:298e:105b::32:8',\n",
       " '2600:1404:5800:1::6849:569b',\n",
       " '2600:9000:2133:7200:3:65d8:2640:93a1',\n",
       " '2600:9000:2001:6a00:a:db2a:b380:93a1',\n",
       " '2620:1f7:2aa6:856::32:e4',\n",
       " '2620:1f7:8b5:2847::32:366',\n",
       " '2600:9000:201b:9a00:18:1fcd:349:ca21',\n",
       " '2a01:9840::62:97:32:21',\n",
       " '2620:1f7:2a59:853::2:316',\n",
       " '2600:1404:6800:6aa::297',\n",
       " '2600:9000:2004:e600:1e:49fd:c900:93a1',\n",
       " '2620:1f7:8b5:2842::32:89',\n",
       " '2600:141b:5000:5a9::10f5',\n",
       " '2606:4700:30::681b:8bcd',\n",
       " '2606:4700:20::6819:2b11',\n",
       " '2600:9000:2043:8200:e:a699:8d80:93a1',\n",
       " '2600:9000:2057:6800:4:f9aa:3d40:93a1',\n",
       " '2620:1f7:1111:c43::32:173',\n",
       " '2600:9000:200d:a000:18:1d71:3380:21',\n",
       " '2600:9000:211b:b600:11:af01:b47:c8e1',\n",
       " '2600:9000:20d1:3800:b:e6c7:36c0:93a1',\n",
       " '2600:9000:2047:6e00:9:87b:340:21',\n",
       " '2600:9000:2057:8400:7:b15c:a400:93a1',\n",
       " '2600:1419:1c00:186::1931',\n",
       " '2001:250:6406:6666::6',\n",
       " '2620:1f7:10d5:450::31:233',\n",
       " '2620:1f7:2bc8:f86::32:33b',\n",
       " '2620:1f7:1824:7c43::2:4a',\n",
       " '2804:4f64:ffff:ffff::1',\n",
       " '2620:1f7:2a55:410::1:2c4',\n",
       " '2a00:1450:400e:a::8',\n",
       " '2606:4700:30::681b:a720',\n",
       " '2620:1f7:2b06:c48::2:69',\n",
       " '2620:1f7:2a01:1c11::2:320',\n",
       " '2620:1f7:2b47:410::2:16d',\n",
       " '2804:14c:c681:424:bc56:c8a1:c7d9:b798',\n",
       " '2620:1f7:8b5:285d::31:38',\n",
       " '2620:1f7:2ae7:5a1::1:350',\n",
       " '2a00:1450:400b:7::8',\n",
       " '2806:10a6:16:8a62:f123:d1a3:6d42:cb1e',\n",
       " '2a00:1450:4015:6::14',\n",
       " '2606:4700:20::6819:509',\n",
       " '2620:1f7:1040:c40::32:2c9',\n",
       " '2620:1f7:1163:c43::31:3b2',\n",
       " '2600:1408:8400::173f:f53f',\n",
       " '2620:1f7:1188:c06::1:1e5',\n",
       " '2600:9000:21d5:3c00:6:e959:a300:93a1',\n",
       " '2600:9000:5306:8a00::1',\n",
       " '2600:9000:200d:600:a:da5e:7900:93a1',\n",
       " '2620:1f7:1091:c41::31:35',\n",
       " '2620:1f7:298e:1043::32:19f',\n",
       " '2620:1f7:10d5:444::32:284',\n",
       " '2600:9000:2038:a00:16:cfb1:a0c0:93a1',\n",
       " '2607:f8b0:4005:802::2003',\n",
       " '2620:1f7:8b5:2850::31:35',\n",
       " '2620:1f7:2a5e:416::32:199',\n",
       " '2600:9000:2057:e00:9:46dc:4700:93a1',\n",
       " '2600:9000:2075:fa00:6:eee2:6b00:93a1',\n",
       " '2600:9000:20d1:e000:8:1af9:89c0:93a1',\n",
       " '2620:1f7:28d2:f81::2:82',\n",
       " '2600:9000:21dd:6e00:18:1fcd:349:ca21',\n",
       " '2620:1f7:38c4:1041::31:380',\n",
       " '2606:4700:30::681c:10b9',\n",
       " '2607:f8b0:400a:16::8',\n",
       " '2606:4700::6810:1c56',\n",
       " '2802:8001:56b4:1500:dd21:fe17:f0e0:44e5',\n",
       " '2600:9000:2001:9000:11:6b0f:5ec0:93a1',\n",
       " '2402:8100:385d:8132:1:1:ec2:3d1e',\n",
       " '2620:1f7:8b5:2843::32:28',\n",
       " '2620:1f7:1188:c06::2:bb',\n",
       " '2600:9000:203f:de00:1c:58a3:4780:93a1',\n",
       " '2600:9000:200c:1a00:7:b15c:a400:93a1',\n",
       " '2600:9000:200f:6a00:1e:a8e:7300:93a1',\n",
       " '2600:9000:2001:9600:1d:33b1:1480:21',\n",
       " '2620:1f7:1188:c02::1:3b0',\n",
       " '2620:1f7:1183:1003::32:2d',\n",
       " '2600:1417:8000:3af::3272',\n",
       " '2606:4700:30::6812:3a10',\n",
       " '2600:9000:20d1:b400:18:b64e:17c0:93a1',\n",
       " '2001:b400:e26e:dc3:b159:e2ab:cab6:33d0',\n",
       " '2603:1027:0:89::46',\n",
       " '2600:9000:2075:ee00:8:246e:d40:93a1',\n",
       " '2a04:3540:1000:310:54b9:a2ff:fe8e:4596',\n",
       " '2620:1f7:28d2:f80::2:1cc',\n",
       " '2600:1419:6000:180::29a7',\n",
       " '2607:f8b0:4002:3f::6',\n",
       " '2600:9000:2001:1800:9:46dc:4700:93a1',\n",
       " '2600:9000:21ec:7800:16:b074:c980:93a1',\n",
       " '2620:1f7:3808:840::31:f6',\n",
       " '2a02:26f0:e8:28d::356e',\n",
       " '2620:1f7:807:c41::31:85',\n",
       " '2620:1f7:3d16:1047::31:40',\n",
       " '2620:1f7:1002:c47::32:1c',\n",
       " '2600:9000:2015:ec00:19:9934:6a80:93a1',\n",
       " '2620:1f7:3d3c:c46::31:3eb',\n",
       " '2804:1bc:f046:1fa::1001',\n",
       " '2620:1f7:10d5:44c::31:67',\n",
       " '2600:9000:21ec:ea00:18:1fcd:349:ca21',\n",
       " '2600:9000:201b:c200:9:46dc:4700:93a1',\n",
       " '2600:9000:2008:1c00:d:a332:70c5:88c1',\n",
       " '2600:9000:20d4:7800:9:1c57:8000:21',\n",
       " '2620:1f7:2b05:c46::32:150',\n",
       " '2600:9000:200c:8c00:e:ec66:e40:93a1',\n",
       " '2620:1f7:2a59:842::2:24c',\n",
       " '2620:1f7:2aa6:870::32:184',\n",
       " '2001:4b98:aaab::2f',\n",
       " '2800:3f0:4001:6::8',\n",
       " '2600:9000:2025:6600:10:3798:4a80:93a1',\n",
       " '2600:9000:2075:7a00:c:526c:6e40:93a1',\n",
       " '2620:1f7:38e4:1443::31:74',\n",
       " '2600:9000:5300:ae00::1',\n",
       " '2620:1f7:3d16:1045::31:1ee',\n",
       " '2600:9000:201b:7800:13:9d43:b600:93a1',\n",
       " '2a01:cb05:83ac:a800:b403:af86:3d12:da09',\n",
       " '2600:9000:2043:cc00:11:f728:3040:93a1',\n",
       " '2600:9000:2075:9000:f:5c67:cec0:93a1',\n",
       " '2600:9000:203f:9c00:0:ee2:240:93a1',\n",
       " '2600:9000:2038:1600:d:3e1:bdc0:93a1',\n",
       " '2600:9000:21b3:5600:1a:9e13:5280:93a1',\n",
       " '2600:9000:201c:4000:11:c4f7:a840:93a1',\n",
       " '2600:1402:f000::173f:faa3',\n",
       " '2620:1f7:28d3:410::2:317',\n",
       " '2a04:4e42::589',\n",
       " '2600:9000:200c:5200:e:3706:bd00:93a1',\n",
       " '2620:1f7:38e5:840::31:c',\n",
       " '2600:9000:2001:aa00:19:597a:e108:c5a1',\n",
       " '2606:4700::6810:4fa5',\n",
       " '2600:1417:5a:282::162e',\n",
       " '2600:9000:20be:8000:16:eede:5e00:93a1',\n",
       " '2001:470:7655::53',\n",
       " '2620:1f7:8b5:2844::32:8',\n",
       " '2600:9000:2048:f200:5:97fb:2e00:21',\n",
       " '2600:9000:212e:b200:1a:26e9:d080:21',\n",
       " '2607:fea8:31a0:11e:9435:f4c0:c54d:45e6',\n",
       " '2620:1f7:1040:c45::32:2ba',\n",
       " '2620:1f7:8b5:284c::31:1bf',\n",
       " '2001:418:4001:9::c6ac:5841',\n",
       " '2600:9000:2007:6c00:e:3dc6:e680:93a1',\n",
       " '2804:10:c022::2',\n",
       " '2600:9000:21ec:5200:d:274d:a6c0:93a1',\n",
       " '2620:1f7:2b05:611::2:51',\n",
       " '2606:4700::6813:9179',\n",
       " '2620:1f7:298e:1056::32:147',\n",
       " '2600:9000:21b3:da00:5:ae3a:ba00:93a1',\n",
       " '2600:1419:1c00:380::11ba',\n",
       " '2600:9000:200d:0:4:164e:ca00:93a1',\n",
       " '2a04:680::5:83:56:56',\n",
       " '2600:9000:2041:800:1:af78:4c0:93a1',\n",
       " '2600:9000:2075:ae00:7:d647:db00:93a1',\n",
       " '2600:9000:200c:c200:9:1c57:8000:21',\n",
       " '2600:9000:21f3:6a00:c:1c93:4a80:93a1',\n",
       " '2600:9000:2018:a800:d:274d:a6c0:93a1',\n",
       " '2600:1417:3:199::365a',\n",
       " '2620:108:700f::3645:f643',\n",
       " '2600:9000:2041:3000:2:42d9:3100:93a1',\n",
       " '2a00:86c0:1054:1054::136',\n",
       " '2001:558:fe1a:f::2',\n",
       " '2600:9000:201f:5a00:6:44e3:f8c0:93a1',\n",
       " '2606:4700:30::6812:3a78',\n",
       " '2620:1f7:2bca:7c41::31:33',\n",
       " '2a0b:e42:1::31',\n",
       " '2600:9000:21d5:5e00:1c:9a32:9200:93a1',\n",
       " '2600:9000:212e:9200:15:5386:a040:93a1',\n",
       " '2620:1f7:1002:c44::31:5d',\n",
       " '2a02:c7d:4a5b:b400:59fb:a8e5:7391:af2',\n",
       " '2001:41d0:8:1959::1',\n",
       " '2606:4700:20::6819:6f15',\n",
       " '2600:9000:203c:1c00:18:1fcd:349:ca21',\n",
       " '2620:1f7:2bc8:f81::32:2ba',\n",
       " '2001:288:3005:1::11',\n",
       " '2600:9000:2075:cc00:7:424c:9240:93a1',\n",
       " '2600:9000:203f:1400:16:cfb1:a0c0:93a1',\n",
       " '2001:fb0:1084::2',\n",
       " '2603:1036:102:b8::8',\n",
       " '2620:1f7:1111:c42::31:11e',\n",
       " '2600:9000:21f3:3200:1e:a43d:b640:93a1',\n",
       " '2600:9000:201c:2400:13:a05d:740:93a1',\n",
       " '2606:4700::6812:9c32',\n",
       " '2600:9000:2133:1a00:4:164e:ca00:93a1',\n",
       " '2600:9000:20d1:4e00:1e:49fd:c900:93a1',\n",
       " '2600:9000:2041:5800:1:a3fa:7cc0:93a1',\n",
       " '2600:9000:2007:1000:10:3422:3f00:21',\n",
       " '2a03:b0c0:3:d0::92:3001',\n",
       " '2600:9000:2015:3200:12:94b3:c380:93a1',\n",
       " '2620:1f7:1040:c43::32:3a2',\n",
       " '2600:9000:21b3:6800:6:e959:a300:93a1',\n",
       " '2600:9000:200f:2600:4:ebe0:a540:21',\n",
       " '2001:56a:71f4:5e00:50a9:dee:55e4:1f57',\n",
       " '2600:9000:2075:5800:0:b320:6a80:93a1',\n",
       " '2406:da00:ff00::35d:7e06',\n",
       " '2600:9000:2116:5a00:15:c34b:98c0:93a1',\n",
       " '2600:9000:2038:ec00:2:42d9:3100:93a1',\n",
       " '2606:4700:20::6819:965',\n",
       " '2620:1f7:298e:1042::32:166',\n",
       " '2620:1f7:298e:1044::32:84',\n",
       " '2600:9000:20bb:1c00:1:d89a:aa80:93a1',\n",
       " '2600:9000:20d1:9a00:16:d13:cec0:93a1',\n",
       " '2600:9000:20d1:3000:d:6bc4:efc0:93a1',\n",
       " '2a05:d050:8050:649:34da:604b::',\n",
       " '2600:9000:211b:1800:1d:855e:5400:93a1',\n",
       " '2620:1f7:1188:c05::1:d0',\n",
       " '2804:564:2::1',\n",
       " '2600:9000:2075:3000:a:db2a:b380:93a1',\n",
       " '2a01:238:20b:43:6653::501',\n",
       " '2600:9000:21f3:ca00:0:9c8:b80:93a1',\n",
       " '2600:9000:21a8:de00:a:db2a:b380:93a1',\n",
       " '2600:9000:2078:3c00:1f:9b5b:e8c0:93a1',\n",
       " '2620:1f7:8b5:285f::32:349',\n",
       " '2620:1f7:817:c4f::31:fd',\n",
       " '2600:9000:20d1:200:10:bd33:a8c0:21',\n",
       " '2620:1f7:1111:c45::31:178',\n",
       " '2600:9000:21ec:6000:15:efbc:e300:93a1',\n",
       " '2600:9000:20c7:8c00:18:4532:5280:93a1',\n",
       " '2600:9000:2075:3c00:13:9d43:b600:93a1',\n",
       " '2620:1f7:298e:104c::32:378',\n",
       " '2620:122:a000:ffff::53:2',\n",
       " '2600:9000:2007:5200:17:39dd:b240:93a1',\n",
       " '2002:c9ba:b8e4::c9ba:b8e4',\n",
       " '2600:9000:2075:ca00:14:6bfc:5740:93a1',\n",
       " '2800:3f0:4004:800::2002',\n",
       " '2620:1f7:2bc4:455::32:9f',\n",
       " '2600:9000:201b:2a00:11:f728:3040:93a1',\n",
       " '2606:4700:30::681b:9445',\n",
       " '2600:1407:4:f000:81a::',\n",
       " '2a02:2f09:320a:7c00:3519:8036:3839:1af6',\n",
       " '2600:9000:201f:1400:3:db06:4200:93a1',\n",
       " '2600:9000:200d:6000:e:5581:7340:93a1',\n",
       " '2402:3a80:c002:13:face:b00c:3333:a3f',\n",
       " '2600:1488:a100:103::b',\n",
       " '2600:9000:212f:de00:12:2282:9980:93a1',\n",
       " '2600:9000:200c:6000:17:d591:65c0:93a1',\n",
       " '2600:9000:20d1:e600:d:6bc4:efc0:93a1',\n",
       " '2600:9000:203f:8600:13:b800:6240:93a1',\n",
       " '2001:559:19:af::3de6',\n",
       " '2606:4700:30::681c:1506',\n",
       " '2600:9000:2079:6600:3:db06:4200:93a1',\n",
       " '2620:1f7:2a01:1c21::2:13',\n",
       " '2a02:26f0:fe:287::4106',\n",
       " '2605:e000:3507:6a00:35f7:8a32:cc35:a65e',\n",
       " '2620:1f7:298e:105c::32:19',\n",
       " '2600:9000:20bb:1e00:2:42d9:3100:93a1',\n",
       " '2600:9000:2133:4200:19:d208:7947:c8e1',\n",
       " '2600:9000:2002:9000:12:c12e:4e80:93a1',\n",
       " '2600:9000:2001:e800:e:5581:7340:93a1',\n",
       " '2a02:26f0:e8:49e::720',\n",
       " '2620:1f7:8b5:2845::31:2c9',\n",
       " '2620:1f7:2b06:c44::2:2af',\n",
       " '2620:1f7:2bc8:f82::32:318',\n",
       " '2600:9000:2057:9000:3:cbeb:d580:21',\n",
       " '2600:9000:2098:a600:a:db2a:b380:93a1',\n",
       " '2620:1f7:28d2:f85::2:165',\n",
       " '2600:9000:200d:4a00:5:b7cc:d3c0:93a1',\n",
       " '2620:1f7:807:c43::31:374',\n",
       " '2600:1400:11:186::3134',\n",
       " '2620:1f7:3d3c:c47::31:87',\n",
       " '2620:1f7:3d25:840::31:bb',\n",
       " '2404:6800:4007:80a::2006',\n",
       " '2620:1f7:1163:520::2:126',\n",
       " '2620:1f7:1111:c43::32:59',\n",
       " '2620:1f7:8b5:284a::31:141',\n",
       " '2603:1027:0:82::20',\n",
       " '2600:9000:201b:7c00:10:3422:3f00:93a1',\n",
       " '2620:1f7:8ff:c42::31:3a4',\n",
       " '2600:9000:201c:3000:f:ba65:c680:21',\n",
       " '2600:9000:21ec:3a00:e:5a70:ca47:86e1',\n",
       " '2606:4700:20::6819:c113',\n",
       " '2620:1f7:1188:c02::1:108',\n",
       " '2601:197:4400:638b:b272:bfff:fe6a:6973',\n",
       " '2600:9000:203f:4200:12:a82:2ec0:93a1',\n",
       " '2800:3f0:4001:817::2016',\n",
       " '2401:2500:102:1115:133:242:189:38',\n",
       " '2001:67c:2bf8:ace6::8',\n",
       " '2600:9000:2075:6000:3:f2f4:8f80:93a1',\n",
       " '2600:1419:6000:189::116',\n",
       " '2600:9000:2010:e000:14:146d:7107:bc81',\n",
       " '2620:1f7:3d25:848::31:1c9',\n",
       " '2620:1f7:10d5:445::32:2f',\n",
       " '2604:2000:1280:c023:4cf4:b3d9:7509:918f',\n",
       " '2600:9000:20eb:4c00:11:ba7:69c0:93a1',\n",
       " '2607:fb90:c13e:fff0:4aa3:af08:0:aaaa',\n",
       " '2a02:26f0:e8:4a0::25bb',\n",
       " '2804:14c:5f88:80f8:ad72:425a:f749:a52',\n",
       " '2600:9000:2002:6000:19:38bf:c640:93a1',\n",
       " '2620:1f7:2a59:84b::2:305',\n",
       " '2620:1f7:2bc8:411::2:37',\n",
       " '2600:9000:2041:9e00:a:503b:26c5:7541',\n",
       " '2600:9000:201b:4000:18:1fcd:348:2461',\n",
       " '2620:1f7:1163:4e0::2:1d4',\n",
       " '2620:1f7:1002:c43::31:24e',\n",
       " '2600:9000:211b:4800:1e:7bbf:4c80:21',\n",
       " '2620:1f7:8b5:2848::31:107',\n",
       " '2600:9000:201b:6c00:8:2ae1:d740:93a1',\n",
       " '2600:9000:203f:2800:18:1fcd:349:ca21',\n",
       " '2620:1f7:8b5:2842::32:c1',\n",
       " '2804:4228::7',\n",
       " '2620:1f7:2b47:415::32:1c8',\n",
       " '2620:1f7:3d16:104e::31:a3',\n",
       " '2620:1f7:1163:c47::32:30',\n",
       " '2620:1f7:2bc8:f87::32:152',\n",
       " '2600:9000:2075:3e00:4:ead7:d140:93a1',\n",
       " '2600:9000:200d:fa00:14:af85:1fc0:93a1',\n",
       " '2620:1f7:916:420::2:df',\n",
       " '2600:9000:2002:b400:5:ae3a:ba00:93a1',\n",
       " '2600:9000:2001:2200:1:9fd8:e600:21',\n",
       " '2600:9000:2057:6800:9:46dc:4700:93a1',\n",
       " '2600:141b:5000:3ad::3134',\n",
       " '2600:9000:212e:6000:9:46dc:4700:93a1',\n",
       " '2606:4700:30::681c:d21',\n",
       " '2620:1ec:8ec::6',\n",
       " '2620:1f7:10d5:449::31:194',\n",
       " '2620:1f7:3d01:184f::1:2a7',\n",
       " '2600:1fa0:4080:791:34da:c4b9::',\n",
       " '2620:1f7:10d5:442::32:da',\n",
       " '2620:1f7:2a5e:415::32:1ed',\n",
       " '2620:1f7:8b5:2846::32:1bf',\n",
       " '2600:9000:20eb:2000:19:597a:e108:c5a1',\n",
       " '2620:1f7:817:c63::1:35',\n",
       " '2600:9000:201b:f000:1a:13d:20c0:93a1',\n",
       " '2600:9000:2041:c000:7:45d5:5280:93a1',\n",
       " '2604:2000:22c6:f801:3c99:f0a9:f830:1776',\n",
       " '2600:9000:2057:2400:16:9fc9:7140:93a1',\n",
       " '2001:4b78:1001::90a',\n",
       " '2001:b00:4:8:3::',\n",
       " '2620:1f7:890:4c06::31:14',\n",
       " '2620:1f7:890:4900::1:2',\n",
       " '2620:1f7:28d2:f86::2:3b',\n",
       " '2601:81:4102:e446:24b8:1db1:f0ed:381e',\n",
       " '2800:810:516:95d9::1',\n",
       " '2600:9000:21f2:9e00:10:da37:eb00:21',\n",
       " '2600:9000:2043:6e00:6:44e3:f8c0:93a1',\n",
       " '2600:9000:2002:be00:9:a5e6:56c0:93a1',\n",
       " '2800:350:101:a:face:b00c:3333:a3f',\n",
       " '2804:431:f708:47f:e92b:5e2c:ace2:d243',\n",
       " '2600:9000:20d1:b800:1f:7e75:5340:93a1',\n",
       " '2600:9000:20bb:9400:1b:45dc:7080:93a1',\n",
       " '2600:9000:20bb:c400:1e:49fd:c900:93a1',\n",
       " '2600:9000:200c:8a00:1c:6cbe:2a40:93a1',\n",
       " '2a02:26f0:7b:89d::2882',\n",
       " '2600:140f:4:788::6bb',\n",
       " '2600:9000:203f:9c00:9:e42d:cc80:93a1',\n",
       " '2600:9000:2038:a600:18:f6ef:6ac0:93a1',\n",
       " '2600:9000:2098:dc00:9:6b96:2cc0:93a1',\n",
       " '2600:9000:20bb:2400:0:5cf9:5b80:93a1',\n",
       " '2600:9000:2002:7c00:2:42d9:3100:93a1',\n",
       " '2600:9000:2075:3e00:3:59a3:1dc0:93a1',\n",
       " '2620:1f7:3d0f:1100::1:3b2',\n",
       " '2603:1026:301:56::8',\n",
       " '2001:428:4408:19a::4346',\n",
       " '2600:9000:203f:ca00:1c:58a3:4780:93a1',\n",
       " '2620:1f7:8b5:285b::31:157',\n",
       " '2404:6800:4007:807::2001',\n",
       " '2806:109f:16:140:a0ef:4c9a:981e:796f',\n",
       " '2406:da00:ff00::22ec:caaf',\n",
       " '2600:9000:2010:fa00:17:69da:5c80:93a1',\n",
       " '2600:9000:203f:7000:10:21f5:8c80:93a1',\n",
       " '2600:9000:200d:c00:5:3cc0:9e40:93a1',\n",
       " '2600:9000:2075:e000:10:46f9:4700:93a1',\n",
       " '2600:9000:203f:7c00:3:9e90:f780:93a1',\n",
       " '2620:1f7:38c4:104e::31:17f',\n",
       " '2620:1f7:292a:1451::2:30b',\n",
       " '2803:b9c0:9bc5:6818:802e:3d1f:1199:a28e',\n",
       " '2620:1f7:10d5:44a::31:5f',\n",
       " '2620:1f7:10d5:44f::31:1a',\n",
       " '2600:9000:212e:b200:18:1fcd:349:ca21',\n",
       " '2405:6583:4080:5800:18e2:43e0:1d9:dfba',\n",
       " '2600:9000:203c:f000:15:de5c:5bc0:21',\n",
       " '2600:9000:2133:5600:1:a6b2:61c0:21',\n",
       " '2620:1f7:8ff:c43::31:196',\n",
       " '2600:9000:2001:a800:1e:70aa:55c0:21',\n",
       " '2620:1f7:2991:5442::32:293',\n",
       " '2600:9000:200d:4600:1:af78:4c0:93a1',\n",
       " '2408:8214:2731:2350:222:6dff:fe62:a23b',\n",
       " '2620:1f7:8b5:2842::31:3f',\n",
       " '2600:9000:2116:2000:18:d413:6940:93a1',\n",
       " '2620:1f7:2aa6:856::32:378',\n",
       " '2620:1f7:853:a001:4d1:347:5f4c:9962',\n",
       " '2607:f8b0:4001:c01::64',\n",
       " '2600:9000:2010:b000:1:8f9f:b6c0:93a1',\n",
       " '2600:9000:21b3:e600:11:f728:3040:93a1',\n",
       " '2620:1f7:2a59:84b::2:6c',\n",
       " '2600:9000:20be:1e00:12:c12e:4e80:93a1',\n",
       " '2606:4700::6811:aeb',\n",
       " '2600:9000:21dd:f200:19:a49e:1b80:93a1',\n",
       " '2620:1f7:2b06:c47::2:1a2',\n",
       " '2620:1f7:1183:1004::31:170',\n",
       " '2600:9000:200d:cc00:1b:8fb3:fac0:21',\n",
       " '2600:9000:21f2:5200:a:6e64:b280:93a1',\n",
       " '2620:1f7:8c5:850::1:356',\n",
       " '2600:9000:200f:c00:6:5b96:3f00:93a1',\n",
       " '2600:1fa0:4040:390:34da:9041::',\n",
       " '2600:9000:203c:2c00:1b:da56:c940:21',\n",
       " '2600:9000:2075:4000:c:3925:f680:93a1',\n",
       " '2620:1f7:8b5:284f::31:3c6',\n",
       " '2620:1f7:8ff:c43::31:f',\n",
       " '2600:9000:21f3:5600:19:9934:6a80:93a1',\n",
       " '2620:1f7:2bc3:c42:599f:43e4:7847:16ce',\n",
       " '2620:1f7:905:415::31:17f',\n",
       " '2600:9000:2010:5000:9:46dc:4700:93a1',\n",
       " '2600:9000:2048:c200:f:8bf4:6380:93a1',\n",
       " '2600:9000:212f:f000:15:efbc:e300:93a1',\n",
       " '2600:9000:21f2:f200:1c:12bf:2780:21',\n",
       " '2600:1fa0:4040:711:34da:cc59::',\n",
       " '2600:141b:4::48f7:97b',\n",
       " '2600:9000:219c:cc00:11:af01:b47:c8e1',\n",
       " '2606:4700:30::6812:3a88',\n",
       " '2600:9000:200c:c00:0:93e4:a640:93a1',\n",
       " '2620:1f7:8b5:285f::32:3f9',\n",
       " '2620:1f7:2bc4:456::32:ad',\n",
       " '2600:9000:200f:8800:12:a82:2ec0:93a1',\n",
       " '2620:1f7:2aa6:864::32:30',\n",
       " '2800:810:494:8f2f:844:bda9:5193:c275',\n",
       " '2620:1f7:1188:c05::1:60',\n",
       " '2001:500:90:1::34',\n",
       " '2001:628:2270:49::12',\n",
       " '2600:9000:2116:de00:a:6e64:b280:93a1',\n",
       " '2620:1f7:905:415::32:2f6',\n",
       " '2600:9000:21b3:e800:18:5a62:d500:21',\n",
       " '2001:41a8:26:195::2a1',\n",
       " '2600:9000:201a:ac00:9:46dc:4700:93a1',\n",
       " '2a02:26f0:41:687::ecd',\n",
       " '2620:1f7:3900:c44::31:9b',\n",
       " '2600:9000:200d:200:1c:12bf:2780:21',\n",
       " '2400:cb00:2049:1::a29f:112',\n",
       " '2600:9000:20d1:7400:1f:4435:d540:93a1',\n",
       " '2600:9000:21f3:200:8:331a:2800:21',\n",
       " '2620:1f7:8b5:285c::31:165',\n",
       " '2620:1f7:10d5:444::31:50',\n",
       " '2600:9000:2134:b000:1f:e2ee:200:93a1',\n",
       " '2600:9000:200c:1e00:18:20b1:dc40:93a1',\n",
       " '2600:9000:2075:f400:18:d1e2:300:21',\n",
       " '2600:9000:2025:4400:11:d7e7:6580:93a1',\n",
       " '2600:9000:2015:9000:f:27ac:f2c0:21',\n",
       " '2a00:1450:4007:2b::6',\n",
       " '2620:1f7:2b47:415::32:388',\n",
       " '2600:9000:20d4:b000:16:eede:5e00:93a1',\n",
       " '2a00:1450:4007:80c::2001',\n",
       " '2600:1407:2800:398::753',\n",
       " '2620:1f7:38e4:144d::31:20b',\n",
       " '2600:1f18:506:97a0:9b15:ef90:457a:d4ab',\n",
       " '2a01:4f8:231:1592::2',\n",
       " '2600:9000:21d5:3c00:10:557c:b549:4e21',\n",
       " '2620:1f7:8b5:1480::1:2a0',\n",
       " '2600:9000:2038:c00:11:f728:3040:93a1',\n",
       " '2620:1f7:1002:c43::31:cc',\n",
       " '2620:1f7:1163:c46::31:3f0',\n",
       " '2620:1f7:1002:480::2:18a',\n",
       " '2600:9000:2010:e00:e:cdf0:6e80:93a1',\n",
       " '2600:9000:21d5:2a00:1d:f12a:7740:93a1',\n",
       " '2600:9000:21f3:b600:6:44e3:f8c0:93a1',\n",
       " '2600:9000:2001:ec00:10:b43b:a800:93a1',\n",
       " '2620:1f7:8b5:2844::32:1ec',\n",
       " '2600:9000:2018:2e00:a:db2a:b380:93a1',\n",
       " '2606:4700:e6::ac40:c926',\n",
       " '2600:9000:2038:d600:18:e253:91c0:21',\n",
       " '2600:9000:2038:d400:1d:a0b:eb00:93a1',\n",
       " '2620:1f7:3d01:1840::1:251',\n",
       " '2600:9000:20eb:2200:1c:e4f9:b3c0:21',\n",
       " '2600:9000:21a8:2a00:e:d71d:4400:93a1',\n",
       " '2600:9000:2075:9800:18:2740:1380:93a1',\n",
       " '2620:1f7:1163:c47::31:286',\n",
       " '2600:1400:d:488::2c79',\n",
       " '2620:1f7:1163:c46::31:e4',\n",
       " '2600:9000:21d5:d200:14:816b:3900:93a1',\n",
       " '2601:183:102:5e50:550f:1531:4ab1:f45e',\n",
       " '2600:9000:2047:b400:1:a3fa:7cc0:93a1',\n",
       " '2620:1f7:38c4:1050::31:1fa',\n",
       " '2a02:26f0:e8:498::11e2',\n",
       " '2600:141e:2::6010:c54',\n",
       " '2600:9000:2047:6000:9:46dc:4700:93a1',\n",
       " '2620:1f7:a1f:1417::31:35',\n",
       " '2600:9000:2048:5400:18:7b00:75c0:93a1',\n",
       " '2620:1f7:8b5:2843::31:55',\n",
       " '2405:b000:e00:285::21:37',\n",
       " '2600:9000:20d2:7600:15:77aa:5e80:93a1',\n",
       " '2600:9000:201f:8200:16:eede:5e00:93a1',\n",
       " '2620:1f7:1002:c47::31:a4',\n",
       " '2620:1f7:8b5:2851::32:c9',\n",
       " '2600:1407:4:f000:81c:c223:e242:ac1b',\n",
       " '2600:9000:2015:8800:5:5365:52c0:21',\n",
       " '2620:1f7:8b5:284f::31:32d',\n",
       " '2620:1f7:298e:1047::32:1d',\n",
       " '2600:9000:2075:ac00:5:3aaa:f40:93a1',\n",
       " '2620:1f7:3d25:841::31:3fa',\n",
       " '2401:4900:2ee4:fb1e:5b83:bfc9:1652:c6d1',\n",
       " '2620:1f7:298e:1045::32:1dc',\n",
       " '2a03:32c0:8:4000:face:b00c:3333:a3f',\n",
       " '2600:9000:20d4:5e00:6:e959:a300:93a1',\n",
       " '2620:1f7:2a59:840::2:b9',\n",
       " '2620:1f7:8b5:2840::31:157',\n",
       " '2600:9000:20be:b200:1:a3fa:7cc0:93a1',\n",
       " '2600:1f1c:c01:3102:43ba:5199:ab58:3b61',\n",
       " '2606:4700:30::681c:249',\n",
       " '2600:9000:201b:ac00:17:69da:5c80:93a1',\n",
       " '2600:9000:202f:6e00:e:3dc6:e680:93a1',\n",
       " '2606:4700:30::681b:ae7a',\n",
       " '2001:41d0:303:8a3b::',\n",
       " '2620:1f7:298e:3cb1::2:31c',\n",
       " '2600:9000:20d1:3e00:13:386b:2340:93a1',\n",
       " '2600:9000:2018:2600:4:56e3:6bc0:93a1',\n",
       " '2607:f8b0:400d:c08::6d',\n",
       " '2600:9000:201c:be00:6:e959:a300:93a1',\n",
       " '2600:9000:20eb:9200:19:2815:3dc0:21',\n",
       " '2600:1415:11:4a3::cbc',\n",
       " '2620:1f7:8b5:285b::31:ed',\n",
       " '2600:9000:201c:c800:6:9eb2:5cc0:93a1',\n",
       " '2600:9000:2134:4200:1e:49fd:c900:93a1',\n",
       " '2806:2f0:501f:1::e',\n",
       " '2a00:1450:400f:806::200a',\n",
       " '2001:1900:2308:1f07::1fe',\n",
       " '2600:1f16:e2:8105:d637:e94a:ae76:c09c',\n",
       " '2600:9000:203f:400:d:3e1:bdc0:93a1',\n",
       " '2607:fea8:4d1f:ebaa:750e:6947:1505:e6ae',\n",
       " '2600:1417:8000:49b::162e',\n",
       " '2620:1f7:1040:c41::31:141',\n",
       " '2600:9000:2025:e200:1:19b5:740:93a1',\n",
       " '2600:9000:2001:b400:16:a653:8f80:93a1',\n",
       " '2600:9000:2001:3400:11:ba49:8140:93a1',\n",
       " '2607:f8b0:4007:2f::7',\n",
       " '2800:310:10:9::2',\n",
       " '2620:1f7:8b5:1480::1:3a4',\n",
       " '2600:9000:20d1:a000:11:f728:3040:93a1',\n",
       " '2600:9000:2041:4600:c:1c93:4a80:93a1',\n",
       " '2405:204:63af:2306::1212:a0ac',\n",
       " '2620:1f7:8b5:284f::32:74',\n",
       " '2620:1f7:3d16:930::1:2a1',\n",
       " '2620:1f7:2ae7:c44::31:4',\n",
       " '2620:1f7:8b5:2854::31:3c6',\n",
       " '2001:8a0:f255:d600:3951:fcfa:cd73:3e2f',\n",
       " '2600:9000:21f3:5200:16:eede:5e00:93a1',\n",
       " '2600:9000:200c:4800:1d:b016:1bc0:93a1',\n",
       " '2620:1f7:8b5:2860::32:29f',\n",
       " '2620:1f7:916:c40::31:9',\n",
       " '2600:9000:20be:4400:1:a3fa:7cc0:93a1',\n",
       " '2606:4700:30::6818:7b5c',\n",
       " '2600:9000:2041:7600:2:4718:d040:93a1',\n",
       " '2600:9000:20d1:3c00:5:6208:3500:93a1',\n",
       " '2600:9000:2038:8c00:5:83ea:ba80:93a1',\n",
       " '2001:428:3801:680::3a7c',\n",
       " '2600:1419:d000:39d::3114',\n",
       " '2600:9000:2041:6c00:18:7b00:75c0:93a1',\n",
       " '2620:1f7:1002:410::1:21',\n",
       " '2620:1f7:1002:c43::31:277',\n",
       " '2001:418:1446:192::2903',\n",
       " '2600:9000:21b3:7000:1:af78:4c0:93a1',\n",
       " '2620:1f7:298e:3cb0::2:3fb',\n",
       " '2600:9000:21b3:f200:3:db06:4200:93a1',\n",
       " '2620:1f7:a1f:1416::31:94',\n",
       " '2620:1f7:2b47:415::32:170',\n",
       " '2620:1f7:381f:841::31:2d9',\n",
       " '2001:470:1f09:885::2',\n",
       " '2620:1f7:8b5:284a::32:1ce',\n",
       " '2620:1f7:2880:411::2:2c',\n",
       " '2600:9000:200c:ae00:b:f730:9800:93a1',\n",
       " '2620:1f7:8b5:2857::31:e2',\n",
       " '2606:4700:e6::ac40:ce1c',\n",
       " '2620:1f7:3d01:1844::1:37b',\n",
       " '2403:300:a41:70c::b',\n",
       " '2600:9000:20bb:a200:1e:9742:1680:21',\n",
       " '2600:9000:2047:ca00:16:eede:5e00:93a1',\n",
       " '2600:9000:21d5:2e00:1:a3fa:7cc0:93a1',\n",
       " '2620:1f7:3943:410::1:3b1',\n",
       " '2600:9000:2075:b000:f:8ce2:fb80:93a1',\n",
       " '2600:9000:20eb:f200:1e:a43d:b640:93a1',\n",
       " '2600:9000:21ec:e400:2:a76b:1ac0:21',\n",
       " '2620:1f7:1188:c03::1:c8',\n",
       " '2600:9000:2043:3200:d:7168:55c0:93a1',\n",
       " '2600:1417:b000:399::64fd',\n",
       " '2600:9000:200d:7c00:17:69da:5c80:93a1',\n",
       " '2600:9000:2075:4400:0:98b3:bbc0:93a1',\n",
       " '2600:9000:21f2:9a00:12:16f:ca40:93a1',\n",
       " '2601:2c7:980:1e76:f18f:b596:c56a:8100',\n",
       " '2600:9000:20eb:5c00:6:eb12:22c0:93a1',\n",
       " '2600:1407:2800:390::441d',\n",
       " '2600:9000:200f:7c00:c:c74f:4f40:21',\n",
       " '2600:9000:2075:ce00:1:572a:5380:21',\n",
       " '2a05:d018:2c6:7901:129c:908c:f4f4:96fa',\n",
       " '2600:9000:211b:ee00:1:a3fa:7cc0:93a1',\n",
       " '2600:9000:21d5:2a00:d:2820:3bc0:93a1',\n",
       " '2600:9000:21f2:c000:18:e253:91c0:21',\n",
       " '2600:9000:2010:3400:1c:58a3:4780:93a1',\n",
       " '2606:4700:30::681b:8b1d',\n",
       " '2001:8d8:fe:53:0:d9a0:5251:100',\n",
       " '2600:9000:203f:8200:1c:cf34:6800:21',\n",
       " '2600:9000:2004:fa00:18:1fcd:349:ca21',\n",
       " '2600:9000:2075:dc00:f:8ce2:fb80:93a1',\n",
       " '2600:9000:21b4:d400:18:1fcd:349:ca21',\n",
       " '2600:9000:212f:2c00:14:c68f:c40:93a1',\n",
       " '2600:9000:200c:d000:1f:361:cd80:93a1',\n",
       " '2606:4700:20::6819:cf17',\n",
       " '2a02:568:20:1::d',\n",
       " '2620:1f7:3d21:480::1:260',\n",
       " '2607:f1c0:100f:f000::269',\n",
       " '2620:1f7:10d5:453::31:110',\n",
       " '2a02:26f0:c800:19a::2a1',\n",
       " '2600:9000:2041:d800:10:fca9:d440:93a1',\n",
       " '2600:9000:2075:fa00:1b:eb6a:fbc0:93a1',\n",
       " '2600:9000:201b:cc00:10:3422:3f00:93a1',\n",
       " '2401:7400:6002:829d:9ad:cd4a:d9dd:d6b8',\n",
       " '2606:a000:8b4a:a200:119c:c8ea:9730:1d0a',\n",
       " '2620:1f7:8b5:2841::32:7a',\n",
       " '2620:1f7:817:c52::31:1c',\n",
       " '2620:0:1074:2:e6a4:71ff:fe85:2c58',\n",
       " '2600:9000:200c:fe00:a:8b4a:4700:93a1',\n",
       " '2600:9000:20ab:2e00:e:932e:1600:93a1',\n",
       " '2600:9000:20d2:b000:11:f728:3040:93a1',\n",
       " '2620:1f7:10d5:449::31:47',\n",
       " '2804:d57:12bc:f900:4154:188:d2f0:27f5',\n",
       " '2600:1402:a:28e::4106',\n",
       " '2620:1f7:8b5:2840::32:29',\n",
       " '2601:19b:700:114:e13c:ecd4:fd0:c101',\n",
       " '2620:1f7:8b5:2843::32:241',\n",
       " '2600:9000:21b3:4200:6:44e3:f8c0:93a1',\n",
       " '2600:9000:213f:c400:c:aeb3:e200:93a1',\n",
       " '2800:810:557:348d:5c37:fb57:3614:3d9f',\n",
       " '2620:1f7:2b73:430::2:6b',\n",
       " '2600:9000:2075:9000:15:a80b:45c0:93a1',\n",
       " '2620:1f7:2a59:84d::2:12',\n",
       " '2600:9000:20c7:aa00:1f:9383:73c0:93a1',\n",
       " '2600:9000:2001:ea00:19:2cf2:a900:93a1',\n",
       " '2620:1f7:3d3e:c40::31:3c2',\n",
       " '2001:e68:5445:2256:c1c3:6a01:bd81:ce85',\n",
       " '2620:1f7:28d2:f83::2:148',\n",
       " '2600:9000:2133:200:6:44e3:f8c0:93a1',\n",
       " '2600:9000:2010:d600:18:287:b4c0:93a1',\n",
       " '2600:9000:201b:2800:16:f5f7:a380:93a1',\n",
       " '2620:1f7:3d16:1056::31:296',\n",
       " '2620:1f7:2991:5444::32:80',\n",
       " '2600:9000:2047:6c00:9:46dc:4700:93a1',\n",
       " '2600:9000:2116:4600:10:557c:b549:4e21',\n",
       " '2620:1f7:10d5:44c::32:330',\n",
       " '2001:638:d:c101:acdc:1979:3:1030',\n",
       " '2a01:7c8:fff9:42e::1',\n",
       " '2620:1f7:1004:7c3f::31:195',\n",
       " '2a02:26f0:f4:3b2::2f1f',\n",
       " '2620:1f7:1188:c06::1:76',\n",
       " '2409:8a3c:6f2:6f5a:910f:a928:15ab:e787',\n",
       " '2600:9000:201c:ac00:f:c7b3:ce40:21',\n",
       " '2620:1f7:a15:455::31:3a8',\n",
       " '2600:9000:2010:1400:d:a332:70c5:88c1',\n",
       " '2620:1f7:2bc8:f82::32:21e',\n",
       " '2606:4700:30::6812:288b',\n",
       " '2606:4700:10::6814:35e6',\n",
       " '2620:1f7:90d:c41:f936:5fd4:ce82:52d0',\n",
       " '2600:9000:201c:3a00:0:5511:db80:93a1',\n",
       " '2800:3f0:4005:2::8',\n",
       " '2600:9000:20ab:c200:d:1784:2500:93a1',\n",
       " '2600:9000:2038:4400:f:5c67:cec0:93a1',\n",
       " '2600:9000:2116:1600:a:db2a:b380:93a1',\n",
       " '2600:9000:212f:c800:d:e96a:8080:93a1',\n",
       " '2600:9000:20bb:5a00:15:ef5:46c0:93a1',\n",
       " '2600:9000:21da:6200:14:c3e7:6780:93a1',\n",
       " '2a04:9dc0:16:608::',\n",
       " '2600:9000:2038:b800:e:932e:1600:93a1',\n",
       " '2600:9000:20eb:6400:7:159d:f980:93a1',\n",
       " '2600:9000:200d:c800:1:cde5:7345:88c1',\n",
       " '2620:1f7:807:c4f::31:37c',\n",
       " '2600:1417:2d:f000:8505:987f:53f2:c372',\n",
       " '2600:1408:24::17d7:8555',\n",
       " '2620:1f7:1111:c45::31:2ce',\n",
       " '2620:1f7:2a59:846::2:20e',\n",
       " '2620:1f7:10d5:447::31:6c',\n",
       " '2600:9000:212f:6000:1:a3fa:7cc0:93a1',\n",
       " '2600:9000:2075:3400:d:3e1:bdc0:93a1',\n",
       " '2600:9000:2010:ca00:19:a2c3:6940:93a1',\n",
       " '2600:9000:212f:6e00:1e:a43d:b640:93a1',\n",
       " '2620:1f7:890:4c05::31:33e',\n",
       " '2600:9000:2048:9c00:11:f728:3040:93a1',\n",
       " '2600:9000:2116:4600:2:42d9:3100:93a1',\n",
       " '2620:1f7:298e:1052::32:164',\n",
       " '2620:1f7:1040:c43::31:33e',\n",
       " '2620:1f7:a15:445::31:301',\n",
       " '2001:489a:4006::2',\n",
       " '2620:1f7:817:1c70::1:26',\n",
       " '2620:1f7:10d5:44b::31:25b',\n",
       " '2600:9000:21d5:da00:1b:47e1:21c0:21',\n",
       " '2600:9000:2025:1000:1:5a19:8b40:93a1',\n",
       " '2620:1f7:8ff:c44::31:96',\n",
       " '2600:1f18:612b:4232:a4d6:355e:7f0b:b9e7',\n",
       " '2620:1f7:2bc8:f87::32:56',\n",
       " '2600:9000:200c:aa00:19:e0e5:4ec0:93a1',\n",
       " '2600:1417:53:19d::2a5b',\n",
       " '2600:9000:2004:aa00:1f:2473:9080:93a1',\n",
       " '2600:9000:200f:f400:18:2740:1380:93a1',\n",
       " '2620:1f7:28d2:f80::2:43',\n",
       " '2600:9000:2075:cc00:5:7a9b:fec0:93a1',\n",
       " '2620:1f7:3940:1840::31:2a',\n",
       " '2620:1f7:3d16:1043::31:179',\n",
       " '2606:4700:20::6818:142e',\n",
       " '2600:9000:2075:2600:14:9382:5e00:93a1',\n",
       " '2600:9000:2001:8c00:3:2f7d:1a40:93a1',\n",
       " '2600:1415:8:28c::5f6d',\n",
       " '2606:4700:30::681f:501c',\n",
       " '2001:428:1802:59d::116',\n",
       " '2600:9000:2047:5a00:4:b684:cb00:93a1',\n",
       " '2620:1f7:2b47:415::32:123',\n",
       " '2620:1f7:3d01:1847::1:38c',\n",
       " '2606:4700:10::6814:20e2',\n",
       " '2400:cb00:2049:1::a29f:18bc',\n",
       " '2600:9000:201c:2c00:6:e959:a300:93a1',\n",
       " '2620:1f7:3940:1843::31:8c',\n",
       " '2606:4700:20::6819:e90d',\n",
       " '2620:1f7:8b5:285d::31:3a',\n",
       " '2a01:ce89:8001:0:57:67:40:21',\n",
       " '2a01:cb05:8076:1000:2595:c0bd:3932:f7e3',\n",
       " '2001:428:4403::d8ce:241e',\n",
       " '2600:9000:2041:d200:e:19d6:1546:5981',\n",
       " '2620:1f7:1002:4f0::2:50',\n",
       " '2620:1f7:2a59:84e::2:3e9',\n",
       " '2600:9000:20eb:2200:1d:58a4:8340:21',\n",
       " '2600:140b:13:28b::4106',\n",
       " '2600:9000:212e:5200:4:77d:a0c0:93a1',\n",
       " '2600:1404:5800:693::116',\n",
       " '2620:1f7:298e:1048::32:a2',\n",
       " '2001:19f0:5:ab7:5400:ff:fe6d:a507',\n",
       " '2620:1f7:10dd:415::31:38',\n",
       " '2620:1f7:10d5:441::31:ee',\n",
       " '2600:1417:5e:6ad::3adf',\n",
       " '2600:9000:21d5:4000:d:10d0:ce40:93a1',\n",
       " '2620:1f7:1188:c02::1:7c',\n",
       " '2a02:e980:c::44',\n",
       " '2600:9000:211b:7800:1e:a43d:b640:93a1',\n",
       " '2802:8000:27bf:2000:91a3:9015:c563:4b6',\n",
       " '2620:1f7:1188:c05::1:278',\n",
       " '2406:da00:ff00::23aa:fa9d',\n",
       " '2620:1f7:1825:410::2:37f',\n",
       " '2600:9000:2045:ec00:1e:a43d:b640:93a1',\n",
       " '2600:9000:200d:fe00:4:9b20:9700:93a1',\n",
       " '2600:9000:201b:ae00:18:1fcd:349:ca21',\n",
       " '2620:1f7:1188:c05::1:184',\n",
       " '2600:9000:2041:f600:d:3e1:bdc0:93a1',\n",
       " '2600:9000:2075:a200:1d:a0b:eb00:93a1',\n",
       " '2620:1f7:817:c5e::32:a8',\n",
       " '2600:9000:201c:4400:8:321a:8d40:21',\n",
       " '2600:9000:201b:2a00:17:69da:5c80:93a1',\n",
       " '2804:431:9714:acbe:284b:2c00:d58c:94e8',\n",
       " '2804:151c::191:37:200:22',\n",
       " '2600:9000:20d1:a200:0:4af7:b080:93a1',\n",
       " '2620:1f7:2bc8:530::2:1b1',\n",
       " '2a00:1450:4021:e::7',\n",
       " '2600:9000:2075:6800:9:674:7440:21',\n",
       " '2600:9000:200c:8c00:11:b761:9f00:93a1',\n",
       " '2620:1f7:8b5:284c::31:307',\n",
       " '2600:9000:21dd:a200:5:82fd:2500:21',\n",
       " '2620:1f7:1040:c46::31:c4',\n",
       " '2600:9000:2043:5a00:19:a2c3:6940:93a1',\n",
       " '2600:9000:2075:6800:1f:287:d20a:ce1',\n",
       " '2620:1f7:817:c61::31:67',\n",
       " '2600:9000:21a8:7600:1c:e4f9:b3c0:21',\n",
       " '2620:1f7:2a59:840::2:1f5',\n",
       " '2600:9000:203c:2400:19:9934:6a80:93a1',\n",
       " '2620:1f7:8b5:2852::31:2ef',\n",
       " '2600:1007:b024:2e77:216:8ff:fe00:3',\n",
       " '2600:9000:2041:fe00:16:cdca:2a80:21',\n",
       " '2620:1f7:1824:7c43::2:48',\n",
       " '2600:9000:21b4:6800:a:52eb:a100:93a1',\n",
       " '2600:9000:2047:fa00:5:b7cc:d3c0:93a1',\n",
       " '2600:9000:21d5:400:1e:4eaf:280:93a1',\n",
       " '2600:9000:20bb:2000:b:caaa:6c0:93a1',\n",
       " '2607:f8b0:4006:813::200e',\n",
       " '2600:9000:201c:a400:11:8e16:4980:93a1',\n",
       " '2a02:26f0:e8:480::6326',\n",
       " '2600:9000:2003:6e00:4:ead7:d140:93a1',\n",
       " '2600:1404:6800::173f:fca8',\n",
       " '2600:9000:5301:4f00::1',\n",
       " '2600:9000:219c:2c00:18:1fcd:349:ca21',\n",
       " '2403:6200:8814:2c7c:2988:ec0a:43a5:83bc',\n",
       " '2600:9000:2010:d600:f:cfa5:9ac0:93a1',\n",
       " '2620:1f7:a1f:1416::31:1f3',\n",
       " '2600:9000:203c:7c00:14:3684:7f00:21',\n",
       " '2620:1f7:38c4:450::1:3a8',\n",
       " '2600:9000:2043:8400:5:3cc0:9e40:93a1',\n",
       " '2600:9000:21a8:b800:10:3495:c880:93a1',\n",
       " '2620:1f7:a15:415::31:bd',\n",
       " '2620:1f7:3d16:1041::31:33f',\n",
       " '2600:9000:5304:1000::1',\n",
       " '2620:1f7:1163:520::1:113',\n",
       " '2600:9000:2075:6600:1d:67c:b5c0:93a1',\n",
       " '2600:9000:211b:de00:13:386b:2340:93a1',\n",
       " '2600:1419:6000:187::d5e',\n",
       " '2405:4800:172c:69b8:18f9:783f:aae3:93cb',\n",
       " '2a02:26f0:60:1bb::19fd',\n",
       " '2600:9000:201c:5200:12:9a21:7900:93a1',\n",
       " '2620:1f7:817:c63::1:66',\n",
       " '2405:201:3200:cfa5:7d45:58f1:386f:8279',\n",
       " '2600:9000:200f:ba00:9:46dc:4700:93a1',\n",
       " '2600:9000:20eb:4000:19:9934:6a80:93a1',\n",
       " '2620:1f7:3940:1840::31:c3',\n",
       " '2600:9000:2018:7c00:11:1eaf:39c9:75c1',\n",
       " '2600:9000:2015:3400:f:fb3a:3480:93a1',\n",
       " '2606:4700:20::6819:a60c',\n",
       " '2a05:d050:801c:490:34da:3513::',\n",
       " '2600:9000:2075:e000:18:97ca:e400:93a1',\n",
       " '2620:1f7:1188:c02::2:df',\n",
       " '2606:4700:30::6818:7fdc',\n",
       " '2620:1f7:10d5:448::31:2d',\n",
       " '2600:1400:c000:1bc::b3a',\n",
       " '2a0b:f740::1',\n",
       " '2603:1036:23:5c::6',\n",
       " '2620:1f7:2aa6:843::32:9c',\n",
       " '2600:9000:2002:b400:a:da5e:7900:93a1',\n",
       " '2600:9000:2002:8c00:12:ca43:4ac0:21',\n",
       " '2620:1f7:3d16:104a::31:320',\n",
       " '2620:1f7:8b5:285c::32:39',\n",
       " '2600:9000:21b3:4400:e:a699:8d80:93a1',\n",
       " '2a01:b740:a42:102::13',\n",
       " '2620:1f7:2b05:c43::32:141',\n",
       " '2600:9000:212e:ba00:18:1fcd:349:ca21',\n",
       " '2620:1f7:2aa6:875::32:269',\n",
       " '2600:9000:2010:6400:c:e8fa:88c0:93a1',\n",
       " '2620:1f7:1862:430::2:7d',\n",
       " '2620:1f7:a1f:950::1:3c8',\n",
       " '2620:1f7:1163:c47::31:fd',\n",
       " '2600:9000:201b:200:4:5893:49c0:21',\n",
       " '2620:1f7:3932:c45::31:367',\n",
       " '2606:4700:10::6814:a305',\n",
       " '2600:9000:2010:bc00:1:8f9f:b6c0:93a1',\n",
       " '2600:9000:2009:a200:19:597a:e108:c5a1',\n",
       " '2600:9000:2018:c400:7:e536:8b00:93a1',\n",
       " '2620:1f7:8b5:284c::31:3ae',\n",
       " '2600:9000:2075:b200:1f:9bbe:a480:93a1',\n",
       " '2620:1f7:807:c40::32:3ad',\n",
       " '2600:9000:200f:ca00:f:cfa5:9ac0:93a1',\n",
       " '2620:1f7:2a01:1c50::2:95',\n",
       " '2600:9000:2015:5800:10:31d4:da80:93a1',\n",
       " '2400:cb00:2049:1::c629:df83',\n",
       " '2600:9000:21f2:d400:10:3798:4a80:93a1',\n",
       " '2600:9000:200d:b000:9:352d:a240:93a1',\n",
       " '2620:1f7:1824:7c42::2:137',\n",
       " '2600:9000:201b:e800:12:20b2:ec80:21',\n",
       " '2600:9000:2004:a800:f:68da:bf00:93a1',\n",
       " '2600:1404:5800:686::2c79',\n",
       " '2600:9000:201c:5200:1f:9c4e:23c0:21',\n",
       " '2a01:e0a:2e:bf60:702c:90e8:b780:4ca8',\n",
       " '2600:9000:201c:c00:18:ba26:6d40:21',\n",
       " '2600:9000:200c:d000:1:1e08:a140:93a1',\n",
       " '2a00:1450:4009:4f::9',\n",
       " '2a02:26f0:e8:487::25bb',\n",
       " '2600:9000:200c:3600:11:e20d:bbc0:21',\n",
       " '2620:1f7:1002:c45::32:c',\n",
       " '2600:9000:211b:ae00:3:b28b:6bc0:93a1',\n",
       " '2a03:2880:f2ff:e5:face:b00c:0:4420',\n",
       " '2600:1417:73:1a5::33f1',\n",
       " '2600:1417:73:186::23ed',\n",
       " '2620:1f7:1111:c42::32:ba',\n",
       " '2600:9000:203c:e200:9:46dc:4700:93a1',\n",
       " '2620:1f7:8b5:1480::1:1ae',\n",
       " '2a02:26f0:e8:2a4::3936',\n",
       " '2620:1f7:1002:c49::31:3b5',\n",
       " '2600:9000:2018:4200:6:44e3:f8c0:93a1',\n",
       " '2600:9000:2075:7800:13:40bf:46c0:21',\n",
       " '2600:9000:200c:f200:2:2f03:34c0:93a1',\n",
       " '2620:1f7:1824:7c40::2:2a8',\n",
       " '2620:1f7:1002:c41::31:251',\n",
       " '2600:9000:212e:3a00:1a:74fd:9900:93a1',\n",
       " '2600:9000:203f:8400:c:3925:f680:93a1',\n",
       " '2607:da00:1000:2:208:82:104:2',\n",
       " '2600:9000:203f:7600:6:5b96:3f00:93a1',\n",
       " '2600:9000:201c:dc00:e:932e:1600:93a1',\n",
       " '2600:1409:d000:2ab::c09',\n",
       " '2620:1f7:2bca:7c41::31:90',\n",
       " '2620:1f7:1163:c41::31:5b',\n",
       " '2600:9000:2057:be00:1a:9e13:5280:93a1',\n",
       " '2620:1f7:8b5:2844::31:ec',\n",
       " '2a04:9dc0:16:605::',\n",
       " '2620:1f7:a15:435::31:36a',\n",
       " '2620:1f7:a1f:1410::31:cc',\n",
       " '2620:1f7:1111:c45::31:91',\n",
       " '2600:9000:200d:8000:d:a332:70c5:88c1',\n",
       " '2600:1419:d000:388::2882',\n",
       " '2a04:9dc0:27::16:8',\n",
       " '2600:9000:2041:6600:8:953b:b740:93a1',\n",
       " '2600:9000:201c:4400:14:3684:7f00:21',\n",
       " '2600:9000:2075:6a00:e:c925:1e89:2f41',\n",
       " '2600:9000:20eb:6200:1d:8c8c:47c0:93a1',\n",
       " '2620:1f7:8b5:2840::31:6f',\n",
       " '2600:9000:2018:5800:19:9934:6a80:93a1',\n",
       " '2600:1417:53:184::f5',\n",
       " '2600:9000:2047:5000:1c:e4f9:b3c0:21',\n",
       " '2620:1f7:a1f:1413::31:1ac',\n",
       " '2600:9000:2010:9800:1e:a43d:b640:93a1',\n",
       " '2620:1f7:10d5:446::31:1db',\n",
       " '2600:9000:2007:b800:15:efbc:e300:93a1',\n",
       " '2600:9000:2098:d200:11:446:2940:93a1',\n",
       " '2600:9000:2116:d600:1b:ba19:3b40:21',\n",
       " '2620:1f7:3b16:c40::31:2ac',\n",
       " '2600:9000:20bb:a400:13:bc7:fc80:93a1',\n",
       " '2600:9000:2041:aa00:a:52eb:a100:93a1',\n",
       " '2800:200:e280:2f3f:5c5d:85be:4866:1ad0',\n",
       " '2600:9000:2001:ee00:10:b43b:a800:93a1',\n",
       " '2a01:e0c:1::25',\n",
       " '2600:9000:2015:1e00:19:9934:6a80:93a1',\n",
       " '2600:9000:2133:e600:11:ae8:5a80:93a1',\n",
       " '2620:1f7:2aa6:842::32:266',\n",
       " '2600:9000:2075:c800:d:3e1:bdc0:93a1',\n",
       " '2001:41d0:8:c6b3::1',\n",
       " '2600:9000:2041:3000:1f:573d:79c0:21',\n",
       " '2600:9000:20be:2200:d:a332:70c5:88c1',\n",
       " '2620:1f7:10dd:415::31:10b',\n",
       " '2600:1fa0:4080:8949:34da:f0c9::',\n",
       " '2001:428:3801:694::2374',\n",
       " '2600:9000:21b3:dc00:3:3f58:f680:93a1',\n",
       " '2a02:26f0:10:2a0::27ae',\n",
       " '2606:4700::6810:1306',\n",
       " '2600:9000:2075:600:15:e34c:e280:93a1',\n",
       " '2600:9000:201c:2800:11:5dca:5e80:93a1',\n",
       " '2606:4700:10::6816:92',\n",
       " '2600:9000:2018:d600:1e:a900:ed00:93a1',\n",
       " '2620:1f7:3808:841::31:1b8',\n",
       " '2600:9000:200f:d800:12:b924:5140:93a1',\n",
       " '2600:9000:2010:b000:1c:4bbb:9180:93a1',\n",
       " '2600:140f:b:19d::143a',\n",
       " '2600:9000:201c:4c00:8:2ae1:d740:93a1',\n",
       " '2600:9000:200d:1400:18:a34c:e500:93a1',\n",
       " '2600:9000:2038:8c00:a:4051:600:93a1',\n",
       " '2620:1f7:3d25:845::31:ce',\n",
       " '2a02:c50:0:1::a:1',\n",
       " '2607:feb0:fffc::ffff:a',\n",
       " '2620:1f7:381f:841::31:3dd',\n",
       " '2620:1f7:28d2:f83::2:b6',\n",
       " '2600:9000:212f:1c00:e:932e:1600:93a1',\n",
       " '2600:9000:20d1:3000:1f:5eea:9700:93a1',\n",
       " '2620:1f7:2bc8:f83::32:8a',\n",
       " '2620:1f7:2a59:848::2:86',\n",
       " '2600:9000:203f:b600:1:616b:6200:93a1',\n",
       " '2a02:26f0:c8:196::1aca',\n",
       " '2600:1415:d800:180::25bb',\n",
       " '2600:9000:20d1:dc00:8:54c8:2c00:93a1',\n",
       " '2600:1f14:e96:5802:bb07:b870:6632:755',\n",
       " '2620:1f7:3932:c42::31:2df',\n",
       " '2600:9000:2131:e000:14:99b7:d500:93a1',\n",
       " '2600:9000:21da:ba00:17:69da:5c80:93a1',\n",
       " '2620:1f7:3941:1043::31:135',\n",
       " '2600:9000:2041:6400:1c:12bf:2780:21',\n",
       " '2001:288:3200::28:50:2',\n",
       " '2001:428:3801:6ad::2313',\n",
       " '2600:9000:2010:7600:18:4532:5280:93a1',\n",
       " '2620:1f7:1188:c01::2:35e',\n",
       " '2620:1f7:10d5:449::31:357',\n",
       " '2a03:90c0:83:2907::e',\n",
       " '2600:9000:2057:a400:3:3f58:f680:93a1',\n",
       " '2620:1f7:10d5:446::31:1a8',\n",
       " '2603:1046:c01:8b0::2',\n",
       " '2620:1f7:10d5:441::32:1d9',\n",
       " '2406:3003:1:5a::2',\n",
       " '2600:9000:212e:ac00:14:3684:7f00:21',\n",
       " '2620:1f7:817:c4f::31:3d6',\n",
       " '2002:45af:11e9::45af:11e9',\n",
       " '2600:9000:2001:4a00:16:eede:5e00:93a1',\n",
       " '2620:1f7:2b06:c45::2:8a',\n",
       " '2001:67c:1bc::102',\n",
       " '2620:1f7:8ff:c43::31:49',\n",
       " '2600:9000:201c:3c00:10:3422:3f00:93a1',\n",
       " '2600:1400:a:480::3ea9',\n",
       " '2600:9000:2048:9200:2:d151:aac0:93a1',\n",
       " '2600:9000:200c:bc00:9:9e4e:1c80:93a1',\n",
       " '2620:1f7:2b06:c42::2:27c',\n",
       " '2600:9000:20be:ac00:16:eede:5e00:93a1',\n",
       " '2804:d59:19be:2700:44d9:4fc0:56b1:6aa',\n",
       " '2620:1f7:292a:1441::2:e8',\n",
       " '2600:9000:2001:1a00:19:2cf2:a900:93a1',\n",
       " '2620:1f7:817:c54::31:2d2',\n",
       " '2600:9000:2047:8a00:12:832a:da00:21',\n",
       " '2600:9000:5305:6100::1',\n",
       " '2800:3f0:4002:16::a',\n",
       " '2600:9000:2098:1000:a:db2a:b380:93a1',\n",
       " '2600:1417:a000:2b7::2a1',\n",
       " '2001:6c8:2:500::52',\n",
       " '2600:9000:200d:d000:4:f9aa:3d40:93a1',\n",
       " '2800:200:f108:3a:f09e:21be:7d79:c9f7',\n",
       " '2001:4b10:100:8::53',\n",
       " '2620:1f7:2dac:415::2:38b',\n",
       " '2620:1f7:2d80:c41::2:263',\n",
       " '2606:4700:10::6814:b64e',\n",
       " '2620:1f7:1188:c04::2:ef',\n",
       " '2600:1407:a000:3bb::25ea',\n",
       " '2620:1f7:a1f:1412::31:3da',\n",
       " '2600:9000:20d1:ba00:1f:5194:3580:93a1',\n",
       " '2620:1f7:2a59:852::2:32f',\n",
       " '2607:f8b0:4000:f::8',\n",
       " '2620:1f7:2ae7:c45::31:a7',\n",
       " '2600:141b:5000:285::2a1',\n",
       " '2600:9000:20bb:ac00:11:c7a2:afc0:93a1',\n",
       " '2620:1f7:3941:104c::31:12c',\n",
       " '2001:41d0:303:ace1::',\n",
       " '2600:9000:2075:8000:1:9cc9:ae80:93a1',\n",
       " '2600:9000:212f:b800:9:74e3:800:93a1',\n",
       " '2600:9000:2079:c00:16:eede:5e00:93a1',\n",
       " '2620:1f7:2b05:c41::32:31',\n",
       " '2600:9000:2057:a600:a:da5e:7900:93a1',\n",
       " '2600:9000:2075:e400:16:eede:5e00:93a1',\n",
       " '2600:9000:200c:2000:e:ec66:e40:93a1',\n",
       " '2600:9000:200d:be00:9:d607:2180:21',\n",
       " '2600:9000:2038:ca00:1e:a43d:b640:93a1',\n",
       " '2620:1f7:10d5:449::31:7e',\n",
       " ...]"
      ]
     },
     "execution_count": 250,
     "metadata": {},
     "output_type": "execute_result"
    }
   ],
   "source": [
    "validIPChk2"
   ]
  },
  {
   "cell_type": "code",
   "execution_count": 251,
   "metadata": {},
   "outputs": [
    {
     "data": {
      "text/plain": [
       "[]"
      ]
     },
     "execution_count": 251,
     "metadata": {},
     "output_type": "execute_result"
    }
   ],
   "source": [
    "FalsePositive"
   ]
  },
  {
   "cell_type": "code",
   "execution_count": 252,
   "metadata": {},
   "outputs": [
    {
     "data": {
      "text/plain": [
       "[]"
      ]
     },
     "execution_count": 252,
     "metadata": {},
     "output_type": "execute_result"
    }
   ],
   "source": [
    "FalseNegative"
   ]
  },
  {
   "cell_type": "code",
   "execution_count": null,
   "metadata": {},
   "outputs": [],
   "source": []
  },
  {
   "cell_type": "code",
   "execution_count": null,
   "metadata": {},
   "outputs": [],
   "source": []
  }
 ],
 "metadata": {
  "kernelspec": {
   "display_name": "Python 3",
   "language": "python",
   "name": "python3"
  },
  "language_info": {
   "codemirror_mode": {
    "name": "ipython",
    "version": 3
   },
   "file_extension": ".py",
   "mimetype": "text/x-python",
   "name": "python",
   "nbconvert_exporter": "python",
   "pygments_lexer": "ipython3",
   "version": "3.7.4"
  }
 },
 "nbformat": 4,
 "nbformat_minor": 2
}
