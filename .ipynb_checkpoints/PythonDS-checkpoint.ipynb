{
 "cells": [
  {
   "cell_type": "markdown",
   "metadata": {},
   "source": [
    "# Binary tree\n"
   ]
  },
  {
   "cell_type": "code",
   "execution_count": 1,
   "metadata": {},
   "outputs": [],
   "source": [
    "class Node:\n",
    "#initialize constructor\n",
    "    def __init__(this, data):\n",
    "\n",
    "        this.left = None\n",
    "        this.right = None\n",
    "        this.data = data\n",
    "\n",
    "    def insert(this, data):\n",
    "# Compare the new value with the parent node\n",
    "        if this.data:  #if not null\n",
    "            if data < this.data:  #if data is less than node\n",
    "                if this.left is None:\n",
    "                    this.left = Node(data)\n",
    "                else:\n",
    "                    this.left.insert(data)\n",
    "            elif data > this.data:\n",
    "                if this.right is None:\n",
    "                    this.right = Node(data)\n",
    "                else:\n",
    "                    this.right.insert(data)\n",
    "        else:\n",
    "            this.data = data\n",
    "    \n",
    "    \n",
    "# Print the tree\n",
    "    def PrintTree(this):\n",
    "        if this.left:\n",
    "            this.left.PrintTree()\n",
    "        print( this.data),\n",
    "        if this.right:\n",
    "            this.right.PrintTree()\n",
    "            \n",
    "    def findVal(this,val):\n",
    "        \n",
    "        if val < this.data:\n",
    "            \n",
    "            if this.left is None:\n",
    "                return str(val) + \"not found!\"\n",
    "            return this.left.findVal(val)\n",
    "        if val > this.data:\n",
    "            \n",
    "            if this.right is None:\n",
    "                return str(val) + \"not found!\"\n",
    "            return this.right.findVal(val)        \n",
    "        else:\n",
    "            print(this.data)\n",
    "\n",
    "\n"
   ]
  },
  {
   "cell_type": "code",
   "execution_count": 2,
   "metadata": {},
   "outputs": [],
   "source": [
    "root = Node(12)\n",
    "root.insert(6)\n",
    "root.insert(14)\n",
    "root.insert(3)\n"
   ]
  },
  {
   "cell_type": "code",
   "execution_count": 3,
   "metadata": {},
   "outputs": [
    {
     "data": {
      "text/plain": [
       "'7not found!'"
      ]
     },
     "execution_count": 3,
     "metadata": {},
     "output_type": "execute_result"
    }
   ],
   "source": [
    "root.findVal(7)"
   ]
  },
  {
   "cell_type": "code",
   "execution_count": 4,
   "metadata": {},
   "outputs": [],
   "source": [
    "class NodeBinary:\n",
    "    def __init__(this,data):\n",
    "        this.left = None #node\n",
    "        this.right = None #node\n",
    "        this.data = data #int\n",
    "   \n",
    "    def printData(this):\n",
    "        if this.left:\n",
    "            #print(this.left.data)\n",
    "            this.left.printData()\n",
    "            \n",
    "        print(this.data)\n",
    "        \n",
    "        if this.right:\n",
    "            #print(this.right.data)\n",
    "            this.right.printData()        \n",
    "        \n",
    "        \n",
    "            \n",
    "    def insert(this,data):\n",
    "        \n",
    "        if this.data:\n",
    "            if data < this.data:\n",
    "                if this.left is None:\n",
    "                    \n",
    "                    this.left = NodeBinary(data)\n",
    "                else:\n",
    "                    \n",
    "                    this.left.insert(data)\n",
    "            if data > this.data:\n",
    "                if this.right is None:\n",
    "                    this.right = NodeBinary(data)\n",
    "                else:\n",
    "                    this.right.insert(data)                \n",
    "        else:\n",
    "            this.data = data\n",
    "     \n",
    "    def inOrderTraversal(this,root):\n",
    "        arr = []\n",
    "        if root:\n",
    "            arr = this.inOrderTraversal(root.left)\n",
    "            arr.append(root.data)\n",
    "            arr = arr + this.inOrderTraversal(root.right)\n",
    "        return arr\n",
    "       \n",
    "    def preOrderTraversal(this,root):\n",
    "        arr = []\n",
    "        if root:\n",
    "            arr.append(root.data)\n",
    "            arr = arr + this.preOrderTraversal(root.left)\n",
    "            arr = arr + this.preOrderTraversal(root.right)\n",
    "        return arr \n",
    "    \n",
    "    def postOrderTraversal(this,root):\n",
    "        arr = []\n",
    "        if root:\n",
    "            arr = arr + this.preOrderTraversal(root.left)\n",
    "            arr = arr + this.preOrderTraversal(root.right)\n",
    "            arr.append(root.data)\n",
    "        return arr    "
   ]
  },
  {
   "cell_type": "code",
   "execution_count": 5,
   "metadata": {},
   "outputs": [],
   "source": [
    "root =  NodeBinary(5)\n",
    "\n"
   ]
  },
  {
   "cell_type": "code",
   "execution_count": 6,
   "metadata": {},
   "outputs": [],
   "source": [
    "root.insert(23)\n",
    "root.insert(20)\n",
    "root.insert(13)\n",
    "root.insert(10)\n",
    "root.insert(33)\n",
    "root.insert(4)\n",
    "root.insert(2)\n",
    "root.insert(1)\n",
    "root.insert(3)\n",
    "\n"
   ]
  },
  {
   "cell_type": "code",
   "execution_count": 7,
   "metadata": {},
   "outputs": [
    {
     "name": "stdout",
     "output_type": "stream",
     "text": [
      "1\n",
      "2\n",
      "3\n",
      "4\n",
      "5\n",
      "10\n",
      "13\n",
      "20\n",
      "23\n",
      "33\n"
     ]
    }
   ],
   "source": [
    "root.printData()"
   ]
  },
  {
   "cell_type": "code",
   "execution_count": 8,
   "metadata": {},
   "outputs": [
    {
     "name": "stdout",
     "output_type": "stream",
     "text": [
      "[1, 2, 3, 4, 5, 10, 13, 20, 23, 33]\n"
     ]
    }
   ],
   "source": [
    "print(root.inOrderTraversal(root))"
   ]
  },
  {
   "cell_type": "code",
   "execution_count": 9,
   "metadata": {},
   "outputs": [
    {
     "name": "stdout",
     "output_type": "stream",
     "text": [
      "[5, 4, 2, 1, 3, 23, 20, 13, 10, 33]\n"
     ]
    }
   ],
   "source": [
    "print(root.preOrderTraversal(root))"
   ]
  },
  {
   "cell_type": "code",
   "execution_count": 10,
   "metadata": {},
   "outputs": [
    {
     "name": "stdout",
     "output_type": "stream",
     "text": [
      "[4, 2, 1, 3, 23, 20, 13, 10, 33, 5]\n"
     ]
    }
   ],
   "source": [
    "print(root.postOrderTraversal(root))"
   ]
  },
  {
   "cell_type": "code",
   "execution_count": 11,
   "metadata": {},
   "outputs": [
    {
     "data": {
      "text/plain": [
       "('physics', 'chemistry', 1997, 2000)"
      ]
     },
     "execution_count": 11,
     "metadata": {},
     "output_type": "execute_result"
    }
   ],
   "source": [
    "tup1 = ('physics', 'chemistry', 1997, 2000);\n",
    "tup1"
   ]
  },
  {
   "cell_type": "code",
   "execution_count": 13,
   "metadata": {},
   "outputs": [
    {
     "ename": "IndentationError",
     "evalue": "unindent does not match any outer indentation level (<tokenize>, line 3)",
     "output_type": "error",
     "traceback": [
      "\u001b[0;36m  File \u001b[0;32m\"<tokenize>\"\u001b[0;36m, line \u001b[0;32m3\u001b[0m\n\u001b[0;31m    2       20    33\u001b[0m\n\u001b[0m    ^\u001b[0m\n\u001b[0;31mIndentationError\u001b[0m\u001b[0;31m:\u001b[0m unindent does not match any outer indentation level\n"
     ]
    }
   ],
   "source": [
    "         5\n",
    "     4       23\n",
    "  2       20    33\n",
    "1   3   13\n",
    "    10\n",
    "\n",
    "\n",
    "\n"
   ]
  },
  {
   "cell_type": "markdown",
   "metadata": {},
   "source": [
    "# sets"
   ]
  },
  {
   "cell_type": "code",
   "execution_count": 93,
   "metadata": {},
   "outputs": [
    {
     "data": {
      "text/plain": [
       "{'abc', 'xyz'}"
      ]
     },
     "execution_count": 93,
     "metadata": {},
     "output_type": "execute_result"
    }
   ],
   "source": [
    "setA = {\"abc\",\"xyz\",\"abc\"}\n",
    "setA"
   ]
  },
  {
   "cell_type": "code",
   "execution_count": 95,
   "metadata": {},
   "outputs": [
    {
     "data": {
      "text/plain": [
       "{'abc', 'xyz'}"
      ]
     },
     "execution_count": 95,
     "metadata": {},
     "output_type": "execute_result"
    }
   ],
   "source": [
    "set([\"abc\",\"xyz\",\"xyz\"])"
   ]
  },
  {
   "cell_type": "markdown",
   "metadata": {},
   "source": [
    "# Maps"
   ]
  },
  {
   "cell_type": "code",
   "execution_count": 16,
   "metadata": {},
   "outputs": [],
   "source": [
    "import collections\n",
    "\n",
    "\n",
    "dict1 = {'day1': 'Mon', 'day2': 'Tue'}\n",
    "dict2 = {'day3': 'Wed', 'day4': 'Thu'}\n",
    "\n",
    "res1 = collections.ChainMap(dict1, dict2)"
   ]
  },
  {
   "cell_type": "code",
   "execution_count": 17,
   "metadata": {},
   "outputs": [
    {
     "data": {
      "text/plain": [
       "ChainMap({'day1': 'Mon', 'day2': 'Tue'}, {'day3': 'Wed', 'day4': 'Thu'})"
      ]
     },
     "execution_count": 17,
     "metadata": {},
     "output_type": "execute_result"
    }
   ],
   "source": [
    "res1"
   ]
  },
  {
   "cell_type": "code",
   "execution_count": 18,
   "metadata": {},
   "outputs": [
    {
     "data": {
      "text/plain": [
       "[{'day1': 'Mon', 'day2': 'Tue'}, {'day3': 'Wed', 'day4': 'Thu'}]"
      ]
     },
     "execution_count": 18,
     "metadata": {},
     "output_type": "execute_result"
    }
   ],
   "source": [
    "res1.maps"
   ]
  },
  {
   "cell_type": "markdown",
   "metadata": {},
   "source": [
    "# Backtracking"
   ]
  },
  {
   "cell_type": "code",
   "execution_count": 27,
   "metadata": {},
   "outputs": [],
   "source": [
    "def permute(list, s, k):\n",
    "    if list == 1:\n",
    "        return s\n",
    "    else:\n",
    "        print([ y + x\n",
    "                 for y in permute(list -1, s,k)\n",
    "                 for x in permute(list -1, k,s)\n",
    "                 ])\n",
    "        return [ y + x\n",
    "                 for y in permute(list -1, s,k)\n",
    "                 for x in permute(list -1, k,s)\n",
    "                 ]\n",
    "\n"
   ]
  },
  {
   "cell_type": "code",
   "execution_count": 28,
   "metadata": {},
   "outputs": [],
   "source": [
    "def fibo(x):\n",
    "    if x is 1:\n",
    "        return 1\n",
    "    else:\n",
    "        print(x)\n",
    "        return fibo(x-1)*x\n",
    "    \n",
    "    "
   ]
  },
  {
   "cell_type": "code",
   "execution_count": 29,
   "metadata": {},
   "outputs": [],
   "source": [
    "def factorial(x):\n",
    "    \n",
    "    if x is 1:                   \n",
    "        return 1\n",
    "    return x*factorial(x-1)  "
   ]
  },
  {
   "cell_type": "code",
   "execution_count": 30,
   "metadata": {},
   "outputs": [],
   "source": [
    "def permute(self, nums):#[1,2,3]\n",
    "    res = []\n",
    "    \n",
    "    def DFS(nums):\n",
    "        tmp = []\n",
    "        if len(nums) == 1:\n",
    "            return nums[0]\n",
    "        for i in range(len(nums)):\n",
    "            print(nums[i:len(nums)])\n",
    "            DFS(nums[i+1:len(nums)])  \n",
    "            \n",
    "            \n",
    "    \n",
    "    \n",
    "    DFS(nums)    \n",
    "    return res\n",
    "        "
   ]
  },
  {
   "cell_type": "code",
   "execution_count": 31,
   "metadata": {},
   "outputs": [
    {
     "name": "stdout",
     "output_type": "stream",
     "text": [
      "[1, 2, 3]\n",
      "[2, 3]\n",
      "[3]\n",
      "[2, 3]\n",
      "[3]\n"
     ]
    },
    {
     "data": {
      "text/plain": [
       "[]"
      ]
     },
     "execution_count": 31,
     "metadata": {},
     "output_type": "execute_result"
    }
   ],
   "source": [
    "permute([],[1,2,3])"
   ]
  },
  {
   "cell_type": "code",
   "execution_count": 3,
   "metadata": {},
   "outputs": [],
   "source": [
    "def permute(self, nums):\n",
    "        \"\"\"\n",
    "        :type nums: List[int]\n",
    "        :rtype: List[List[int]]\n",
    "        \"\"\"\n",
    "        #here we need a global wise list, each time we just append to the result\n",
    "        rslt=[]\n",
    "        \n",
    "        def dfs(temp, elements):\n",
    "            #gather rslt\n",
    "            if len(elements)==0:\n",
    "                rslt.append(temp[:]) #still remember to use temp[:]\n",
    "            for e in elements:\n",
    "                temp.append(e)\n",
    "                #backtrack\n",
    "                next_elements=elements[:]\n",
    "                next_elements.remove(e)\n",
    "                elements.pop()\n",
    "                dfs(temp, next_elements)\n",
    "                temp.pop()\n",
    "                \n",
    "                \n",
    "        dfs([],nums) #first is the current result\n",
    "        return rslt"
   ]
  },
  {
   "cell_type": "code",
   "execution_count": 4,
   "metadata": {},
   "outputs": [
    {
     "data": {
      "text/plain": [
       "[[1, 2, 3], [2, 1]]"
      ]
     },
     "execution_count": 4,
     "metadata": {},
     "output_type": "execute_result"
    }
   ],
   "source": [
    "permute([],[1,2,3])"
   ]
  },
  {
   "cell_type": "code",
   "execution_count": 1,
   "metadata": {},
   "outputs": [],
   "source": [
    "def permuteNumber(nums,l,r):\n",
    "    if l == r:\n",
    "        print(nums)\n",
    "    else:\n",
    "        for i in range(l,r):\n",
    "            print(nums[i])"
   ]
  },
  {
   "cell_type": "code",
   "execution_count": 2,
   "metadata": {},
   "outputs": [
    {
     "name": "stdout",
     "output_type": "stream",
     "text": [
      "1\n",
      "2\n"
     ]
    }
   ],
   "source": [
    "permuteNumber([1,2,3],0,len([1,2,3]) - 1)"
   ]
  },
  {
   "cell_type": "code",
   "execution_count": 5,
   "metadata": {},
   "outputs": [],
   "source": [
    "def permutation(list, start, end):\n",
    "    '''This prints all the permutations of a given list\n",
    "       it takes the list,the starting and ending indices as input'''\n",
    "    if (start == end):\n",
    "        print(list)\n",
    "    else:\n",
    "        for i in range(start, end + 1):\n",
    "            \n",
    "            list[start], list[i] = list[i], list[start]  # The swapping\n",
    "            permutation(list, start + 1, end)\n",
    "            list[start], list[i] = list[i], list[start]  # Backtracking"
   ]
  },
  {
   "cell_type": "code",
   "execution_count": 12,
   "metadata": {},
   "outputs": [
    {
     "name": "stdout",
     "output_type": "stream",
     "text": [
      "['a', 'b', 'c']\n",
      "['a', 'c', 'b']\n",
      "['b', 'a', 'c']\n",
      "['b', 'c', 'a']\n",
      "['c', 'b', 'a']\n",
      "['c', 'a', 'b']\n"
     ]
    }
   ],
   "source": [
    "permutation(['a', 'b', 'c'], 0, 2)"
   ]
  },
  {
   "cell_type": "code",
   "execution_count": 38,
   "metadata": {},
   "outputs": [
    {
     "name": "stdout",
     "output_type": "stream",
     "text": [
      "0\n",
      "1\n",
      "2\n",
      "3\n",
      "4\n"
     ]
    }
   ],
   "source": [
    "for i in range(0,5):\n",
    "    print(i)"
   ]
  },
  {
   "cell_type": "code",
   "execution_count": 41,
   "metadata": {},
   "outputs": [],
   "source": [
    "arr = [2,3,4,2]"
   ]
  },
  {
   "cell_type": "code",
   "execution_count": 42,
   "metadata": {},
   "outputs": [],
   "source": [
    "diffArr = list(map(lambda x: 10 - x, arr))"
   ]
  },
  {
   "cell_type": "code",
   "execution_count": 28,
   "metadata": {},
   "outputs": [],
   "source": [
    "class HashMap(object):\n",
    "    def __init__(self):\n",
    "        self.hashmap = [[] for i in range(256)]\n",
    "\n",
    "    def insert(self, key, value):\n",
    "        hash_key = hash(key) % len(self.hashmap)\n",
    "        #print(\"hash_key =\",hash_key)\n",
    "        key_exists = False\n",
    "        bucket = self.hashmap[hash_key]\n",
    "        \n",
    "        for i, kv in enumerate(bucket):\n",
    "          \n",
    "            k, v = kv\n",
    "            if key == k:\n",
    "                key_exists = True\n",
    "                break\n",
    "        if key_exists:\n",
    "            print(\"exists\")\n",
    "            bucket[i].append((key,value))\n",
    "        else:\n",
    "            bucket.append((key,value))\n",
    "        print(bucket)     \n",
    "        print(self.hashmap)    \n",
    "\n",
    "    def retrieve(self, key):\n",
    "        hash_key = hash(key) % len(self.hashmap)\n",
    "        bucket = self.hashmap[hash_key]\n",
    "        for i, kv in enumerate(bucket):\n",
    "            k, v = kv\n",
    "            return v\n",
    "        raise KeyError"
   ]
  },
  {
   "cell_type": "code",
   "execution_count": 29,
   "metadata": {},
   "outputs": [],
   "source": [
    "testHash = HashMap()"
   ]
  },
  {
   "cell_type": "code",
   "execution_count": 31,
   "metadata": {},
   "outputs": [
    {
     "name": "stdout",
     "output_type": "stream",
     "text": [
      "exists\n",
      "[(4, 'kingly'), (4, 'king')]\n",
      "[[], [], [], [], [(4, 'kingly'), (4, 'king')], [], [], [], [], [], [], [], [], [], [], [], [], [], [], [], [], [], [], [], [], [], [], [], [], [], [], [], [], [], [], [], [], [], [], [], [], [], [], [], [], [], [], [], [], [], [], [], [], [], [], [], [], [], [], [], [], [], [], [], [], [], [], [], [], [], [], [], [], [], [], [], [], [], [], [], [], [], [], [], [], [], [], [], [], [], [], [], [], [], [], [], [], [], [], [], [], [], [], [], [], [], [], [], [], [], [], [], [], [], [], [], [], [], [], [], [], [], [], [], [], [], [], [], [], [], [], [], [], [], [], [], [], [], [], [], [], [], [], [], [], [], [], [], [], [], [], [], [], [], [], [], [], [], [], [], [], [], [], [], [], [], [], [], [], [], [], [], [], [], [], [], [], [], [], [], [], [], [], [], [], [], [], [], [], [], [], [], [], [], [], [], [], [], [], [], [], [], [], [], [], [], [], [], [], [], [], [], [], [], [], [], [], [], [], [], [], [], [], [], [], [], [], [], [], [], [], [], [], [], [], [], [], [], [], [], [], [], [], [], [], [], [], [], [], [], [], [], [], [], [], []]\n"
     ]
    }
   ],
   "source": [
    "testHash.insert(4,\"king\")"
   ]
  },
  {
   "cell_type": "code",
   "execution_count": 45,
   "metadata": {},
   "outputs": [
    {
     "name": "stdout",
     "output_type": "stream",
     "text": [
      "hash_key = 200\n",
      "bucket =  []\n",
      "[(200, 'pradeep')]\n",
      "[[], [], [], [], [(4, 'parkar')], [], [], [], [], [], [], [], [], [], [], [], [], [], [], [], [], [], [], [], [], [], [], [], [], [], [], [], [], [], [], [], [], [], [], [], [], [], [], [], [], [], [], [], [], [], [], [], [], [], [], [], [], [], [], [], [], [], [], [], [], [], [], [], [], [], [], [], [], [], [], [], [], [], [], [], [], [], [], [], [], [], [], [], [], [], [], [], [], [], [], [], [], [], [], [], [], [], [], [], [], [], [], [], [], [], [], [], [], [], [], [], [], [], [], [], [], [], [], [], [], [], [], [], [], [], [], [], [], [], [], [], [], [], [], [], [], [], [], [], [], [], [], [], [], [], [], [], [], [], [], [], [], [], [], [], [], [], [], [], [], [], [], [], [], [], [], [], [], [], [], [], [], [], [], [], [], [], [], [], [], [], [], [], [], [], [], [], [], [], [], [], [], [], [], [], [(200, 'pradeep')], [], [], [], [], [], [], [], [], [], [], [], [], [], [], [], [], [], [], [], [], [], [], [], [], [], [], [], [], [], [], [], [], [], [], [], [], [], [], [], [], [], [], [], [], [], [], [], [], [], [], [], [], [], [], []]\n"
     ]
    }
   ],
   "source": [
    "testHash.insert(200,\"pradeep\")"
   ]
  },
  {
   "cell_type": "code",
   "execution_count": 47,
   "metadata": {},
   "outputs": [],
   "source": [
    "class HashMap:\n",
    "        def __init__(self):\n",
    "                self.size = 6\n",
    "                self.map = [None] * self.size\n",
    "\t\t\n",
    "        def _get_hash(self, key):\n",
    "                hash = 0\n",
    "                for char in str(key):\n",
    "                        \n",
    "                        hash += ord(char)\n",
    "                return hash % self.size\n",
    "\t\t\n",
    "        def add(self, key, value):\n",
    "                key_hash = self._get_hash(key)\n",
    "                key_value = [key, value]\n",
    "\t\t\n",
    "                if self.map[key_hash] is None:\n",
    "                        self.map[key_hash] = list([key_value])\n",
    "                        return True\n",
    "                else:\n",
    "                        for pair in self.map[key_hash]:\n",
    "                                if pair[0] == key:\n",
    "                                        pair[1] = value\n",
    "                                        return True\n",
    "                        self.map[key_hash].append(key_value)\n",
    "                        return True\n",
    "\t\t\t\n",
    "        def get(self, key):\n",
    "                key_hash = self._get_hash(key)\n",
    "                if self.map[key_hash] is not None:\n",
    "                        for pair in self.map[key_hash]:\n",
    "                                if pair[0] == key:\n",
    "                                        return pair[1]\n",
    "                return None\n",
    "\t\t\t\n",
    "        def delete(self, key):\n",
    "                key_hash = self._get_hash(key)\n",
    "\t\t\n",
    "                if self.map[key_hash] is None:\n",
    "                        return False\n",
    "                for i in range (0, len(self.map[key_hash])):\n",
    "                        if self.map[key_hash][i][0] == key:\n",
    "                                self.map[key_hash].pop(i)\n",
    "                                return True\n",
    "                return False\n",
    "\t\n",
    "        def keys(self):\n",
    "                arr = []\n",
    "                for i in range(0, len(self.map)):\n",
    "                        if self.map[i]:\n",
    "                                arr.append(self.map[i][0])\n",
    "                return arr\n",
    "\t\t\t\n",
    "        def print(self):\n",
    "                print('---PHONEBOOK----')\n",
    "                for item in self.map:\n",
    "                        if item is not None:\n",
    "                                print(str(item))\n",
    "\t\t\t\n"
   ]
  },
  {
   "cell_type": "code",
   "execution_count": 48,
   "metadata": {},
   "outputs": [
    {
     "name": "stdout",
     "output_type": "stream",
     "text": [
      "0\n",
      "66\n",
      "177\n",
      "0\n",
      "77\n",
      "182\n",
      "292\n",
      "0\n",
      "77\n",
      "182\n",
      "292\n",
      "0\n",
      "65\n",
      "175\n",
      "282\n",
      "387\n",
      "0\n",
      "65\n",
      "165\n",
      "270\n",
      "386\n",
      "507\n",
      "0\n",
      "65\n",
      "173\n",
      "278\n",
      "377\n",
      "482\n",
      "0\n",
      "77\n",
      "182\n",
      "289\n",
      "0\n",
      "65\n",
      "165\n",
      "270\n",
      "386\n",
      "507\n",
      "---PHONEBOOK----\n",
      "[['Mike', '567-2188']]\n",
      "[['Alicia', '632-4123']]\n",
      "[['Aditya', '777-8888']]\n",
      "[['Bob', '567-8888'], ['Ming', '333-8233'], ['Ankit', '293-8625']]\n",
      "0\n",
      "66\n",
      "177\n",
      "---PHONEBOOK----\n",
      "[['Mike', '567-2188']]\n",
      "[['Alicia', '632-4123']]\n",
      "[['Aditya', '777-8888']]\n",
      "[['Ming', '333-8233'], ['Ankit', '293-8625']]\n",
      "0\n",
      "77\n",
      "182\n",
      "292\n",
      "Ming: 333-8233\n",
      "[['Mike', '567-2188'], ['Alicia', '632-4123'], ['Aditya', '777-8888'], ['Ming', '333-8233']]\n"
     ]
    }
   ],
   "source": [
    "h = HashMap()\n",
    "h.add('Bob', '567-8888')\n",
    "h.add('Ming', '293-6753')\n",
    "h.add('Ming', '333-8233')\n",
    "h.add('Ankit', '293-8625')\n",
    "h.add('Aditya', '852-6551')\n",
    "h.add('Alicia', '632-4123')\n",
    "h.add('Mike', '567-2188')\n",
    "h.add('Aditya', '777-8888')\n",
    "h.print()\t\t\n",
    "h.delete('Bob')\n",
    "h.print()\n",
    "print('Ming: ' + h.get('Ming'))\n",
    "print(h.keys())"
   ]
  },
  {
   "cell_type": "code",
   "execution_count": 49,
   "metadata": {},
   "outputs": [
    {
     "ename": "NameError",
     "evalue": "name 'hashMap' is not defined",
     "output_type": "error",
     "traceback": [
      "\u001b[0;31m---------------------------------------------------------------------------\u001b[0m",
      "\u001b[0;31mNameError\u001b[0m                                 Traceback (most recent call last)",
      "\u001b[0;32m<ipython-input-49-3d22119daa47>\u001b[0m in \u001b[0;36m<module>\u001b[0;34m\u001b[0m\n\u001b[0;32m----> 1\u001b[0;31m \u001b[0mlen\u001b[0m\u001b[0;34m(\u001b[0m\u001b[0mhashMap\u001b[0m\u001b[0;34m)\u001b[0m\u001b[0;34m\u001b[0m\u001b[0;34m\u001b[0m\u001b[0m\n\u001b[0m",
      "\u001b[0;31mNameError\u001b[0m: name 'hashMap' is not defined"
     ]
    }
   ],
   "source": [
    "len(hashMap)"
   ]
  },
  {
   "cell_type": "code",
   "execution_count": 1,
   "metadata": {},
   "outputs": [],
   "source": [
    "class HashMap(object):\n",
    "    def __init__(this):\n",
    "        this.hashMap = [[] for i in range(256)]\n",
    "        \n",
    "    def insert(this,key,val):\n",
    "        hash_key = hash(key) % len(this.hashMap)\n",
    "        key_exists = False\n",
    "        bucket = this.hashMap[hash_key]\n",
    "        \n",
    "        for i, kv in enumerate(bucket):\n",
    "\n",
    "            k, v = kv\n",
    "            if key == k:\n",
    "                key_exists = True\n",
    "                break\n",
    "        if key_exists:\n",
    "            print(\"1st\")\n",
    "            bucket[i] = ((key, val))\n",
    "            \n",
    "        else:\n",
    "            print(\"2nd\")\n",
    "            bucket.append((key,val))        \n",
    "    \n",
    "    def retrieve(this, key):\n",
    "        hash_key = hash(key) % len(this.hashMap)\n",
    "        bucket = this.hashMap[hash_key]\n",
    "        for i, kv in enumerate(bucket):\n",
    "            k, v = kv\n",
    "            return v\n",
    "        raise KeyError        "
   ]
  },
  {
   "cell_type": "code",
   "execution_count": 2,
   "metadata": {},
   "outputs": [],
   "source": [
    "test = HashMap()\n"
   ]
  },
  {
   "cell_type": "code",
   "execution_count": 3,
   "metadata": {},
   "outputs": [
    {
     "name": "stdout",
     "output_type": "stream",
     "text": [
      "2nd\n"
     ]
    }
   ],
   "source": [
    "test.insert(\"abcd\",40)"
   ]
  },
  {
   "cell_type": "code",
   "execution_count": 53,
   "metadata": {},
   "outputs": [
    {
     "data": {
      "text/plain": [
       "40"
      ]
     },
     "execution_count": 53,
     "metadata": {},
     "output_type": "execute_result"
    }
   ],
   "source": [
    "test.retrieve(\"abcd\")"
   ]
  },
  {
   "cell_type": "code",
   "execution_count": 54,
   "metadata": {},
   "outputs": [
    {
     "data": {
      "text/plain": [
       "[2, 4]"
      ]
     },
     "execution_count": 54,
     "metadata": {},
     "output_type": "execute_result"
    }
   ],
   "source": [
    "arr = [2,3,4]\n",
    "arr.remove(3)\n",
    "arr"
   ]
  },
  {
   "cell_type": "code",
   "execution_count": 55,
   "metadata": {},
   "outputs": [
    {
     "ename": "NameError",
     "evalue": "name 'Counter' is not defined",
     "output_type": "error",
     "traceback": [
      "\u001b[0;31m---------------------------------------------------------------------------\u001b[0m",
      "\u001b[0;31mNameError\u001b[0m                                 Traceback (most recent call last)",
      "\u001b[0;32m<ipython-input-55-56419cfd6580>\u001b[0m in \u001b[0;36m<module>\u001b[0;34m\u001b[0m\n\u001b[0;32m----> 1\u001b[0;31m \u001b[0mc\u001b[0m \u001b[0;34m=\u001b[0m \u001b[0mCounter\u001b[0m\u001b[0;34m(\u001b[0m\u001b[0;34m[\u001b[0m\u001b[0;36m2\u001b[0m\u001b[0;34m,\u001b[0m\u001b[0;36m2\u001b[0m\u001b[0;34m,\u001b[0m\u001b[0;36m3\u001b[0m\u001b[0;34m,\u001b[0m\u001b[0;36m4\u001b[0m\u001b[0;34m]\u001b[0m\u001b[0;34m)\u001b[0m\u001b[0;34m\u001b[0m\u001b[0;34m\u001b[0m\u001b[0m\n\u001b[0m",
      "\u001b[0;31mNameError\u001b[0m: name 'Counter' is not defined"
     ]
    }
   ],
   "source": [
    "c = Counter([2,2,3,4])"
   ]
  },
  {
   "cell_type": "code",
   "execution_count": 56,
   "metadata": {},
   "outputs": [
    {
     "ename": "NameError",
     "evalue": "name 'c' is not defined",
     "output_type": "error",
     "traceback": [
      "\u001b[0;31m---------------------------------------------------------------------------\u001b[0m",
      "\u001b[0;31mNameError\u001b[0m                                 Traceback (most recent call last)",
      "\u001b[0;32m<ipython-input-56-e202c35043c4>\u001b[0m in \u001b[0;36m<module>\u001b[0;34m\u001b[0m\n\u001b[0;32m----> 1\u001b[0;31m \u001b[0mc\u001b[0m\u001b[0;34m.\u001b[0m\u001b[0mmost_common\u001b[0m\u001b[0;34m(\u001b[0m\u001b[0;34m)\u001b[0m\u001b[0;34m[\u001b[0m\u001b[0;36m0\u001b[0m\u001b[0;34m]\u001b[0m\u001b[0;34m\u001b[0m\u001b[0;34m\u001b[0m\u001b[0m\n\u001b[0m",
      "\u001b[0;31mNameError\u001b[0m: name 'c' is not defined"
     ]
    }
   ],
   "source": [
    "c.most_common()[0]\n"
   ]
  },
  {
   "cell_type": "code",
   "execution_count": 57,
   "metadata": {},
   "outputs": [],
   "source": [
    "arr1 = [3,4,5,6]\n",
    "arr2 = [3,4]"
   ]
  },
  {
   "cell_type": "markdown",
   "metadata": {},
   "source": [
    "# quicksort"
   ]
  },
  {
   "cell_type": "code",
   "execution_count": 59,
   "metadata": {},
   "outputs": [],
   "source": [
    "def partition(xs, start, end):\n",
    "    follower = leader = start\n",
    "    print(\"leader:\",leader)\n",
    "    while leader < end:\n",
    "        if xs[leader] <= xs[end]:\n",
    "            xs[follower], xs[leader]    =    xs[leader], xs[follower]\n",
    "            follower += 1\n",
    "        leader += 1\n",
    "    xs[follower], xs[end] = xs[end], xs[follower]\n",
    "    print(\"follower:\",follower)\n",
    "    return follower\n",
    "\n",
    "def _quicksort(xs, start, end):\n",
    "    if start >= end:\n",
    "        return\n",
    "    p = partition(xs, start, end)\n",
    "    print(\"partition:\",p)\n",
    "    _quicksort(xs, start, p-1)\n",
    "    _quicksort(xs, p+1, end)\n",
    "    \n",
    "def quicksort(xs):\n",
    "    _quicksort(xs, 0, len(xs)-1)"
   ]
  },
  {
   "cell_type": "code",
   "execution_count": 60,
   "metadata": {},
   "outputs": [
    {
     "name": "stdout",
     "output_type": "stream",
     "text": [
      "leader: 0\n",
      "follower: 1\n",
      "partition: 1\n",
      "leader: 2\n",
      "follower: 2\n",
      "partition: 2\n",
      "leader: 3\n",
      "follower: 3\n",
      "partition: 3\n",
      "leader: 4\n",
      "follower: 4\n",
      "partition: 4\n"
     ]
    }
   ],
   "source": [
    "arr = [10, 7, 8, 9, 1, 5]\n",
    "quicksort(arr)"
   ]
  },
  {
   "cell_type": "code",
   "execution_count": 82,
   "metadata": {},
   "outputs": [
    {
     "data": {
      "text/plain": [
       "4"
      ]
     },
     "execution_count": 82,
     "metadata": {},
     "output_type": "execute_result"
    }
   ],
   "source": [
    "arr = [1,2,3,4]\n",
    "arr[-1]"
   ]
  },
  {
   "cell_type": "code",
   "execution_count": 92,
   "metadata": {},
   "outputs": [],
   "source": [
    "def partition(arr,low,high): \n",
    "    i = ( low-1 )         # index of smaller element --- -1\n",
    "    pivot = arr[high]     # pivot last element ------ last element\n",
    "    #print(\"i = \",i)\n",
    "    for j in range(low , high): #---# 0 to last element.  j = 0\n",
    "        # If current element is smaller than or \n",
    "        # equal to pivot \n",
    "        if   arr[j] <= pivot: \n",
    "          \n",
    "            # increment index of smaller element \n",
    "            i = i+1 \n",
    "            print(\"before\")\n",
    "            print(arr[i])\n",
    "            print(arr[j])\n",
    "            arr[i],arr[j] = arr[j],arr[i] \n",
    "            print(\"after\")\n",
    "            print(arr[i])\n",
    "            print(arr[j])\n",
    "    print(\"arrBefore = \",arr)\n",
    "    arr[i+1],arr[high] = arr[high],arr[i+1]\n",
    "    print(\"arrAfter = \",arr)\n",
    "    #print(\"return\" , i+1)\n",
    "    return ( i+1 ) \n",
    "  \n",
    "# The main function that implements QuickSort \n",
    "# arr[] --> Array to be sorted, \n",
    "# low  --> Starting index, \n",
    "# high  --> Ending index \n",
    "  \n",
    "# Function to do Quick sort \n",
    "def quickSort(arr,low,high): \n",
    "    if low < high: \n",
    "  \n",
    "        # pi is partitioning index, arr[p] is now \n",
    "        # at right place \n",
    "        pi = partition(arr,low,high) \n",
    "        print(\"partition = \", pi)\n",
    "        # Separately sort elements before \n",
    "        # partition and after partition \n",
    "        quickSort(arr, low, pi-1) \n",
    "        quickSort(arr, pi+1, high) "
   ]
  },
  {
   "cell_type": "code",
   "execution_count": 93,
   "metadata": {},
   "outputs": [],
   "source": [
    "arr = [10, 80, 30, 90, 40, 50,70] \n",
    "n = len(arr) \n"
   ]
  },
  {
   "cell_type": "code",
   "execution_count": 94,
   "metadata": {},
   "outputs": [
    {
     "name": "stdout",
     "output_type": "stream",
     "text": [
      "before\n",
      "10\n",
      "10\n",
      "after\n",
      "10\n",
      "10\n",
      "before\n",
      "80\n",
      "30\n",
      "after\n",
      "30\n",
      "80\n",
      "before\n",
      "80\n",
      "40\n",
      "after\n",
      "40\n",
      "80\n",
      "before\n",
      "90\n",
      "50\n",
      "after\n",
      "50\n",
      "90\n",
      "arrBefore =  [10, 30, 40, 50, 80, 90, 70]\n",
      "arrAfter =  [10, 30, 40, 50, 70, 90, 80]\n",
      "partition =  4\n",
      "before\n",
      "10\n",
      "10\n",
      "after\n",
      "10\n",
      "10\n",
      "before\n",
      "30\n",
      "30\n",
      "after\n",
      "30\n",
      "30\n",
      "before\n",
      "40\n",
      "40\n",
      "after\n",
      "40\n",
      "40\n",
      "arrBefore =  [10, 30, 40, 50, 70, 90, 80]\n",
      "arrAfter =  [10, 30, 40, 50, 70, 90, 80]\n",
      "partition =  3\n",
      "before\n",
      "10\n",
      "10\n",
      "after\n",
      "10\n",
      "10\n",
      "before\n",
      "30\n",
      "30\n",
      "after\n",
      "30\n",
      "30\n",
      "arrBefore =  [10, 30, 40, 50, 70, 90, 80]\n",
      "arrAfter =  [10, 30, 40, 50, 70, 90, 80]\n",
      "partition =  2\n",
      "before\n",
      "10\n",
      "10\n",
      "after\n",
      "10\n",
      "10\n",
      "arrBefore =  [10, 30, 40, 50, 70, 90, 80]\n",
      "arrAfter =  [10, 30, 40, 50, 70, 90, 80]\n",
      "partition =  1\n",
      "arrBefore =  [10, 30, 40, 50, 70, 90, 80]\n",
      "arrAfter =  [10, 30, 40, 50, 70, 80, 90]\n",
      "partition =  5\n"
     ]
    }
   ],
   "source": [
    "quickSort(arr,0,n-1) "
   ]
  },
  {
   "cell_type": "code",
   "execution_count": 65,
   "metadata": {},
   "outputs": [
    {
     "data": {
      "text/plain": [
       "[10, 30, 40, 50, 70, 80, 90]"
      ]
     },
     "execution_count": 65,
     "metadata": {},
     "output_type": "execute_result"
    }
   ],
   "source": [
    "arr"
   ]
  },
  {
   "cell_type": "code",
   "execution_count": 64,
   "metadata": {},
   "outputs": [],
   "source": [
    "def prod(a,b):\n",
    "\n",
    "    if a <=1:\n",
    "        \n",
    "        return 1\n",
    "    \n",
    "    else:\n",
    "        return a + prod(a-1,b)"
   ]
  },
  {
   "cell_type": "code",
   "execution_count": 65,
   "metadata": {},
   "outputs": [],
   "source": [
    "def recurSum(n):\n",
    "    if n <= 1:\n",
    "        return n\n",
    "    return n + recurSum(n-1)\n",
    "    "
   ]
  },
  {
   "cell_type": "code",
   "execution_count": 66,
   "metadata": {},
   "outputs": [],
   "source": [
    "def recurMult(a,b):\n",
    "    if b <=0:\n",
    "        return 0\n",
    "    #b = 1\n",
    "    return a + recurMult(a,b-1)"
   ]
  },
  {
   "cell_type": "code",
   "execution_count": 67,
   "metadata": {},
   "outputs": [
    {
     "data": {
      "text/plain": [
       "15"
      ]
     },
     "execution_count": 67,
     "metadata": {},
     "output_type": "execute_result"
    }
   ],
   "source": [
    "recurMult(5,3)"
   ]
  },
  {
   "cell_type": "code",
   "execution_count": 68,
   "metadata": {},
   "outputs": [
    {
     "data": {
      "text/plain": [
       "17"
      ]
     },
     "execution_count": 68,
     "metadata": {},
     "output_type": "execute_result"
    }
   ],
   "source": [
    "def fun1(x:int, y:int):\n",
    "\n",
    "  if x <= 0:\n",
    "    return y\n",
    "  else:\n",
    "    return x + fun1(x - 1,   y) \n",
    " \n",
    "fun1(5,2)"
   ]
  },
  {
   "cell_type": "code",
   "execution_count": 1166,
   "metadata": {},
   "outputs": [],
   "source": [
    "class BinaryNode():\n",
    "    def __init__(this,data):\n",
    "        \n",
    "        this.left = None\n",
    "        this.right = None\n",
    "        this.val = data\n",
    "    \n",
    "    def insert(this,data):\n",
    "        if this.val:\n",
    "            if data < this.val:\n",
    "                if this.left is None:\n",
    "                    \n",
    "                    this.left = BinaryNode(data)\n",
    "                else:\n",
    "                    this.left.insert(data)\n",
    "            elif data > this.val:\n",
    "                if this.right is None:\n",
    "                    this.right = BinaryNode(data)\n",
    "                else:\n",
    "                    this.right.insert(data)\n",
    "                    \n",
    "    def printTree(this):\n",
    "        if this.left:\n",
    "            this.left.printTree()\n",
    "        print(this.val)\n",
    "        if this.right:\n",
    "            this.right.printTree() \n",
    "     \n",
    "    def inOrderTraversal(this,root):\n",
    "        arr = []\n",
    "        \n",
    "        if root is not None:\n",
    "            arr = this.inOrderTraversal(root.left)\n",
    "            arr.append(root.val)\n",
    "            arr += this.inOrderTraversal(root.right)\n",
    "        return arr\n",
    "    \n",
    "    def preOrderTraversal(this,root):\n",
    "        arr = []\n",
    "        if root:\n",
    "            arr.append(root.val)\n",
    "            arr += this.preOrderTraversal(root.left)\n",
    "            arr += this.preOrderTraversal(root.right)\n",
    "        return arr \n",
    "    \n",
    "    def postOrderTraversal(this,root):\n",
    "        arr = []\n",
    "        if root:\n",
    "            arr += this.postOrderTraversal(root.left)\n",
    "            arr += this.postOrderTraversal(root.right)\n",
    "            arr.append(root.val)\n",
    "        return arr    "
   ]
  },
  {
   "cell_type": "code",
   "execution_count": 1167,
   "metadata": {},
   "outputs": [],
   "source": [
    "root = BinaryNode(5)"
   ]
  },
  {
   "cell_type": "code",
   "execution_count": 1168,
   "metadata": {},
   "outputs": [],
   "source": [
    "root.insert(4)\n",
    "root.insert(5)\n",
    "root.insert(2)\n",
    "root.insert(1)\n",
    "root.insert(9)\n",
    "root.insert(8)\n",
    "root.insert(3)"
   ]
  },
  {
   "cell_type": "code",
   "execution_count": 1169,
   "metadata": {},
   "outputs": [
    {
     "name": "stdout",
     "output_type": "stream",
     "text": [
      "1\n",
      "2\n",
      "3\n",
      "4\n",
      "5\n",
      "8\n",
      "9\n"
     ]
    }
   ],
   "source": [
    "root.printTree()"
   ]
  },
  {
   "cell_type": "markdown",
   "metadata": {},
   "source": [
    "        5\n",
    "      4   9\n",
    "    2    8\n",
    "  1"
   ]
  },
  {
   "cell_type": "code",
   "execution_count": 1170,
   "metadata": {},
   "outputs": [
    {
     "data": {
      "text/plain": [
       "[1, 2, 3, 4, 5, 8, 9]"
      ]
     },
     "execution_count": 1170,
     "metadata": {},
     "output_type": "execute_result"
    }
   ],
   "source": [
    "root.inOrderTraversal(root)"
   ]
  },
  {
   "cell_type": "code",
   "execution_count": 1159,
   "metadata": {},
   "outputs": [
    {
     "data": {
      "text/plain": [
       "[5, 4, 2, 1, 9, 8]"
      ]
     },
     "execution_count": 1159,
     "metadata": {},
     "output_type": "execute_result"
    }
   ],
   "source": [
    "root.preOrderTraversal(root)"
   ]
  },
  {
   "cell_type": "code",
   "execution_count": 1160,
   "metadata": {},
   "outputs": [
    {
     "data": {
      "text/plain": [
       "[1, 2, 4, 8, 9, 5]"
      ]
     },
     "execution_count": 1160,
     "metadata": {},
     "output_type": "execute_result"
    }
   ],
   "source": [
    "root.postOrderTraversal(root)"
   ]
  },
  {
   "cell_type": "markdown",
   "metadata": {},
   "source": [
    "# Generate Graph"
   ]
  },
  {
   "cell_type": "code",
   "execution_count": 5,
   "metadata": {},
   "outputs": [],
   "source": [
    "from collections import defaultdict\n",
    "class Graph():\n",
    "    def __init__(this):\n",
    "        this.graph = defaultdict(list)\n",
    "        \n",
    "    def addEdge(this,u,v):\n",
    "        this.graph[u] = v"
   ]
  },
  {
   "cell_type": "code",
   "execution_count": 6,
   "metadata": {},
   "outputs": [],
   "source": [
    "g = Graph()\n",
    "g.addEdge('a',['b','c','d'])\n",
    "g.addEdge('b',['f','g'])\n",
    "g.addEdge('c',[])\n",
    "g.addEdge('d',['h'])"
   ]
  },
  {
   "cell_type": "code",
   "execution_count": 10,
   "metadata": {},
   "outputs": [
    {
     "data": {
      "text/plain": [
       "defaultdict(list, {'a': ['b', 'c', 'd'], 'b': ['f', 'g'], 'c': [], 'd': ['h']})"
      ]
     },
     "execution_count": 10,
     "metadata": {},
     "output_type": "execute_result"
    }
   ],
   "source": [
    "g.graph"
   ]
  },
  {
   "cell_type": "markdown",
   "metadata": {},
   "source": [
    "        a\n",
    "    b   c   d\n",
    "  f  g        h"
   ]
  },
  {
   "cell_type": "markdown",
   "metadata": {},
   "source": [
    "# BFS"
   ]
  },
  {
   "cell_type": "code",
   "execution_count": 18,
   "metadata": {},
   "outputs": [],
   "source": [
    "from collections import deque\n",
    "\n",
    "def BFS(graph,root):\n",
    "    visited = []\n",
    "    queue = deque([root])\n",
    "    visited.append(root)\n",
    "    \n",
    "    while queue:\n",
    "        vertex = queue.popleft()\n",
    "        \n",
    "        for neighbour in graph[vertex]:\n",
    "            if neighbour not in visited:\n",
    "                visited.append(neighbour)\n",
    "                queue.append(neighbour)\n",
    "                \n",
    "    return visited             \n",
    "    "
   ]
  },
  {
   "cell_type": "code",
   "execution_count": 19,
   "metadata": {},
   "outputs": [
    {
     "data": {
      "text/plain": [
       "['a', 'b', 'c', 'd', 'f', 'g', 'h']"
      ]
     },
     "execution_count": 19,
     "metadata": {},
     "output_type": "execute_result"
    }
   ],
   "source": [
    "BFS(g.graph,'a')"
   ]
  },
  {
   "cell_type": "markdown",
   "metadata": {},
   "source": [
    "# DFS"
   ]
  },
  {
   "cell_type": "code",
   "execution_count": 14,
   "metadata": {},
   "outputs": [],
   "source": [
    "visited = [] # Array to keep track of visited nodes.\n",
    "\n",
    "def dfs(visited, graph, node):\n",
    "    \n",
    "    if node not in visited:\n",
    "        print(node),\n",
    "        visited.append(node)\n",
    "        \n",
    "        for neighbour in graph[node]:\n",
    "            dfs(visited, graph, neighbour)\n",
    "    return visited\n"
   ]
  },
  {
   "cell_type": "code",
   "execution_count": 15,
   "metadata": {},
   "outputs": [
    {
     "name": "stdout",
     "output_type": "stream",
     "text": [
      "a\n",
      "b\n",
      "f\n",
      "g\n",
      "c\n",
      "d\n",
      "h\n"
     ]
    },
    {
     "data": {
      "text/plain": [
       "['a', 'b', 'f', 'g', 'c', 'd', 'h']"
      ]
     },
     "execution_count": 15,
     "metadata": {},
     "output_type": "execute_result"
    }
   ],
   "source": [
    "# Driver Code\n",
    "dfs(visited, g.graph, 'a')"
   ]
  },
  {
   "cell_type": "code",
   "execution_count": 190,
   "metadata": {},
   "outputs": [
    {
     "data": {
      "text/plain": [
       "defaultdict(list,\n",
       "            {'a': ['b', 'c', 'd'],\n",
       "             'b': ['f', 'g'],\n",
       "             'c': [],\n",
       "             'd': ['h'],\n",
       "             'f': [],\n",
       "             'g': [],\n",
       "             'h': []})"
      ]
     },
     "execution_count": 190,
     "metadata": {},
     "output_type": "execute_result"
    }
   ],
   "source": [
    "g.graph"
   ]
  },
  {
   "cell_type": "code",
   "execution_count": 195,
   "metadata": {},
   "outputs": [
    {
     "name": "stdout",
     "output_type": "stream",
     "text": [
      "0 59 38 33 30 17 8 63 \n",
      "37 34 31 60 9 62 29 16 \n",
      "58 1 36 39 32 27 18 7 \n",
      "35 48 41 26 61 10 15 28 \n",
      "42 57 2 49 40 23 6 19 \n",
      "47 50 45 54 25 20 11 14 \n",
      "56 43 52 3 22 13 24 5 \n",
      "51 46 55 44 53 4 21 12 \n"
     ]
    }
   ],
   "source": [
    "# Python3 program to solve Knight Tour problem using Backtracking \n",
    "\n",
    "# Chessboard Size \n",
    "n = 8\n",
    "\n",
    "def isSafe(x,y,board): \n",
    "\t''' \n",
    "\t\tA utility function to check if i,j are valid indexes \n",
    "\t\tfor N*N chessboard \n",
    "\t'''\n",
    "\tif(x >= 0 and y >= 0 and x < n and y < n and board[x][y] == -1): \n",
    "\t\treturn True\n",
    "\treturn False\n",
    "\n",
    "def printSolution(board): \n",
    "\t''' \n",
    "\t\tA utility function to print Chessboard matrix \n",
    "\t'''\n",
    "\tfor i in range(n): \n",
    "\t\tfor j in range(n): \n",
    "\t\t\tprint(board[i][j],end =' ') \n",
    "\t\tprint() \n",
    "\n",
    "\n",
    "def solveKT(): \n",
    "\t''' \n",
    "\t\tThis function solves the Knight Tour problem using \n",
    "\t\tBacktracking. This function mainly uses solveKTUtil() \n",
    "\t\tto solve the problem. It returns false if no complete \n",
    "\t\ttour is possible, otherwise return true and prints the \n",
    "\t\ttour. \n",
    "\t\tPlease note that there may be more than one solutions, \n",
    "\t\tthis function prints one of the feasible solutions. \n",
    "\t'''\n",
    "\t\n",
    "\t# Initialization of Board matrix \n",
    "\tboard = [[-1 for i in range(n)]for i in range(n)] \n",
    "\t\n",
    "\t# move_x and move_y define next move of Knight. \n",
    "\t# move_x is for next value of x coordinate \n",
    "\t# move_y is for next value of y coordinate \n",
    "\tmove_x = [2, 1, -1, -2, -2, -1, 1, 2] \n",
    "\tmove_y = [1, 2, 2, 1, -1, -2, -2, -1] \n",
    "\t\n",
    "\t# Since the Knight is initially at the first block \n",
    "\tboard[0][0] = 0\n",
    "\t\n",
    "\t# Step counter for knight's position \n",
    "\tpos = 1\n",
    "\t\n",
    "\t# Checking if solution exists or not \n",
    "\tif(not solveKTUtil(board, 0, 0, move_x, move_y, pos)): \n",
    "\t\tprint(\"Solution does not exist\") \n",
    "\telse: \n",
    "\t\tprintSolution(board) \n",
    "\n",
    "def solveKTUtil(board,curr_x,curr_y,move_x,move_y,pos): \n",
    "\t''' \n",
    "\t\tA recursive utility function to solve Knight Tour \n",
    "\t\tproblem \n",
    "\t'''\n",
    "\t\n",
    "\tif(pos == n**2): \n",
    "\t\treturn True\n",
    "\t\n",
    "\t# Try all next moves from the current coordinate x, y \n",
    "\tfor i in range(8): \n",
    "\t\tnew_x = curr_x + move_x[i] \n",
    "\t\tnew_y = curr_y + move_y[i] \n",
    "\t\tif(isSafe(new_x,new_y,board)): \n",
    "\t\t\tboard[new_x][new_y] = pos \n",
    "\t\t\tif(solveKTUtil(board,new_x,new_y,move_x,move_y,pos+1)): \n",
    "\t\t\t\treturn True\n",
    "\t\t\t\n",
    "\t\t\t# Backtracking \n",
    "\t\t\tboard[new_x][new_y] = -1\n",
    "\treturn False\n",
    "\t\t\n",
    "# Driver program to test above function \n",
    "if __name__ == \"__main__\": \n",
    "\tsolveKT() \n",
    "\t\n",
    "# This code is contributed by AAKASH PAL \n"
   ]
  },
  {
   "cell_type": "code",
   "execution_count": 292,
   "metadata": {},
   "outputs": [],
   "source": [
    "def letterCombinations(digits: str):\n",
    "    phone = {'2': ['a', 'b', 'c'],\n",
    "             '3': ['d', 'e', 'f'],\n",
    "             '4': ['g', 'h', 'i'],\n",
    "             '5': ['j', 'k', 'l'],\n",
    "             '6': ['m', 'n', 'o'],\n",
    "             '7': ['p', 'q', 'r', 's'],\n",
    "             '8': ['t', 'u', 'v'],\n",
    "             '9': ['w', 'x', 'y', 'z']}\n",
    "    \n",
    "    \n",
    "    def backtrack(combination, next_digits):\n",
    "        # if there is no more digits to check\n",
    "\n",
    "        if len(next_digits) == 0:\n",
    "            # the combination is done\n",
    "            output.append(combination)\n",
    "        # if there are still digits to check\n",
    "        else:\n",
    "            # iterate over all letters which map \n",
    "            # the next available digit\n",
    "            for letter in phone[next_digits[0]]:\n",
    "                # append the current letter to the combination\n",
    "                # and proceed to the next digits\n",
    "                backtrack(combination + letter, next_digits[1:])\n",
    "                \n",
    "    output = []\n",
    "    if digits:\n",
    "        backtrack(\"\", digits)\n",
    "    return output"
   ]
  },
  {
   "cell_type": "code",
   "execution_count": 293,
   "metadata": {},
   "outputs": [
    {
     "data": {
      "text/plain": [
       "['adj',\n",
       " 'adk',\n",
       " 'adl',\n",
       " 'aej',\n",
       " 'aek',\n",
       " 'ael',\n",
       " 'afj',\n",
       " 'afk',\n",
       " 'afl',\n",
       " 'bdj',\n",
       " 'bdk',\n",
       " 'bdl',\n",
       " 'bej',\n",
       " 'bek',\n",
       " 'bel',\n",
       " 'bfj',\n",
       " 'bfk',\n",
       " 'bfl',\n",
       " 'cdj',\n",
       " 'cdk',\n",
       " 'cdl',\n",
       " 'cej',\n",
       " 'cek',\n",
       " 'cel',\n",
       " 'cfj',\n",
       " 'cfk',\n",
       " 'cfl']"
      ]
     },
     "execution_count": 293,
     "metadata": {},
     "output_type": "execute_result"
    }
   ],
   "source": [
    "letterCombinations(\"235\")"
   ]
  },
  {
   "cell_type": "code",
   "execution_count": 203,
   "metadata": {},
   "outputs": [],
   "source": [
    "\n",
    "phone = {'2': ['a', 'b', 'c'],\n",
    "\n",
    "         '3': ['d', 'e', 'f'],\n",
    "\n",
    "         '4': ['g', 'h', 'i'],\n",
    "\n",
    "         '5': ['j', 'k', 'l'],\n",
    "\n",
    "         '6': ['m', 'n', 'o'],\n",
    "\n",
    "         '7': ['p', 'q', 'r', 's'],\n",
    "\n",
    "         '8': ['t', 'u', 'v'],\n",
    "\n",
    "         '9': ['w', 'x', 'y', 'z']}"
   ]
  },
  {
   "cell_type": "code",
   "execution_count": 209,
   "metadata": {},
   "outputs": [
    {
     "data": {
      "text/plain": [
       "['d', 'e', 'f']"
      ]
     },
     "execution_count": 209,
     "metadata": {},
     "output_type": "execute_result"
    }
   ],
   "source": [
    "phone[\"23\"[1]]"
   ]
  },
  {
   "cell_type": "markdown",
   "metadata": {},
   "source": [
    "# backtrack permutation"
   ]
  },
  {
   "cell_type": "code",
   "execution_count": 556,
   "metadata": {},
   "outputs": [
    {
     "name": "stdout",
     "output_type": "stream",
     "text": [
      "['1', '2', '3']\n",
      "['1', '3', '2']\n",
      "['2', '1', '3']\n",
      "['2', '3', '1']\n",
      "['3', '1', '2']\n",
      "['3', '2', '1']\n"
     ]
    }
   ],
   "source": [
    "# Python function to print permutations of a given list \n",
    "def permutation(lst): \n",
    "  \n",
    "    if len(lst) == 0: \n",
    "        return [] \n",
    "  \n",
    "    if len(lst) == 1: \n",
    "        return [lst] \n",
    "\n",
    "  \n",
    "    l = [] \n",
    "    for i in range(len(lst)): \n",
    "       m = lst[i] \n",
    "       remLst = lst[:i] + lst[i+1:] \n",
    "       for p in permutation(remLst): \n",
    "           l.append([m] + p)\n",
    "            \n",
    "    return l \n",
    "  \n",
    "  \n",
    "# Driver program to test above function \n",
    "data = list('123') \n",
    "for p in permutation(data): \n",
    "    print(p)"
   ]
  },
  {
   "cell_type": "markdown",
   "metadata": {},
   "source": [
    "# backtrack combination sum"
   ]
  },
  {
   "cell_type": "code",
   "execution_count": 669,
   "metadata": {},
   "outputs": [],
   "source": [
    "class Solution:\n",
    "    def combinationSum(self, candidates, target):\n",
    "        res = []\n",
    "        candidates.sort()\n",
    "        self.backtrack(candidates, target, 0, [], res)\n",
    "        return res\n",
    "\n",
    "    def backtrack(self, candidates, target, index, path, res):\n",
    "        if target < 0:\n",
    "            return  # backtracking\n",
    "        if target == 0:\n",
    "            res.append(path)\n",
    "            return \n",
    "        for i in range(index, len(candidates)):\n",
    "            \n",
    "            self.backtrack(candidates, target-candidates[i], i+1, path+[candidates[i]], res)"
   ]
  },
  {
   "cell_type": "code",
   "execution_count": 670,
   "metadata": {},
   "outputs": [
    {
     "data": {
      "text/plain": [
       "[[2, 3, 5], [3, 7], [4, 6]]"
      ]
     },
     "execution_count": 670,
     "metadata": {},
     "output_type": "execute_result"
    }
   ],
   "source": [
    "s = Solution()\n",
    "s.combinationSum([2,3,4,5,6,7],10)"
   ]
  },
  {
   "cell_type": "code",
   "execution_count": 717,
   "metadata": {},
   "outputs": [],
   "source": [
    "import re\n",
    "\n",
    "txt = \"tdhe rain in Spain\""
   ]
  },
  {
   "cell_type": "code",
   "execution_count": 729,
   "metadata": {},
   "outputs": [
    {
     "data": {
      "text/plain": [
       "<re.Match object; span=(0, 1), match='9'>"
      ]
     },
     "execution_count": 729,
     "metadata": {},
     "output_type": "execute_result"
    }
   ],
   "source": [
    "re.search(\"[0-9]\",\"92.3\")"
   ]
  },
  {
   "cell_type": "code",
   "execution_count": 733,
   "metadata": {},
   "outputs": [],
   "source": [
    "a = defaultdict()\n",
    "a['A'] = \"present\"\n",
    "a['B'] = \"present\""
   ]
  },
  {
   "cell_type": "code",
   "execution_count": 745,
   "metadata": {},
   "outputs": [
    {
     "name": "stdout",
     "output_type": "stream",
     "text": [
      "yes\n"
     ]
    }
   ],
   "source": [
    "if 'D'not in a:\n",
    "    print(\"yes\")"
   ]
  },
  {
   "cell_type": "markdown",
   "metadata": {},
   "source": [
    "# longest substring"
   ]
  },
  {
   "cell_type": "code",
   "execution_count": 746,
   "metadata": {},
   "outputs": [],
   "source": [
    "from collections import defaultdict\n",
    "class Solution:\n",
    "    \n",
    "    def lengthOfLongestSubstring(self, s: str) -> int:\n",
    "        \n",
    "        \n",
    "        arrS = list(s)\n",
    "        result = 0\n",
    "        \n",
    "            # not present in dictionary\n",
    "\n",
    "         \n",
    "        def longestString(arrS,result):\n",
    "            visited = defaultdict(list)\n",
    "      \n",
    "            if len(arrS) == 0:\n",
    "                return result\n",
    "            else:\n",
    "                for i in range(0,len(arrS)):\n",
    "                    # not present in dictionary            \n",
    "                    if arrS[i] not in visited:\n",
    "\n",
    "                        visited[arrS[i]] = i\n",
    "                        if result < len(visited):\n",
    "                            result = len(visited)  \n",
    "                        if i ==  len(arrS) - 1:\n",
    "                            return result\n",
    "                    else:\n",
    "                        # if present\n",
    "                        if result < len(visited):\n",
    "                            result = len(visited)\n",
    "                        return longestString(arrS[visited[arrS[i]]+1:],result)\n",
    "                        \n",
    "        result = longestString(arrS,result)           \n",
    "        return result"
   ]
  },
  {
   "cell_type": "code",
   "execution_count": 750,
   "metadata": {},
   "outputs": [
    {
     "data": {
      "text/plain": [
       "'ff gg'"
      ]
     },
     "execution_count": 750,
     "metadata": {},
     "output_type": "execute_result"
    }
   ],
   "source": [
    "\"  ff gg  \".strip()"
   ]
  },
  {
   "cell_type": "code",
   "execution_count": 751,
   "metadata": {},
   "outputs": [],
   "source": [
    "import re\n"
   ]
  },
  {
   "cell_type": "code",
   "execution_count": 752,
   "metadata": {},
   "outputs": [],
   "source": [
    "def myAtoi(self, str: str) -> int:\n",
    "    str = str.strip()\n",
    "    str = re.findall('(^[\\+\\-0]*\\d+)\\D*', str)\n",
    "\n",
    "    try:\n",
    "        result = int(''.join(str))\n",
    "        MAX_INT = 2147483647\n",
    "        MIN_INT = -2147483648\n",
    "        if result > MAX_INT > 0:\n",
    "            return MAX_INT\n",
    "        elif result < MIN_INT < 0:\n",
    "            return MIN_INT\n",
    "        else:\n",
    "            return result\n",
    "    except:\n",
    "        return 0"
   ]
  },
  {
   "cell_type": "code",
   "execution_count": 760,
   "metadata": {},
   "outputs": [
    {
     "data": {
      "text/plain": [
       "['-42']"
      ]
     },
     "execution_count": 760,
     "metadata": {},
     "output_type": "execute_result"
    }
   ],
   "source": [
    "str = \"-42\"\n",
    "str = str.strip()\n",
    "str = re.findall('(^[\\+\\-0]*\\d+)\\D*', str)\n",
    "str"
   ]
  },
  {
   "cell_type": "code",
   "execution_count": 762,
   "metadata": {},
   "outputs": [
    {
     "data": {
      "text/plain": [
       "dict_keys(['A', 'B', 'C'])"
      ]
     },
     "execution_count": 762,
     "metadata": {},
     "output_type": "execute_result"
    }
   ],
   "source": [
    "a.keys()"
   ]
  },
  {
   "cell_type": "markdown",
   "metadata": {},
   "source": [
    "# reverse linked list"
   ]
  },
  {
   "cell_type": "code",
   "execution_count": 76,
   "metadata": {},
   "outputs": [],
   "source": [
    "class singlyLinkedList():\n",
    "    def __init__(this,val):\n",
    "        this.val = val\n",
    "        this.next = None\n",
    "    \n",
    "    \n",
    "    def addNode(this,root,val):\n",
    "        \n",
    "        if root.next is None:\n",
    "            \n",
    "            root.next = singlyLinkedList(val)\n",
    "            \n",
    "        else:\n",
    "            \n",
    "            this.addNode(root.next,val)\n",
    "            \n",
    "        \n",
    "    def getNodes(this,root):\n",
    "        arr = []\n",
    "        if root is not None:\n",
    "            arr.append(root.val)\n",
    "            arr += this.getNodes(root.next)\n",
    "            \n",
    "        return arr\n",
    "            \n",
    "            \n",
    "    def reverseNodes(this,root):\n",
    "        \n",
    "        if root.next is not None:\n",
    "            \n",
    "            this.getNodes(root.next)\n",
    "            return root.val         "
   ]
  },
  {
   "cell_type": "code",
   "execution_count": 77,
   "metadata": {},
   "outputs": [],
   "source": [
    "s = singlyLinkedList(1)"
   ]
  },
  {
   "cell_type": "code",
   "execution_count": 78,
   "metadata": {},
   "outputs": [],
   "source": [
    "s.addNode(s,2)\n",
    "s.addNode(s,3)\n",
    "s.addNode(s,4)\n",
    "s.addNode(s,5)"
   ]
  },
  {
   "cell_type": "code",
   "execution_count": 79,
   "metadata": {},
   "outputs": [
    {
     "data": {
      "text/plain": [
       "[1, 2, 3, 4, 5]"
      ]
     },
     "execution_count": 79,
     "metadata": {},
     "output_type": "execute_result"
    }
   ],
   "source": [
    "s.getNodes(s)"
   ]
  },
  {
   "cell_type": "code",
   "execution_count": 81,
   "metadata": {},
   "outputs": [
    {
     "data": {
      "text/plain": [
       "1"
      ]
     },
     "execution_count": 81,
     "metadata": {},
     "output_type": "execute_result"
    }
   ],
   "source": [
    "s.reverseNodes(s)"
   ]
  },
  {
   "cell_type": "code",
   "execution_count": 847,
   "metadata": {},
   "outputs": [],
   "source": [
    "arr = [[2,3,4],[2,3,4],[2,5,4]]"
   ]
  },
  {
   "cell_type": "code",
   "execution_count": 3,
   "metadata": {},
   "outputs": [],
   "source": [
    "a = {}\n",
    "a[tuple([2,3,4])] = 1"
   ]
  },
  {
   "cell_type": "code",
   "execution_count": 4,
   "metadata": {},
   "outputs": [
    {
     "data": {
      "text/plain": [
       "{(2, 3, 4): 1}"
      ]
     },
     "execution_count": 4,
     "metadata": {},
     "output_type": "execute_result"
    }
   ],
   "source": [
    "a"
   ]
  },
  {
   "cell_type": "code",
   "execution_count": 863,
   "metadata": {},
   "outputs": [
    {
     "name": "stdout",
     "output_type": "stream",
     "text": [
      "yes\n"
     ]
    }
   ],
   "source": [
    "if [-1,0,1] in a:\n",
    "    print(\"yes\")"
   ]
  },
  {
   "cell_type": "code",
   "execution_count": 864,
   "metadata": {},
   "outputs": [],
   "source": [
    "a = [0,0,1,1,1,2,2]"
   ]
  },
  {
   "cell_type": "code",
   "execution_count": 865,
   "metadata": {},
   "outputs": [
    {
     "data": {
      "text/plain": [
       "1"
      ]
     },
     "execution_count": 865,
     "metadata": {},
     "output_type": "execute_result"
    }
   ],
   "source": [
    "a.pop(2)"
   ]
  },
  {
   "cell_type": "code",
   "execution_count": 869,
   "metadata": {},
   "outputs": [],
   "source": [
    "a = defaultdict(list)"
   ]
  },
  {
   "cell_type": "code",
   "execution_count": 893,
   "metadata": {},
   "outputs": [],
   "source": [
    "carry = 2"
   ]
  },
  {
   "cell_type": "code",
   "execution_count": 897,
   "metadata": {},
   "outputs": [
    {
     "data": {
      "text/plain": [
       "1"
      ]
     },
     "execution_count": 897,
     "metadata": {},
     "output_type": "execute_result"
    }
   ],
   "source": [
    "2 // 2"
   ]
  },
  {
   "cell_type": "code",
   "execution_count": 904,
   "metadata": {},
   "outputs": [],
   "source": [
    "wrd = \" astala vista baby!   \""
   ]
  },
  {
   "cell_type": "code",
   "execution_count": 923,
   "metadata": {},
   "outputs": [],
   "source": [
    "import math\n",
    "def avgWordLength(wrd):\n",
    "    wrd = wrd.strip()\n",
    "    \n",
    "    result = 0\n",
    "    for i in wrd.split(\" \"):\n",
    "        print(len(list(i)))\n",
    "        result += len(list(i))\n",
    "    \n",
    "    return math.floor(result/len(wrd.split(\" \")))\n",
    "    "
   ]
  },
  {
   "cell_type": "code",
   "execution_count": 924,
   "metadata": {},
   "outputs": [
    {
     "name": "stdout",
     "output_type": "stream",
     "text": [
      "6\n",
      "5\n",
      "5\n"
     ]
    },
    {
     "data": {
      "text/plain": [
       "5"
      ]
     },
     "execution_count": 924,
     "metadata": {},
     "output_type": "execute_result"
    }
   ],
   "source": [
    "avgWordLength(wrd)"
   ]
  },
  {
   "cell_type": "markdown",
   "metadata": {},
   "source": [
    "# alphabet with highest neighbors"
   ]
  },
  {
   "cell_type": "code",
   "execution_count": 932,
   "metadata": {},
   "outputs": [],
   "source": [
    "a = [[\"A\"],[\"A\",\"B\"],[\"A\",\"C\"],[\"B\",\"D\"],[\"C\",\"A\"]]"
   ]
  },
  {
   "cell_type": "code",
   "execution_count": 934,
   "metadata": {},
   "outputs": [
    {
     "data": {
      "text/plain": [
       "[['A'], ['A', 'B'], ['A', 'C'], ['B', 'D'], ['C', 'A']]"
      ]
     },
     "execution_count": 934,
     "metadata": {},
     "output_type": "execute_result"
    }
   ],
   "source": [
    "a"
   ]
  },
  {
   "cell_type": "code",
   "execution_count": 944,
   "metadata": {},
   "outputs": [],
   "source": [
    "from collections import defaultdict"
   ]
  },
  {
   "cell_type": "code",
   "execution_count": 945,
   "metadata": {},
   "outputs": [],
   "source": [
    "defDict = defaultdict(list)"
   ]
  },
  {
   "cell_type": "code",
   "execution_count": 946,
   "metadata": {},
   "outputs": [],
   "source": [
    "for i in a:\n",
    "    if len(i) == 2:\n",
    "        for j in i:\n",
    "            if j in defDict:\n",
    "                defDict[j] += 1\n",
    "            else:\n",
    "                defDict[j] = 1\n",
    "\n",
    "        \n",
    "        "
   ]
  },
  {
   "cell_type": "code",
   "execution_count": 965,
   "metadata": {},
   "outputs": [
    {
     "data": {
      "text/plain": [
       "<re.Match object; span=(3, 4), match='2'>"
      ]
     },
     "execution_count": 965,
     "metadata": {},
     "output_type": "execute_result"
    }
   ],
   "source": [
    "re.search(r\"\\d\", \"abc2!\")"
   ]
  },
  {
   "cell_type": "code",
   "execution_count": 970,
   "metadata": {},
   "outputs": [
    {
     "name": "stdout",
     "output_type": "stream",
     "text": [
      "exception\n"
     ]
    }
   ],
   "source": [
    "try:\n",
    "    value=int(\"3d\")\n",
    "except:\n",
    "    print(\"exception\")"
   ]
  },
  {
   "cell_type": "code",
   "execution_count": 978,
   "metadata": {},
   "outputs": [
    {
     "data": {
      "text/plain": [
       "['c']"
      ]
     },
     "execution_count": 978,
     "metadata": {},
     "output_type": "execute_result"
    }
   ],
   "source": [
    "re.findall(r\"[^0-9a-bA-B]\",\"abc3\")"
   ]
  },
  {
   "cell_type": "markdown",
   "metadata": {},
   "source": [
    "# linked list"
   ]
  },
  {
   "cell_type": "code",
   "execution_count": 82,
   "metadata": {},
   "outputs": [
    {
     "name": "stdout",
     "output_type": "stream",
     "text": [
      "Given Linked List\n",
      "85\n",
      "15\n",
      "4\n",
      "20\n",
      "\n",
      "Reversed Linked List\n",
      "20\n",
      "4\n",
      "15\n",
      "85\n"
     ]
    }
   ],
   "source": [
    "# Python program to reverse a linked list \n",
    "# Time Complexity : O(n) \n",
    "# Space Complexity : O(1) \n",
    "\n",
    "# Node class \n",
    "class Node: \n",
    "\n",
    "\t# Constructor to initialize the node object \n",
    "\tdef __init__(self, data): \n",
    "\t\tself.data = data \n",
    "\t\tself.next = None\n",
    "\n",
    "class LinkedList: \n",
    "\n",
    "\t# Function to initialize head \n",
    "\tdef __init__(self): \n",
    "\t\tself.head = None\n",
    "\n",
    "\t# Function to reverse the linked list \n",
    "\tdef reverse(self): \n",
    "\t\tprev = None\n",
    "\t\tcurrent = self.head \n",
    "\t\twhile(current is not None): \n",
    "\t\t\tnextt = current.next\n",
    "\t\t\tcurrent.next = prev \n",
    "\t\t\tprev = current \n",
    "\t\t\tcurrent = nextt\n",
    "\t\tself.head = prev \n",
    "\t\t\n",
    "\t# Function to insert a new node at the beginning \n",
    "\tdef push(self, new_data): \n",
    "\t\tnew_node = Node(new_data) \n",
    "\t\tnew_node.next = self.head \n",
    "\t\tself.head = new_node \n",
    "\n",
    "\t# Utility function to print the linked LinkedList \n",
    "\tdef printList(self): \n",
    "\t\ttemp = self.head \n",
    "\t\twhile(temp): \n",
    "\t\t\tprint (temp.data) \n",
    "\t\t\ttemp = temp.next\n",
    "\n",
    "\n",
    "# Driver program to test above functions \n",
    "llist = LinkedList() \n",
    "llist.push(20) \n",
    "llist.push(4) \n",
    "llist.push(15) \n",
    "llist.push(85) \n",
    "\n",
    "print(\"Given Linked List\")\n",
    "\n",
    "llist.printList() \n",
    "print(\"\\nReversed Linked List\")\n",
    "llist.reverse() \n",
    "\n",
    "llist.printList() \n",
    "\n",
    "# This code is contributed by Nikhil Kumar Singh(nickzuck_007) \n"
   ]
  },
  {
   "cell_type": "code",
   "execution_count": 83,
   "metadata": {},
   "outputs": [],
   "source": [
    "class Node:\n",
    "    def __init__(this,val):\n",
    "        this.val = val\n",
    "        this.next = None"
   ]
  },
  {
   "cell_type": "code",
   "execution_count": 84,
   "metadata": {},
   "outputs": [],
   "source": [
    "class singlyLinkedList:\n",
    "    def __init__(this):\n",
    "        this.head = None\n",
    "        \n",
    "    def addNode(this,val):\n",
    "        if this.head is None:\n",
    "            this.head = Node(val)\n",
    "            \n",
    "        else:\n",
    "            newNode = Node(val)\n",
    "            newNode.next = this.head\n",
    "            \n",
    "            this.head = newNode\n",
    "      \n",
    "    def printNodes(this,currentNode):\n",
    "        if currentNode is not None:\n",
    "            print(currentNode.val)\n",
    "            currentNode = currentNode.next\n",
    "            this.printNodes(currentNode)\n",
    "    \n",
    "        \n",
    "    def reverseLinkedList(this):\n",
    "        prev = None\n",
    "        current = this.head\n",
    "        \n",
    "        while current is not None:\n",
    "            nextNode = current.next\n",
    "            current.next = prev\n",
    "            prev = current\n",
    "            current = nextNode\n",
    "        \n",
    "        this.head = prev\n",
    "            "
   ]
  },
  {
   "cell_type": "code",
   "execution_count": 85,
   "metadata": {},
   "outputs": [],
   "source": [
    "s = singlyLinkedList()"
   ]
  },
  {
   "cell_type": "code",
   "execution_count": 86,
   "metadata": {},
   "outputs": [],
   "source": [
    "s.addNode(1)\n",
    "s.addNode(2)\n",
    "s.addNode(3)\n",
    "s.addNode(4)\n",
    "s.addNode(5)\n",
    "s.addNode(6)\n",
    "s.addNode(7)"
   ]
  },
  {
   "cell_type": "code",
   "execution_count": 89,
   "metadata": {},
   "outputs": [],
   "source": [
    "s.reverseLinkedList()"
   ]
  },
  {
   "cell_type": "markdown",
   "metadata": {},
   "source": [
    "# HeapQ"
   ]
  },
  {
   "cell_type": "code",
   "execution_count": 18,
   "metadata": {},
   "outputs": [],
   "source": [
    "import heapq\n",
    "customers = [(\"Harry\",2), (\"Charles\",3),(\"Riya\",1), (\"Stacy\",4)]\n"
   ]
  },
  {
   "cell_type": "code",
   "execution_count": 27,
   "metadata": {},
   "outputs": [],
   "source": [
    "customers = []\n",
    "heapq.heappush(customers, (-2, [\"Harry\",\"larry\"]))\n",
    "heapq.heappush(customers, (-3, \"Charles\"))\n",
    "heapq.heappush(customers, (-1, \"Riya\"))\n",
    "heapq.heappush(customers, (-4, \"Stacy\"))\n"
   ]
  },
  {
   "cell_type": "code",
   "execution_count": 28,
   "metadata": {},
   "outputs": [],
   "source": [
    "heapq.heapify(customers)"
   ]
  },
  {
   "cell_type": "code",
   "execution_count": 29,
   "metadata": {},
   "outputs": [
    {
     "name": "stdout",
     "output_type": "stream",
     "text": [
      "(-4, 'Stacy')\n",
      "(-3, 'Charles')\n",
      "(-2, ['Harry', 'larry'])\n",
      "(-1, 'Riya')\n"
     ]
    }
   ],
   "source": [
    "while customers:\n",
    "     print(heapq.heappop(customers))"
   ]
  },
  {
   "cell_type": "markdown",
   "metadata": {},
   "source": [
    "# Tries"
   ]
  },
  {
   "cell_type": "code",
   "execution_count": 26,
   "metadata": {},
   "outputs": [
    {
     "name": "stdout",
     "output_type": "stream",
     "text": [
      "{'h': {'i': {'*': '*'}, 'e': {'l': {'l': {'o': {'*': '*'}}}}, 'o': {'w': {'d': {'y': {'*': '*'}}}}}, 'o': {'w': {'l': {'*': '*'}}}}\n"
     ]
    }
   ],
   "source": [
    "_end = '*'\n",
    "\n",
    "## takes in a list of words\n",
    "def make_trie(*words):\n",
    "    ## creates our root dict()\n",
    "    trie = dict()\n",
    "\n",
    "    for word in words:\n",
    "        ## create a temporary dict based off our root\n",
    "        ## dict object\n",
    "        temp_dict = trie\n",
    "        \n",
    "        for letter in word:\n",
    "            ## update our temporary dict and add our current\n",
    "            ## letter and a sub-dictionary\n",
    "\n",
    "            temp_dict = temp_dict.setdefault(letter, {})\n",
    "  \n",
    "        ## If our word is finished, add {'*': '*'}\n",
    "        ## this tells us our word is finished\n",
    "        temp_dict[_end] = _end\n",
    "    return trie\n",
    "\n",
    "## Test our trie creation\n",
    "trie = make_trie('hi', 'hello', 'howdy',\"owl\")\n",
    "## print out our new trie\n",
    "print(trie)"
   ]
  },
  {
   "cell_type": "code",
   "execution_count": 28,
   "metadata": {},
   "outputs": [
    {
     "ename": "KeyError",
     "evalue": "'w'",
     "output_type": "error",
     "traceback": [
      "\u001b[1;31m---------------------------------------------------------------------------\u001b[0m",
      "\u001b[1;31mKeyError\u001b[0m                                  Traceback (most recent call last)",
      "\u001b[1;32m<ipython-input-28-f8b53580c8f5>\u001b[0m in \u001b[0;36m<module>\u001b[1;34m()\u001b[0m\n\u001b[1;32m----> 1\u001b[1;33m \u001b[0mtrie\u001b[0m\u001b[1;33m[\u001b[0m\u001b[1;34m\"w\"\u001b[0m\u001b[1;33m]\u001b[0m\u001b[1;33m\u001b[0m\u001b[0m\n\u001b[0m",
      "\u001b[1;31mKeyError\u001b[0m: 'w'"
     ]
    }
   ],
   "source": [
    "trie[\"w\"]"
   ]
  },
  {
   "cell_type": "code",
   "execution_count": 12,
   "metadata": {},
   "outputs": [],
   "source": [
    "## letter and a sub-dictionary\n",
    "trie = dict()\n",
    "temp_dict = trie"
   ]
  },
  {
   "cell_type": "code",
   "execution_count": 17,
   "metadata": {},
   "outputs": [],
   "source": [
    "def makeTrie(words):\n",
    "    trie = dict()\n",
    "    for word in words:\n",
    "        temp_dict = trie\n",
    "        for letter in word:\n",
    "            temp_dict = temp_dict.setdefault(letter,{})\n",
    "        temp_dict[\"*\"] = \"*\"\n",
    "    return trie\n",
    " "
   ]
  },
  {
   "cell_type": "code",
   "execution_count": 23,
   "metadata": {},
   "outputs": [],
   "source": [
    "dic = makeTrie([\"hi\",\"hello\",\"ajinkya\",\"owl\"])"
   ]
  },
  {
   "cell_type": "code",
   "execution_count": 25,
   "metadata": {},
   "outputs": [
    {
     "data": {
      "text/plain": [
       "{'w': {'l': {'*': '*'}}}"
      ]
     },
     "execution_count": 25,
     "metadata": {},
     "output_type": "execute_result"
    }
   ],
   "source": [
    "dic[\"o\"]"
   ]
  },
  {
   "cell_type": "code",
   "execution_count": 30,
   "metadata": {},
   "outputs": [],
   "source": [
    "from typing import Tuple\n",
    "\n",
    "\n",
    "class TrieNode(object):\n",
    "    \"\"\"\n",
    "    Our trie node implementation. Very basic. but does the job\n",
    "    \"\"\"\n",
    "    \n",
    "    def __init__(self, char: str):\n",
    "        self.char = char\n",
    "        self.children = []\n",
    "        # Is it the last character of the word.`\n",
    "        self.word_finished = False\n",
    "        # How many times this character appeared in the addition process\n",
    "        self.counter = 1\n",
    "    \n",
    "\n",
    "def add(root, word: str):\n",
    "    \"\"\"\n",
    "    Adding a word in the trie structure\n",
    "    \"\"\"\n",
    "    node = root\n",
    "    for char in word:\n",
    "        found_in_child = False\n",
    "        # Search for the character in the children of the present `node`\n",
    "        for child in node.children:\n",
    "            if child.char == char:\n",
    "                # We found it, increase the counter by 1 to keep track that another\n",
    "                # word has it as well\n",
    "                child.counter += 1\n",
    "                # And point the node to the child that contains this char\n",
    "                node = child\n",
    "                found_in_child = True\n",
    "                break\n",
    "        # We did not find it so add a new chlid\n",
    "        if not found_in_child:\n",
    "            new_node = TrieNode(char)\n",
    "            node.children.append(new_node)\n",
    "            # And then point node to the new child\n",
    "            node = new_node\n",
    "    # Everything finished. Mark it as the end of a word.\n",
    "    node.word_finished = True\n",
    "\n",
    "\n",
    "def find_prefix(root, prefix: str) -> Tuple[bool, int]:\n",
    "    \"\"\"\n",
    "    Check and return \n",
    "      1. If the prefix exsists in any of the words we added so far\n",
    "      2. If yes then how may words actually have the prefix\n",
    "    \"\"\"\n",
    "    node = root\n",
    "    # If the root node has no children, then return False.\n",
    "    # Because it means we are trying to search in an empty trie\n",
    "    if not root.children:\n",
    "        return False, 0\n",
    "    for char in prefix:\n",
    "        char_not_found = True\n",
    "        # Search through all the children of the present `node`\n",
    "        for child in node.children:\n",
    "            if child.char == char:\n",
    "                # We found the char existing in the child.\n",
    "                char_not_found = False\n",
    "                # Assign node as the child containing the char and break\n",
    "                node = child\n",
    "                break\n",
    "        # Return False anyway when we did not find a char.\n",
    "        if char_not_found:\n",
    "            return False, 0\n",
    "    # Well, we are here means we have found the prefix. Return true to indicate that\n",
    "    # And also the counter of the last node. This indicates how many words have this\n",
    "    # prefix\n",
    "    return True, node.counter\n",
    "\n"
   ]
  },
  {
   "cell_type": "code",
   "execution_count": 31,
   "metadata": {},
   "outputs": [],
   "source": [
    "root = TrieNode('*')\n",
    "add(root, \"hellow\")\n",
    "add(root, \"old\")\n",
    "add(root, \"wow\")"
   ]
  },
  {
   "cell_type": "code",
   "execution_count": null,
   "metadata": {},
   "outputs": [],
   "source": [
    "if __name__ == \"__main__\":\n",
    "    root = TrieNode('*')\n",
    "    add(root, \"hackathon\")\n",
    "    add(root, 'hack')\n",
    "\n",
    "    print(find_prefix(root, 'hac'))\n",
    "    print(find_prefix(root, 'hack'))\n",
    "    print(find_prefix(root, 'hackathon'))\n",
    "    print(find_prefix(root, 'ha'))\n",
    "    print(find_prefix(root, 'hammer'))"
   ]
  },
  {
   "cell_type": "code",
   "execution_count": 78,
   "metadata": {},
   "outputs": [],
   "source": [
    "class trieNode:\n",
    "    def __init__(this,char):\n",
    "        this.char = char\n",
    "        this.children = []\n",
    "        this.wordFinished = True\n",
    "        this.counter = 1\n",
    "    \n",
    "    def add(this,word):\n",
    "        node = this\n",
    "        for char in word:\n",
    "            found_in_child = False\n",
    "            for child in node.children:\n",
    "                if child.char == char:\n",
    "                    node = child\n",
    "                    found_in_child = True\n",
    "                    node.counter += 1\n",
    "                    break\n",
    "            if not found_in_child:\n",
    "                new_node = trieNode(char)\n",
    "                node.children.append(new_node)\n",
    "                node = new_node\n",
    "        node.wordFinished = True\n",
    "        return node\n",
    "    \n",
    "    def wordPresent(this,word):\n",
    "        node = this\n",
    "        for char in word:\n",
    "            isPresent = False\n",
    "            for child in node.children:\n",
    "                \n",
    "                if char == child.char:\n",
    "                    isPresent = True\n",
    "                    node = child\n",
    "                    print(char)\n",
    "                    break\n",
    "            \n",
    "            if isPresent == False:\n",
    "                return \"not Found\"\n",
    "            \n",
    "        return \"Found\""
   ]
  },
  {
   "cell_type": "code",
   "execution_count": 79,
   "metadata": {},
   "outputs": [],
   "source": [
    "root = trieNode(\"*\")"
   ]
  },
  {
   "cell_type": "code",
   "execution_count": 80,
   "metadata": {},
   "outputs": [
    {
     "data": {
      "text/plain": [
       "<__main__.trieNode at 0x192c83b9668>"
      ]
     },
     "execution_count": 80,
     "metadata": {},
     "output_type": "execute_result"
    }
   ],
   "source": [
    "root.add(\"hi\")\n",
    "root.add(\"hello\")\n",
    "root.add(\"elon\")\n",
    "root.add(\"ester\")"
   ]
  },
  {
   "cell_type": "code",
   "execution_count": 2,
   "metadata": {},
   "outputs": [
    {
     "name": "stdout",
     "output_type": "stream",
     "text": [
      "10\n",
      "9\n",
      "8\n",
      "7\n",
      "6\n",
      "5\n",
      "4\n",
      "3\n",
      "2\n"
     ]
    }
   ],
   "source": [
    "for i in range(10,1,-1):\n",
    "    print(i)"
   ]
  },
  {
   "cell_type": "code",
   "execution_count": 5,
   "metadata": {},
   "outputs": [
    {
     "name": "stdout",
     "output_type": "stream",
     "text": [
      "0\n",
      "1\n",
      "2\n",
      "3\n",
      "4\n",
      "5\n",
      "6\n",
      "7\n",
      "8\n"
     ]
    }
   ],
   "source": [
    "for j in range(0,9):\n",
    "    print(j)"
   ]
  },
  {
   "cell_type": "code",
   "execution_count": 6,
   "metadata": {},
   "outputs": [
    {
     "data": {
      "text/plain": [
       "[[[]], [], [], [], [], [], [], [], [], [], []]"
      ]
     },
     "execution_count": 6,
     "metadata": {},
     "output_type": "execute_result"
    }
   ],
   "source": [
    "[[[]]] + [[] for _ in range(10)]"
   ]
  },
  {
   "cell_type": "code",
   "execution_count": 7,
   "metadata": {},
   "outputs": [
    {
     "ename": "TypeError",
     "evalue": "can only concatenate list (not \"int\") to list",
     "output_type": "error",
     "traceback": [
      "\u001b[1;31m---------------------------------------------------------------------------\u001b[0m",
      "\u001b[1;31mTypeError\u001b[0m                                 Traceback (most recent call last)",
      "\u001b[1;32m<ipython-input-7-0c9cc613d9c2>\u001b[0m in \u001b[0;36m<module>\u001b[1;34m()\u001b[0m\n\u001b[1;32m----> 1\u001b[1;33m \u001b[1;33m[\u001b[0m\u001b[1;36m2\u001b[0m\u001b[1;33m]\u001b[0m \u001b[1;33m+\u001b[0m \u001b[1;36m2\u001b[0m\u001b[1;33m\u001b[0m\u001b[0m\n\u001b[0m",
      "\u001b[1;31mTypeError\u001b[0m: can only concatenate list (not \"int\") to list"
     ]
    }
   ],
   "source": [
    "[2] + 2"
   ]
  },
  {
   "cell_type": "code",
   "execution_count": 10,
   "metadata": {},
   "outputs": [],
   "source": [
    "arr = [2]"
   ]
  },
  {
   "cell_type": "code",
   "execution_count": 11,
   "metadata": {},
   "outputs": [
    {
     "data": {
      "text/plain": [
       "[2, 2]"
      ]
     },
     "execution_count": 11,
     "metadata": {},
     "output_type": "execute_result"
    }
   ],
   "source": [
    "arr + [2]"
   ]
  },
  {
   "cell_type": "code",
   "execution_count": 12,
   "metadata": {},
   "outputs": [],
   "source": [
    "xyz = [[]]"
   ]
  },
  {
   "cell_type": "code",
   "execution_count": 13,
   "metadata": {},
   "outputs": [
    {
     "name": "stdout",
     "output_type": "stream",
     "text": [
      "[]\n"
     ]
    }
   ],
   "source": [
    "for x in xyz:\n",
    "    print(x)"
   ]
  },
  {
   "cell_type": "code",
   "execution_count": 14,
   "metadata": {},
   "outputs": [],
   "source": [
    "xyz1 = []"
   ]
  },
  {
   "cell_type": "code",
   "execution_count": 15,
   "metadata": {},
   "outputs": [],
   "source": [
    "for x in xyz1:\n",
    "    print(x)"
   ]
  },
  {
   "cell_type": "code",
   "execution_count": null,
   "metadata": {},
   "outputs": [],
   "source": []
  }
 ],
 "metadata": {
  "kernelspec": {
   "display_name": "Python 3",
   "language": "python",
   "name": "python3"
  },
  "language_info": {
   "codemirror_mode": {
    "name": "ipython",
    "version": 3
   },
   "file_extension": ".py",
   "mimetype": "text/x-python",
   "name": "python",
   "nbconvert_exporter": "python",
   "pygments_lexer": "ipython3",
   "version": "3.6.5"
  }
 },
 "nbformat": 4,
 "nbformat_minor": 2
}
