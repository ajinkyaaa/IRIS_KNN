{
 "cells": [
  {
   "cell_type": "markdown",
   "metadata": {},
   "source": [
    "# Binary tree\n"
   ]
  },
  {
   "cell_type": "code",
   "execution_count": 89,
   "metadata": {},
   "outputs": [],
   "source": [
    "class Node:\n",
    "#initialize constructor\n",
    "    def __init__(this, data):\n",
    "\n",
    "        this.left = None\n",
    "        this.right = None\n",
    "        this.data = data\n",
    "\n",
    "    def insert(this, data):\n",
    "# Compare the new value with the parent node\n",
    "        if this.data:  #if not null\n",
    "            if data < this.data:  #if data is less than node\n",
    "                if this.left is None:\n",
    "                    this.left = Node(data)\n",
    "                else:\n",
    "                    this.left.insert(data)\n",
    "            elif data > this.data:\n",
    "                if this.right is None:\n",
    "                    this.right = Node(data)\n",
    "                else:\n",
    "                    this.right.insert(data)\n",
    "        else:\n",
    "            this.data = data\n",
    "    \n",
    "    \n",
    "# Print the tree\n",
    "    def PrintTree(this):\n",
    "        if this.left:\n",
    "            this.left.PrintTree()\n",
    "        print( this.data),\n",
    "        if this.right:\n",
    "            this.right.PrintTree()\n",
    "            \n",
    "    def findVal(this,val):\n",
    "        \n",
    "        if val < this.data:\n",
    "            \n",
    "            if this.left is None:\n",
    "                return str(val) + \"not found!\"\n",
    "            return this.left.findVal(val)\n",
    "        if val > this.data:\n",
    "            \n",
    "            if this.right is None:\n",
    "                return str(val) + \"not found!\"\n",
    "            return this.right.findVal(val)        \n",
    "        else:\n",
    "            print(this.data)\n",
    "\n",
    "\n"
   ]
  },
  {
   "cell_type": "code",
   "execution_count": 90,
   "metadata": {},
   "outputs": [],
   "source": [
    "root = Node(12)\n",
    "root.insert(6)\n",
    "root.insert(14)\n",
    "root.insert(3)\n"
   ]
  },
  {
   "cell_type": "code",
   "execution_count": 73,
   "metadata": {},
   "outputs": [
    {
     "data": {
      "text/plain": [
       "'7not found!'"
      ]
     },
     "execution_count": 73,
     "metadata": {},
     "output_type": "execute_result"
    }
   ],
   "source": [
    "root.findVal(7)"
   ]
  },
  {
   "cell_type": "code",
   "execution_count": 268,
   "metadata": {},
   "outputs": [],
   "source": [
    "class NodeBinary:\n",
    "    def __init__(this,data):\n",
    "        this.left = None #node\n",
    "        this.right = None #node\n",
    "        this.data = data #int\n",
    "   \n",
    "    def printData(this):\n",
    "        if this.left:\n",
    "            #print(this.left.data)\n",
    "            this.left.printData()\n",
    "            \n",
    "        print(this.data)\n",
    "        \n",
    "        if this.right:\n",
    "            #print(this.right.data)\n",
    "            this.right.printData()        \n",
    "        \n",
    "        \n",
    "            \n",
    "    def insert(this,data):\n",
    "        \n",
    "        if this.data:\n",
    "            if data < this.data:\n",
    "                if this.left is None:\n",
    "                    \n",
    "                    this.left = NodeBinary(data)\n",
    "                else:\n",
    "                    \n",
    "                    this.left.insert(data)\n",
    "            if data > this.data:\n",
    "                if this.right is None:\n",
    "                    this.right = NodeBinary(data)\n",
    "                else:\n",
    "                    this.right.insert(data)                \n",
    "        else:\n",
    "            this.data = data\n",
    "     \n",
    "    def inOrderTraversal(this,root):\n",
    "        arr = []\n",
    "        if root:\n",
    "            arr = this.inOrderTraversal(root.left)\n",
    "            arr.append(root.data)\n",
    "            arr = arr + this.inOrderTraversal(root.right)\n",
    "        return arr\n",
    "       \n",
    "    def preOrderTraversal(this,root):\n",
    "        arr = []\n",
    "        if root:\n",
    "            arr.append(root.data)\n",
    "            arr = arr + this.preOrderTraversal(root.left)\n",
    "            arr = arr + this.preOrderTraversal(root.right)\n",
    "        return arr \n",
    "    \n",
    "    def postOrderTraversal(this,root):\n",
    "        arr = []\n",
    "        if root:\n",
    "            arr = arr + this.preOrderTraversal(root.left)\n",
    "            arr = arr + this.preOrderTraversal(root.right)\n",
    "            arr.append(root.data)\n",
    "        return arr    "
   ]
  },
  {
   "cell_type": "code",
   "execution_count": 269,
   "metadata": {},
   "outputs": [],
   "source": [
    "root =  NodeBinary(5)\n",
    "\n"
   ]
  },
  {
   "cell_type": "code",
   "execution_count": 270,
   "metadata": {},
   "outputs": [],
   "source": [
    "root.insert(23)\n",
    "root.insert(20)\n",
    "root.insert(13)\n",
    "root.insert(10)\n",
    "root.insert(33)\n",
    "root.insert(4)\n",
    "root.insert(2)\n",
    "root.insert(1)\n",
    "root.insert(3)\n",
    "\n"
   ]
  },
  {
   "cell_type": "code",
   "execution_count": 271,
   "metadata": {},
   "outputs": [
    {
     "name": "stdout",
     "output_type": "stream",
     "text": [
      "1\n",
      "2\n",
      "3\n",
      "4\n",
      "5\n",
      "10\n",
      "13\n",
      "20\n",
      "23\n",
      "33\n"
     ]
    }
   ],
   "source": [
    "root.printData()"
   ]
  },
  {
   "cell_type": "code",
   "execution_count": 272,
   "metadata": {},
   "outputs": [
    {
     "name": "stdout",
     "output_type": "stream",
     "text": [
      "[1, 2, 3, 4, 5, 10, 13, 20, 23, 33]\n"
     ]
    }
   ],
   "source": [
    "print(root.inOrderTraversal(root))"
   ]
  },
  {
   "cell_type": "code",
   "execution_count": 273,
   "metadata": {},
   "outputs": [
    {
     "name": "stdout",
     "output_type": "stream",
     "text": [
      "[5, 4, 2, 1, 3, 23, 20, 13, 10, 33]\n"
     ]
    }
   ],
   "source": [
    "print(root.preOrderTraversal(root))"
   ]
  },
  {
   "cell_type": "code",
   "execution_count": 274,
   "metadata": {},
   "outputs": [
    {
     "name": "stdout",
     "output_type": "stream",
     "text": [
      "[4, 2, 1, 3, 23, 20, 13, 10, 33, 5]\n"
     ]
    }
   ],
   "source": [
    "print(root.postOrderTraversal(root))"
   ]
  },
  {
   "cell_type": "code",
   "execution_count": 276,
   "metadata": {},
   "outputs": [
    {
     "data": {
      "text/plain": [
       "('physics', 'chemistry', 1997, 2000)"
      ]
     },
     "execution_count": 276,
     "metadata": {},
     "output_type": "execute_result"
    }
   ],
   "source": [
    "tup1 = ('physics', 'chemistry', 1997, 2000);\n",
    "tup1"
   ]
  },
  {
   "cell_type": "code",
   "execution_count": null,
   "metadata": {},
   "outputs": [],
   "source": [
    "         5\n",
    "     4       23\n",
    "  2       20    33\n",
    "1   3   13\n",
    "    10\n",
    "\n",
    "\n",
    "\n"
   ]
  },
  {
   "cell_type": "markdown",
   "metadata": {},
   "source": [
    "# sets"
   ]
  },
  {
   "cell_type": "code",
   "execution_count": 278,
   "metadata": {},
   "outputs": [],
   "source": [
    "setA = {\"abc\",\"xyz\",\"abc\"}"
   ]
  },
  {
   "cell_type": "code",
   "execution_count": 279,
   "metadata": {},
   "outputs": [
    {
     "data": {
      "text/plain": [
       "{'abc', 'xyz'}"
      ]
     },
     "execution_count": 279,
     "metadata": {},
     "output_type": "execute_result"
    }
   ],
   "source": [
    "set(setA)"
   ]
  },
  {
   "cell_type": "markdown",
   "metadata": {},
   "source": [
    "# Maps"
   ]
  },
  {
   "cell_type": "code",
   "execution_count": 286,
   "metadata": {},
   "outputs": [],
   "source": [
    "import collections\n",
    "\n",
    "\n",
    "dict1 = {'day1': 'Mon', 'day2': 'Tue'}\n",
    "dict2 = {'day3': 'Wed', 'day4': 'Thu'}\n",
    "\n",
    "res1 = collections.ChainMap(dict1, dict2)"
   ]
  },
  {
   "cell_type": "code",
   "execution_count": 281,
   "metadata": {},
   "outputs": [
    {
     "data": {
      "text/plain": [
       "ChainMap({'day1': 'Mon', 'day2': 'Tue'}, {'day3': 'Wed', 'day4': 'Thu'})"
      ]
     },
     "execution_count": 281,
     "metadata": {},
     "output_type": "execute_result"
    }
   ],
   "source": [
    "res1"
   ]
  },
  {
   "cell_type": "code",
   "execution_count": 295,
   "metadata": {},
   "outputs": [
    {
     "data": {
      "text/plain": [
       "[{'day1': 'Mon', 'day2': 'Tue'}, {'day3': 'Wed', 'day4': 'Thu'}]"
      ]
     },
     "execution_count": 295,
     "metadata": {},
     "output_type": "execute_result"
    }
   ],
   "source": [
    "res1.maps"
   ]
  },
  {
   "cell_type": "markdown",
   "metadata": {},
   "source": [
    "# Linked List"
   ]
  },
  {
   "cell_type": "code",
   "execution_count": 344,
   "metadata": {},
   "outputs": [],
   "source": [
    "class Node:\n",
    "    def __init__(this,val = None):\n",
    "        this.data = val\n",
    "        this.nextVal = None"
   ]
  },
  {
   "cell_type": "code",
   "execution_count": 360,
   "metadata": {},
   "outputs": [],
   "source": [
    "class singlyLinkedList:\n",
    "    def __init__(this):\n",
    "        this.headVal = None\n",
    "\n",
    "        "
   ]
  },
  {
   "cell_type": "code",
   "execution_count": 363,
   "metadata": {},
   "outputs": [],
   "source": [
    "list1 = singlyLinkedList()"
   ]
  },
  {
   "cell_type": "code",
   "execution_count": 364,
   "metadata": {},
   "outputs": [],
   "source": [
    "e1 = Node(1)"
   ]
  },
  {
   "cell_type": "code",
   "execution_count": 376,
   "metadata": {},
   "outputs": [],
   "source": [
    "list1.headVal = e1"
   ]
  },
  {
   "cell_type": "code",
   "execution_count": 378,
   "metadata": {},
   "outputs": [],
   "source": [
    "e2 = Node(2)\n",
    "e3 = Node(3)"
   ]
  },
  {
   "cell_type": "code",
   "execution_count": 379,
   "metadata": {},
   "outputs": [],
   "source": [
    "list1.headVal.nextVal = e2\n",
    "e2.nextVal = e3"
   ]
  },
  {
   "cell_type": "code",
   "execution_count": 359,
   "metadata": {},
   "outputs": [],
   "source": [
    "list1.insertBeginning(1)"
   ]
  },
  {
   "cell_type": "markdown",
   "metadata": {},
   "source": [
    "# Backtracking"
   ]
  },
  {
   "cell_type": "code",
   "execution_count": 102,
   "metadata": {},
   "outputs": [],
   "source": [
    "def permute(list, s, k):\n",
    "    if list == 1:\n",
    "        return s\n",
    "    else:\n",
    "        print([ y + x\n",
    "                 for y in permute(list -1, s,k)\n",
    "                 for x in permute(list -1, k,s)\n",
    "                 ])\n",
    "        return [ y + x\n",
    "                 for y in permute(list -1, s,k)\n",
    "                 for x in permute(list -1, k,s)\n",
    "                 ]\n",
    "\n"
   ]
  },
  {
   "cell_type": "code",
   "execution_count": 122,
   "metadata": {},
   "outputs": [],
   "source": [
    "def fibo(x):\n",
    "    if x is 1:\n",
    "        return 1\n",
    "    else:\n",
    "        print(x)\n",
    "        return fibo(x-1)*x\n",
    "    \n",
    "    "
   ]
  },
  {
   "cell_type": "code",
   "execution_count": 129,
   "metadata": {},
   "outputs": [],
   "source": [
    "def factorial(x):\n",
    "    \n",
    "    if x is 1:                   \n",
    "        return 1\n",
    "    return x*factorial(x-1)  "
   ]
  },
  {
   "cell_type": "code",
   "execution_count": 240,
   "metadata": {},
   "outputs": [],
   "source": [
    "def permute(self, nums):#[1,2,3]\n",
    "    res = []\n",
    "    \n",
    "    def DFS(nums):\n",
    "        tmp = []\n",
    "        if len(nums) == 1:\n",
    "            return nums[0]\n",
    "        for i in range(len(nums)):\n",
    "            print(nums[i:len(nums)])\n",
    "            DFS(nums[i+1:len(nums)])  \n",
    "            \n",
    "            \n",
    "    \n",
    "    \n",
    "    DFS(nums)    \n",
    "    return res\n",
    "        "
   ]
  },
  {
   "cell_type": "code",
   "execution_count": 241,
   "metadata": {},
   "outputs": [
    {
     "name": "stdout",
     "output_type": "stream",
     "text": [
      "[1, 2, 3]\n",
      "[2, 3]\n",
      "[3]\n",
      "[2, 3]\n",
      "[3]\n"
     ]
    },
    {
     "data": {
      "text/plain": [
       "[]"
      ]
     },
     "execution_count": 241,
     "metadata": {},
     "output_type": "execute_result"
    }
   ],
   "source": [
    "permute([],[1,2,3])"
   ]
  },
  {
   "cell_type": "code",
   "execution_count": 179,
   "metadata": {},
   "outputs": [],
   "source": [
    "def permute(self, nums):\n",
    "        \"\"\"\n",
    "        :type nums: List[int]\n",
    "        :rtype: List[List[int]]\n",
    "        \"\"\"\n",
    "        #here we need a global wise list, each time we just append to the result\n",
    "        rslt=[]\n",
    "        \n",
    "        def dfs(temp, elements):\n",
    "            #gather rslt\n",
    "            if len(elements)==0:\n",
    "                rslt.append(temp[:]) #still remember to use temp[:]\n",
    "            for e in elements:\n",
    "                temp.append(e)\n",
    "                #backtrack\n",
    "                next_elements=elements[:]\n",
    "                next_elements.remove(e)\n",
    "                elements.pop()\n",
    "                dfs(temp, next_elements)\n",
    "                temp.pop()\n",
    "                \n",
    "                \n",
    "        dfs([],nums) #first is the current result\n",
    "        return rslt"
   ]
  },
  {
   "cell_type": "code",
   "execution_count": 180,
   "metadata": {},
   "outputs": [
    {
     "data": {
      "text/plain": [
       "[[1, 2, 3], [2, 1]]"
      ]
     },
     "execution_count": 180,
     "metadata": {},
     "output_type": "execute_result"
    }
   ],
   "source": [
    "permute([],[1,2,3])"
   ]
  },
  {
   "cell_type": "code",
   "execution_count": 187,
   "metadata": {},
   "outputs": [],
   "source": [
    "def permuteNumber(nums,l,r):\n",
    "    if l == r:\n",
    "        print(nums)\n",
    "    else:\n",
    "        for i in range(l,r):\n",
    "            print(nums[i])"
   ]
  },
  {
   "cell_type": "code",
   "execution_count": 189,
   "metadata": {},
   "outputs": [
    {
     "name": "stdout",
     "output_type": "stream",
     "text": [
      "1\n",
      "2\n"
     ]
    }
   ],
   "source": [
    "permuteNumber([1,2,3],0,len([1,2,3]) - 1)"
   ]
  },
  {
   "cell_type": "code",
   "execution_count": 417,
   "metadata": {},
   "outputs": [],
   "source": [
    "def permutation(list, start, end):\n",
    "    '''This prints all the permutations of a given list\n",
    "       it takes the list,the starting and ending indices as input'''\n",
    "    if (start == end):\n",
    "        print(list)\n",
    "    else:\n",
    "        for i in range(start, end + 1):\n",
    "            \n",
    "            list[start], list[i] = list[i], list[start]  # The swapping\n",
    "            permutation(list, start + 1, end)\n",
    "            list[start], list[i] = list[i], list[start]  # Backtracking"
   ]
  },
  {
   "cell_type": "code",
   "execution_count": 418,
   "metadata": {},
   "outputs": [
    {
     "name": "stdout",
     "output_type": "stream",
     "text": [
      "0\n",
      "0\n",
      "1\n",
      "1\n",
      "['a', 'b', 'c']\n",
      "1\n",
      "2\n",
      "['a', 'c', 'b']\n",
      "0\n",
      "1\n",
      "1\n",
      "1\n",
      "['b', 'a', 'c']\n",
      "1\n",
      "2\n",
      "['b', 'c', 'a']\n",
      "0\n",
      "2\n",
      "1\n",
      "1\n",
      "['c', 'b', 'a']\n",
      "1\n",
      "2\n",
      "['c', 'a', 'b']\n"
     ]
    }
   ],
   "source": [
    "permutation(['a', 'b', 'c'], 0, len(['a', 'b', 'c'])-1)"
   ]
  },
  {
   "cell_type": "code",
   "execution_count": 412,
   "metadata": {},
   "outputs": [
    {
     "name": "stdout",
     "output_type": "stream",
     "text": [
      "0\n",
      "1\n",
      "2\n",
      "3\n",
      "4\n"
     ]
    }
   ],
   "source": [
    "for i in range(0,5):\n",
    "    print(i)"
   ]
  },
  {
   "cell_type": "code",
   "execution_count": 1,
   "metadata": {},
   "outputs": [],
   "source": [
    "def swapPositions(list, pos1, pos2): \n",
    "      \n",
    "    list[pos1], list[pos2] = list[pos2], list[pos1] \n",
    "    return list\n",
    "  \n"
   ]
  },
  {
   "cell_type": "code",
   "execution_count": 219,
   "metadata": {},
   "outputs": [
    {
     "name": "stdout",
     "output_type": "stream",
     "text": [
      "[19, 65, 23, 90]\n"
     ]
    }
   ],
   "source": [
    "# Driver function \n",
    "List = [23, 65, 19, 90] \n",
    "pos1, pos2  = 1, 3\n",
    "  \n",
    "print(swapPositions(List, pos1-1, pos2-1)) "
   ]
  },
  {
   "cell_type": "code",
   "execution_count": 265,
   "metadata": {},
   "outputs": [],
   "source": [
    "arr = [2,3,4,2]"
   ]
  },
  {
   "cell_type": "code",
   "execution_count": 266,
   "metadata": {},
   "outputs": [],
   "source": [
    "diffArr = list(map(lambda x: 10 - x, arr))"
   ]
  },
  {
   "cell_type": "code",
   "execution_count": 80,
   "metadata": {},
   "outputs": [],
   "source": [
    "class HashMap(object):\n",
    "    def __init__(self):\n",
    "        self.hashmap = [[] for i in range(256)]\n",
    "\n",
    "    def insert(self, key, value):\n",
    "        hash_key = hash(key) % len(self.hashmap)\n",
    "        key_exists = False\n",
    "        bucket = self.hashmap[hash_key]\n",
    "        print(bucket)\n",
    "        for i, kv in enumerate(bucket):\n",
    "            print(kv)\n",
    "            k, v = kv\n",
    "            if key == k:\n",
    "                key_exists = True\n",
    "                break\n",
    "        if key_exists:\n",
    "            bucket[i] = ((key, value))\n",
    "        else:\n",
    "            bucket.append((key,value))\n",
    "        print(bucket)     \n",
    "        #print(self.hashmap)    \n",
    "\n",
    "    def retrieve(self, key):\n",
    "        hash_key = hash(key) % len(self.hashmap)\n",
    "        bucket = self.hashmap[hash_key]\n",
    "        for i, kv in enumerate(bucket):\n",
    "            k, v = kv\n",
    "            return v\n",
    "        raise KeyError"
   ]
  },
  {
   "cell_type": "code",
   "execution_count": 9,
   "metadata": {},
   "outputs": [],
   "source": [
    "arr = [[] for i in range(0,256)]"
   ]
  },
  {
   "cell_type": "code",
   "execution_count": 18,
   "metadata": {},
   "outputs": [],
   "source": [
    "key = \"abc\"\n",
    "hashkey = hash(key) % len(arr)\n",
    "bucket = arr[hashkey]\n",
    "bucket.append((2,3))"
   ]
  },
  {
   "cell_type": "code",
   "execution_count": 19,
   "metadata": {},
   "outputs": [
    {
     "data": {
      "text/plain": [
       "[(2, 3)]"
      ]
     },
     "execution_count": 19,
     "metadata": {},
     "output_type": "execute_result"
    }
   ],
   "source": [
    "bucket"
   ]
  },
  {
   "cell_type": "code",
   "execution_count": 25,
   "metadata": {},
   "outputs": [
    {
     "name": "stdout",
     "output_type": "stream",
     "text": [
      "k: 2\n",
      "v: 3\n"
     ]
    }
   ],
   "source": [
    "for i,kv in enumerate(bucket):\n",
    "    k,v = kv\n",
    "    print(\"k:\",kv[0])\n",
    "    print(\"v:\",kv[1])"
   ]
  },
  {
   "cell_type": "code",
   "execution_count": 81,
   "metadata": {},
   "outputs": [],
   "source": [
    "testHash = HashMap()"
   ]
  },
  {
   "cell_type": "code",
   "execution_count": 82,
   "metadata": {},
   "outputs": [
    {
     "name": "stdout",
     "output_type": "stream",
     "text": [
      "[]\n",
      "[(0, 'abc')]\n"
     ]
    }
   ],
   "source": [
    "testHash.insert(0,\"abc\")"
   ]
  },
  {
   "cell_type": "code",
   "execution_count": 83,
   "metadata": {},
   "outputs": [
    {
     "data": {
      "text/plain": [
       "'abc'"
      ]
     },
     "execution_count": 83,
     "metadata": {},
     "output_type": "execute_result"
    }
   ],
   "source": [
    "testHash.retrieve(0)"
   ]
  },
  {
   "cell_type": "code",
   "execution_count": 486,
   "metadata": {},
   "outputs": [],
   "source": [
    "class HashMap:\n",
    "        def __init__(self):\n",
    "                self.size = 6\n",
    "                self.map = [None] * self.size\n",
    "\t\t\n",
    "        def _get_hash(self, key):\n",
    "                hash = 0\n",
    "                for char in str(key):\n",
    "                        print(hash)\n",
    "                        hash += ord(char)\n",
    "                return hash % self.size\n",
    "\t\t\n",
    "        def add(self, key, value):\n",
    "                key_hash = self._get_hash(key)\n",
    "                key_value = [key, value]\n",
    "\t\t\n",
    "                if self.map[key_hash] is None:\n",
    "                        self.map[key_hash] = list([key_value])\n",
    "                        return True\n",
    "                else:\n",
    "                        for pair in self.map[key_hash]:\n",
    "                                if pair[0] == key:\n",
    "                                        pair[1] = value\n",
    "                                        return True\n",
    "                        self.map[key_hash].append(key_value)\n",
    "                        return True\n",
    "\t\t\t\n",
    "        def get(self, key):\n",
    "                key_hash = self._get_hash(key)\n",
    "                if self.map[key_hash] is not None:\n",
    "                        for pair in self.map[key_hash]:\n",
    "                                if pair[0] == key:\n",
    "                                        return pair[1]\n",
    "                return None\n",
    "\t\t\t\n",
    "        def delete(self, key):\n",
    "                key_hash = self._get_hash(key)\n",
    "\t\t\n",
    "                if self.map[key_hash] is None:\n",
    "                        return False\n",
    "                for i in range (0, len(self.map[key_hash])):\n",
    "                        if self.map[key_hash][i][0] == key:\n",
    "                                self.map[key_hash].pop(i)\n",
    "                                return True\n",
    "                return False\n",
    "\t\n",
    "        def keys(self):\n",
    "                arr = []\n",
    "                for i in range(0, len(self.map)):\n",
    "                        if self.map[i]:\n",
    "                                arr.append(self.map[i][0])\n",
    "                return arr\n",
    "\t\t\t\n",
    "        def print(self):\n",
    "                print('---PHONEBOOK----')\n",
    "                for item in self.map:\n",
    "                        if item is not None:\n",
    "                                print(str(item))\n",
    "\t\t\t\n"
   ]
  },
  {
   "cell_type": "code",
   "execution_count": 487,
   "metadata": {},
   "outputs": [
    {
     "name": "stdout",
     "output_type": "stream",
     "text": [
      "0\n",
      "66\n",
      "177\n",
      "0\n",
      "77\n",
      "182\n",
      "292\n",
      "0\n",
      "77\n",
      "182\n",
      "292\n",
      "0\n",
      "65\n",
      "175\n",
      "282\n",
      "387\n",
      "0\n",
      "65\n",
      "165\n",
      "270\n",
      "386\n",
      "507\n",
      "0\n",
      "65\n",
      "173\n",
      "278\n",
      "377\n",
      "482\n",
      "0\n",
      "77\n",
      "182\n",
      "289\n",
      "0\n",
      "65\n",
      "165\n",
      "270\n",
      "386\n",
      "507\n",
      "---PHONEBOOK----\n",
      "[['Mike', '567-2188']]\n",
      "[['Alicia', '632-4123']]\n",
      "[['Aditya', '777-8888']]\n",
      "[['Bob', '567-8888'], ['Ming', '333-8233'], ['Ankit', '293-8625']]\n",
      "0\n",
      "66\n",
      "177\n",
      "---PHONEBOOK----\n",
      "[['Mike', '567-2188']]\n",
      "[['Alicia', '632-4123']]\n",
      "[['Aditya', '777-8888']]\n",
      "[['Ming', '333-8233'], ['Ankit', '293-8625']]\n",
      "0\n",
      "77\n",
      "182\n",
      "292\n",
      "Ming: 333-8233\n",
      "[['Mike', '567-2188'], ['Alicia', '632-4123'], ['Aditya', '777-8888'], ['Ming', '333-8233']]\n"
     ]
    }
   ],
   "source": [
    "h = HashMap()\n",
    "h.add('Bob', '567-8888')\n",
    "h.add('Ming', '293-6753')\n",
    "h.add('Ming', '333-8233')\n",
    "h.add('Ankit', '293-8625')\n",
    "h.add('Aditya', '852-6551')\n",
    "h.add('Alicia', '632-4123')\n",
    "h.add('Mike', '567-2188')\n",
    "h.add('Aditya', '777-8888')\n",
    "h.print()\t\t\n",
    "h.delete('Bob')\n",
    "h.print()\n",
    "print('Ming: ' + h.get('Ming'))\n",
    "print(h.keys())"
   ]
  },
  {
   "cell_type": "code",
   "execution_count": 609,
   "metadata": {},
   "outputs": [
    {
     "data": {
      "text/plain": [
       "256"
      ]
     },
     "execution_count": 609,
     "metadata": {},
     "output_type": "execute_result"
    }
   ],
   "source": [
    "len(hashMap)"
   ]
  },
  {
   "cell_type": "code",
   "execution_count": 787,
   "metadata": {},
   "outputs": [],
   "source": [
    "class HashMap(object):\n",
    "    def __init__(this):\n",
    "        this.hashMap = [[] for i in range(256)]\n",
    "        \n",
    "    def insert(this,key,val):\n",
    "        hash_key = hash(key) % len(this.hashMap)\n",
    "        key_exists = False\n",
    "        bucket = this.hashMap[hash_key]\n",
    "        \n",
    "        for i, kv in enumerate(bucket):\n",
    "\n",
    "            k, v = kv\n",
    "            if key == k:\n",
    "                key_exists = True\n",
    "                break\n",
    "        if key_exists:\n",
    "            print(\"1st\")\n",
    "            bucket[i] = ((key, val))\n",
    "            \n",
    "        else:\n",
    "            print(\"2nd\")\n",
    "            bucket.append((key,val))        \n",
    "    \n",
    "    def retrieve(this, key):\n",
    "        hash_key = hash(key) % len(this.hashMap)\n",
    "        bucket = this.hashMap[hash_key]\n",
    "        for i, kv in enumerate(bucket):\n",
    "            k, v = kv\n",
    "            return v\n",
    "        raise KeyError        "
   ]
  },
  {
   "cell_type": "code",
   "execution_count": 788,
   "metadata": {},
   "outputs": [],
   "source": [
    "test = HashMap()\n"
   ]
  },
  {
   "cell_type": "code",
   "execution_count": 791,
   "metadata": {},
   "outputs": [
    {
     "name": "stdout",
     "output_type": "stream",
     "text": [
      "1st\n"
     ]
    }
   ],
   "source": [
    "test.insert(\"abcd\",40)"
   ]
  },
  {
   "cell_type": "code",
   "execution_count": 793,
   "metadata": {},
   "outputs": [
    {
     "data": {
      "text/plain": [
       "40"
      ]
     },
     "execution_count": 793,
     "metadata": {},
     "output_type": "execute_result"
    }
   ],
   "source": [
    "test.retrieve(\"abcd\")"
   ]
  },
  {
   "cell_type": "code",
   "execution_count": 794,
   "metadata": {},
   "outputs": [
    {
     "data": {
      "text/plain": [
       "[2, 4]"
      ]
     },
     "execution_count": 794,
     "metadata": {},
     "output_type": "execute_result"
    }
   ],
   "source": [
    "arr = [2,3,4]\n",
    "arr.remove(3)\n",
    "arr"
   ]
  },
  {
   "cell_type": "code",
   "execution_count": 796,
   "metadata": {},
   "outputs": [],
   "source": [
    "c = Counter([2,2,3,4])"
   ]
  },
  {
   "cell_type": "code",
   "execution_count": 799,
   "metadata": {},
   "outputs": [
    {
     "data": {
      "text/plain": [
       "(2, 2)"
      ]
     },
     "execution_count": 799,
     "metadata": {},
     "output_type": "execute_result"
    }
   ],
   "source": [
    "c.most_common()[0]\n"
   ]
  },
  {
   "cell_type": "code",
   "execution_count": 801,
   "metadata": {},
   "outputs": [],
   "source": [
    "arr1 = [3,4,5,6]\n",
    "arr2 = [3,4]"
   ]
  },
  {
   "cell_type": "markdown",
   "metadata": {},
   "source": [
    "# quicksort"
   ]
  },
  {
   "cell_type": "code",
   "execution_count": 26,
   "metadata": {},
   "outputs": [],
   "source": [
    "def partition(xs, start, end):\n",
    "    follower = leader = start\n",
    "    print(\"leader:\",leader)\n",
    "    while leader < end:\n",
    "        if xs[leader] <= xs[end]:\n",
    "            xs[follower], xs[leader]    =    xs[leader], xs[follower]\n",
    "            follower += 1\n",
    "        leader += 1\n",
    "    xs[follower], xs[end] = xs[end], xs[follower]\n",
    "    print(\"follower:\",follower)\n",
    "    return follower\n",
    "\n",
    "def _quicksort(xs, start, end):\n",
    "    if start >= end:\n",
    "        return\n",
    "    p = partition(xs, start, end)\n",
    "    print(\"partition:\",p)\n",
    "    _quicksort(xs, start, p-1)\n",
    "    _quicksort(xs, p+1, end)\n",
    "    \n",
    "def quicksort(xs):\n",
    "    _quicksort(xs, 0, len(xs)-1)"
   ]
  },
  {
   "cell_type": "code",
   "execution_count": 27,
   "metadata": {},
   "outputs": [
    {
     "name": "stdout",
     "output_type": "stream",
     "text": [
      "leader: 0\n",
      "follower: 1\n",
      "partition: 1\n",
      "leader: 2\n",
      "follower: 2\n",
      "partition: 2\n",
      "leader: 3\n",
      "follower: 3\n",
      "partition: 3\n",
      "leader: 4\n",
      "follower: 4\n",
      "partition: 4\n"
     ]
    }
   ],
   "source": [
    "arr = [10, 7, 8, 9, 1, 5]\n",
    "quicksort(arr)"
   ]
  },
  {
   "cell_type": "code",
   "execution_count": 888,
   "metadata": {},
   "outputs": [],
   "source": [
    "def partition(arr,low,high): \n",
    "    i = ( low-1 )         # index of smaller element --- -1\n",
    "    pivot = arr[high]     # pivot last element ------ last element\n",
    "\n",
    "    for j in range(low , high): ---# 0 to last element.  j = 0\n",
    "        # If current element is smaller than or \n",
    "        # equal to pivot \n",
    "        if   arr[j] <= pivot: \n",
    "          \n",
    "            # increment index of smaller element \n",
    "            i = i+1 \n",
    "            arr[i],arr[j] = arr[j],arr[i] \n",
    "            print(\"---------------\")\n",
    "            print(arr)\n",
    "            print(\"i:\",i)\n",
    "            print(\"j\",j)\n",
    "            print(\"---------------\")\n",
    "    \n",
    "    arr[i+1],arr[high] = arr[high],arr[i+1] \n",
    "    print(\"return\" , i+1)\n",
    "    return ( i+1 ) \n",
    "  \n",
    "# The main function that implements QuickSort \n",
    "# arr[] --> Array to be sorted, \n",
    "# low  --> Starting index, \n",
    "# high  --> Ending index \n",
    "  \n",
    "# Function to do Quick sort \n",
    "def quickSort(arr,low,high): \n",
    "    if low < high: \n",
    "  \n",
    "        # pi is partitioning index, arr[p] is now \n",
    "        # at right place \n",
    "        pi = partition(arr,low,high) \n",
    "  \n",
    "        # Separately sort elements before \n",
    "        # partition and after partition \n",
    "        quickSort(arr, low, pi-1) \n",
    "        quickSort(arr, pi+1, high) "
   ]
  },
  {
   "cell_type": "code",
   "execution_count": 889,
   "metadata": {},
   "outputs": [],
   "source": [
    "arr = [10, 80, 30, 90, 40, 50,70] \n",
    "n = len(arr) \n"
   ]
  },
  {
   "cell_type": "code",
   "execution_count": 890,
   "metadata": {},
   "outputs": [
    {
     "name": "stdout",
     "output_type": "stream",
     "text": [
      "i: -1\n",
      "---------------\n",
      "[10, 80, 30, 90, 40, 50, 70]\n",
      "i: 0\n",
      "j 0\n",
      "---------------\n",
      "---------------\n",
      "[10, 30, 80, 90, 40, 50, 70]\n",
      "i: 1\n",
      "j 2\n",
      "---------------\n",
      "---------------\n",
      "[10, 30, 40, 90, 80, 50, 70]\n",
      "i: 2\n",
      "j 4\n",
      "---------------\n",
      "---------------\n",
      "[10, 30, 40, 50, 80, 90, 70]\n",
      "i: 3\n",
      "j 5\n",
      "---------------\n",
      "return 4\n",
      "i: -1\n",
      "---------------\n",
      "[10, 30, 40, 50, 70, 90, 80]\n",
      "i: 0\n",
      "j 0\n",
      "---------------\n",
      "---------------\n",
      "[10, 30, 40, 50, 70, 90, 80]\n",
      "i: 1\n",
      "j 1\n",
      "---------------\n",
      "---------------\n",
      "[10, 30, 40, 50, 70, 90, 80]\n",
      "i: 2\n",
      "j 2\n",
      "---------------\n",
      "return 3\n",
      "i: -1\n",
      "---------------\n",
      "[10, 30, 40, 50, 70, 90, 80]\n",
      "i: 0\n",
      "j 0\n",
      "---------------\n",
      "---------------\n",
      "[10, 30, 40, 50, 70, 90, 80]\n",
      "i: 1\n",
      "j 1\n",
      "---------------\n",
      "return 2\n",
      "i: -1\n",
      "---------------\n",
      "[10, 30, 40, 50, 70, 90, 80]\n",
      "i: 0\n",
      "j 0\n",
      "---------------\n",
      "return 1\n",
      "i: 4\n",
      "return 5\n"
     ]
    }
   ],
   "source": [
    "quickSort(arr,0,n-1) "
   ]
  },
  {
   "cell_type": "code",
   "execution_count": 864,
   "metadata": {},
   "outputs": [
    {
     "data": {
      "text/plain": [
       "[10, 30, 40, 50, 70, 80, 90]"
      ]
     },
     "execution_count": 864,
     "metadata": {},
     "output_type": "execute_result"
    }
   ],
   "source": [
    "arr"
   ]
  },
  {
   "cell_type": "code",
   "execution_count": 65,
   "metadata": {},
   "outputs": [],
   "source": [
    "def prod(a,b):\n",
    "\n",
    "    if a <=1:\n",
    "        \n",
    "        return 1\n",
    "    \n",
    "    else:\n",
    "        return a + prod(a-1,b)"
   ]
  },
  {
   "cell_type": "code",
   "execution_count": 69,
   "metadata": {},
   "outputs": [],
   "source": [
    "def recurSum(n):\n",
    "    if n <= 1:\n",
    "        return n\n",
    "    return n + recurSum(n-1)\n",
    "    "
   ]
  },
  {
   "cell_type": "code",
   "execution_count": 81,
   "metadata": {},
   "outputs": [],
   "source": [
    "def recurMult(a,b):\n",
    "    if b <=0:\n",
    "        return 0\n",
    "    #b = 1\n",
    "    return a + recurMult(a,b-1)"
   ]
  },
  {
   "cell_type": "code",
   "execution_count": 82,
   "metadata": {},
   "outputs": [
    {
     "data": {
      "text/plain": [
       "15"
      ]
     },
     "execution_count": 82,
     "metadata": {},
     "output_type": "execute_result"
    }
   ],
   "source": [
    "recurMult(5,3)"
   ]
  },
  {
   "cell_type": "code",
   "execution_count": 101,
   "metadata": {},
   "outputs": [
    {
     "data": {
      "text/plain": [
       "17"
      ]
     },
     "execution_count": 101,
     "metadata": {},
     "output_type": "execute_result"
    }
   ],
   "source": [
    "def fun1(x:int, y:int):\n",
    "\n",
    "  if x <= 0:\n",
    "    return y\n",
    "  else:\n",
    "    return x + fun1(x - 1,   y) \n",
    " \n",
    "fun1(5,2)"
   ]
  },
  {
   "cell_type": "code",
   "execution_count": 219,
   "metadata": {},
   "outputs": [],
   "source": [
    "class BinaryNode():\n",
    "    def __init__(this,data):\n",
    "        \n",
    "        this.left = None\n",
    "        this.right = None\n",
    "        this.val = data\n",
    "    \n",
    "    def insert(this,data):\n",
    "        if this.val:\n",
    "            if data < this.val:\n",
    "                if this.left is None:\n",
    "                    \n",
    "                    this.left = BinaryNode(data)\n",
    "                else:\n",
    "                    this.left.insert(data)\n",
    "            elif data > this.val:\n",
    "                if this.right is None:\n",
    "                    this.right = BinaryNode(data)\n",
    "                else:\n",
    "                    this.right.insert(data)\n",
    "                    \n",
    "    def printTree(this):\n",
    "        if this.left:\n",
    "            this.left.printTree()\n",
    "        print(this.val)\n",
    "        if this.right:\n",
    "            this.right.printTree() \n",
    "     \n",
    "    def inOrderTraversal(this,root):\n",
    "        arr = []\n",
    "        \n",
    "        if root:\n",
    "            arr = this.inOrderTraversal(root.left)\n",
    "            arr.append(root.val)\n",
    "            arr += this.inOrderTraversal(root.right)\n",
    "        return arr\n",
    "    \n",
    "    def preOrderTraversal(this,root):\n",
    "        arr = []\n",
    "        if root:\n",
    "            arr.append(root.val)\n",
    "            arr += this.preOrderTraversal(root.left)\n",
    "            arr += this.preOrderTraversal(root.right)\n",
    "        return arr \n",
    "    \n",
    "    def postOrderTraversal(this,root):\n",
    "        arr = []\n",
    "        if root:\n",
    "            arr += this.postOrderTraversal(root.left)\n",
    "            arr += this.postOrderTraversal(root.right)\n",
    "            arr.append(root.val)\n",
    "        return arr    "
   ]
  },
  {
   "cell_type": "code",
   "execution_count": 220,
   "metadata": {},
   "outputs": [],
   "source": [
    "root = BinaryNode(5)"
   ]
  },
  {
   "cell_type": "code",
   "execution_count": 221,
   "metadata": {},
   "outputs": [],
   "source": [
    "root.insert(4)\n",
    "root.insert(5)\n",
    "root.insert(2)\n",
    "root.insert(1)\n",
    "root.insert(9)\n",
    "root.insert(8)"
   ]
  },
  {
   "cell_type": "code",
   "execution_count": 222,
   "metadata": {},
   "outputs": [
    {
     "name": "stdout",
     "output_type": "stream",
     "text": [
      "1\n",
      "2\n",
      "4\n",
      "5\n",
      "8\n",
      "9\n"
     ]
    }
   ],
   "source": [
    "root.printTree()"
   ]
  },
  {
   "cell_type": "code",
   "execution_count": 223,
   "metadata": {},
   "outputs": [
    {
     "data": {
      "text/plain": [
       "[1, 2, 4, 5, 8, 9]"
      ]
     },
     "execution_count": 223,
     "metadata": {},
     "output_type": "execute_result"
    }
   ],
   "source": [
    "root.inOrderTraversal(root)"
   ]
  },
  {
   "cell_type": "code",
   "execution_count": 224,
   "metadata": {},
   "outputs": [
    {
     "data": {
      "text/plain": [
       "[5, 4, 2, 1, 9, 8]"
      ]
     },
     "execution_count": 224,
     "metadata": {},
     "output_type": "execute_result"
    }
   ],
   "source": [
    "root.preOrderTraversal(root)"
   ]
  },
  {
   "cell_type": "code",
   "execution_count": 225,
   "metadata": {},
   "outputs": [
    {
     "data": {
      "text/plain": [
       "[1, 2, 4, 8, 9, 5]"
      ]
     },
     "execution_count": 225,
     "metadata": {},
     "output_type": "execute_result"
    }
   ],
   "source": [
    "root.postOrderTraversal(root)"
   ]
  },
  {
   "cell_type": "code",
   "execution_count": null,
   "metadata": {},
   "outputs": [],
   "source": [
    "        4\n",
    "     2      5\n",
    "   1            9\n",
    "            8"
   ]
  },
  {
   "cell_type": "code",
   "execution_count": 230,
   "metadata": {},
   "outputs": [],
   "source": [
    "# A class to represent a graph. A graph \n",
    "# is the list of the adjacency lists. \n",
    "# Size of the array will be the no. of the \n",
    "# vertices \"V\" \n",
    "class AdjNode: \n",
    "    def __init__(self, data): \n",
    "        self.vertex = data \n",
    "        self.next = None\n",
    "\n",
    "class Graph: \n",
    "    def __init__(self, vertices): \n",
    "        self.V = vertices \n",
    "        self.graph = [None] * self.V \n",
    "  \n",
    "    # Function to add an edge in an undirected graph \n",
    "    def add_edge(self, src, dest): \n",
    "        # Adding the node to the source node \n",
    "        node = AdjNode(dest) \n",
    "        node.next = self.graph[src] \n",
    "        self.graph[src] = node \n",
    "  \n",
    "        # Adding the source node to the destination as \n",
    "        # it is the undirected graph \n",
    "        node = AdjNode(src) \n",
    "        node.next = self.graph[dest] \n",
    "        self.graph[dest] = node \n",
    "  \n",
    "    # Function to print the graph \n",
    "    def print_graph(self): \n",
    "        for i in range(self.V): \n",
    "            print(\"Adjacency list of vertex {}\\n head\".format(i), end=\"\") \n",
    "            temp = self.graph[i] \n",
    "            while temp: \n",
    "                print(\" -> {}\".format(temp.vertex), end=\"\") \n",
    "                temp = temp.next\n",
    "            print(\" \\n\")"
   ]
  },
  {
   "cell_type": "code",
   "execution_count": 231,
   "metadata": {},
   "outputs": [
    {
     "name": "stdout",
     "output_type": "stream",
     "text": [
      "Adjacency list of vertex 0\n",
      " head -> 4 -> 1 \n",
      "\n",
      "Adjacency list of vertex 1\n",
      " head -> 4 -> 3 -> 2 -> 0 \n",
      "\n",
      "Adjacency list of vertex 2\n",
      " head -> 3 -> 1 \n",
      "\n",
      "Adjacency list of vertex 3\n",
      " head -> 4 -> 2 -> 1 \n",
      "\n",
      "Adjacency list of vertex 4\n",
      " head -> 3 -> 1 -> 0 \n",
      "\n"
     ]
    }
   ],
   "source": [
    "if __name__ == \"__main__\": \n",
    "    V = 5\n",
    "    graph = Graph(V) \n",
    "    graph.add_edge(0, 1) \n",
    "    graph.add_edge(0, 4) \n",
    "    graph.add_edge(1, 2) \n",
    "    graph.add_edge(1, 3) \n",
    "    graph.add_edge(1, 4) \n",
    "    graph.add_edge(2, 3) \n",
    "    graph.add_edge(3, 4) \n",
    "  \n",
    "    graph.print_graph()"
   ]
  },
  {
   "cell_type": "code",
   "execution_count": 232,
   "metadata": {},
   "outputs": [
    {
     "name": "stdout",
     "output_type": "stream",
     "text": [
      "Vertices of graph:\n",
      "['a', 'b', 'c', 'd', 'e', 'f']\n",
      "Edges of graph:\n",
      "[{'d', 'a'}, {'b', 'c'}, {'c'}, {'d', 'c'}, {'c', 'e'}]\n",
      "Add vertex:\n",
      "Vertices of graph:\n",
      "['a', 'b', 'c', 'd', 'e', 'f', 'z']\n",
      "Add an edge:\n",
      "Vertices of graph:\n",
      "['a', 'b', 'c', 'd', 'e', 'f', 'z']\n",
      "Edges of graph:\n",
      "[{'d', 'a'}, {'a', 'z'}, {'b', 'c'}, {'c'}, {'d', 'c'}, {'c', 'e'}]\n",
      "Adding an edge {\"x\",\"y\"} with new vertices:\n",
      "Vertices of graph:\n",
      "['a', 'b', 'c', 'd', 'e', 'f', 'z', 'y']\n",
      "Edges of graph:\n",
      "[{'d', 'a'}, {'a', 'z'}, {'b', 'c'}, {'c'}, {'d', 'c'}, {'c', 'e'}, {'x', 'y'}]\n"
     ]
    }
   ],
   "source": [
    "class Graph(object):\n",
    "\n",
    "    def __init__(self, graph_dict=None):\n",
    "        \"\"\" initializes a graph object \n",
    "            If no dictionary or None is given, \n",
    "            an empty dictionary will be used\n",
    "        \"\"\"\n",
    "        if graph_dict == None:\n",
    "            graph_dict = {}\n",
    "        self.__graph_dict = graph_dict\n",
    "\n",
    "    def vertices(self):\n",
    "        \"\"\" returns the vertices of a graph \"\"\"\n",
    "        return list(self.__graph_dict.keys())\n",
    "\n",
    "    def edges(self):\n",
    "        \"\"\" returns the edges of a graph \"\"\"\n",
    "        return self.__generate_edges()\n",
    "\n",
    "    def add_vertex(self, vertex):\n",
    "        \"\"\" If the vertex \"vertex\" is not in \n",
    "            self.__graph_dict, a key \"vertex\" with an empty\n",
    "            list as a value is added to the dictionary. \n",
    "            Otherwise nothing has to be done. \n",
    "        \"\"\"\n",
    "        if vertex not in self.__graph_dict:\n",
    "            self.__graph_dict[vertex] = []\n",
    "\n",
    "    def add_edge(self, edge):\n",
    "        \"\"\" assumes that edge is of type set, tuple or list; \n",
    "            between two vertices can be multiple edges! \n",
    "        \"\"\"\n",
    "        edge = set(edge)\n",
    "        (vertex1, vertex2) = tuple(edge)\n",
    "        if vertex1 in self.__graph_dict:\n",
    "            self.__graph_dict[vertex1].append(vertex2)\n",
    "        else:\n",
    "            self.__graph_dict[vertex1] = [vertex2]\n",
    "\n",
    "    def __generate_edges(self):\n",
    "        \"\"\" A static method generating the edges of the \n",
    "            graph \"graph\". Edges are represented as sets \n",
    "            with one (a loop back to the vertex) or two \n",
    "            vertices \n",
    "        \"\"\"\n",
    "        edges = []\n",
    "        for vertex in self.__graph_dict:\n",
    "            for neighbour in self.__graph_dict[vertex]:\n",
    "                if {neighbour, vertex} not in edges:\n",
    "                    edges.append({vertex, neighbour})\n",
    "        return edges\n",
    "\n",
    "    def __str__(self):\n",
    "        res = \"vertices: \"\n",
    "        for k in self.__graph_dict:\n",
    "            res += str(k) + \" \"\n",
    "        res += \"\\nedges: \"\n",
    "        for edge in self.__generate_edges():\n",
    "            res += str(edge) + \" \"\n",
    "        return res\n",
    "\n",
    "\n",
    "if __name__ == \"__main__\":\n",
    "\n",
    "    g = { \"a\" : [\"d\"],\n",
    "          \"b\" : [\"c\"],\n",
    "          \"c\" : [\"b\", \"c\", \"d\", \"e\"],\n",
    "          \"d\" : [\"a\", \"c\"],\n",
    "          \"e\" : [\"c\"],\n",
    "          \"f\" : []\n",
    "        }\n",
    "\n",
    "\n",
    "    graph = Graph(g)\n",
    "\n",
    "    print(\"Vertices of graph:\")\n",
    "    print(graph.vertices())\n",
    "\n",
    "    print(\"Edges of graph:\")\n",
    "    print(graph.edges())\n",
    "\n",
    "    print(\"Add vertex:\")\n",
    "    graph.add_vertex(\"z\")\n",
    "\n",
    "    print(\"Vertices of graph:\")\n",
    "    print(graph.vertices())\n",
    " \n",
    "    print(\"Add an edge:\")\n",
    "    graph.add_edge({\"a\",\"z\"})\n",
    "    \n",
    "    print(\"Vertices of graph:\")\n",
    "    print(graph.vertices())\n",
    "\n",
    "    print(\"Edges of graph:\")\n",
    "    print(graph.edges())\n",
    "\n",
    "    print('Adding an edge {\"x\",\"y\"} with new vertices:')\n",
    "    graph.add_edge({\"x\",\"y\"})\n",
    "    print(\"Vertices of graph:\")\n",
    "    print(graph.vertices())\n",
    "    print(\"Edges of graph:\")\n",
    "    print(graph.edges())"
   ]
  },
  {
   "cell_type": "markdown",
   "metadata": {},
   "source": [
    "# Graph BFS"
   ]
  },
  {
   "cell_type": "code",
   "execution_count": 262,
   "metadata": {},
   "outputs": [],
   "source": [
    "from collections import defaultdict \n",
    "  \n",
    "# This class represents a directed graph \n",
    "# using adjacency list representation \n",
    "class Graph: \n",
    "  \n",
    "    # Constructor \n",
    "    def __init__(self): \n",
    "  \n",
    "        # default dictionary to store graph \n",
    "        self.graph = defaultdict(list) \n",
    "  \n",
    "    # function to add an edge to graph \n",
    "    def addEdge(self,u,v): \n",
    "        self.graph[u].append(v) \n",
    "  \n",
    "    # Function to print a BFS of graph \n",
    "    def BFS(self, s): \n",
    "  \n",
    "        # Mark all the vertices as not visited \n",
    "        visited = [False] * (len(self.graph)) \n",
    "  \n",
    "        # Create a queue for BFS \n",
    "        queue = [] \n",
    "  \n",
    "        # Mark the source node as  \n",
    "        # visited and enqueue it \n",
    "        queue.append(s) \n",
    "        visited[s] = True\n",
    "  \n",
    "        while queue: \n",
    "            \n",
    "            # Dequeue a vertex from  \n",
    "            # queue and print it \n",
    "            s = queue.pop(0) \n",
    "            print (s, end = \" \") \n",
    "  \n",
    "            # Get all adjacent vertices of the \n",
    "            # dequeued vertex s. If a adjacent \n",
    "            # has not been visited, then mark it \n",
    "            # visited and enqueue it \n",
    "            for i in self.graph[s]: \n",
    "                if visited[i] == False: \n",
    "                    queue.append(i) \n",
    "                    visited[i] = True\n",
    "                    print(visited)\n",
    "\n",
    "\n"
   ]
  },
  {
   "cell_type": "code",
   "execution_count": 263,
   "metadata": {},
   "outputs": [
    {
     "name": "stdout",
     "output_type": "stream",
     "text": [
      "Following is Breadth First Traversal (starting from vertex 2)\n",
      "2 [True, False, True, False]\n",
      "[True, False, True, True]\n",
      "0 [True, True, True, True]\n",
      "3 1 "
     ]
    }
   ],
   "source": [
    "# Driver code \n",
    "  \n",
    "# Create a graph given in \n",
    "# the above diagram \n",
    "g = Graph() \n",
    "g.addEdge(0, 1) \n",
    "g.addEdge(0, 2) \n",
    "g.addEdge(1, 2) \n",
    "g.addEdge(2, 0) \n",
    "g.addEdge(2, 3) \n",
    "g.addEdge(3, 3) \n",
    "  \n",
    "print (\"Following is Breadth First Traversal\"\n",
    "                  \" (starting from vertex 2)\") \n",
    "g.BFS(2) "
   ]
  },
  {
   "cell_type": "code",
   "execution_count": 268,
   "metadata": {},
   "outputs": [
    {
     "data": {
      "text/plain": [
       "__main__.Graph"
      ]
     },
     "execution_count": 268,
     "metadata": {},
     "output_type": "execute_result"
    }
   ],
   "source": [
    "type(g)"
   ]
  },
  {
   "cell_type": "code",
   "execution_count": null,
   "metadata": {},
   "outputs": [],
   "source": [
    "# Driver code \n",
    "  \n",
    "# Create a graph given in \n",
    "# the above diagram \n",
    "g = Graph() \n",
    "g.addEdge('a', 'c') \n",
    "g.addEdge('b', 'c') \n",
    "g.addEdge('b', 'e') \n",
    "g.addEdge('c', 'd') \n",
    "g.addEdge('c', 'e') \n",
    "g.addEdge('c', 'a') \n",
    "g.addEdge('c', 'b')\n",
    "g.addEdge('e', 'b') \n",
    "g.addEdge('d', 'c')\n",
    "g.addEdge('e', 'c') \n",
    "  \n",
    "print (\"Following is Breadth First Traversal\"\n",
    "                  \" (starting from vertex 2)\") \n",
    "g.BFS('a') "
   ]
  },
  {
   "cell_type": "code",
   "execution_count": 238,
   "metadata": {},
   "outputs": [
    {
     "data": {
      "text/plain": [
       "defaultdict(list, {0: [1, 2], 1: [2], 2: [0, 3], 3: [3]})"
      ]
     },
     "execution_count": 238,
     "metadata": {},
     "output_type": "execute_result"
    }
   ],
   "source": [
    "[0 1 1 0\n",
    " 0 0 1 0\n",
    " 1 0 0 1\n",
    " 0 0 0 1]"
   ]
  },
  {
   "cell_type": "code",
   "execution_count": null,
   "metadata": {},
   "outputs": [],
   "source": [
    "     0\n",
    "   1   2\n",
    "         3"
   ]
  },
  {
   "cell_type": "code",
   "execution_count": 246,
   "metadata": {},
   "outputs": [],
   "source": [
    "from collections import defaultdict \n",
    "  \n",
    "# function for adding edge to graph \n",
    "graph = defaultdict(list) \n",
    "def addEdge(graph,u,v): \n",
    "    graph[u].append(v) \n",
    "  \n",
    "# definition of function \n",
    "def generate_edges(graph): \n",
    "    edges = [] \n",
    "  \n",
    "    # for each node in graph \n",
    "    for node in graph: \n",
    "          \n",
    "        # for each neighbour node of a single node \n",
    "        for neighbour in graph[node]: \n",
    "              \n",
    "            # if edge exists then append \n",
    "            edges.append((node, neighbour)) \n",
    "    return edges "
   ]
  },
  {
   "cell_type": "markdown",
   "metadata": {},
   "source": [
    "# BFS using Graph"
   ]
  },
  {
   "cell_type": "code",
   "execution_count": 280,
   "metadata": {},
   "outputs": [],
   "source": [
    "import collections\n",
    "def bfs(graph, root): \n",
    "    visited, queue = set(), collections.deque([root])\n",
    "    visited.add(root)\n",
    "    while queue: \n",
    "        vertex = queue.popleft()\n",
    "        for neighbour in graph[vertex]: \n",
    "            if neighbour not in visited: \n",
    "                visited.add(neighbour) \n",
    "                queue.append(neighbour) \n",
    "                \n",
    "    return visited            \n",
    "if __name__ == '__main__':\n",
    "    graph = {0: [1, 2], 1: [2], 2: [3], 3: [1,2]} \n",
    "    bfs(graph, 0)"
   ]
  },
  {
   "cell_type": "code",
   "execution_count": 293,
   "metadata": {},
   "outputs": [
    {
     "data": {
      "text/plain": [
       "{'b', 'd', 'e'}"
      ]
     },
     "execution_count": 293,
     "metadata": {},
     "output_type": "execute_result"
    }
   ],
   "source": [
    "bfs(graph, 'b')"
   ]
  },
  {
   "cell_type": "code",
   "execution_count": 15,
   "metadata": {},
   "outputs": [],
   "source": [
    "from collections import defaultdict\n",
    "graph = defaultdict(list)\n",
    "\n",
    "def addEdge(graph,src,dst):\n",
    "    graph[src].append(dst)\n",
    "    "
   ]
  },
  {
   "cell_type": "code",
   "execution_count": 16,
   "metadata": {},
   "outputs": [],
   "source": [
    "addEdge(graph,'a','b')\n",
    "addEdge(graph,'a','c')\n",
    "addEdge(graph,'a','d')\n",
    "addEdge(graph,'b','d')\n",
    "addEdge(graph,'b','e')"
   ]
  },
  {
   "cell_type": "code",
   "execution_count": 4,
   "metadata": {},
   "outputs": [
    {
     "data": {
      "text/plain": [
       "defaultdict(list, {'a': ['b', 'c', 'd'], 'b': ['d', 'e']})"
      ]
     },
     "execution_count": 4,
     "metadata": {},
     "output_type": "execute_result"
    }
   ],
   "source": [
    "graph"
   ]
  },
  {
   "cell_type": "code",
   "execution_count": 12,
   "metadata": {},
   "outputs": [],
   "source": [
    "from collections import deque\n",
    "\n",
    "def BFS(graph,root):\n",
    "    visited = []\n",
    "    queue = deque([root])\n",
    "    visited.append(root)\n",
    "    \n",
    "    while queue:\n",
    "        vertex = queue.popleft()\n",
    "        \n",
    "        for neighbour in graph[vertex]:\n",
    "            if neighbour not in visited:\n",
    "                visited.append(neighbour)\n",
    "                queue.append(neighbour)\n",
    "                \n",
    "    return visited             \n",
    "    "
   ]
  },
  {
   "cell_type": "code",
   "execution_count": 13,
   "metadata": {},
   "outputs": [
    {
     "data": {
      "text/plain": [
       "['a', 'b', 'c', 'd', 'e']"
      ]
     },
     "execution_count": 13,
     "metadata": {},
     "output_type": "execute_result"
    }
   ],
   "source": [
    "BFS(graph,'a')"
   ]
  },
  {
   "cell_type": "code",
   "execution_count": 14,
   "metadata": {},
   "outputs": [],
   "source": [
    "queue = deque()"
   ]
  },
  {
   "cell_type": "code",
   "execution_count": 401,
   "metadata": {},
   "outputs": [],
   "source": [
    "def DFS(graph,root):\n",
    "    visited = []\n",
    "    queue = deque([root])\n",
    "    visited.append(root)\n",
    "    \n",
    "    while queue:\n",
    "        vertex = queue.pop()\n",
    "        \n",
    "        for neighbour in graph[vertex]:\n",
    "            if neighbour not in visited:\n",
    "                visited.append(neighbour)\n",
    "                queue.append(neighbour)\n",
    "                \n",
    "    return visited   "
   ]
  },
  {
   "cell_type": "code",
   "execution_count": 402,
   "metadata": {},
   "outputs": [
    {
     "data": {
      "text/plain": [
       "['a', 'b', 'c', 'd', 'e']"
      ]
     },
     "execution_count": 402,
     "metadata": {},
     "output_type": "execute_result"
    }
   ],
   "source": [
    "DFS(graph,'a')"
   ]
  },
  {
   "cell_type": "code",
   "execution_count": 343,
   "metadata": {},
   "outputs": [
    {
     "data": {
      "text/plain": [
       "['b', 'c', 'd']"
      ]
     },
     "execution_count": 343,
     "metadata": {},
     "output_type": "execute_result"
    }
   ],
   "source": [
    "graph['a']"
   ]
  },
  {
   "cell_type": "code",
   "execution_count": 310,
   "metadata": {},
   "outputs": [
    {
     "name": "stdout",
     "output_type": "stream",
     "text": [
      "true\n"
     ]
    }
   ],
   "source": [
    "if(\"9.236.185.5\".split(\".\")[0] == \"9.236.185.0\".split(\".\")[0]):\n",
    "                  \n",
    "          if(\"9.236.185.5\".split(\".\")[1] == \"9.236.185.0\".split(\".\")[1]):\n",
    "            \n",
    "            if(\"9.236.185.5\".split(\".\")[2] == \"9.236.185.0\".split(\".\")[2]):\n",
    "                print(\"true\")\n",
    "                "
   ]
  },
  {
   "cell_type": "code",
   "execution_count": 430,
   "metadata": {},
   "outputs": [],
   "source": [
    "val = str(format(90,'b'))"
   ]
  },
  {
   "cell_type": "code",
   "execution_count": 9,
   "metadata": {},
   "outputs": [
    {
     "data": {
      "text/plain": [
       "[[False, False, False, False, False, False, False, False, False, False],\n",
       " [False, False, False, False, False, False, False, False, False, False],\n",
       " [False, False, False, False, False, False, False, False, False, False],\n",
       " [False, False, False, False, False, False, False, False, False, False],\n",
       " [False, False, False, False, False, False, False, False, False, False]]"
      ]
     },
     "execution_count": 9,
     "metadata": {},
     "output_type": "execute_result"
    }
   ],
   "source": [
    "([[False for i in range(10)] for i in range(5)]) "
   ]
  },
  {
   "cell_type": "code",
   "execution_count": 22,
   "metadata": {},
   "outputs": [],
   "source": [
    "# A Dynamic Programming solution for subset sum problem \n",
    "# Returns true if there is a subset of \n",
    "# set[] with sun equal to given sum \n",
    "\n",
    "# Returns true if there is a subset of set[] \n",
    "# with sun equal to given sum \n",
    "def isSubsetSum(set,n,sum): \n",
    "    # The value of subset[i][j] will be \n",
    "    # true if there is a \n",
    "    # subset of set[0..j-1] with sum equal to i \n",
    "    subset=([[False for i in range(sum+1)] \n",
    "            for i in range(n+1)]) \n",
    "    \n",
    "    # If sum is 0, then answer is true \n",
    "    for i in range(n+1): \n",
    "        subset[i][0] = True\n",
    "        \n",
    "        # If sum is not 0 and set is empty, \n",
    "        # then answer is false \n",
    "        for i in range(1,sum+1): \n",
    "            subset[0][i]=False\n",
    "            \n",
    "        # Fill the subset table in botton up manner \n",
    "        for i in range(1,n+1): \n",
    "            for j in range(1,sum+1): \n",
    "                if j<set[i-1]: \n",
    "                    subset[i][j] = subset[i-1][j] \n",
    "                if j>=set[i-1]: \n",
    "                    subset[i][j] = (subset[i-1][j] or\n",
    "                                subset[i - 1][j-set[i-1]]) \n",
    "    \n",
    "        # uncomment this code to print table \n",
    "        # for i in range(n+1): \n",
    "        # for j in range(sum+1): \n",
    "        #\t print (subset[i][j],end=\" \") \n",
    "        # print() \n",
    "    return subset[n][sum] \n",
    "        \n",
    "\n",
    "        \n",
    "# This code is contributed by \n",
    "# sahil shelangia. \n"
   ]
  },
  {
   "cell_type": "code",
   "execution_count": 23,
   "metadata": {},
   "outputs": [
    {
     "name": "stdout",
     "output_type": "stream",
     "text": [
      "Found a subset with given sum\n"
     ]
    }
   ],
   "source": [
    "# Driver program to test above function \n",
    "if __name__=='__main__': \n",
    "\tset = [3, 34, 4, 12, 5, 2] \n",
    "\tsum = 4\n",
    "\tn =len(set) \n",
    "\tif (isSubsetSum(set, n, sum) == True): \n",
    "\t\tprint(\"Found a subset with given sum\") \n",
    "\telse: \n",
    "\t\tprint(\"No subset with given sum\") "
   ]
  },
  {
   "cell_type": "code",
   "execution_count": 26,
   "metadata": {},
   "outputs": [
    {
     "data": {
      "text/plain": [
       "[[False, False, False, False, False],\n",
       " [False, False, False, False, False],\n",
       " [False, False, False, False, False],\n",
       " [False, False, False, False, False],\n",
       " [False, False, False, False, False]]"
      ]
     },
     "execution_count": 26,
     "metadata": {},
     "output_type": "execute_result"
    }
   ],
   "source": [
    "[[False for i in range(0,5)] for i in range(0,5)]"
   ]
  },
  {
   "cell_type": "code",
   "execution_count": 27,
   "metadata": {},
   "outputs": [
    {
     "data": {
      "text/plain": [
       "[False, False, False, False, False]"
      ]
     },
     "execution_count": 27,
     "metadata": {},
     "output_type": "execute_result"
    }
   ],
   "source": [
    "[False for i in range(5)]"
   ]
  },
  {
   "cell_type": "code",
   "execution_count": 1,
   "metadata": {},
   "outputs": [
    {
     "ename": "NameError",
     "evalue": "name 'ipaddress' is not defined",
     "output_type": "error",
     "traceback": [
      "\u001b[0;31m---------------------------------------------------------------------------\u001b[0m",
      "\u001b[0;31mNameError\u001b[0m                                 Traceback (most recent call last)",
      "\u001b[0;32m<ipython-input-1-6dc99da507b8>\u001b[0m in \u001b[0;36m<module>\u001b[0;34m\u001b[0m\n\u001b[0;32m----> 1\u001b[0;31m \u001b[0mipaddress\u001b[0m\u001b[0;34m.\u001b[0m\u001b[0mip_address\u001b[0m\u001b[0;34m(\u001b[0m\u001b[0;34m'192.168.0.1'\u001b[0m\u001b[0;34m)\u001b[0m\u001b[0;34m\u001b[0m\u001b[0;34m\u001b[0m\u001b[0m\n\u001b[0m",
      "\u001b[0;31mNameError\u001b[0m: name 'ipaddress' is not defined"
     ]
    }
   ],
   "source": [
    "ipaddress.ip_address('192.168.0.1')"
   ]
  },
  {
   "cell_type": "code",
   "execution_count": 14,
   "metadata": {},
   "outputs": [
    {
     "data": {
      "text/plain": [
       "['', '', '1']"
      ]
     },
     "execution_count": 14,
     "metadata": {},
     "output_type": "execute_result"
    }
   ],
   "source": [
    "\"::1\".split(\":\")"
   ]
  },
  {
   "cell_type": "code",
   "execution_count": 2,
   "metadata": {},
   "outputs": [
    {
     "data": {
      "text/plain": [
       "['', '3', '4', '5', '', '6']"
      ]
     },
     "execution_count": 2,
     "metadata": {},
     "output_type": "execute_result"
    }
   ],
   "source": [
    "\":3:4:5::6\".split(\":\")"
   ]
  },
  {
   "cell_type": "code",
   "execution_count": 3,
   "metadata": {},
   "outputs": [],
   "source": [
    "def expandIPV6():\n",
    "    ipStr = \":3:4:5::6\"\n",
    "    strArr =  ipStr.split(':')\n",
    "    "
   ]
  },
  {
   "cell_type": "code",
   "execution_count": 15,
   "metadata": {},
   "outputs": [],
   "source": [
    "ipStr = \"::1\"\n",
    "strArr =  ipStr.split(':')"
   ]
  },
  {
   "cell_type": "code",
   "execution_count": 16,
   "metadata": {},
   "outputs": [
    {
     "data": {
      "text/plain": [
       "['', '', '1']"
      ]
     },
     "execution_count": 16,
     "metadata": {},
     "output_type": "execute_result"
    }
   ],
   "source": [
    "strArr "
   ]
  },
  {
   "cell_type": "code",
   "execution_count": 11,
   "metadata": {},
   "outputs": [],
   "source": [
    "def backtrack(combination,arr):\n",
    "    if len(combination) != 0:\n",
    "        if combination[-1] == arr[0] and combination[-1] == '':\n",
    "            \n",
    "    for i in arr:\n",
    "        combination += i\n",
    "        backtrack(combination,arr[1:])\n",
    "        print(i)"
   ]
  },
  {
   "cell_type": "code",
   "execution_count": 86,
   "metadata": {},
   "outputs": [
    {
     "data": {
      "text/plain": [
       "['', '', '1']"
      ]
     },
     "execution_count": 86,
     "metadata": {},
     "output_type": "execute_result"
    }
   ],
   "source": [
    "strArr = \"::1\".split(\":\")\n",
    "#strArr = \"1::\".split(\":\")\n",
    "strArr"
   ]
  },
  {
   "cell_type": "code",
   "execution_count": 73,
   "metadata": {},
   "outputs": [],
   "source": [
    "\n",
    "expandedIPV6 = []\n",
    "for i in strArr:\n",
    "    if i == '':\n",
    "        diffLength = 8 - len(strArr[])\n",
    "        for j in range(0,diffLength-1):\n",
    "            expandedIPV6.append(\"0000\")\n",
    "    else:\n",
    "        expandedIPV6.append(i)"
   ]
  },
  {
   "cell_type": "code",
   "execution_count": 45,
   "metadata": {},
   "outputs": [
    {
     "data": {
      "text/plain": [
       "['0000', '0000', '0000', '0000', '0000', '0000', '0000', '0000', '']"
      ]
     },
     "execution_count": 45,
     "metadata": {},
     "output_type": "execute_result"
    }
   ],
   "source": [
    "expandedIPV6"
   ]
  },
  {
   "cell_type": "code",
   "execution_count": 87,
   "metadata": {},
   "outputs": [
    {
     "name": "stdout",
     "output_type": "stream",
     "text": [
      "6\n",
      "6\n"
     ]
    },
    {
     "data": {
      "text/plain": [
       "['0000',\n",
       " '0000',\n",
       " '0000',\n",
       " '0000',\n",
       " '0000',\n",
       " '0000',\n",
       " '0000',\n",
       " '0000',\n",
       " '0000',\n",
       " '0000',\n",
       " '0000',\n",
       " '0000']"
      ]
     },
     "execution_count": 87,
     "metadata": {},
     "output_type": "execute_result"
    }
   ],
   "source": [
    "expandedIPV6 = []\n",
    "for i in range(0,len(strArr)-1):\n",
    "    if strArr[i] == '':\n",
    "        diffLength = 8 - (len(strArr[i+1:]) + len(strArr[0:i]))\n",
    "        print(diffLength)\n",
    "        for j in range(0,diffLength):\n",
    "            expandedIPV6.append('0000')\n",
    "    elif strArr[i] != '':\n",
    "        expandedIPV6.append(strArr[i])\n",
    "expandedIPV6"
   ]
  },
  {
   "cell_type": "code",
   "execution_count": 74,
   "metadata": {},
   "outputs": [],
   "source": [
    "def expandIPV6(strArr):\n",
    "    expandedIPV6 = []\n",
    "    for i in range(0,len(strArr)-1):\n",
    "        if strArr[i] == '':\n",
    "            diffLength = 8 - (len(strArr[i+1]) + len(strArr[0:i]))\n",
    "            \n",
    "            for j in range(0,diffLength):\n",
    "                expandedIPV6.append('0000')\n",
    "        elif strArr[i] != '':\n",
    "            expandedIPV6.append(strArr[i])\n",
    "        \n",
    "    return \":\".join(expandedIPV6)"
   ]
  },
  {
   "cell_type": "code",
   "execution_count": 75,
   "metadata": {},
   "outputs": [
    {
     "name": "stdout",
     "output_type": "stream",
     "text": [
      "8\n",
      "6\n"
     ]
    },
    {
     "data": {
      "text/plain": [
       "'0000:0000:0000:0000:0000:0000:0000:0000:0000:0000:0000:0000:0000:0000'"
      ]
     },
     "execution_count": 75,
     "metadata": {},
     "output_type": "execute_result"
    }
   ],
   "source": [
    "expandIPV6(strArr)"
   ]
  },
  {
   "cell_type": "code",
   "execution_count": 66,
   "metadata": {},
   "outputs": [
    {
     "data": {
      "text/plain": [
       "'3f2e'"
      ]
     },
     "execution_count": 66,
     "metadata": {},
     "output_type": "execute_result"
    }
   ],
   "source": [
    "expandIPV6(\"3f2e::22df\".split(':'))"
   ]
  },
  {
   "cell_type": "code",
   "execution_count": 67,
   "metadata": {},
   "outputs": [
    {
     "data": {
      "text/plain": [
       "['3f2e', '', '22df']"
      ]
     },
     "execution_count": 67,
     "metadata": {},
     "output_type": "execute_result"
    }
   ],
   "source": [
    "\"3f2e::22df\".split(':')"
   ]
  },
  {
   "cell_type": "code",
   "execution_count": 137,
   "metadata": {},
   "outputs": [],
   "source": [
    "expandedIPV6 = []\n",
    "for i in range(0,len(strArr)-1):\n",
    "    if strArr[i] == '':\n",
    "        diffLength = 8 - (len(strArr[i+1]) + len(strArr[0:i]))\n",
    "        \n",
    "        for j in range(0,diffLength):\n",
    "            expandedIPV6.append('0000')\n",
    "    elif strArr[i] != '':\n",
    "        expandedIPV6.append(strArr[i])"
   ]
  },
  {
   "cell_type": "markdown",
   "metadata": {},
   "source": [
    "# case 1 - \"::1\""
   ]
  },
  {
   "cell_type": "code",
   "execution_count": 162,
   "metadata": {},
   "outputs": [
    {
     "data": {
      "text/plain": [
       "['0000', '0000', '0000', '0000', '0000', '0000', '0007', '32df']"
      ]
     },
     "execution_count": 162,
     "metadata": {},
     "output_type": "execute_result"
    }
   ],
   "source": [
    "expandedIPV6 = []\n",
    "strArr = \"::7:32df\".split(\":\")\n",
    "if strArr[0] == '':\n",
    "    if strArr[1] != '':\n",
    "        print(\"not IPV6\")\n",
    "    else:\n",
    "        \n",
    "        diffLength = 8 - len(strArr[2:])\n",
    "        for j in range(0,diffLength):\n",
    "            expandedIPV6.append(\"0000\")\n",
    "        for i in strArr[2:]:\n",
    "            expandedIPV6.append(i.zfill(4))\n",
    "    \n",
    "expandedIPV6"
   ]
  },
  {
   "cell_type": "markdown",
   "metadata": {},
   "source": [
    "# case 2 - \"1::\""
   ]
  },
  {
   "cell_type": "code",
   "execution_count": 163,
   "metadata": {},
   "outputs": [
    {
     "data": {
      "text/plain": [
       "['0001', '0000', '0000', '0000', '0000', '0000', '0000', '0000']"
      ]
     },
     "execution_count": 163,
     "metadata": {},
     "output_type": "execute_result"
    }
   ],
   "source": [
    "expandedIPV6 = []\n",
    "strArr = \"1::\".split(\":\")\n",
    "if strArr[-1] == '':\n",
    "    if strArr[len(strArr)-2] != '':\n",
    "        print(\"not IPV6\")\n",
    "    else:\n",
    "        for i in strArr[0:len(strArr)-2]:\n",
    "            #if i != '':\n",
    "            expandedIPV6.append(i.zfill(4))\n",
    "        \n",
    "        diffLength = 8 - len(strArr[0:len(strArr)-2])\n",
    "        for j in range(0,diffLength):\n",
    "            expandedIPV6.append(\"0000\")\n",
    "    \n",
    "expandedIPV6"
   ]
  },
  {
   "cell_type": "markdown",
   "metadata": {},
   "source": [
    "# case 3 - \"1::1\""
   ]
  },
  {
   "cell_type": "code",
   "execution_count": 164,
   "metadata": {},
   "outputs": [
    {
     "data": {
      "text/plain": [
       "['32df', '0002', '0000', '0000', '0000', '0000', '0555', '4eee']"
      ]
     },
     "execution_count": 164,
     "metadata": {},
     "output_type": "execute_result"
    }
   ],
   "source": [
    "expandedIPV6 = []\n",
    "strArr = \"32df:2::555:4eee\".split(\":\")\n",
    "if strArr[-1] != '' and strArr[0] != '':\n",
    "    for i in range(0,len(strArr)):\n",
    "        if strArr[i] == '':\n",
    "            diffLength = 8 - (len(strArr[0:i]) + len(strArr[i+1:]))\n",
    "            for j in range(0,diffLength):\n",
    "                expandedIPV6.append(\"0000\")\n",
    "        else:\n",
    "            expandedIPV6.append(strArr[i].zfill(4))\n",
    "else:\n",
    "    print(\"not IPV6\")\n",
    "    \n",
    "expandedIPV6"
   ]
  },
  {
   "cell_type": "code",
   "execution_count": 242,
   "metadata": {},
   "outputs": [],
   "source": [
    "class expandIPV6():\n",
    "    def __init__(this,IPV6_address):\n",
    "        this.ipv6 = IPV6_address\n",
    "        this.getExpandedIPV6()\n",
    "        #print(ipv6)\n",
    "        \n",
    "    def getExpandedIPV6(this):\n",
    "        strArr = this.ipv6.split(\":\")\n",
    "        \n",
    "        if strArr[0] == '' and strArr[1] == '':\n",
    "            \n",
    "            return this.caseLeadingZeroes(strArr)\n",
    "        elif strArr[-1] == '' and strArr[len(strArr)-2] == '':\n",
    "            \n",
    "            return this.caseLaggingZeroes(strArr)\n",
    "        elif strArr[-1] != '' and strArr[0] != '':\n",
    "            \n",
    "            return this.caseMiddleZeroes(strArr)\n",
    "        else:\n",
    "            print(\"not IPV6\")\n",
    "        \n",
    "        \n",
    "    def caseLeadingZeroes(this,strArr):\n",
    "        expandedIPV6 = []\n",
    "        \n",
    "        diffLength = 8 - len(strArr[2:])\n",
    "        for j in range(0,diffLength):\n",
    "            expandedIPV6.append(\"0000\")\n",
    "        for i in strArr[2:]:\n",
    "            expandedIPV6.append(i.zfill(4))\n",
    "            \n",
    "        return \":\".join(expandedIPV6)\n",
    "    \n",
    "    def caseLaggingZeroes(this,strArr):\n",
    "        expandedIPV6 = []\n",
    "\n",
    "        for i in strArr[0:len(strArr)-2]:\n",
    "            expandedIPV6.append(i.zfill(4))\n",
    "\n",
    "        diffLength = 8 - len(strArr[0:len(strArr)-2])\n",
    "        \n",
    "        for j in range(0,diffLength):\n",
    "            expandedIPV6.append(\"0000\")\n",
    "          \n",
    "        return \":\".join(expandedIPV6)\n",
    "        \n",
    "    def caseMiddleZeroes(this,strArr):\n",
    "        expandedIPV6 = []\n",
    "        \n",
    "        for i in range(0,len(strArr)):\n",
    "            if strArr[i] == '':\n",
    "                diffLength = 8 - (len(strArr[0:i]) + len(strArr[i+1:]))\n",
    "                for j in range(0,diffLength):\n",
    "                    expandedIPV6.append(\"0000\")\n",
    "            else:\n",
    "                expandedIPV6.append(strArr[i].zfill(4))\n",
    "        return \":\".join(expandedIPV6)\n",
    "              "
   ]
  },
  {
   "cell_type": "code",
   "execution_count": 243,
   "metadata": {},
   "outputs": [
    {
     "data": {
      "text/plain": [
       "'0001:0000:0000:0000:0000:0000:0000:0010'"
      ]
     },
     "execution_count": 243,
     "metadata": {},
     "output_type": "execute_result"
    }
   ],
   "source": [
    "a = expandIPV6('1::10')\n",
    "a.getExpandedIPV6()"
   ]
  },
  {
   "cell_type": "code",
   "execution_count": 244,
   "metadata": {},
   "outputs": [],
   "source": [
    "import pandas as pd\n",
    "import re"
   ]
  },
  {
   "cell_type": "code",
   "execution_count": 245,
   "metadata": {},
   "outputs": [],
   "source": [
    "import ipaddress"
   ]
  },
  {
   "cell_type": "code",
   "execution_count": 45,
   "metadata": {},
   "outputs": [],
   "source": [
    "import string\n",
    "string.hexdigits\n",
    "'abcdefghijklmnopqrstuvwxyzABCDEFGHIJKLMNOPQRSTUVWXYZ'\n",
    "import random\n"
   ]
  },
  {
   "cell_type": "code",
   "execution_count": 46,
   "metadata": {},
   "outputs": [
    {
     "data": {
      "text/plain": [
       "'jsfJ'"
      ]
     },
     "execution_count": 46,
     "metadata": {},
     "output_type": "execute_result"
    }
   ],
   "source": [
    "random.choice(string.ascii_letters)+random.choice(string.ascii_letters)+random.choice(string.ascii_letters)+random.choice(string.ascii_letters)"
   ]
  },
  {
   "cell_type": "code",
   "execution_count": 72,
   "metadata": {},
   "outputs": [
    {
     "ename": "ValueError",
     "evalue": "invalid literal for int() with base 10: ':'",
     "output_type": "error",
     "traceback": [
      "\u001b[0;31m---------------------------------------------------------------------------\u001b[0m",
      "\u001b[0;31mValueError\u001b[0m                                Traceback (most recent call last)",
      "\u001b[0;32m<ipython-input-72-65ff121621e0>\u001b[0m in \u001b[0;36m<module>\u001b[0;34m\u001b[0m\n\u001b[1;32m      1\u001b[0m \u001b[0;32mfor\u001b[0m \u001b[0mi\u001b[0m \u001b[0;32min\u001b[0m \u001b[0mrange\u001b[0m\u001b[0;34m(\u001b[0m\u001b[0;36m0\u001b[0m\u001b[0;34m,\u001b[0m\u001b[0;36m100\u001b[0m\u001b[0;34m)\u001b[0m\u001b[0;34m:\u001b[0m\u001b[0;34m\u001b[0m\u001b[0;34m\u001b[0m\u001b[0m\n\u001b[0;32m----> 2\u001b[0;31m     \u001b[0mprint\u001b[0m\u001b[0;34m(\u001b[0m\u001b[0mchr\u001b[0m\u001b[0;34m(\u001b[0m\u001b[0mrandom\u001b[0m\u001b[0;34m.\u001b[0m\u001b[0mrandrange\u001b[0m\u001b[0;34m(\u001b[0m\u001b[0;36m48\u001b[0m\u001b[0;34m,\u001b[0m \u001b[0;36m57\u001b[0m\u001b[0;34m,\u001b[0m\u001b[0;34m\":\"\u001b[0m\u001b[0;34m)\u001b[0m\u001b[0;34m)\u001b[0m\u001b[0;34m)\u001b[0m\u001b[0;34m\u001b[0m\u001b[0;34m\u001b[0m\u001b[0m\n\u001b[0m",
      "\u001b[0;32m~/opt/anaconda3/lib/python3.7/random.py\u001b[0m in \u001b[0;36mrandrange\u001b[0;34m(self, start, stop, step, _int)\u001b[0m\n\u001b[1;32m    201\u001b[0m \u001b[0;34m\u001b[0m\u001b[0m\n\u001b[1;32m    202\u001b[0m         \u001b[0;31m# Non-unit step argument supplied.\u001b[0m\u001b[0;34m\u001b[0m\u001b[0;34m\u001b[0m\u001b[0;34m\u001b[0m\u001b[0m\n\u001b[0;32m--> 203\u001b[0;31m         \u001b[0mistep\u001b[0m \u001b[0;34m=\u001b[0m \u001b[0m_int\u001b[0m\u001b[0;34m(\u001b[0m\u001b[0mstep\u001b[0m\u001b[0;34m)\u001b[0m\u001b[0;34m\u001b[0m\u001b[0;34m\u001b[0m\u001b[0m\n\u001b[0m\u001b[1;32m    204\u001b[0m         \u001b[0;32mif\u001b[0m \u001b[0mistep\u001b[0m \u001b[0;34m!=\u001b[0m \u001b[0mstep\u001b[0m\u001b[0;34m:\u001b[0m\u001b[0;34m\u001b[0m\u001b[0;34m\u001b[0m\u001b[0m\n\u001b[1;32m    205\u001b[0m             \u001b[0;32mraise\u001b[0m \u001b[0mValueError\u001b[0m\u001b[0;34m(\u001b[0m\u001b[0;34m\"non-integer step for randrange()\"\u001b[0m\u001b[0;34m)\u001b[0m\u001b[0;34m\u001b[0m\u001b[0;34m\u001b[0m\u001b[0m\n",
      "\u001b[0;31mValueError\u001b[0m: invalid literal for int() with base 10: ':'"
     ]
    }
   ],
   "source": [
    "for i in range(0,100):\n",
    "    print(chr(random.randrange(48, 57,\":\")))"
   ]
  },
  {
   "cell_type": "code",
   "execution_count": 81,
   "metadata": {},
   "outputs": [
    {
     "name": "stdout",
     "output_type": "stream",
     "text": [
      "\"::2222:3333:4444:5555:6666:7777:8888:\"\n"
     ]
    }
   ],
   "source": [
    "import re\n",
    "quoted = re.compile('\"[^\"]*\"')\n",
    "for value in quoted.findall('ipv6test(!1,\"::2222:3333:4444:5555:6666:7777:8888:\")'):\n",
    "    print(value)"
   ]
  },
  {
   "cell_type": "code",
   "execution_count": 85,
   "metadata": {},
   "outputs": [
    {
     "name": "stdout",
     "output_type": "stream",
     "text": [
      "['\\ufeff\"ipv6test(!1,\"\"\"\");#', 'empty', 'string', '\"']\n",
      "['\"ipv6test(1,\"\"::1\"\");#', 'loopback,', 'compressed,', 'non-routable', '\"']\n",
      "['\"ipv6test(1,\"\"::\"\");#', 'unspecified,', 'compressed,', 'non-routable', '\"']\n",
      "['\"ipv6test(1,\"\"0:0:0:0:0:0:0:1\"\");#', 'loopback,', 'full', '\"']\n",
      "['\"ipv6test(1,\"\"0:0:0:0:0:0:0:0\"\");#', 'unspecified,', 'full', '\"']\n",
      "['\"ipv6test(1,\"\"2001:DB8:0:0:8:800:200C:417A\"\");#', 'unicast,', 'full', '\"']\n",
      "['\"ipv6test(1,\"\"FF01:0:0:0:0:0:0:101\"\");#', 'multicast,', 'full', '\"']\n",
      "['\"ipv6test(1,\"\"2001:DB8::8:800:200C:417A\"\");#', 'unicast,', 'compressed', '\"']\n",
      "['\"ipv6test(1,\"\"FF01::101\"\");#', 'multicast,', 'compressed', '\"']\n",
      "['\"ipv6test(!1,\"\"2001:DB8:0:0:8:800:200C:417A:221\"\");#', 'unicast,', 'full', '\"']\n",
      "['\"ipv6test(!1,\"\"FF01::101::2\"\");#', 'multicast,', 'compressed', '\"']\n",
      "['\"ipv6test(1,\"\"fe80::217:f2ff:fe07:ed62\"\");\"']\n",
      "[]\n",
      "['\"ipv6test(1,\"\"2001:0000:1234:0000:0000:C1C0:ABCD:0876\"\");\"']\n",
      "['\"ipv6test(1,\"\"3ffe:0b00:0000:0000:0001:0000:0000:000a\"\");\"']\n",
      "['\"ipv6test(1,\"\"FF02:0000:0000:0000:0000:0000:0000:0001\"\");\"']\n",
      "['\"ipv6test(1,\"\"0000:0000:0000:0000:0000:0000:0000:0001\"\");\"']\n",
      "['\"ipv6test(1,\"\"0000:0000:0000:0000:0000:0000:0000:0000\"\");\"']\n",
      "['\"ipv6test(!1,\"\"02001:0000:1234:0000:0000:C1C0:ABCD:0876\"\");', '#', 'extra', '0', 'not', 'allowed!', '\"']\n",
      "['\"ipv6test(!1,\"\"2001:0000:1234:0000:00001:C1C0:ABCD:0876\"\");', '#', 'extra', '0', 'not', 'allowed!', '\"']\n",
      "['\"#ipv6test(1,\"\"', '2001:0000:1234:0000:0000:C1C0:ABCD:0876\"\");', '#', 'leading', 'space\"']\n",
      "['\"#ipv6test(1,\"\"2001:0000:1234:0000:0000:C1C0:ABCD:0876\"\");', '#', 'trailing', 'space\"']\n",
      "['\"#ipv6test(1,\"\"', '2001:0000:1234:0000:0000:C1C0:ABCD:0876', '\"\");', '#', 'leading', 'and', 'trailing', 'space\"']\n",
      "['\"ipv6test(!1,\"\"2001:0000:1234:0000:0000:C1C0:ABCD:0876', '0\"\");', '#', 'junk', 'after', 'valid', 'address\"']\n",
      "['\"ipv6test(!1,\"\"2001:0000:1234:', '0000:0000:C1C0:ABCD:0876\"\");', '#', 'internal', 'space\"']\n",
      "[]\n",
      "['\"ipv6test(!1,\"\"3ffe:0b00:0000:0001:0000:0000:000a\"\");', '#', 'seven', 'segments\"']\n",
      "['\"ipv6test(!1,\"\"FF02:0000:0000:0000:0000:0000:0000:0000:0001\"\");', '#', 'nine', 'segments\"']\n",
      "['\"ipv6test(!1,\"\"3ffe:b00::1::a\"\");', '#', 'double', '\"\"::\"\"\"']\n",
      "['\"ipv6test(!1,\"\"::1111:2222:3333:4444:5555:6666::\"\");', '#', 'double', '\"\"::\"\"\"']\n",
      "['\"ipv6test(1,\"\"2::10\"\");\"']\n",
      "['\"ipv6test(1,\"\"ff02::1\"\");\"']\n",
      "['\"ipv6test(1,\"\"fe80::\"\");\"']\n",
      "['\"ipv6test(1,\"\"2002::\"\");\"']\n",
      "['\"ipv6test(1,\"\"2001:db8::\"\");\"']\n",
      "['\"ipv6test(1,\"\"2001:0db8:1234::\"\");\"']\n",
      "['\"ipv6test(1,\"\"::ffff:0:0\"\");\"']\n",
      "['\"ipv6test(1,\"\"::1\"\");\"']\n",
      "['\"ipv6test(1,\"\"1:2:3:4:5:6:7:8\"\");\"']\n",
      "['\"ipv6test(1,\"\"1:2:3:4:5:6::8\"\");\"']\n",
      "['\"ipv6test(1,\"\"1:2:3:4:5::8\"\");\"']\n",
      "['\"ipv6test(1,\"\"1:2:3:4::8\"\");\"']\n",
      "['\"ipv6test(1,\"\"1:2:3::8\"\");\"']\n",
      "['\"ipv6test(1,\"\"1:2::8\"\");\"']\n",
      "['\"ipv6test(1,\"\"1::8\"\");\"']\n",
      "['\"ipv6test(1,\"\"1::2:3:4:5:6:7\"\");\"']\n",
      "['\"ipv6test(1,\"\"1::2:3:4:5:6\"\");\"']\n",
      "['\"ipv6test(1,\"\"1::2:3:4:5\"\");\"']\n",
      "['\"ipv6test(1,\"\"1::2:3:4\"\");\"']\n",
      "['\"ipv6test(1,\"\"1::2:3\"\");\"']\n",
      "['\"ipv6test(1,\"\"1::8\"\");\"']\n",
      "['\"ipv6test(1,\"\"::2:3:4:5:6:7:8\"\");\"']\n",
      "['\"ipv6test(1,\"\"::2:3:4:5:6:7\"\");\"']\n",
      "['\"ipv6test(1,\"\"::2:3:4:5:6\"\");\"']\n",
      "['\"ipv6test(1,\"\"::2:3:4:5\"\");\"']\n",
      "['\"ipv6test(1,\"\"::2:3:4\"\");\"']\n",
      "['\"ipv6test(1,\"\"::2:3\"\");\"']\n",
      "['\"ipv6test(1,\"\"::8\"\");\"']\n",
      "['\"ipv6test(1,\"\"1:2:3:4:5:6::\"\");\"']\n",
      "['\"ipv6test(1,\"\"1:2:3:4:5::\"\");\"']\n",
      "['\"ipv6test(1,\"\"1:2:3:4::\"\");\"']\n",
      "['\"ipv6test(1,\"\"1:2:3::\"\");\"']\n",
      "['\"ipv6test(1,\"\"1:2::\"\");\"']\n",
      "['\"ipv6test(1,\"\"1::\"\");\"']\n",
      "['\"ipv6test(1,\"\"1:2:3:4:5::7:8\"\");\"']\n",
      "['\"ipv6test(!1,\"\"1:2:3::4:5::7:8\"\");', '#', 'Double', '\"\"::\"\"\"']\n",
      "['\"ipv6test(!1,\"\"12345::6:7:8\"\");\"']\n",
      "['\"ipv6test(1,\"\"1:2:3:4::7:8\"\");\"']\n",
      "['\"ipv6test(1,\"\"1:2:3::7:8\"\");\"']\n",
      "['\"ipv6test(1,\"\"1:2::7:8\"\");\"']\n",
      "['\"ipv6test(1,\"\"1::7:8\"\");\"']\n",
      "[]\n",
      "['#', 'IPv4', 'addresses', 'as', 'dotted-quads']\n",
      "['\"ipv6test(1,\"\"1:2:3:4:5:6:1.2.3.4\"\");\"']\n",
      "['\"ipv6test(1,\"\"1:2:3:4:5::1.2.3.4\"\");\"']\n",
      "['\"ipv6test(1,\"\"1:2:3:4::1.2.3.4\"\");\"']\n",
      "['\"ipv6test(1,\"\"1:2:3::1.2.3.4\"\");\"']\n",
      "['\"ipv6test(1,\"\"1:2::1.2.3.4\"\");\"']\n",
      "['\"ipv6test(1,\"\"1::1.2.3.4\"\");\"']\n",
      "['\"ipv6test(1,\"\"1:2:3:4::5:1.2.3.4\"\");\"']\n",
      "['\"ipv6test(1,\"\"1:2:3::5:1.2.3.4\"\");\"']\n",
      "['\"ipv6test(1,\"\"1:2::5:1.2.3.4\"\");\"']\n",
      "['\"ipv6test(1,\"\"1::5:1.2.3.4\"\");\"']\n",
      "['\"ipv6test(1,\"\"1::5:11.22.33.44\"\");\"']\n",
      "['\"ipv6test(!1,\"\"1::5:400.2.3.4\"\");\"']\n",
      "['\"ipv6test(!1,\"\"1::5:260.2.3.4\"\");\"']\n",
      "['\"ipv6test(!1,\"\"1::5:256.2.3.4\"\");\"']\n",
      "['\"ipv6test(!1,\"\"1::5:1.256.3.4\"\");\"']\n",
      "['\"ipv6test(!1,\"\"1::5:1.2.256.4\"\");\"']\n",
      "['\"ipv6test(!1,\"\"1::5:1.2.3.256\"\");\"']\n",
      "['\"ipv6test(!1,\"\"1::5:300.2.3.4\"\");\"']\n",
      "['\"ipv6test(!1,\"\"1::5:1.300.3.4\"\");\"']\n",
      "['\"ipv6test(!1,\"\"1::5:1.2.300.4\"\");\"']\n",
      "['\"ipv6test(!1,\"\"1::5:1.2.3.300\"\");\"']\n",
      "['\"ipv6test(!1,\"\"1::5:900.2.3.4\"\");\"']\n",
      "['\"ipv6test(!1,\"\"1::5:1.900.3.4\"\");\"']\n",
      "['\"ipv6test(!1,\"\"1::5:1.2.900.4\"\");\"']\n",
      "['\"ipv6test(!1,\"\"1::5:1.2.3.900\"\");\"']\n",
      "['\"ipv6test(!1,\"\"1::5:300.300.300.300\"\");\"']\n",
      "['\"ipv6test(!1,\"\"1::5:3000.30.30.30\"\");\"']\n",
      "['\"ipv6test(!1,\"\"1::400.2.3.4\"\");\"']\n",
      "['\"ipv6test(!1,\"\"1::260.2.3.4\"\");\"']\n",
      "['\"ipv6test(!1,\"\"1::256.2.3.4\"\");\"']\n",
      "['\"ipv6test(!1,\"\"1::1.256.3.4\"\");\"']\n",
      "['\"ipv6test(!1,\"\"1::1.2.256.4\"\");\"']\n",
      "['\"ipv6test(!1,\"\"1::1.2.3.256\"\");\"']\n",
      "['\"ipv6test(!1,\"\"1::300.2.3.4\"\");\"']\n",
      "['\"ipv6test(!1,\"\"1::1.300.3.4\"\");\"']\n",
      "['\"ipv6test(!1,\"\"1::1.2.300.4\"\");\"']\n",
      "['\"ipv6test(!1,\"\"1::1.2.3.300\"\");\"']\n",
      "['\"ipv6test(!1,\"\"1::900.2.3.4\"\");\"']\n",
      "['\"ipv6test(!1,\"\"1::1.900.3.4\"\");\"']\n",
      "['\"ipv6test(!1,\"\"1::1.2.900.4\"\");\"']\n",
      "['\"ipv6test(!1,\"\"1::1.2.3.900\"\");\"']\n",
      "['\"ipv6test(!1,\"\"1::300.300.300.300\"\");\"']\n",
      "['\"ipv6test(!1,\"\"1::3000.30.30.30\"\");\"']\n",
      "['\"ipv6test(!1,\"\"::400.2.3.4\"\");\"']\n",
      "['\"ipv6test(!1,\"\"::260.2.3.4\"\");\"']\n",
      "['\"ipv6test(!1,\"\"::256.2.3.4\"\");\"']\n",
      "['\"ipv6test(!1,\"\"::1.256.3.4\"\");\"']\n",
      "['\"ipv6test(!1,\"\"::1.2.256.4\"\");\"']\n",
      "['\"ipv6test(!1,\"\"::1.2.3.256\"\");\"']\n",
      "['\"ipv6test(!1,\"\"::300.2.3.4\"\");\"']\n",
      "['\"ipv6test(!1,\"\"::1.300.3.4\"\");\"']\n",
      "['\"ipv6test(!1,\"\"::1.2.300.4\"\");\"']\n",
      "['\"ipv6test(!1,\"\"::1.2.3.300\"\");\"']\n",
      "['\"ipv6test(!1,\"\"::900.2.3.4\"\");\"']\n",
      "['\"ipv6test(!1,\"\"::1.900.3.4\"\");\"']\n",
      "['\"ipv6test(!1,\"\"::1.2.900.4\"\");\"']\n",
      "['\"ipv6test(!1,\"\"::1.2.3.900\"\");\"']\n",
      "['\"ipv6test(!1,\"\"::300.300.300.300\"\");\"']\n",
      "['\"ipv6test(!1,\"\"::3000.30.30.30\"\");\"']\n",
      "['\"ipv6test(1,\"\"fe80::217:f2ff:254.7.237.98\"\");\"']\n",
      "['\"ipv6test(1,\"\"::ffff:192.168.1.26\"\");\"']\n",
      "['\"ipv6test(!1,\"\"2001:1:1:1:1:1:255Z255X255Y255\"\");', '#', 'garbage', 'instead', 'of', '\"\".\"\"', 'in', 'IPv4\"']\n",
      "['\"ipv6test(!1,\"\"::ffff:192x168.1.26\"\");', '#', 'ditto\"']\n",
      "['\"ipv6test(1,\"\"::ffff:192.168.1.1\"\");\"']\n",
      "['\"ipv6test(1,\"\"0:0:0:0:0:0:13.1.68.3\"\");#', 'IPv4-compatible', 'IPv6', 'address,', 'full,', 'deprecated', '\"']\n",
      "['\"ipv6test(1,\"\"0:0:0:0:0:FFFF:129.144.52.38\"\");#', 'IPv4-mapped', 'IPv6', 'address,', 'full', '\"']\n",
      "['\"ipv6test(1,\"\"::13.1.68.3\"\");#', 'IPv4-compatible', 'IPv6', 'address,', 'compressed,', 'deprecated', '\"']\n",
      "['\"ipv6test(1,\"\"::FFFF:129.144.52.38\"\");#', 'IPv4-mapped', 'IPv6', 'address,', 'compressed', '\"']\n",
      "['\"ipv6test(1,\"\"fe80:0:0:0:204:61ff:254.157.241.86\"\");\"']\n",
      "['\"ipv6test(1,\"\"fe80::204:61ff:254.157.241.86\"\");\"']\n",
      "['\"ipv6test(1,\"\"::ffff:12.34.56.78\"\");\"']\n",
      "['\"ipv6test(!1,\"\"::ffff:2.3.4\"\");\"']\n",
      "['\"ipv6test(!1,\"\"::ffff:257.1.2.3\"\");\"']\n",
      "['\"ipv6test(!1,\"\"1.2.3.4\"\");\"']\n",
      "[]\n",
      "['\"ipv6test(!1,\"\"1.2.3.4:1111:2222:3333:4444::5555\"\");', '#', 'Aeron\"']\n",
      "['\"ipv6test(!1,\"\"1.2.3.4:1111:2222:3333::5555\"\");\"']\n",
      "['\"ipv6test(!1,\"\"1.2.3.4:1111:2222::5555\"\");\"']\n",
      "['\"ipv6test(!1,\"\"1.2.3.4:1111::5555\"\");\"']\n",
      "['\"ipv6test(!1,\"\"1.2.3.4::5555\"\");\"']\n",
      "['\"ipv6test(!1,\"\"1.2.3.4::\"\");\"']\n",
      "[]\n",
      "['#', 'Testing', 'IPv4', 'addresses', 'represented', 'as', 'dotted-quads']\n",
      "['\"#', 'Leading', \"zero's\", 'in', 'IPv4', 'addresses', 'not', 'allowed:', 'some', 'systems', 'treat', 'the', 'leading', '\"\"0\"\"', 'in', '\"\".086\"\"', 'as', 'the', 'start', 'of', 'an', 'octal', 'number\"']\n",
      "['#', 'Update:', 'The', 'BNF', 'in', 'RFC-3986', 'explicitly', 'defines', 'the', 'dec-octet', '(for', 'IPv4', 'addresses)', 'not', 'to', 'have', 'a', 'leading', 'zero']\n",
      "['\"ipv6test(!1,\"\"fe80:0000:0000:0000:0204:61ff:254.157.241.086\"\");\"']\n",
      "['\"ipv6test(1,\"\"::ffff:192.0.2.128\"\");', '#', 'but', 'this', 'is', 'OK,', 'since', \"there's\", 'a', 'single', 'digit\"']\n",
      "['\"ipv6test(!1,\"\"XXXX:XXXX:XXXX:XXXX:XXXX:XXXX:1.2.3.4\"\");\"']\n",
      "['\"ipv6test(!1,\"\"1111:2222:3333:4444:5555:6666:00.00.00.00\"\");\"']\n",
      "['\"ipv6test(!1,\"\"1111:2222:3333:4444:5555:6666:000.000.000.000\"\");\"']\n",
      "['\"ipv6test(!1,\"\"1111:2222:3333:4444:5555:6666:256.256.256.256\"\");\"']\n",
      "[]\n",
      "['#', 'Not', 'testing', 'address', 'with', 'subnet', 'mask']\n",
      "['\"#', 'ipv6test(1,\"\"2001:0DB8:0000:CD30:0000:0000:0000:0000/60\"\");#', 'full,', 'with', 'prefix', '\"']\n",
      "['\"#', 'ipv6test(1,\"\"2001:0DB8::CD30:0:0:0:0/60\"\");#', 'compressed,', 'with', 'prefix', '\"']\n",
      "['\"#', 'ipv6test(1,\"\"2001:0DB8:0:CD30::/60\"\");#', 'compressed,', 'with', 'prefix', '#2', '\"']\n",
      "['\"#', 'ipv6test(1,\"\"::/128\"\");#', 'compressed,', 'unspecified', 'address', 'type,', 'non-routable', '\"']\n",
      "['\"#', 'ipv6test(1,\"\"::1/128\"\");#', 'compressed,', 'loopback', 'address', 'type,', 'non-routable', '\"']\n",
      "['\"#', 'ipv6test(1,\"\"FF00::/8\"\");#', 'compressed,', 'multicast', 'address', 'type', '\"']\n",
      "['\"#', 'ipv6test(1,\"\"FE80::/10\"\");#', 'compressed,', 'link-local', 'unicast,', 'non-routable', '\"']\n",
      "['\"#', 'ipv6test(1,\"\"FEC0::/10\"\");#', 'compressed,', 'site-local', 'unicast,', 'deprecated', '\"']\n",
      "['\"#', 'ipv6test(!1,\"\"124.15.6.89/60\"\");#', 'standard', 'IPv4,', 'prefix', 'not', 'allowed', '\"']\n",
      "[]\n",
      "['\"ipv6test(1,\"\"fe80:0000:0000:0000:0204:61ff:fe9d:f156\"\");\"']\n",
      "['\"ipv6test(1,\"\"fe80:0:0:0:204:61ff:fe9d:f156\"\");\"']\n",
      "['\"ipv6test(1,\"\"fe80::204:61ff:fe9d:f156\"\");\"']\n",
      "['\"ipv6test(1,\"\"::1\"\");\"']\n",
      "['\"ipv6test(1,\"\"fe80::\"\");\"']\n",
      "['\"ipv6test(1,\"\"fe80::1\"\");\"']\n",
      "['\"ipv6test(!1,\"\":\"\");\"']\n",
      "['\"ipv6test(1,\"\"::ffff:c000:280\"\");\"']\n",
      "[]\n",
      "['#', 'Aeron', 'supplied', 'these', 'test', 'cases']\n",
      "['\"ipv6test(!1,\"\"1111:2222:3333:4444::5555:\"\");\"']\n",
      "['\"ipv6test(!1,\"\"1111:2222:3333::5555:\"\");\"']\n",
      "['\"ipv6test(!1,\"\"1111:2222::5555:\"\");\"']\n",
      "['\"ipv6test(!1,\"\"1111::5555:\"\");\"']\n",
      "['\"ipv6test(!1,\"\"::5555:\"\");\"']\n",
      "['\"ipv6test(!1,\"\":::\"\");\"']\n",
      "['\"ipv6test(!1,\"\"1111:\"\");\"']\n",
      "['\"ipv6test(!1,\"\":\"\");\"']\n",
      "[]\n",
      "['\"ipv6test(!1,\"\":1111:2222:3333:4444::5555\"\");\"']\n",
      "['\"ipv6test(!1,\"\":1111:2222:3333::5555\"\");\"']\n",
      "['\"ipv6test(!1,\"\":1111:2222::5555\"\");\"']\n",
      "['\"ipv6test(!1,\"\":1111::5555\"\");\"']\n",
      "['\"ipv6test(!1,\"\":::5555\"\");\"']\n",
      "['\"ipv6test(!1,\"\":::\"\");\"']\n",
      "[]\n",
      "[]\n",
      "['#', 'Additional', 'test', 'cases']\n",
      "['#', 'from', 'http://rt.cpan.org/Public/Bug/Display.html?id=50693']\n",
      "[]\n",
      "['\"ipv6test(1,\"\"2001:0db8:85a3:0000:0000:8a2e:0370:7334\"\");\"']\n",
      "['\"ipv6test(1,\"\"2001:db8:85a3:0:0:8a2e:370:7334\"\");\"']\n",
      "['\"ipv6test(1,\"\"2001:db8:85a3::8a2e:370:7334\"\");\"']\n",
      "['\"ipv6test(1,\"\"2001:0db8:0000:0000:0000:0000:1428:57ab\"\");\"']\n",
      "['\"ipv6test(1,\"\"2001:0db8:0000:0000:0000::1428:57ab\"\");\"']\n",
      "['\"ipv6test(1,\"\"2001:0db8:0:0:0:0:1428:57ab\"\");\"']\n",
      "['\"ipv6test(1,\"\"2001:0db8:0:0::1428:57ab\"\");\"']\n",
      "['\"ipv6test(1,\"\"2001:0db8::1428:57ab\"\");\"']\n",
      "['\"ipv6test(1,\"\"2001:db8::1428:57ab\"\");\"']\n",
      "['\"ipv6test(1,\"\"0000:0000:0000:0000:0000:0000:0000:0001\"\");\"']\n",
      "['\"ipv6test(1,\"\"::1\"\");\"']\n",
      "['\"ipv6test(1,\"\"::ffff:0c22:384e\"\");\"']\n",
      "['\"ipv6test(1,\"\"2001:0db8:1234:0000:0000:0000:0000:0000\"\");\"']\n",
      "['\"ipv6test(1,\"\"2001:0db8:1234:ffff:ffff:ffff:ffff:ffff\"\");\"']\n",
      "['\"ipv6test(1,\"\"2001:db8:a::123\"\");\"']\n",
      "['\"ipv6test(1,\"\"fe80::\"\");\"']\n",
      "[]\n",
      "['\"ipv6test(!1,\"\"123\"\");\"']\n",
      "['\"ipv6test(!1,\"\"ldkfj\"\");\"']\n",
      "['\"ipv6test(!1,\"\"2001::FFD3::57ab\"\");\"']\n",
      "['\"ipv6test(!1,\"\"2001:db8:85a3::8a2e:37023:7334\"\");\"']\n",
      "['\"ipv6test(!1,\"\"2001:db8:85a3::8a2e:370k:7334\"\");\"']\n",
      "['\"ipv6test(!1,\"\"1:2:3:4:5:6:7:8:9\"\");\"']\n",
      "['\"ipv6test(!1,\"\"1::2::3\"\");\"']\n",
      "['\"ipv6test(!1,\"\"1:::3:4:5\"\");\"']\n",
      "['\"ipv6test(!1,\"\"1:2:3::4:5:6:7:8:9\"\");\"']\n",
      "[]\n",
      "['#', 'New', 'from', 'Aeron', '']\n",
      "['\"ipv6test(1,\"\"1111:2222:3333:4444:5555:6666:7777:8888\"\");\"']\n",
      "['\"ipv6test(1,\"\"1111:2222:3333:4444:5555:6666:7777::\"\");\"']\n",
      "['\"ipv6test(1,\"\"1111:2222:3333:4444:5555:6666::\"\");\"']\n",
      "['\"ipv6test(1,\"\"1111:2222:3333:4444:5555::\"\");\"']\n",
      "['\"ipv6test(1,\"\"1111:2222:3333:4444::\"\");\"']\n",
      "['\"ipv6test(1,\"\"1111:2222:3333::\"\");\"']\n",
      "['\"ipv6test(1,\"\"1111:2222::\"\");\"']\n",
      "['\"ipv6test(1,\"\"1111::\"\");\"']\n",
      "['\"#', 'ipv6test(1,\"\"::\"\");', '#duplicate\"']\n",
      "['\"ipv6test(1,\"\"1111:2222:3333:4444:5555:6666::8888\"\");\"']\n",
      "['\"ipv6test(1,\"\"1111:2222:3333:4444:5555::8888\"\");\"']\n",
      "['\"ipv6test(1,\"\"1111:2222:3333:4444::8888\"\");\"']\n",
      "['\"ipv6test(1,\"\"1111:2222:3333::8888\"\");\"']\n",
      "['\"ipv6test(1,\"\"1111:2222::8888\"\");\"']\n",
      "['\"ipv6test(1,\"\"1111::8888\"\");\"']\n",
      "['\"ipv6test(1,\"\"::8888\"\");\"']\n",
      "['\"ipv6test(1,\"\"1111:2222:3333:4444:5555::7777:8888\"\");\"']\n",
      "['\"ipv6test(1,\"\"1111:2222:3333:4444::7777:8888\"\");\"']\n",
      "['\"ipv6test(1,\"\"1111:2222:3333::7777:8888\"\");\"']\n",
      "['\"ipv6test(1,\"\"1111:2222::7777:8888\"\");\"']\n",
      "['\"ipv6test(1,\"\"1111::7777:8888\"\");\"']\n",
      "['\"ipv6test(1,\"\"::7777:8888\"\");\"']\n",
      "['\"ipv6test(1,\"\"1111:2222:3333:4444::6666:7777:8888\"\");\"']\n",
      "['\"ipv6test(1,\"\"1111:2222:3333::6666:7777:8888\"\");\"']\n",
      "['\"ipv6test(1,\"\"1111:2222::6666:7777:8888\"\");\"']\n",
      "['\"ipv6test(1,\"\"1111::6666:7777:8888\"\");\"']\n",
      "['\"ipv6test(1,\"\"::6666:7777:8888\"\");\"']\n",
      "['\"ipv6test(1,\"\"1111:2222:3333::5555:6666:7777:8888\"\");\"']\n",
      "['\"ipv6test(1,\"\"1111:2222::5555:6666:7777:8888\"\");\"']\n",
      "['\"ipv6test(1,\"\"1111::5555:6666:7777:8888\"\");\"']\n",
      "['\"ipv6test(1,\"\"::5555:6666:7777:8888\"\");\"']\n",
      "['\"ipv6test(1,\"\"1111:2222::4444:5555:6666:7777:8888\"\");\"']\n",
      "['\"ipv6test(1,\"\"1111::4444:5555:6666:7777:8888\"\");\"']\n",
      "['\"ipv6test(1,\"\"::4444:5555:6666:7777:8888\"\");\"']\n",
      "['\"ipv6test(1,\"\"1111::3333:4444:5555:6666:7777:8888\"\");\"']\n",
      "['\"ipv6test(1,\"\"::3333:4444:5555:6666:7777:8888\"\");\"']\n",
      "['\"ipv6test(1,\"\"::2222:3333:4444:5555:6666:7777:8888\"\");\"']\n",
      "['\"ipv6test(1,\"\"1111:2222:3333:4444:5555:6666:123.123.123.123\"\");\"']\n",
      "['\"ipv6test(1,\"\"1111:2222:3333:4444:5555::123.123.123.123\"\");\"']\n",
      "['\"ipv6test(1,\"\"1111:2222:3333:4444::123.123.123.123\"\");\"']\n",
      "['\"ipv6test(1,\"\"1111:2222:3333::123.123.123.123\"\");\"']\n",
      "['\"ipv6test(1,\"\"1111:2222::123.123.123.123\"\");\"']\n",
      "['\"ipv6test(1,\"\"1111::123.123.123.123\"\");\"']\n",
      "['\"ipv6test(1,\"\"::123.123.123.123\"\");\"']\n",
      "['\"ipv6test(1,\"\"1111:2222:3333:4444::6666:123.123.123.123\"\");\"']\n",
      "['\"ipv6test(1,\"\"1111:2222:3333::6666:123.123.123.123\"\");\"']\n",
      "['\"ipv6test(1,\"\"1111:2222::6666:123.123.123.123\"\");\"']\n",
      "['\"ipv6test(1,\"\"1111::6666:123.123.123.123\"\");\"']\n",
      "['\"ipv6test(1,\"\"::6666:123.123.123.123\"\");\"']\n",
      "['\"ipv6test(1,\"\"1111:2222:3333::5555:6666:123.123.123.123\"\");\"']\n",
      "['\"ipv6test(1,\"\"1111:2222::5555:6666:123.123.123.123\"\");\"']\n",
      "['\"ipv6test(1,\"\"1111::5555:6666:123.123.123.123\"\");\"']\n",
      "['\"ipv6test(1,\"\"::5555:6666:123.123.123.123\"\");\"']\n",
      "['\"ipv6test(1,\"\"1111:2222::4444:5555:6666:123.123.123.123\"\");\"']\n",
      "['\"ipv6test(1,\"\"1111::4444:5555:6666:123.123.123.123\"\");\"']\n",
      "['\"ipv6test(1,\"\"::4444:5555:6666:123.123.123.123\"\");\"']\n",
      "['\"ipv6test(1,\"\"1111::3333:4444:5555:6666:123.123.123.123\"\");\"']\n",
      "['\"ipv6test(1,\"\"::2222:3333:4444:5555:6666:123.123.123.123\"\");\"']\n",
      "[]\n",
      "['\"#', 'Playing', 'with', 'combinations', 'of', '\"\"0\"\"', 'and', '\"\"::\"\"\"']\n",
      "['\"#', 'NB:', 'these', 'are', 'all', 'sytactically', 'correct,', 'but', 'are', 'bad', 'form', '\"']\n",
      "['\"#', 'because', '\"\"0\"\"', 'adjacent', 'to', '\"\"::\"\"', 'should', 'be', 'combined', 'into', '\"\"::\"\"\"']\n",
      "['\"ipv6test(1,\"\"::0:0:0:0:0:0:0\"\");\"']\n",
      "['\"ipv6test(1,\"\"::0:0:0:0:0:0\"\");\"']\n",
      "['\"ipv6test(1,\"\"::0:0:0:0:0\"\");\"']\n",
      "['\"ipv6test(1,\"\"::0:0:0:0\"\");\"']\n",
      "['\"ipv6test(1,\"\"::0:0:0\"\");\"']\n",
      "['\"ipv6test(1,\"\"::0:0\"\");\"']\n",
      "['\"ipv6test(1,\"\"::0\"\");\"']\n",
      "['\"ipv6test(1,\"\"0:0:0:0:0:0:0::\"\");\"']\n",
      "['\"ipv6test(1,\"\"0:0:0:0:0:0::\"\");\"']\n",
      "['\"ipv6test(1,\"\"0:0:0:0:0::\"\");\"']\n",
      "['\"ipv6test(1,\"\"0:0:0:0::\"\");\"']\n",
      "['\"ipv6test(1,\"\"0:0:0::\"\");\"']\n",
      "['\"ipv6test(1,\"\"0:0::\"\");\"']\n",
      "['\"ipv6test(1,\"\"0::\"\");\"']\n",
      "[]\n",
      "['#', 'New', 'invalid', 'from', 'Aeron']\n",
      "['#', 'Invalid', 'data']\n",
      "['\"ipv6test(!1,\"\"XXXX:XXXX:XXXX:XXXX:XXXX:XXXX:XXXX:XXXX\"\");\"']\n",
      "[]\n",
      "['#', 'Too', 'many', 'components']\n",
      "['\"ipv6test(!1,\"\"1111:2222:3333:4444:5555:6666:7777:8888:9999\"\");\"']\n",
      "['\"ipv6test(!1,\"\"1111:2222:3333:4444:5555:6666:7777:8888::\"\");\"']\n",
      "['\"ipv6test(!1,\"\"::2222:3333:4444:5555:6666:7777:8888:9999\"\");\"']\n",
      "[]\n",
      "['#', 'Too', 'few', 'components']\n",
      "['\"ipv6test(!1,\"\"1111:2222:3333:4444:5555:6666:7777\"\");\"']\n",
      "['\"ipv6test(!1,\"\"1111:2222:3333:4444:5555:6666\"\");\"']\n",
      "['\"ipv6test(!1,\"\"1111:2222:3333:4444:5555\"\");\"']\n",
      "['\"ipv6test(!1,\"\"1111:2222:3333:4444\"\");\"']\n",
      "['\"ipv6test(!1,\"\"1111:2222:3333\"\");\"']\n",
      "['\"ipv6test(!1,\"\"1111:2222\"\");\"']\n",
      "['\"ipv6test(!1,\"\"1111\"\");\"']\n",
      "[]\n",
      "['#', 'Missing', ':']\n",
      "['\"ipv6test(!1,\"\"11112222:3333:4444:5555:6666:7777:8888\"\");\"']\n",
      "['\"ipv6test(!1,\"\"1111:22223333:4444:5555:6666:7777:8888\"\");\"']\n",
      "['\"ipv6test(!1,\"\"1111:2222:33334444:5555:6666:7777:8888\"\");\"']\n",
      "['\"ipv6test(!1,\"\"1111:2222:3333:44445555:6666:7777:8888\"\");\"']\n",
      "['\"ipv6test(!1,\"\"1111:2222:3333:4444:55556666:7777:8888\"\");\"']\n",
      "['\"ipv6test(!1,\"\"1111:2222:3333:4444:5555:66667777:8888\"\");\"']\n",
      "['\"ipv6test(!1,\"\"1111:2222:3333:4444:5555:6666:77778888\"\");\"']\n",
      "[]\n",
      "['#', 'Missing', ':', 'intended', 'for', '::']\n",
      "['\"ipv6test(!1,\"\"1111:2222:3333:4444:5555:6666:7777:8888:\"\");\"']\n",
      "['\"ipv6test(!1,\"\"1111:2222:3333:4444:5555:6666:7777:\"\");\"']\n",
      "['\"ipv6test(!1,\"\"1111:2222:3333:4444:5555:6666:\"\");\"']\n",
      "['\"ipv6test(!1,\"\"1111:2222:3333:4444:5555:\"\");\"']\n",
      "['\"ipv6test(!1,\"\"1111:2222:3333:4444:\"\");\"']\n",
      "['\"ipv6test(!1,\"\"1111:2222:3333:\"\");\"']\n",
      "['\"ipv6test(!1,\"\"1111:2222:\"\");\"']\n",
      "['\"ipv6test(!1,\"\"1111:\"\");\"']\n",
      "['\"ipv6test(!1,\"\":\"\");\"']\n",
      "['\"ipv6test(!1,\"\":8888\"\");\"']\n",
      "['\"ipv6test(!1,\"\":7777:8888\"\");\"']\n",
      "['\"ipv6test(!1,\"\":6666:7777:8888\"\");\"']\n",
      "['\"ipv6test(!1,\"\":5555:6666:7777:8888\"\");\"']\n",
      "['\"ipv6test(!1,\"\":4444:5555:6666:7777:8888\"\");\"']\n",
      "['\"ipv6test(!1,\"\":3333:4444:5555:6666:7777:8888\"\");\"']\n",
      "['\"ipv6test(!1,\"\":2222:3333:4444:5555:6666:7777:8888\"\");\"']\n",
      "['\"ipv6test(!1,\"\":1111:2222:3333:4444:5555:6666:7777:8888\"\");\"']\n",
      "[]\n",
      "['#', ':::']\n",
      "['\"ipv6test(!1,\"\":::2222:3333:4444:5555:6666:7777:8888\"\");\"']\n",
      "['\"ipv6test(!1,\"\"1111:::3333:4444:5555:6666:7777:8888\"\");\"']\n",
      "['\"ipv6test(!1,\"\"1111:2222:::4444:5555:6666:7777:8888\"\");\"']\n",
      "['\"ipv6test(!1,\"\"1111:2222:3333:::5555:6666:7777:8888\"\");\"']\n",
      "['\"ipv6test(!1,\"\"1111:2222:3333:4444:::6666:7777:8888\"\");\"']\n",
      "['\"ipv6test(!1,\"\"1111:2222:3333:4444:5555:::7777:8888\"\");\"']\n",
      "['\"ipv6test(!1,\"\"1111:2222:3333:4444:5555:6666:::8888\"\");\"']\n",
      "['\"ipv6test(!1,\"\"1111:2222:3333:4444:5555:6666:7777:::\"\");\"']\n",
      "[]\n",
      "['\"#', 'Double', '::\"\");\"']\n",
      "['\"ipv6test(!1,\"\"::2222::4444:5555:6666:7777:8888\"\");\"']\n",
      "['\"ipv6test(!1,\"\"::2222:3333::5555:6666:7777:8888\"\");\"']\n",
      "['\"ipv6test(!1,\"\"::2222:3333:4444::6666:7777:8888\"\");\"']\n",
      "['\"ipv6test(!1,\"\"::2222:3333:4444:5555::7777:8888\"\");\"']\n",
      "['\"ipv6test(!1,\"\"::2222:3333:4444:5555:7777::8888\"\");\"']\n",
      "['\"ipv6test(!1,\"\"::2222:3333:4444:5555:7777:8888::\"\");\"']\n",
      "[]\n",
      "['\"ipv6test(!1,\"\"1111::3333::5555:6666:7777:8888\"\");\"']\n",
      "['\"ipv6test(!1,\"\"1111::3333:4444::6666:7777:8888\"\");\"']\n",
      "['\"ipv6test(!1,\"\"1111::3333:4444:5555::7777:8888\"\");\"']\n",
      "['\"ipv6test(!1,\"\"1111::3333:4444:5555:6666::8888\"\");\"']\n",
      "['\"ipv6test(!1,\"\"1111::3333:4444:5555:6666:7777::\"\");\"']\n",
      "[]\n",
      "['\"ipv6test(!1,\"\"1111:2222::4444::6666:7777:8888\"\");\"']\n",
      "['\"ipv6test(!1,\"\"1111:2222::4444:5555::7777:8888\"\");\"']\n",
      "['\"ipv6test(!1,\"\"1111:2222::4444:5555:6666::8888\"\");\"']\n",
      "['\"ipv6test(!1,\"\"1111:2222::4444:5555:6666:7777::\"\");\"']\n",
      "[]\n",
      "['\"ipv6test(!1,\"\"1111:2222:3333::5555::7777:8888\"\");\"']\n",
      "['\"ipv6test(!1,\"\"1111:2222:3333::5555:6666::8888\"\");\"']\n",
      "['\"ipv6test(!1,\"\"1111:2222:3333::5555:6666:7777::\"\");\"']\n",
      "[]\n",
      "['\"ipv6test(!1,\"\"1111:2222:3333:4444::6666::8888\"\");\"']\n",
      "['\"ipv6test(!1,\"\"1111:2222:3333:4444::6666:7777::\"\");\"']\n",
      "[]\n",
      "['\"ipv6test(!1,\"\"1111:2222:3333:4444:5555::7777::\"\");\"']\n",
      "[]\n",
      "[]\n",
      "['\"#', 'Too', 'many', 'components\"\"\"']\n",
      "['\"ipv6test(!1,\"\"1111:2222:3333:4444:5555:6666:7777:8888:1.2.3.4\"\");\"']\n",
      "['\"ipv6test(!1,\"\"1111:2222:3333:4444:5555:6666:7777:1.2.3.4\"\");\"']\n",
      "['\"ipv6test(!1,\"\"1111:2222:3333:4444:5555:6666::1.2.3.4\"\");\"']\n",
      "['\"ipv6test(!1,\"\"::2222:3333:4444:5555:6666:7777:1.2.3.4\"\");\"']\n",
      "['\"ipv6test(!1,\"\"1111:2222:3333:4444:5555:6666:1.2.3.4.5\"\");\"']\n",
      "[]\n",
      "['#', 'Too', 'few', 'components']\n",
      "['\"ipv6test(!1,\"\"1111:2222:3333:4444:5555:1.2.3.4\"\");\"']\n",
      "['\"ipv6test(!1,\"\"1111:2222:3333:4444:1.2.3.4\"\");\"']\n",
      "['\"ipv6test(!1,\"\"1111:2222:3333:1.2.3.4\"\");\"']\n",
      "['\"ipv6test(!1,\"\"1111:2222:1.2.3.4\"\");\"']\n",
      "['\"ipv6test(!1,\"\"1111:1.2.3.4\"\");\"']\n",
      "['\"ipv6test(!1,\"\"1.2.3.4\"\");\"']\n",
      "[]\n",
      "['#', 'Missing', ':']\n",
      "['\"ipv6test(!1,\"\"11112222:3333:4444:5555:6666:1.2.3.4\"\");\"']\n",
      "['\"ipv6test(!1,\"\"1111:22223333:4444:5555:6666:1.2.3.4\"\");\"']\n",
      "['\"ipv6test(!1,\"\"1111:2222:33334444:5555:6666:1.2.3.4\"\");\"']\n",
      "['\"ipv6test(!1,\"\"1111:2222:3333:44445555:6666:1.2.3.4\"\");\"']\n",
      "['\"ipv6test(!1,\"\"1111:2222:3333:4444:55556666:1.2.3.4\"\");\"']\n",
      "['\"ipv6test(!1,\"\"1111:2222:3333:4444:5555:66661.2.3.4\"\");\"']\n",
      "[]\n",
      "['#', 'Missing', '.']\n",
      "['\"ipv6test(!1,\"\"1111:2222:3333:4444:5555:6666:255255.255.255\"\");\"']\n",
      "['\"ipv6test(!1,\"\"1111:2222:3333:4444:5555:6666:255.255255.255\"\");\"']\n",
      "['\"ipv6test(!1,\"\"1111:2222:3333:4444:5555:6666:255.255.255255\"\");\"']\n",
      "[]\n",
      "['#', 'Missing', ':', 'intended', 'for', '::']\n",
      "['\"ipv6test(!1,\"\":1.2.3.4\"\");\"']\n",
      "['\"ipv6test(!1,\"\":6666:1.2.3.4\"\");\"']\n",
      "['\"ipv6test(!1,\"\":5555:6666:1.2.3.4\"\");\"']\n",
      "['\"ipv6test(!1,\"\":4444:5555:6666:1.2.3.4\"\");\"']\n",
      "['\"ipv6test(!1,\"\":3333:4444:5555:6666:1.2.3.4\"\");\"']\n",
      "['\"ipv6test(!1,\"\":2222:3333:4444:5555:6666:1.2.3.4\"\");\"']\n",
      "['\"ipv6test(!1,\"\":1111:2222:3333:4444:5555:6666:1.2.3.4\"\");\"']\n",
      "[]\n",
      "['#', ':::']\n",
      "['\"ipv6test(!1,\"\":::2222:3333:4444:5555:6666:1.2.3.4\"\");\"']\n",
      "['\"ipv6test(!1,\"\"1111:::3333:4444:5555:6666:1.2.3.4\"\");\"']\n",
      "['\"ipv6test(!1,\"\"1111:2222:::4444:5555:6666:1.2.3.4\"\");\"']\n",
      "['\"ipv6test(!1,\"\"1111:2222:3333:::5555:6666:1.2.3.4\"\");\"']\n",
      "['\"ipv6test(!1,\"\"1111:2222:3333:4444:::6666:1.2.3.4\"\");\"']\n",
      "['\"ipv6test(!1,\"\"1111:2222:3333:4444:5555:::1.2.3.4\"\");\"']\n",
      "[]\n",
      "['#', 'Double', '::']\n",
      "['\"ipv6test(!1,\"\"::2222::4444:5555:6666:1.2.3.4\"\");\"']\n",
      "['\"ipv6test(!1,\"\"::2222:3333::5555:6666:1.2.3.4\"\");\"']\n",
      "['\"ipv6test(!1,\"\"::2222:3333:4444::6666:1.2.3.4\"\");\"']\n",
      "['\"ipv6test(!1,\"\"::2222:3333:4444:5555::1.2.3.4\"\");\"']\n",
      "[]\n",
      "['\"ipv6test(!1,\"\"1111::3333::5555:6666:1.2.3.4\"\");\"']\n",
      "['\"ipv6test(!1,\"\"1111::3333:4444::6666:1.2.3.4\"\");\"']\n",
      "['\"ipv6test(!1,\"\"1111::3333:4444:5555::1.2.3.4\"\");\"']\n",
      "[]\n",
      "['\"ipv6test(!1,\"\"1111:2222::4444::6666:1.2.3.4\"\");\"']\n",
      "['\"ipv6test(!1,\"\"1111:2222::4444:5555::1.2.3.4\"\");\"']\n",
      "[]\n",
      "['\"ipv6test(!1,\"\"1111:2222:3333::5555::1.2.3.4\"\");\"']\n",
      "[]\n",
      "['#', 'Missing', 'parts']\n",
      "['\"ipv6test(!1,\"\"::.\"\");\"']\n",
      "['\"ipv6test(!1,\"\"::..\"\");\"']\n",
      "['\"ipv6test(!1,\"\"::...\"\");\"']\n",
      "['\"ipv6test(!1,\"\"::1...\"\");\"']\n",
      "['\"ipv6test(!1,\"\"::1.2..\"\");\"']\n",
      "['\"ipv6test(!1,\"\"::1.2.3.\"\");\"']\n",
      "['\"ipv6test(!1,\"\"::.2..\"\");\"']\n",
      "['\"ipv6test(!1,\"\"::.2.3.\"\");\"']\n",
      "['\"ipv6test(!1,\"\"::.2.3.4\"\");\"']\n",
      "['\"ipv6test(!1,\"\"::..3.\"\");\"']\n",
      "['\"ipv6test(!1,\"\"::..3.4\"\");\"']\n",
      "['\"ipv6test(!1,\"\"::...4\"\");\"']\n",
      "[]\n",
      "['#', 'Extra', ':', 'in', 'front']\n",
      "['\"ipv6test(!1,\"\":1111:2222:3333:4444:5555:6666:7777::\"\");\"']\n",
      "['\"ipv6test(!1,\"\":1111:2222:3333:4444:5555:6666::\"\");\"']\n",
      "['\"ipv6test(!1,\"\":1111:2222:3333:4444:5555::\"\");\"']\n",
      "['\"ipv6test(!1,\"\":1111:2222:3333:4444::\"\");\"']\n",
      "['\"ipv6test(!1,\"\":1111:2222:3333::\"\");\"']\n",
      "['\"ipv6test(!1,\"\":1111:2222::\"\");\"']\n",
      "['\"ipv6test(!1,\"\":1111::\"\");\"']\n",
      "['\"ipv6test(!1,\"\":::\"\");\"']\n",
      "['\"ipv6test(!1,\"\":1111:2222:3333:4444:5555:6666::8888\"\");\"']\n",
      "['\"ipv6test(!1,\"\":1111:2222:3333:4444:5555::8888\"\");\"']\n",
      "['\"ipv6test(!1,\"\":1111:2222:3333:4444::8888\"\");\"']\n",
      "['\"ipv6test(!1,\"\":1111:2222:3333::8888\"\");\"']\n",
      "['\"ipv6test(!1,\"\":1111:2222::8888\"\");\"']\n",
      "['\"ipv6test(!1,\"\":1111::8888\"\");\"']\n",
      "['\"ipv6test(!1,\"\":::8888\"\");\"']\n",
      "['\"ipv6test(!1,\"\":1111:2222:3333:4444:5555::7777:8888\"\");\"']\n",
      "['\"ipv6test(!1,\"\":1111:2222:3333:4444::7777:8888\"\");\"']\n",
      "['\"ipv6test(!1,\"\":1111:2222:3333::7777:8888\"\");\"']\n",
      "['\"ipv6test(!1,\"\":1111:2222::7777:8888\"\");\"']\n",
      "['\"ipv6test(!1,\"\":1111::7777:8888\"\");\"']\n",
      "['\"ipv6test(!1,\"\":::7777:8888\"\");\"']\n",
      "['\"ipv6test(!1,\"\":1111:2222:3333:4444::6666:7777:8888\"\");\"']\n",
      "['\"ipv6test(!1,\"\":1111:2222:3333::6666:7777:8888\"\");\"']\n",
      "['\"ipv6test(!1,\"\":1111:2222::6666:7777:8888\"\");\"']\n",
      "['\"ipv6test(!1,\"\":1111::6666:7777:8888\"\");\"']\n",
      "['\"ipv6test(!1,\"\":::6666:7777:8888\"\");\"']\n",
      "['\"ipv6test(!1,\"\":1111:2222:3333::5555:6666:7777:8888\"\");\"']\n",
      "['\"ipv6test(!1,\"\":1111:2222::5555:6666:7777:8888\"\");\"']\n",
      "['\"ipv6test(!1,\"\":1111::5555:6666:7777:8888\"\");\"']\n",
      "['\"ipv6test(!1,\"\":::5555:6666:7777:8888\"\");\"']\n",
      "['\"ipv6test(!1,\"\":1111:2222::4444:5555:6666:7777:8888\"\");\"']\n",
      "['\"ipv6test(!1,\"\":1111::4444:5555:6666:7777:8888\"\");\"']\n",
      "['\"ipv6test(!1,\"\":::4444:5555:6666:7777:8888\"\");\"']\n",
      "['\"ipv6test(!1,\"\":1111::3333:4444:5555:6666:7777:8888\"\");\"']\n",
      "['\"ipv6test(!1,\"\":::3333:4444:5555:6666:7777:8888\"\");\"']\n",
      "['\"ipv6test(!1,\"\":::2222:3333:4444:5555:6666:7777:8888\"\");\"']\n",
      "['\"ipv6test(!1,\"\":1111:2222:3333:4444:5555:6666:1.2.3.4\"\");\"']\n",
      "['\"ipv6test(!1,\"\":1111:2222:3333:4444:5555::1.2.3.4\"\");\"']\n",
      "['\"ipv6test(!1,\"\":1111:2222:3333:4444::1.2.3.4\"\");\"']\n",
      "['\"ipv6test(!1,\"\":1111:2222:3333::1.2.3.4\"\");\"']\n",
      "['\"ipv6test(!1,\"\":1111:2222::1.2.3.4\"\");\"']\n",
      "['\"ipv6test(!1,\"\":1111::1.2.3.4\"\");\"']\n",
      "['\"ipv6test(!1,\"\":::1.2.3.4\"\");\"']\n",
      "['\"ipv6test(!1,\"\":1111:2222:3333:4444::6666:1.2.3.4\"\");\"']\n",
      "['\"ipv6test(!1,\"\":1111:2222:3333::6666:1.2.3.4\"\");\"']\n",
      "['\"ipv6test(!1,\"\":1111:2222::6666:1.2.3.4\"\");\"']\n",
      "['\"ipv6test(!1,\"\":1111::6666:1.2.3.4\"\");\"']\n",
      "['\"ipv6test(!1,\"\":::6666:1.2.3.4\"\");\"']\n",
      "['\"ipv6test(!1,\"\":1111:2222:3333::5555:6666:1.2.3.4\"\");\"']\n",
      "['\"ipv6test(!1,\"\":1111:2222::5555:6666:1.2.3.4\"\");\"']\n",
      "['\"ipv6test(!1,\"\":1111::5555:6666:1.2.3.4\"\");\"']\n",
      "['\"ipv6test(!1,\"\":::5555:6666:1.2.3.4\"\");\"']\n",
      "['\"ipv6test(!1,\"\":1111:2222::4444:5555:6666:1.2.3.4\"\");\"']\n",
      "['\"ipv6test(!1,\"\":1111::4444:5555:6666:1.2.3.4\"\");\"']\n",
      "['\"ipv6test(!1,\"\":::4444:5555:6666:1.2.3.4\"\");\"']\n",
      "['\"ipv6test(!1,\"\":1111::3333:4444:5555:6666:1.2.3.4\"\");\"']\n",
      "['\"ipv6test(!1,\"\":::2222:3333:4444:5555:6666:1.2.3.4\"\");\"']\n",
      "[]\n",
      "['#', 'Extra', ':', 'at', 'end']\n",
      "['\"ipv6test(!1,\"\"1111:2222:3333:4444:5555:6666:7777:::\"\");\"']\n",
      "['\"ipv6test(!1,\"\"1111:2222:3333:4444:5555:6666:::\"\");\"']\n",
      "['\"ipv6test(!1,\"\"1111:2222:3333:4444:5555:::\"\");\"']\n",
      "['\"ipv6test(!1,\"\"1111:2222:3333:4444:::\"\");\"']\n",
      "['\"ipv6test(!1,\"\"1111:2222:3333:::\"\");\"']\n",
      "['\"ipv6test(!1,\"\"1111:2222:::\"\");\"']\n",
      "['\"ipv6test(!1,\"\"1111:::\"\");\"']\n",
      "['\"ipv6test(!1,\"\":::\"\");\"']\n",
      "['\"ipv6test(!1,\"\"1111:2222:3333:4444:5555:6666::8888:\"\");\"']\n",
      "['\"ipv6test(!1,\"\"1111:2222:3333:4444:5555::8888:\"\");\"']\n",
      "['\"ipv6test(!1,\"\"1111:2222:3333:4444::8888:\"\");\"']\n",
      "['\"ipv6test(!1,\"\"1111:2222:3333::8888:\"\");\"']\n",
      "['\"ipv6test(!1,\"\"1111:2222::8888:\"\");\"']\n",
      "['\"ipv6test(!1,\"\"1111::8888:\"\");\"']\n",
      "['\"ipv6test(!1,\"\"::8888:\"\");\"']\n",
      "['\"ipv6test(!1,\"\"1111:2222:3333:4444:5555::7777:8888:\"\");\"']\n",
      "['\"ipv6test(!1,\"\"1111:2222:3333:4444::7777:8888:\"\");\"']\n",
      "['\"ipv6test(!1,\"\"1111:2222:3333::7777:8888:\"\");\"']\n",
      "['\"ipv6test(!1,\"\"1111:2222::7777:8888:\"\");\"']\n",
      "['\"ipv6test(!1,\"\"1111::7777:8888:\"\");\"']\n",
      "['\"ipv6test(!1,\"\"::7777:8888:\"\");\"']\n",
      "['\"ipv6test(!1,\"\"1111:2222:3333:4444::6666:7777:8888:\"\");\"']\n",
      "['\"ipv6test(!1,\"\"1111:2222:3333::6666:7777:8888:\"\");\"']\n",
      "['\"ipv6test(!1,\"\"1111:2222::6666:7777:8888:\"\");\"']\n",
      "['\"ipv6test(!1,\"\"1111::6666:7777:8888:\"\");\"']\n",
      "['\"ipv6test(!1,\"\"::6666:7777:8888:\"\");\"']\n",
      "['\"ipv6test(!1,\"\"1111:2222:3333::5555:6666:7777:8888:\"\");\"']\n",
      "['\"ipv6test(!1,\"\"1111:2222::5555:6666:7777:8888:\"\");\"']\n",
      "['\"ipv6test(!1,\"\"1111::5555:6666:7777:8888:\"\");\"']\n",
      "['\"ipv6test(!1,\"\"::5555:6666:7777:8888:\"\");\"']\n",
      "['\"ipv6test(!1,\"\"1111:2222::4444:5555:6666:7777:8888:\"\");\"']\n",
      "['\"ipv6test(!1,\"\"1111::4444:5555:6666:7777:8888:\"\");\"']\n",
      "['\"ipv6test(!1,\"\"::4444:5555:6666:7777:8888:\"\");\"']\n",
      "['\"ipv6test(!1,\"\"1111::3333:4444:5555:6666:7777:8888:\"\");\"']\n",
      "['\"ipv6test(!1,\"\"::3333:4444:5555:6666:7777:8888:\"\");\"']\n",
      "['\"ipv6test(!1,\"\"::2222:3333:4444:5555:6666:7777:8888:\"\");\"']\n",
      "[]\n",
      "['#', 'Additional', 'cases:', 'http://crisp.tweakblogs.net/blog/2031/ipv6-validation-%28and-caveats%29.html']\n",
      "['\"ipv6test(1,\"\"0:a:b:c:d:e:f::\"\");\"']\n",
      "['\"ipv6test(1,\"\"::0:a:b:c:d:e:f\"\");', '#', 'syntactically', 'correct,', 'but', 'bad', 'form', '(::0:...', 'could', 'be', 'combined)\"']\n",
      "['\"ipv6test(1,\"\"a:b:c:d:e:f:0::\"\");\"']\n",
      "['\"ipv6test(!1,\"\"\\':10.0.0.1\"\");\"']\n",
      "[]\n",
      "['\"print', '\"\"\\\\nNumber', 'of', 'failures:', '\"\"', '.', '$numFailed', '.', '\"\"', 'out', 'of', '\"\"', '.', '$numTested', '.', '\"\"', 'tests.\\\\n\"\";', '\"']\n",
      "['}', '#', 'of', 'printall']\n"
     ]
    }
   ],
   "source": [
    "import csv\n",
    "with open('/Users/ajinkya.parkar@ibm.com/Documents/InvalidIPV6.csv', newline='') as csvfile:\n",
    "    \n",
    "    spamreader = csv.reader(csvfile, delimiter=' ', quotechar='|')\n",
    "    for row in spamreader:\n",
    "        print(row)"
   ]
  },
  {
   "cell_type": "code",
   "execution_count": 3,
   "metadata": {},
   "outputs": [],
   "source": [
    "a = [\"3\",\"5\",\"6\"]\n"
   ]
  },
  {
   "cell_type": "code",
   "execution_count": 4,
   "metadata": {},
   "outputs": [
    {
     "data": {
      "text/plain": [
       "'356'"
      ]
     },
     "execution_count": 4,
     "metadata": {},
     "output_type": "execute_result"
    }
   ],
   "source": [
    "\"\".join(a)"
   ]
  },
  {
   "cell_type": "code",
   "execution_count": 16,
   "metadata": {},
   "outputs": [
    {
     "ename": "TypeError",
     "evalue": "first argument must be callable or None",
     "output_type": "error",
     "traceback": [
      "\u001b[0;31m---------------------------------------------------------------------------\u001b[0m",
      "\u001b[0;31mTypeError\u001b[0m                                 Traceback (most recent call last)",
      "\u001b[0;32m<ipython-input-16-6ecfd15723cd>\u001b[0m in \u001b[0;36m<module>\u001b[0;34m\u001b[0m\n\u001b[1;32m      1\u001b[0m \u001b[0;32mfrom\u001b[0m \u001b[0mcollections\u001b[0m \u001b[0;32mimport\u001b[0m \u001b[0mdefaultdict\u001b[0m\u001b[0;34m\u001b[0m\u001b[0;34m\u001b[0m\u001b[0m\n\u001b[0;32m----> 2\u001b[0;31m \u001b[0mdic\u001b[0m \u001b[0;34m=\u001b[0m \u001b[0mdefaultdict\u001b[0m\u001b[0;34m(\u001b[0m\u001b[0;34m{\u001b[0m\u001b[0;34m\")\"\u001b[0m\u001b[0;34m:\u001b[0m\u001b[0;34m\"(\"\u001b[0m\u001b[0;34m,\u001b[0m\u001b[0;34m\"}\"\u001b[0m\u001b[0;34m:\u001b[0m\u001b[0;34m\"{\"\u001b[0m\u001b[0;34m,\u001b[0m\u001b[0;34m\"]\"\u001b[0m\u001b[0;34m:\u001b[0m\u001b[0;34m\"[\"\u001b[0m\u001b[0;34m}\u001b[0m\u001b[0;34m)\u001b[0m\u001b[0;34m\u001b[0m\u001b[0;34m\u001b[0m\u001b[0m\n\u001b[0m",
      "\u001b[0;31mTypeError\u001b[0m: first argument must be callable or None"
     ]
    }
   ],
   "source": [
    "from collections import defaultdict\n",
    "dic = defaultdict({\")\":\"(\",\"}\":\"{\",\"]\":\"[\"})"
   ]
  },
  {
   "cell_type": "code",
   "execution_count": 7,
   "metadata": {},
   "outputs": [],
   "source": [
    "a = list(\"(){}\")"
   ]
  },
  {
   "cell_type": "code",
   "execution_count": 13,
   "metadata": {},
   "outputs": [
    {
     "ename": "KeyError",
     "evalue": "'('",
     "output_type": "error",
     "traceback": [
      "\u001b[0;31m---------------------------------------------------------------------------\u001b[0m",
      "\u001b[0;31mKeyError\u001b[0m                                  Traceback (most recent call last)",
      "\u001b[0;32m<ipython-input-13-c4ac69942e1a>\u001b[0m in \u001b[0;36m<module>\u001b[0;34m\u001b[0m\n\u001b[1;32m      1\u001b[0m \u001b[0;32mfor\u001b[0m \u001b[0mi\u001b[0m \u001b[0;32min\u001b[0m \u001b[0ma\u001b[0m\u001b[0;34m:\u001b[0m\u001b[0;34m\u001b[0m\u001b[0;34m\u001b[0m\u001b[0m\n\u001b[0;32m----> 2\u001b[0;31m     \u001b[0mprint\u001b[0m\u001b[0;34m(\u001b[0m\u001b[0mdic\u001b[0m\u001b[0;34m[\u001b[0m\u001b[0;34m\"(\"\u001b[0m\u001b[0;34m]\u001b[0m\u001b[0;34m)\u001b[0m\u001b[0;34m\u001b[0m\u001b[0;34m\u001b[0m\u001b[0m\n\u001b[0m",
      "\u001b[0;31mKeyError\u001b[0m: '('"
     ]
    }
   ],
   "source": [
    "for i in a:\n",
    "    print(dic[\"(\"])"
   ]
  },
  {
   "cell_type": "code",
   "execution_count": 6,
   "metadata": {},
   "outputs": [
    {
     "data": {
      "text/plain": [
       "2"
      ]
     },
     "execution_count": 6,
     "metadata": {},
     "output_type": "execute_result"
    }
   ],
   "source": [
    "import math\n",
    "math.floor(5/4) + 5%4"
   ]
  },
  {
   "cell_type": "code",
   "execution_count": 5,
   "metadata": {},
   "outputs": [
    {
     "data": {
      "text/plain": [
       "1"
      ]
     },
     "execution_count": 5,
     "metadata": {},
     "output_type": "execute_result"
    }
   ],
   "source": [
    "5%4"
   ]
  },
  {
   "cell_type": "code",
   "execution_count": 2,
   "metadata": {},
   "outputs": [
    {
     "ename": "TypeError",
     "evalue": "'builtin_function_or_method' object is not subscriptable",
     "output_type": "error",
     "traceback": [
      "\u001b[0;31m---------------------------------------------------------------------------\u001b[0m",
      "\u001b[0;31mTypeError\u001b[0m                                 Traceback (most recent call last)",
      "\u001b[0;32m<ipython-input-2-bf124e3f8b27>\u001b[0m in \u001b[0;36m<module>\u001b[0;34m\u001b[0m\n\u001b[0;32m----> 1\u001b[0;31m \u001b[0mmax\u001b[0m\u001b[0;34m[\u001b[0m\u001b[0;36m2\u001b[0m\u001b[0;34m,\u001b[0m\u001b[0;36m3\u001b[0m\u001b[0;34m]\u001b[0m\u001b[0;34m\u001b[0m\u001b[0;34m\u001b[0m\u001b[0m\n\u001b[0m",
      "\u001b[0;31mTypeError\u001b[0m: 'builtin_function_or_method' object is not subscriptable"
     ]
    }
   ],
   "source": [
    "max[2,3]"
   ]
  },
  {
   "cell_type": "code",
   "execution_count": null,
   "metadata": {},
   "outputs": [],
   "source": []
  }
 ],
 "metadata": {
  "kernelspec": {
   "display_name": "Python 3",
   "language": "python",
   "name": "python3"
  },
  "language_info": {
   "codemirror_mode": {
    "name": "ipython",
    "version": 3
   },
   "file_extension": ".py",
   "mimetype": "text/x-python",
   "name": "python",
   "nbconvert_exporter": "python",
   "pygments_lexer": "ipython3",
   "version": "3.7.4"
  }
 },
 "nbformat": 4,
 "nbformat_minor": 2
}
